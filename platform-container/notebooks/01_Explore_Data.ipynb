{
 "cells": [
  {
   "cell_type": "markdown",
   "metadata": {},
   "source": [
    "# Explore Data"
   ]
  },
  {
   "cell_type": "code",
   "execution_count": 1,
   "metadata": {},
   "outputs": [],
   "source": [
    "# imports\n",
    "import pandas as pd\n",
    "import sqlite3"
   ]
  },
  {
   "cell_type": "code",
   "execution_count": 5,
   "metadata": {},
   "outputs": [],
   "source": [
    "# Connect to database\n",
    "database_url = \"../datastore/app_data.db\"\n",
    "database = sqlite3.connect(database_url)"
   ]
  },
  {
   "cell_type": "code",
   "execution_count": 16,
   "metadata": {},
   "outputs": [
    {
     "name": "stdout",
     "output_type": "stream",
     "text": [
      "Shape: (126, 7)\n"
     ]
    },
    {
     "data": {
      "text/html": [
       "<div>\n",
       "<style scoped>\n",
       "    .dataframe tbody tr th:only-of-type {\n",
       "        vertical-align: middle;\n",
       "    }\n",
       "\n",
       "    .dataframe tbody tr th {\n",
       "        vertical-align: top;\n",
       "    }\n",
       "\n",
       "    .dataframe thead th {\n",
       "        text-align: right;\n",
       "    }\n",
       "</style>\n",
       "<table border=\"1\" class=\"dataframe\">\n",
       "  <thead>\n",
       "    <tr style=\"text-align: right;\">\n",
       "      <th></th>\n",
       "      <th>id</th>\n",
       "      <th>source</th>\n",
       "      <th>article_link</th>\n",
       "      <th>article_date</th>\n",
       "      <th>article_title</th>\n",
       "      <th>article_content</th>\n",
       "      <th>article_dts</th>\n",
       "    </tr>\n",
       "  </thead>\n",
       "  <tbody>\n",
       "    <tr>\n",
       "      <th>0</th>\n",
       "      <td>c9ec95b68eee059520d8c2d6a81df595bf662afe23262e...</td>\n",
       "      <td>npr</td>\n",
       "      <td>https://www.npr.org/2020/01/03/792612929/with-...</td>\n",
       "      <td>January 3, 2020</td>\n",
       "      <td>With A Month To Go Before Iowa And New Hampshi...</td>\n",
       "      <td>Democrats all want one thing: to beat Donald T...</td>\n",
       "      <td>12345</td>\n",
       "    </tr>\n",
       "    <tr>\n",
       "      <th>1</th>\n",
       "      <td>09c51953c816581b20fafb054d115bbb2fbda1d481e28d...</td>\n",
       "      <td>npr</td>\n",
       "      <td>https://www.npr.org/2020/01/02/793208096/iraqi...</td>\n",
       "      <td>January 2, 2020</td>\n",
       "      <td>U.S. Kills Top Iranian Military Leader In Airs...</td>\n",
       "      <td>Updated at 4:27 a.m. ET Friday U.S. forces ass...</td>\n",
       "      <td>12345</td>\n",
       "    </tr>\n",
       "    <tr>\n",
       "      <th>2</th>\n",
       "      <td>4b1efd4ea8061d46eec717c7042fd4b783eab03d1df207...</td>\n",
       "      <td>npr</td>\n",
       "      <td>https://www.npr.org/2020/01/03/791512216/andre...</td>\n",
       "      <td>January 3, 2020</td>\n",
       "      <td>Andrew Yang Puts Autism In The Spotlight, But ...</td>\n",
       "      <td>During the final presidential debate of 2019, ...</td>\n",
       "      <td>12345</td>\n",
       "    </tr>\n",
       "    <tr>\n",
       "      <th>3</th>\n",
       "      <td>7e24e9a0e26d77c6c72b4ca891864bf6ee63a80d74b29c...</td>\n",
       "      <td>npr</td>\n",
       "      <td>https://www.npr.org/2020/01/03/793202192/as-im...</td>\n",
       "      <td>January 3, 2020</td>\n",
       "      <td>As Impeachment Trial Looms, Sen. Susan Collins...</td>\n",
       "      <td>As President Trump's impeachment trial approac...</td>\n",
       "      <td>12345</td>\n",
       "    </tr>\n",
       "    <tr>\n",
       "      <th>4</th>\n",
       "      <td>8df48c9db4f7a4efb5affd60a07e548f5bcc7e1c7abd43...</td>\n",
       "      <td>npr</td>\n",
       "      <td>https://www.npr.org/2020/01/02/793027022/sande...</td>\n",
       "      <td>January 2, 2020</td>\n",
       "      <td>Sanders Sets Fundraising Pace In Democratic Ra...</td>\n",
       "      <td>Updated at 2:06 p.m. ET A three-month window t...</td>\n",
       "      <td>12345</td>\n",
       "    </tr>\n",
       "  </tbody>\n",
       "</table>\n",
       "</div>"
      ],
      "text/plain": [
       "                                                  id source  \\\n",
       "0  c9ec95b68eee059520d8c2d6a81df595bf662afe23262e...    npr   \n",
       "1  09c51953c816581b20fafb054d115bbb2fbda1d481e28d...    npr   \n",
       "2  4b1efd4ea8061d46eec717c7042fd4b783eab03d1df207...    npr   \n",
       "3  7e24e9a0e26d77c6c72b4ca891864bf6ee63a80d74b29c...    npr   \n",
       "4  8df48c9db4f7a4efb5affd60a07e548f5bcc7e1c7abd43...    npr   \n",
       "\n",
       "                                        article_link     article_date  \\\n",
       "0  https://www.npr.org/2020/01/03/792612929/with-...  January 3, 2020   \n",
       "1  https://www.npr.org/2020/01/02/793208096/iraqi...  January 2, 2020   \n",
       "2  https://www.npr.org/2020/01/03/791512216/andre...  January 3, 2020   \n",
       "3  https://www.npr.org/2020/01/03/793202192/as-im...  January 3, 2020   \n",
       "4  https://www.npr.org/2020/01/02/793027022/sande...  January 2, 2020   \n",
       "\n",
       "                                       article_title  \\\n",
       "0  With A Month To Go Before Iowa And New Hampshi...   \n",
       "1  U.S. Kills Top Iranian Military Leader In Airs...   \n",
       "2  Andrew Yang Puts Autism In The Spotlight, But ...   \n",
       "3  As Impeachment Trial Looms, Sen. Susan Collins...   \n",
       "4  Sanders Sets Fundraising Pace In Democratic Ra...   \n",
       "\n",
       "                                     article_content  article_dts  \n",
       "0  Democrats all want one thing: to beat Donald T...        12345  \n",
       "1  Updated at 4:27 a.m. ET Friday U.S. forces ass...        12345  \n",
       "2  During the final presidential debate of 2019, ...        12345  \n",
       "3  As President Trump's impeachment trial approac...        12345  \n",
       "4  Updated at 2:06 p.m. ET A three-month window t...        12345  "
      ]
     },
     "execution_count": 16,
     "metadata": {},
     "output_type": "execute_result"
    }
   ],
   "source": [
    "sql = \"select * from articles\"\n",
    "articles = pd.read_sql_query(sql, database)\n",
    "\n",
    "print(\"Shape:\",articles.shape)\n",
    "articles.head()"
   ]
  },
  {
   "cell_type": "code",
   "execution_count": 24,
   "metadata": {},
   "outputs": [
    {
     "data": {
      "text/plain": [
       "source\n",
       "cnn               30\n",
       "npr               24\n",
       "nymag             27\n",
       "politico          20\n",
       "thedailybeast     10\n",
       "washingtonpost    15\n",
       "Name: id, dtype: int64"
      ]
     },
     "execution_count": 24,
     "metadata": {},
     "output_type": "execute_result"
    }
   ],
   "source": [
    "# Counts by source\n",
    "articles.groupby('source')[\"id\"].count()"
   ]
  },
  {
   "cell_type": "code",
   "execution_count": 26,
   "metadata": {},
   "outputs": [
    {
     "name": "stdout",
     "output_type": "stream",
     "text": [
      "npr\n",
      "article_title      With A Month To Go Before Iowa And New Hampshi...\n",
      "article_content    Democrats all want one thing: to beat Donald T...\n",
      "Name: 0, dtype: object\n",
      "washingtonpost\n",
      "article_title           Julián Castro drops out of presidential race\n",
      "article_content    Questions about why you are seeing this? Conta...\n",
      "Name: 24, dtype: object\n",
      "nymag\n",
      "article_title       Julián Castro’s Campaign Was Not For the Fearful\n",
      "article_content    Julián Castro. Photo: Joshua Lott/Getty Images...\n",
      "Name: 25, dtype: object\n",
      "cnn\n",
      "article_title      A father and his 9-year-old daughter were kill...\n",
      "article_content                                                     \n",
      "Name: 66, dtype: object\n",
      "thedailybeast\n",
      "article_title      Joe Biden’s Bipartisan Rhetoric That Infuriate...\n",
      "article_content    Looking forward to the 21st century, then-Pres...\n",
      "Name: 96, dtype: object\n",
      "politico\n",
      "article_title      Klobuchar posts personal-best $11.4 million fu...\n",
      "article_content    In fundraising, Sanders announced raising $34....\n",
      "Name: 106, dtype: object\n"
     ]
    }
   ],
   "source": [
    "source_list = articles[\"source\"].unique()\n",
    "for source in source_list:\n",
    "    print(source)\n",
    "    filtered = articles[articles[\"source\"] == source]\n",
    "    print(filtered[[\"article_title\",\"article_content\"]].iloc[0])"
   ]
  },
  {
   "cell_type": "code",
   "execution_count": 23,
   "metadata": {},
   "outputs": [
    {
     "data": {
      "text/html": [
       "<div>\n",
       "<style scoped>\n",
       "    .dataframe tbody tr th:only-of-type {\n",
       "        vertical-align: middle;\n",
       "    }\n",
       "\n",
       "    .dataframe tbody tr th {\n",
       "        vertical-align: top;\n",
       "    }\n",
       "\n",
       "    .dataframe thead th {\n",
       "        text-align: right;\n",
       "    }\n",
       "</style>\n",
       "<table border=\"1\" class=\"dataframe\">\n",
       "  <thead>\n",
       "    <tr style=\"text-align: right;\">\n",
       "      <th></th>\n",
       "      <th>article_title</th>\n",
       "      <th>article_content</th>\n",
       "    </tr>\n",
       "  </thead>\n",
       "  <tbody>\n",
       "    <tr>\n",
       "      <th>96</th>\n",
       "      <td>Joe Biden’s Bipartisan Rhetoric That Infuriate...</td>\n",
       "      <td>Looking forward to the 21st century, then-Pres...</td>\n",
       "    </tr>\n",
       "    <tr>\n",
       "      <th>97</th>\n",
       "      <td>Dems Worry Impeachment Jury Duty Will Sideline...</td>\n",
       "      <td>As presidential campaigns game out the final s...</td>\n",
       "    </tr>\n",
       "    <tr>\n",
       "      <th>98</th>\n",
       "      <td>U.S. Strike Kills Iran’s Most Important Milita...</td>\n",
       "      <td>In a drastic escalation of the U.S.’ generatio...</td>\n",
       "    </tr>\n",
       "    <tr>\n",
       "      <th>99</th>\n",
       "      <td>Trump Considers Pardoning Blackwater Mercenary...</td>\n",
       "      <td>Less than two months after granting clemency t...</td>\n",
       "    </tr>\n",
       "    <tr>\n",
       "      <th>100</th>\n",
       "      <td>Manafort Said Hannity Served as His Trump-Back...</td>\n",
       "      <td>Paul Manafort said he used Fox News host Sean ...</td>\n",
       "    </tr>\n",
       "  </tbody>\n",
       "</table>\n",
       "</div>"
      ],
      "text/plain": [
       "                                         article_title  \\\n",
       "96   Joe Biden’s Bipartisan Rhetoric That Infuriate...   \n",
       "97   Dems Worry Impeachment Jury Duty Will Sideline...   \n",
       "98   U.S. Strike Kills Iran’s Most Important Milita...   \n",
       "99   Trump Considers Pardoning Blackwater Mercenary...   \n",
       "100  Manafort Said Hannity Served as His Trump-Back...   \n",
       "\n",
       "                                       article_content  \n",
       "96   Looking forward to the 21st century, then-Pres...  \n",
       "97   As presidential campaigns game out the final s...  \n",
       "98   In a drastic escalation of the U.S.’ generatio...  \n",
       "99   Less than two months after granting clemency t...  \n",
       "100  Paul Manafort said he used Fox News host Sean ...  "
      ]
     },
     "execution_count": 23,
     "metadata": {},
     "output_type": "execute_result"
    }
   ],
   "source": []
  },
  {
   "cell_type": "code",
   "execution_count": null,
   "metadata": {},
   "outputs": [],
   "source": []
  }
 ],
 "metadata": {
  "kernelspec": {
   "display_name": "Python 3",
   "language": "python",
   "name": "python3"
  },
  "language_info": {
   "codemirror_mode": {
    "name": "ipython",
    "version": 3
   },
   "file_extension": ".py",
   "mimetype": "text/x-python",
   "name": "python",
   "nbconvert_exporter": "python",
   "pygments_lexer": "ipython3",
   "version": "3.6.8"
  }
 },
 "nbformat": 4,
 "nbformat_minor": 2
}
