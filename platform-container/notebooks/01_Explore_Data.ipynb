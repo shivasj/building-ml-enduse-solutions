{
 "cells": [
  {
   "cell_type": "markdown",
   "metadata": {},
   "source": [
    "# Explore Data"
   ]
  },
  {
   "cell_type": "code",
   "execution_count": 1,
   "metadata": {},
   "outputs": [],
   "source": [
    "# imports\n",
    "import pandas as pd\n",
    "import sqlite3"
   ]
  },
  {
   "cell_type": "code",
   "execution_count": 28,
   "metadata": {},
   "outputs": [],
   "source": [
    "# Connect to database\n",
    "database_url = \"../datastore/app_data.db\"\n",
    "database = sqlite3.connect(database_url)"
   ]
  },
  {
   "cell_type": "code",
   "execution_count": 29,
   "metadata": {},
   "outputs": [
    {
     "name": "stdout",
     "output_type": "stream",
     "text": [
      "Shape: (110, 7)\n"
     ]
    },
    {
     "data": {
      "text/html": [
       "<div>\n",
       "<style scoped>\n",
       "    .dataframe tbody tr th:only-of-type {\n",
       "        vertical-align: middle;\n",
       "    }\n",
       "\n",
       "    .dataframe tbody tr th {\n",
       "        vertical-align: top;\n",
       "    }\n",
       "\n",
       "    .dataframe thead th {\n",
       "        text-align: right;\n",
       "    }\n",
       "</style>\n",
       "<table border=\"1\" class=\"dataframe\">\n",
       "  <thead>\n",
       "    <tr style=\"text-align: right;\">\n",
       "      <th></th>\n",
       "      <th>id</th>\n",
       "      <th>source</th>\n",
       "      <th>article_link</th>\n",
       "      <th>article_date</th>\n",
       "      <th>article_title</th>\n",
       "      <th>article_content</th>\n",
       "      <th>article_dts</th>\n",
       "    </tr>\n",
       "  </thead>\n",
       "  <tbody>\n",
       "    <tr>\n",
       "      <th>0</th>\n",
       "      <td>09c51953c816581b20fafb054d115bbb2fbda1d481e28d...</td>\n",
       "      <td>npr</td>\n",
       "      <td>https://www.npr.org/2020/01/02/793208096/iraqi...</td>\n",
       "      <td>January 2, 2020</td>\n",
       "      <td>U.S. Kills Top Iranian Military Leader In Airs...</td>\n",
       "      <td>Updated at 4:27 a.m. ET Friday U.S. forces ass...</td>\n",
       "      <td>1577923200</td>\n",
       "    </tr>\n",
       "    <tr>\n",
       "      <th>1</th>\n",
       "      <td>c9ec95b68eee059520d8c2d6a81df595bf662afe23262e...</td>\n",
       "      <td>npr</td>\n",
       "      <td>https://www.npr.org/2020/01/03/792612929/with-...</td>\n",
       "      <td>January 3, 2020</td>\n",
       "      <td>With A Month To Go Before Iowa And New Hampshi...</td>\n",
       "      <td>Democrats all want one thing: to beat Donald T...</td>\n",
       "      <td>1578009600</td>\n",
       "    </tr>\n",
       "    <tr>\n",
       "      <th>2</th>\n",
       "      <td>4b1efd4ea8061d46eec717c7042fd4b783eab03d1df207...</td>\n",
       "      <td>npr</td>\n",
       "      <td>https://www.npr.org/2020/01/03/791512216/andre...</td>\n",
       "      <td>January 3, 2020</td>\n",
       "      <td>Andrew Yang Puts Autism In The Spotlight, But ...</td>\n",
       "      <td>During the final presidential debate of 2019, ...</td>\n",
       "      <td>1578009600</td>\n",
       "    </tr>\n",
       "    <tr>\n",
       "      <th>3</th>\n",
       "      <td>fe5cbe4373513a5688d66b21cbd2fe478cb969e557b0dc...</td>\n",
       "      <td>npr</td>\n",
       "      <td>https://www.npr.org/2020/01/03/793291787/warre...</td>\n",
       "      <td>January 3, 2020</td>\n",
       "      <td>Warren Fundraising Drops, Lagging Behind Other...</td>\n",
       "      <td>As other candidates report significant increas...</td>\n",
       "      <td>1578009600</td>\n",
       "    </tr>\n",
       "    <tr>\n",
       "      <th>4</th>\n",
       "      <td>7e24e9a0e26d77c6c72b4ca891864bf6ee63a80d74b29c...</td>\n",
       "      <td>npr</td>\n",
       "      <td>https://www.npr.org/2020/01/03/793202192/as-im...</td>\n",
       "      <td>January 3, 2020</td>\n",
       "      <td>As Impeachment Trial Looms, Sen. Susan Collins...</td>\n",
       "      <td>As President Trump's impeachment trial approac...</td>\n",
       "      <td>1578009600</td>\n",
       "    </tr>\n",
       "  </tbody>\n",
       "</table>\n",
       "</div>"
      ],
      "text/plain": [
       "                                                  id source  \\\n",
       "0  09c51953c816581b20fafb054d115bbb2fbda1d481e28d...    npr   \n",
       "1  c9ec95b68eee059520d8c2d6a81df595bf662afe23262e...    npr   \n",
       "2  4b1efd4ea8061d46eec717c7042fd4b783eab03d1df207...    npr   \n",
       "3  fe5cbe4373513a5688d66b21cbd2fe478cb969e557b0dc...    npr   \n",
       "4  7e24e9a0e26d77c6c72b4ca891864bf6ee63a80d74b29c...    npr   \n",
       "\n",
       "                                        article_link     article_date  \\\n",
       "0  https://www.npr.org/2020/01/02/793208096/iraqi...  January 2, 2020   \n",
       "1  https://www.npr.org/2020/01/03/792612929/with-...  January 3, 2020   \n",
       "2  https://www.npr.org/2020/01/03/791512216/andre...  January 3, 2020   \n",
       "3  https://www.npr.org/2020/01/03/793291787/warre...  January 3, 2020   \n",
       "4  https://www.npr.org/2020/01/03/793202192/as-im...  January 3, 2020   \n",
       "\n",
       "                                       article_title  \\\n",
       "0  U.S. Kills Top Iranian Military Leader In Airs...   \n",
       "1  With A Month To Go Before Iowa And New Hampshi...   \n",
       "2  Andrew Yang Puts Autism In The Spotlight, But ...   \n",
       "3  Warren Fundraising Drops, Lagging Behind Other...   \n",
       "4  As Impeachment Trial Looms, Sen. Susan Collins...   \n",
       "\n",
       "                                     article_content  article_dts  \n",
       "0  Updated at 4:27 a.m. ET Friday U.S. forces ass...   1577923200  \n",
       "1  Democrats all want one thing: to beat Donald T...   1578009600  \n",
       "2  During the final presidential debate of 2019, ...   1578009600  \n",
       "3  As other candidates report significant increas...   1578009600  \n",
       "4  As President Trump's impeachment trial approac...   1578009600  "
      ]
     },
     "execution_count": 29,
     "metadata": {},
     "output_type": "execute_result"
    }
   ],
   "source": [
    "sql = \"select * from articles\"\n",
    "articles = pd.read_sql_query(sql, database)\n",
    "\n",
    "print(\"Shape:\",articles.shape)\n",
    "articles.head()"
   ]
  },
  {
   "cell_type": "code",
   "execution_count": 30,
   "metadata": {},
   "outputs": [
    {
     "data": {
      "text/plain": [
       "source\n",
       "cnn              29\n",
       "npr              24\n",
       "nymag            27\n",
       "politico         20\n",
       "thedailybeast    10\n",
       "Name: id, dtype: int64"
      ]
     },
     "execution_count": 30,
     "metadata": {},
     "output_type": "execute_result"
    }
   ],
   "source": [
    "# Counts by source\n",
    "articles.groupby('source')[\"id\"].count()"
   ]
  },
  {
   "cell_type": "code",
   "execution_count": 32,
   "metadata": {},
   "outputs": [
    {
     "name": "stdout",
     "output_type": "stream",
     "text": [
      "npr\n",
      "article_title      U.S. Kills Top Iranian Military Leader In Airs...\n",
      "article_content    Updated at 4:27 a.m. ET Friday U.S. forces ass...\n",
      "Name: 0, dtype: object\n",
      "article_title      With A Month To Go Before Iowa And New Hampshi...\n",
      "article_content    Democrats all want one thing: to beat Donald T...\n",
      "Name: 1, dtype: object\n",
      "article_title      Andrew Yang Puts Autism In The Spotlight, But ...\n",
      "article_content    During the final presidential debate of 2019, ...\n",
      "Name: 2, dtype: object\n",
      "nymag\n",
      "article_title      GOP Lawmaker Plotted Insurrections to Establis...\n",
      "article_content    Shea’s rebellion. Photo: Ted S Warren/AP/Shutt...\n",
      "Name: 24, dtype: object\n",
      "article_title      Global Apathy Toward the Fires in Australia Is...\n",
      "article_content    A helicopter carries water as it flies near th...\n",
      "Name: 25, dtype: object\n",
      "article_title      Trump Covering Up Scheme to Use Justice Depart...\n",
      "article_content    Photo: The Washington Post/Getty Images Presid...\n",
      "Name: 26, dtype: object\n",
      "cnn\n",
      "article_title      Here's how to help Australia bushfire victims \n",
      "article_content                                                  \n",
      "Name: 51, dtype: object\n",
      "article_title      A father and his 9-year-old daughter were kill...\n",
      "article_content                                                     \n",
      "Name: 52, dtype: object\n",
      "article_title      A Texas judge says hospital can take 11-month-...\n",
      "article_content                                                     \n",
      "Name: 53, dtype: object\n",
      "thedailybeast\n",
      "article_title      Joe Biden’s Bipartisan Rhetoric That Infuriate...\n",
      "article_content    Looking forward to the 21st century, then-Pres...\n",
      "Name: 80, dtype: object\n",
      "article_title      Dems Worry Impeachment Jury Duty Will Sideline...\n",
      "article_content    As presidential campaigns game out the final s...\n",
      "Name: 81, dtype: object\n",
      "article_title      U.S. Strike Kills Iran’s Most Important Milita...\n",
      "article_content    In a drastic escalation of the U.S.’ generatio...\n",
      "Name: 82, dtype: object\n",
      "politico\n",
      "article_title      Marianne Williamson pledges to stay in 2020 ra...\n",
      "article_content    She continued: \"I am not suspending my candida...\n",
      "Name: 90, dtype: object\n",
      "article_title      Warren 4th quarter fundraising dips to $21.2 m...\n",
      "article_content    The fundraising success of Sanders, whose aver...\n",
      "Name: 91, dtype: object\n",
      "article_title      Klobuchar posts personal-best $11.4 million fu...\n",
      "article_content    In fundraising, Sanders announced raising $34....\n",
      "Name: 92, dtype: object\n"
     ]
    }
   ],
   "source": [
    "source_list = articles[\"source\"].unique()\n",
    "for source in source_list:\n",
    "    print(source)\n",
    "    filtered = articles[articles[\"source\"] == source]\n",
    "    print(filtered[[\"article_title\",\"article_content\"]].iloc[0])\n",
    "    print(filtered[[\"article_title\",\"article_content\"]].iloc[1])\n",
    "    print(filtered[[\"article_title\",\"article_content\"]].iloc[2])"
   ]
  },
  {
   "cell_type": "code",
   "execution_count": 23,
   "metadata": {},
   "outputs": [
    {
     "data": {
      "text/html": [
       "<div>\n",
       "<style scoped>\n",
       "    .dataframe tbody tr th:only-of-type {\n",
       "        vertical-align: middle;\n",
       "    }\n",
       "\n",
       "    .dataframe tbody tr th {\n",
       "        vertical-align: top;\n",
       "    }\n",
       "\n",
       "    .dataframe thead th {\n",
       "        text-align: right;\n",
       "    }\n",
       "</style>\n",
       "<table border=\"1\" class=\"dataframe\">\n",
       "  <thead>\n",
       "    <tr style=\"text-align: right;\">\n",
       "      <th></th>\n",
       "      <th>article_title</th>\n",
       "      <th>article_content</th>\n",
       "    </tr>\n",
       "  </thead>\n",
       "  <tbody>\n",
       "    <tr>\n",
       "      <th>96</th>\n",
       "      <td>Joe Biden’s Bipartisan Rhetoric That Infuriate...</td>\n",
       "      <td>Looking forward to the 21st century, then-Pres...</td>\n",
       "    </tr>\n",
       "    <tr>\n",
       "      <th>97</th>\n",
       "      <td>Dems Worry Impeachment Jury Duty Will Sideline...</td>\n",
       "      <td>As presidential campaigns game out the final s...</td>\n",
       "    </tr>\n",
       "    <tr>\n",
       "      <th>98</th>\n",
       "      <td>U.S. Strike Kills Iran’s Most Important Milita...</td>\n",
       "      <td>In a drastic escalation of the U.S.’ generatio...</td>\n",
       "    </tr>\n",
       "    <tr>\n",
       "      <th>99</th>\n",
       "      <td>Trump Considers Pardoning Blackwater Mercenary...</td>\n",
       "      <td>Less than two months after granting clemency t...</td>\n",
       "    </tr>\n",
       "    <tr>\n",
       "      <th>100</th>\n",
       "      <td>Manafort Said Hannity Served as His Trump-Back...</td>\n",
       "      <td>Paul Manafort said he used Fox News host Sean ...</td>\n",
       "    </tr>\n",
       "  </tbody>\n",
       "</table>\n",
       "</div>"
      ],
      "text/plain": [
       "                                         article_title  \\\n",
       "96   Joe Biden’s Bipartisan Rhetoric That Infuriate...   \n",
       "97   Dems Worry Impeachment Jury Duty Will Sideline...   \n",
       "98   U.S. Strike Kills Iran’s Most Important Milita...   \n",
       "99   Trump Considers Pardoning Blackwater Mercenary...   \n",
       "100  Manafort Said Hannity Served as His Trump-Back...   \n",
       "\n",
       "                                       article_content  \n",
       "96   Looking forward to the 21st century, then-Pres...  \n",
       "97   As presidential campaigns game out the final s...  \n",
       "98   In a drastic escalation of the U.S.’ generatio...  \n",
       "99   Less than two months after granting clemency t...  \n",
       "100  Paul Manafort said he used Fox News host Sean ...  "
      ]
     },
     "execution_count": 23,
     "metadata": {},
     "output_type": "execute_result"
    }
   ],
   "source": []
  },
  {
   "cell_type": "code",
   "execution_count": null,
   "metadata": {},
   "outputs": [],
   "source": []
  },
  {
   "cell_type": "code",
   "execution_count": null,
   "metadata": {},
   "outputs": [],
   "source": []
  },
  {
   "cell_type": "code",
   "execution_count": null,
   "metadata": {},
   "outputs": [],
   "source": []
  }
 ],
 "metadata": {
  "kernelspec": {
   "display_name": "Python 3",
   "language": "python",
   "name": "python3"
  },
  "language_info": {
   "codemirror_mode": {
    "name": "ipython",
    "version": 3
   },
   "file_extension": ".py",
   "mimetype": "text/x-python",
   "name": "python",
   "nbconvert_exporter": "python",
   "pygments_lexer": "ipython3",
   "version": "3.6.8"
  }
 },
 "nbformat": 4,
 "nbformat_minor": 2
}
