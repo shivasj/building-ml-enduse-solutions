{
 "cells": [
  {
   "cell_type": "markdown",
   "metadata": {},
   "source": [
    "# Text Summarization"
   ]
  },
  {
   "cell_type": "code",
   "execution_count": 2,
   "metadata": {},
   "outputs": [],
   "source": [
    "# imports\n",
    "import sys\n",
    "import os\n",
    "import numpy as np\n",
    "import pandas as pd\n",
    "import sqlite3\n",
    "import json\n",
    "import datetime\n",
    "\n",
    "from gensim.summarization import summarize"
   ]
  },
  {
   "cell_type": "markdown",
   "metadata": {},
   "source": [
    "## Model\n",
    "\n",
    "TextRank Summarizer:\n",
    "Summarizing is based on ranks of text sentences using a variation of the TextRank algorithm. The output summary will consist of the most representative sentences "
   ]
  },
  {
   "cell_type": "markdown",
   "metadata": {},
   "source": [
    "## Dataset\n",
    "\n",
    "For this experiment lets pull in the news articles for the last few days"
   ]
  },
  {
   "cell_type": "code",
   "execution_count": 3,
   "metadata": {},
   "outputs": [
    {
     "name": "stdout",
     "output_type": "stream",
     "text": [
      "Shape: (166, 7)\n"
     ]
    },
    {
     "data": {
      "text/html": [
       "<div>\n",
       "<style scoped>\n",
       "    .dataframe tbody tr th:only-of-type {\n",
       "        vertical-align: middle;\n",
       "    }\n",
       "\n",
       "    .dataframe tbody tr th {\n",
       "        vertical-align: top;\n",
       "    }\n",
       "\n",
       "    .dataframe thead th {\n",
       "        text-align: right;\n",
       "    }\n",
       "</style>\n",
       "<table border=\"1\" class=\"dataframe\">\n",
       "  <thead>\n",
       "    <tr style=\"text-align: right;\">\n",
       "      <th></th>\n",
       "      <th>id</th>\n",
       "      <th>source</th>\n",
       "      <th>article_link</th>\n",
       "      <th>article_date</th>\n",
       "      <th>article_title</th>\n",
       "      <th>article_content</th>\n",
       "      <th>article_dts</th>\n",
       "    </tr>\n",
       "  </thead>\n",
       "  <tbody>\n",
       "    <tr>\n",
       "      <th>0</th>\n",
       "      <td>7c66bfc6f7b115ac9ea1c443d64d9f662a3c7257d06d2a...</td>\n",
       "      <td>npr</td>\n",
       "      <td>https://www.npr.org/2019/12/24/791102803/trump...</td>\n",
       "      <td>December 24, 2019</td>\n",
       "      <td>Trump Downplays Threat Of 'Gift' From North Ko...</td>\n",
       "      <td>President Trump did not seem concerned Tuesday...</td>\n",
       "      <td>1.577146e+09</td>\n",
       "    </tr>\n",
       "    <tr>\n",
       "      <th>1</th>\n",
       "      <td>d5e50fa5f13830087bedc86232317ea1790d2417d4d729...</td>\n",
       "      <td>npr</td>\n",
       "      <td>https://www.npr.org/2019/12/23/790747698/newly...</td>\n",
       "      <td>December 23, 2019</td>\n",
       "      <td>Ukraine Emails Fuel Democrats' Call For Impeac...</td>\n",
       "      <td>Party leaders in Congress continued to spar Mo...</td>\n",
       "      <td>1.577059e+09</td>\n",
       "    </tr>\n",
       "    <tr>\n",
       "      <th>2</th>\n",
       "      <td>2b767e199bd897158dd7f8b999bef7aa592b82fd4548eb...</td>\n",
       "      <td>nymag</td>\n",
       "      <td>http://nymag.com/intelligencer/2019/12/matt-sh...</td>\n",
       "      <td>Dec. 24, 2019</td>\n",
       "      <td>GOP Lawmaker Plotted Insurrections to Establis...</td>\n",
       "      <td>Shea’s rebellion. Photo: Ted S Warren/AP/Shutt...</td>\n",
       "      <td>1.577146e+09</td>\n",
       "    </tr>\n",
       "    <tr>\n",
       "      <th>3</th>\n",
       "      <td>139c45cf3296a8e4f8bf50d3525b808be1620b3b670778...</td>\n",
       "      <td>nymag</td>\n",
       "      <td>http://nymag.com/intelligencer/2020/01/iran-ge...</td>\n",
       "      <td>Jan. 2, 2020</td>\n",
       "      <td>U.S. Kills Iranian General Qasem Suleimani in ...</td>\n",
       "      <td>A Shiite Muslim pilgrim walks with a bag adorn...</td>\n",
       "      <td>1.577923e+09</td>\n",
       "    </tr>\n",
       "    <tr>\n",
       "      <th>4</th>\n",
       "      <td>f99ee44a2f210564c2eb3bc91a781f36dd6de44142047a...</td>\n",
       "      <td>nymag</td>\n",
       "      <td>http://nymag.com/intelligencer/2019/12/a-gloss...</td>\n",
       "      <td>Dec. 31, 2019</td>\n",
       "      <td>A Glossary of Everyday Things, According to Trump</td>\n",
       "      <td>Donald Trump. Photo: Chip Somodevilla/Getty Im...</td>\n",
       "      <td>1.577750e+09</td>\n",
       "    </tr>\n",
       "  </tbody>\n",
       "</table>\n",
       "</div>"
      ],
      "text/plain": [
       "                                                  id source  \\\n",
       "0  7c66bfc6f7b115ac9ea1c443d64d9f662a3c7257d06d2a...    npr   \n",
       "1  d5e50fa5f13830087bedc86232317ea1790d2417d4d729...    npr   \n",
       "2  2b767e199bd897158dd7f8b999bef7aa592b82fd4548eb...  nymag   \n",
       "3  139c45cf3296a8e4f8bf50d3525b808be1620b3b670778...  nymag   \n",
       "4  f99ee44a2f210564c2eb3bc91a781f36dd6de44142047a...  nymag   \n",
       "\n",
       "                                        article_link       article_date  \\\n",
       "0  https://www.npr.org/2019/12/24/791102803/trump...  December 24, 2019   \n",
       "1  https://www.npr.org/2019/12/23/790747698/newly...  December 23, 2019   \n",
       "2  http://nymag.com/intelligencer/2019/12/matt-sh...      Dec. 24, 2019   \n",
       "3  http://nymag.com/intelligencer/2020/01/iran-ge...       Jan. 2, 2020   \n",
       "4  http://nymag.com/intelligencer/2019/12/a-gloss...      Dec. 31, 2019   \n",
       "\n",
       "                                       article_title  \\\n",
       "0  Trump Downplays Threat Of 'Gift' From North Ko...   \n",
       "1  Ukraine Emails Fuel Democrats' Call For Impeac...   \n",
       "2  GOP Lawmaker Plotted Insurrections to Establis...   \n",
       "3  U.S. Kills Iranian General Qasem Suleimani in ...   \n",
       "4  A Glossary of Everyday Things, According to Trump   \n",
       "\n",
       "                                     article_content   article_dts  \n",
       "0  President Trump did not seem concerned Tuesday...  1.577146e+09  \n",
       "1  Party leaders in Congress continued to spar Mo...  1.577059e+09  \n",
       "2  Shea’s rebellion. Photo: Ted S Warren/AP/Shutt...  1.577146e+09  \n",
       "3  A Shiite Muslim pilgrim walks with a bag adorn...  1.577923e+09  \n",
       "4  Donald Trump. Photo: Chip Somodevilla/Getty Im...  1.577750e+09  "
      ]
     },
     "execution_count": 3,
     "metadata": {},
     "output_type": "execute_result"
    }
   ],
   "source": [
    "# Connect to database\n",
    "database_url = \"../datastore/app_data.db\"\n",
    "database = sqlite3.connect(database_url)\n",
    "\n",
    "sql = \"select * from articles\"\n",
    "source_data = pd.read_sql_query(sql, database)\n",
    "\n",
    "print(\"Shape:\",source_data.shape)\n",
    "source_data.head()"
   ]
  },
  {
   "cell_type": "code",
   "execution_count": 4,
   "metadata": {},
   "outputs": [
    {
     "name": "stdout",
     "output_type": "stream",
     "text": [
      "Number of Article: 166\n",
      "Minimum Article Date: Dec 23 2019\n",
      "Maximum Article Date: Jan 05 2020\n",
      "Minimum Word Count: 111\n",
      "Maximum Word Count: 5,195\n"
     ]
    }
   ],
   "source": [
    "source_data['word_count'] = source_data['article_content'].str.split().str.len()\n",
    "\n",
    "# View some metrics of data\n",
    "print(\"Number of Article:\",f'{source_data.shape[0]:,}')\n",
    "print(\"Minimum Article Date:\",datetime.datetime.fromtimestamp(min(source_data['article_dts'])).strftime(\"%b %d %Y\"))\n",
    "print(\"Maximum Article Date:\",datetime.datetime.fromtimestamp(max(source_data['article_dts'])).strftime(\"%b %d %Y\"))\n",
    "print(\"Minimum Word Count:\",min(source_data['word_count']))\n",
    "print(\"Maximum Word Count:\",f'{max(source_data[\"word_count\"]):,}')"
   ]
  },
  {
   "cell_type": "code",
   "execution_count": 16,
   "metadata": {},
   "outputs": [
    {
     "data": {
      "text/plain": [
       "['https://www.npr.org/2019/12/31/792350952/the-top-moments-from-a-decade-that-reshaped-american-politics',\n",
       " 'https://edition.cnn.com/2013/07/04/us/donald-trump-fast-facts/index.html']"
      ]
     },
     "execution_count": 16,
     "metadata": {},
     "output_type": "execute_result"
    }
   ],
   "source": [
    "url = source_data[source_data[\"word_count\"] > 2000][\"article_link\"].tolist()\n",
    "url"
   ]
  },
  {
   "cell_type": "markdown",
   "metadata": {},
   "source": [
    "## Data Preprocessing\n",
    "\n",
    "The data preprocessing steps that we will follow inorder to feed the data to the model are:\n",
    "- Combine Title with Blog Content\n",
    "- Remove line breaks"
   ]
  },
  {
   "cell_type": "code",
   "execution_count": 17,
   "metadata": {},
   "outputs": [],
   "source": [
    "# Merge title with content\n",
    "source_data['text'] = source_data['article_title'] + \" \" + source_data[\"article_content\"]\n",
    "\n",
    "# Convert column to str\n",
    "source_data['text'] = source_data['text'].apply(str)\n",
    "\n",
    "# Replace line breaks\n",
    "article_text = source_data['text'].str.replace(\"\\n\", \" \")\n",
    "\n",
    "source_data['text'] = article_text"
   ]
  },
  {
   "cell_type": "code",
   "execution_count": 18,
   "metadata": {},
   "outputs": [
    {
     "name": "stdout",
     "output_type": "stream",
     "text": [
      "Shape: (166, 9)\n"
     ]
    },
    {
     "data": {
      "text/html": [
       "<div>\n",
       "<style scoped>\n",
       "    .dataframe tbody tr th:only-of-type {\n",
       "        vertical-align: middle;\n",
       "    }\n",
       "\n",
       "    .dataframe tbody tr th {\n",
       "        vertical-align: top;\n",
       "    }\n",
       "\n",
       "    .dataframe thead th {\n",
       "        text-align: right;\n",
       "    }\n",
       "</style>\n",
       "<table border=\"1\" class=\"dataframe\">\n",
       "  <thead>\n",
       "    <tr style=\"text-align: right;\">\n",
       "      <th></th>\n",
       "      <th>id</th>\n",
       "      <th>source</th>\n",
       "      <th>article_link</th>\n",
       "      <th>article_date</th>\n",
       "      <th>article_title</th>\n",
       "      <th>article_content</th>\n",
       "      <th>article_dts</th>\n",
       "      <th>word_count</th>\n",
       "      <th>text</th>\n",
       "    </tr>\n",
       "  </thead>\n",
       "  <tbody>\n",
       "    <tr>\n",
       "      <th>0</th>\n",
       "      <td>7c66bfc6f7b115ac9ea1c443d64d9f662a3c7257d06d2a...</td>\n",
       "      <td>npr</td>\n",
       "      <td>https://www.npr.org/2019/12/24/791102803/trump...</td>\n",
       "      <td>December 24, 2019</td>\n",
       "      <td>Trump Downplays Threat Of 'Gift' From North Ko...</td>\n",
       "      <td>President Trump did not seem concerned Tuesday...</td>\n",
       "      <td>1.577146e+09</td>\n",
       "      <td>276</td>\n",
       "      <td>Trump Downplays Threat Of 'Gift' From North Ko...</td>\n",
       "    </tr>\n",
       "    <tr>\n",
       "      <th>1</th>\n",
       "      <td>d5e50fa5f13830087bedc86232317ea1790d2417d4d729...</td>\n",
       "      <td>npr</td>\n",
       "      <td>https://www.npr.org/2019/12/23/790747698/newly...</td>\n",
       "      <td>December 23, 2019</td>\n",
       "      <td>Ukraine Emails Fuel Democrats' Call For Impeac...</td>\n",
       "      <td>Party leaders in Congress continued to spar Mo...</td>\n",
       "      <td>1.577059e+09</td>\n",
       "      <td>603</td>\n",
       "      <td>Ukraine Emails Fuel Democrats' Call For Impeac...</td>\n",
       "    </tr>\n",
       "    <tr>\n",
       "      <th>2</th>\n",
       "      <td>2b767e199bd897158dd7f8b999bef7aa592b82fd4548eb...</td>\n",
       "      <td>nymag</td>\n",
       "      <td>http://nymag.com/intelligencer/2019/12/matt-sh...</td>\n",
       "      <td>Dec. 24, 2019</td>\n",
       "      <td>GOP Lawmaker Plotted Insurrections to Establis...</td>\n",
       "      <td>Shea’s rebellion. Photo: Ted S Warren/AP/Shutt...</td>\n",
       "      <td>1.577146e+09</td>\n",
       "      <td>806</td>\n",
       "      <td>GOP Lawmaker Plotted Insurrections to Establis...</td>\n",
       "    </tr>\n",
       "    <tr>\n",
       "      <th>3</th>\n",
       "      <td>139c45cf3296a8e4f8bf50d3525b808be1620b3b670778...</td>\n",
       "      <td>nymag</td>\n",
       "      <td>http://nymag.com/intelligencer/2020/01/iran-ge...</td>\n",
       "      <td>Jan. 2, 2020</td>\n",
       "      <td>U.S. Kills Iranian General Qasem Suleimani in ...</td>\n",
       "      <td>A Shiite Muslim pilgrim walks with a bag adorn...</td>\n",
       "      <td>1.577923e+09</td>\n",
       "      <td>1059</td>\n",
       "      <td>U.S. Kills Iranian General Qasem Suleimani in ...</td>\n",
       "    </tr>\n",
       "    <tr>\n",
       "      <th>4</th>\n",
       "      <td>f99ee44a2f210564c2eb3bc91a781f36dd6de44142047a...</td>\n",
       "      <td>nymag</td>\n",
       "      <td>http://nymag.com/intelligencer/2019/12/a-gloss...</td>\n",
       "      <td>Dec. 31, 2019</td>\n",
       "      <td>A Glossary of Everyday Things, According to Trump</td>\n",
       "      <td>Donald Trump. Photo: Chip Somodevilla/Getty Im...</td>\n",
       "      <td>1.577750e+09</td>\n",
       "      <td>578</td>\n",
       "      <td>A Glossary of Everyday Things, According to Tr...</td>\n",
       "    </tr>\n",
       "  </tbody>\n",
       "</table>\n",
       "</div>"
      ],
      "text/plain": [
       "                                                  id source  \\\n",
       "0  7c66bfc6f7b115ac9ea1c443d64d9f662a3c7257d06d2a...    npr   \n",
       "1  d5e50fa5f13830087bedc86232317ea1790d2417d4d729...    npr   \n",
       "2  2b767e199bd897158dd7f8b999bef7aa592b82fd4548eb...  nymag   \n",
       "3  139c45cf3296a8e4f8bf50d3525b808be1620b3b670778...  nymag   \n",
       "4  f99ee44a2f210564c2eb3bc91a781f36dd6de44142047a...  nymag   \n",
       "\n",
       "                                        article_link       article_date  \\\n",
       "0  https://www.npr.org/2019/12/24/791102803/trump...  December 24, 2019   \n",
       "1  https://www.npr.org/2019/12/23/790747698/newly...  December 23, 2019   \n",
       "2  http://nymag.com/intelligencer/2019/12/matt-sh...      Dec. 24, 2019   \n",
       "3  http://nymag.com/intelligencer/2020/01/iran-ge...       Jan. 2, 2020   \n",
       "4  http://nymag.com/intelligencer/2019/12/a-gloss...      Dec. 31, 2019   \n",
       "\n",
       "                                       article_title  \\\n",
       "0  Trump Downplays Threat Of 'Gift' From North Ko...   \n",
       "1  Ukraine Emails Fuel Democrats' Call For Impeac...   \n",
       "2  GOP Lawmaker Plotted Insurrections to Establis...   \n",
       "3  U.S. Kills Iranian General Qasem Suleimani in ...   \n",
       "4  A Glossary of Everyday Things, According to Trump   \n",
       "\n",
       "                                     article_content   article_dts  \\\n",
       "0  President Trump did not seem concerned Tuesday...  1.577146e+09   \n",
       "1  Party leaders in Congress continued to spar Mo...  1.577059e+09   \n",
       "2  Shea’s rebellion. Photo: Ted S Warren/AP/Shutt...  1.577146e+09   \n",
       "3  A Shiite Muslim pilgrim walks with a bag adorn...  1.577923e+09   \n",
       "4  Donald Trump. Photo: Chip Somodevilla/Getty Im...  1.577750e+09   \n",
       "\n",
       "   word_count                                               text  \n",
       "0         276  Trump Downplays Threat Of 'Gift' From North Ko...  \n",
       "1         603  Ukraine Emails Fuel Democrats' Call For Impeac...  \n",
       "2         806  GOP Lawmaker Plotted Insurrections to Establis...  \n",
       "3        1059  U.S. Kills Iranian General Qasem Suleimani in ...  \n",
       "4         578  A Glossary of Everyday Things, According to Tr...  "
      ]
     },
     "execution_count": 18,
     "metadata": {},
     "output_type": "execute_result"
    }
   ],
   "source": [
    "print(\"Shape:\",source_data.shape)\n",
    "source_data.head()"
   ]
  },
  {
   "cell_type": "markdown",
   "metadata": {},
   "source": [
    "### Generate Summary"
   ]
  },
  {
   "cell_type": "code",
   "execution_count": 24,
   "metadata": {},
   "outputs": [],
   "source": [
    "summary_ratio = 0.2\n",
    "def generate_summary(text):\n",
    "    return summarize(text, ratio=summary_ratio)\n",
    "\n",
    "source_data['text_word_count'] = source_data['text'].str.split().str.len()\n",
    "source_data['summary_text'] = source_data['text'].apply(generate_summary)\n",
    "source_data['summary_word_count'] = source_data['summary_text'].str.split().str.len()"
   ]
  },
  {
   "cell_type": "code",
   "execution_count": 25,
   "metadata": {},
   "outputs": [
    {
     "name": "stdout",
     "output_type": "stream",
     "text": [
      "Shape: (166, 12)\n"
     ]
    },
    {
     "data": {
      "text/html": [
       "<div>\n",
       "<style scoped>\n",
       "    .dataframe tbody tr th:only-of-type {\n",
       "        vertical-align: middle;\n",
       "    }\n",
       "\n",
       "    .dataframe tbody tr th {\n",
       "        vertical-align: top;\n",
       "    }\n",
       "\n",
       "    .dataframe thead th {\n",
       "        text-align: right;\n",
       "    }\n",
       "</style>\n",
       "<table border=\"1\" class=\"dataframe\">\n",
       "  <thead>\n",
       "    <tr style=\"text-align: right;\">\n",
       "      <th></th>\n",
       "      <th>text</th>\n",
       "      <th>text_word_count</th>\n",
       "      <th>summary_text</th>\n",
       "      <th>summary_word_count</th>\n",
       "    </tr>\n",
       "  </thead>\n",
       "  <tbody>\n",
       "    <tr>\n",
       "      <th>0</th>\n",
       "      <td>Trump Downplays Threat Of 'Gift' From North Ko...</td>\n",
       "      <td>289</td>\n",
       "      <td>Trump Downplays Threat Of 'Gift' From North Ko...</td>\n",
       "      <td>70</td>\n",
       "    </tr>\n",
       "    <tr>\n",
       "      <th>1</th>\n",
       "      <td>Ukraine Emails Fuel Democrats' Call For Impeac...</td>\n",
       "      <td>612</td>\n",
       "      <td>Ukraine Emails Fuel Democrats' Call For Impeac...</td>\n",
       "      <td>151</td>\n",
       "    </tr>\n",
       "    <tr>\n",
       "      <th>2</th>\n",
       "      <td>GOP Lawmaker Plotted Insurrections to Establis...</td>\n",
       "      <td>814</td>\n",
       "      <td>Photo: Ted S Warren/AP/Shutterstock Last year,...</td>\n",
       "      <td>296</td>\n",
       "    </tr>\n",
       "    <tr>\n",
       "      <th>3</th>\n",
       "      <td>U.S. Kills Iranian General Qasem Suleimani in ...</td>\n",
       "      <td>1070</td>\n",
       "      <td>U.S. Kills Iranian General Qasem Suleimani in ...</td>\n",
       "      <td>333</td>\n",
       "    </tr>\n",
       "    <tr>\n",
       "      <th>4</th>\n",
       "      <td>A Glossary of Everyday Things, According to Tr...</td>\n",
       "      <td>586</td>\n",
       "      <td>Photo: Chip Somodevilla/Getty Images It’s no s...</td>\n",
       "      <td>139</td>\n",
       "    </tr>\n",
       "  </tbody>\n",
       "</table>\n",
       "</div>"
      ],
      "text/plain": [
       "                                                text  text_word_count  \\\n",
       "0  Trump Downplays Threat Of 'Gift' From North Ko...              289   \n",
       "1  Ukraine Emails Fuel Democrats' Call For Impeac...              612   \n",
       "2  GOP Lawmaker Plotted Insurrections to Establis...              814   \n",
       "3  U.S. Kills Iranian General Qasem Suleimani in ...             1070   \n",
       "4  A Glossary of Everyday Things, According to Tr...              586   \n",
       "\n",
       "                                        summary_text  summary_word_count  \n",
       "0  Trump Downplays Threat Of 'Gift' From North Ko...                  70  \n",
       "1  Ukraine Emails Fuel Democrats' Call For Impeac...                 151  \n",
       "2  Photo: Ted S Warren/AP/Shutterstock Last year,...                 296  \n",
       "3  U.S. Kills Iranian General Qasem Suleimani in ...                 333  \n",
       "4  Photo: Chip Somodevilla/Getty Images It’s no s...                 139  "
      ]
     },
     "execution_count": 25,
     "metadata": {},
     "output_type": "execute_result"
    }
   ],
   "source": [
    "print(\"Shape:\",source_data.shape)\n",
    "source_data[[\"text\",\"text_word_count\",\"summary_text\",\"summary_word_count\"]].head()"
   ]
  },
  {
   "cell_type": "markdown",
   "metadata": {},
   "source": [
    "## Model Evaluation\n",
    "\n",
    "We will visually look at a few of the articles to see how the model performed"
   ]
  },
  {
   "cell_type": "code",
   "execution_count": 28,
   "metadata": {},
   "outputs": [
    {
     "name": "stdout",
     "output_type": "stream",
     "text": [
      "Trump Downplays Threat Of 'Gift' From North Korea: Maybe It's A 'Beautiful Vase' President Trump did not seem concerned Tuesday when asked about the threat of a \"Christmas present\" from North Korea if the U.S. doesn't roll back economic sanctions on the country by the end of the year. \"Maybe it's a nice present,\" Trump told reporters at an event at his Mar-a-Lago resort in Florida. \"Maybe it's a present where he sends me a beautiful vase, as opposed to a missile test.\" Pyongyang imposed an end-of-year deadline for concessions from the U.S. earlier this month, but the Trump administration has given no sign that it plans to give in to the pressure campaign. The U.S. wants North Korea to give up its entire nuclear arsenal before removing the sanctions. Dealing with North Korea's nuclear ambitions has been one of Trump's top foreign policy priorities, and he has held a series of meetings with North Korea's Kim Jong Un to try to negotiate a solution. World North Korea Promises A Christmas Surprise. Here Are The Options It's unclear exactly what the \"Christmas gift\" is that North Korea is threatening, but NPR's Geoff Brumfiel laid out a few of the options on Monday, including launching a rocket with a payload into space, conducting an underground nuclear test, or testing a long-range missile capable of reaching the United States or its territories. On Tuesday, Trump did not elaborate on how the U.S. would respond if North Korea were to conduct another missile test. \"We'll find out what the surprise is, and we'll deal with it very successfully. Let's see what happens. Everybody's got surprises for me — but let's see what happens,\" Trump said. \"I handle them as they come along.\"\n",
      "---------------------------------------\n",
      "Trump Downplays Threat Of 'Gift' From North Korea: Maybe It's A 'Beautiful Vase' President Trump did not seem concerned Tuesday when asked about the threat of a \"Christmas present\" from North Korea if the U.S. doesn't roll back economic sanctions on the country by the end of the year.\n",
      "On Tuesday, Trump did not elaborate on how the U.S. would respond if North Korea were to conduct another missile test.\n"
     ]
    }
   ],
   "source": [
    "# View some results\n",
    "print(source_data.loc[0]['text'])\n",
    "print(\"---------------------------------------\")\n",
    "print(source_data.loc[0]['summary_text'])"
   ]
  },
  {
   "cell_type": "code",
   "execution_count": 30,
   "metadata": {},
   "outputs": [
    {
     "name": "stdout",
     "output_type": "stream",
     "text": [
      "U.S. Kills Iranian General Qasem Suleimani in Airstrike at Baghdad Airport A Shiite Muslim pilgrim walks with a bag adorned with a portrait of Qasem Suleimani, Iran’s Islamic Revolutionary Guard Corps (IRGC), Major General and commander of the Quds Force, who was killed on Friday morning in Baghdad. Photo: MOHAMMED SAWAF/AFP via Getty Images Early on Friday in Baghdad, U.S. forces killed Major General Qasem Suleimani in an air strike at the Baghdad International Airport in order to “protect U.S. personnel abroad,” according to the Pentagon. The attack on Suleimani, considered Iran’s most important military leader, was carried out “at the direction of the president.” Suleimani was the head of Iran’s Quds Force, a unit of the Islamic Revolutionary Guard Corps responsible for clandestine operations abroad and for providing material support to groups like Hezbollah, Hamas, and the Popular Mobilization Forces, an umbrella organization for Iraqi militias, whose deputy leader Abu Mahdi al-Muhandis was also reportedly killed in the attack, along with five others. Full Pentagon statement: pic.twitter.com/7vwmfojlvz— Shimon Prokupecz (@ShimonPro) January 3, 2020 The Pentagon misstated the name of the IRGC: It is the Islamic Revolutionary Guard Corps, not the Iranian Revolutionary Guard Corps. The strike is likely to escalate the tension between the two powers currently engaged in proxy skirmishes in Iraq. Last week, the United States claimed that an Iranian-backed militia fired rockets into an American base in Kirkuk Province north of Baghdad, killing an American contractor. In response, U.S. forces bombed three sites of an Iranian-backed militia in western Iraq, killing several fighters. On Tuesday, protestors linked to pro-Iranian militias then stormed at the American Embassy in Baghdad, breaking past guards and forcing diplomats to stay locked inside for over 24 hours. And on Thursday, Secretary of Defense Mark Esper issued a stern warning: “If we get word of attacks, we will take pre-emptive action as well to protect American forces, protect American lives. The game has changed.” Shortly after the death of Suleimani, reports also emerged that U.S. marines captured two leaders of pro-Iranian militias in Iraq: Qais Khazali of Iraqi Hezbollah and Hadi Al Ameri, the alleged head of the Badr organization, the military wing of the Supreme Islamic Iraqi Council. Suleimani, 62, became head of the Quds Force in the late 1990s, leading the group’s operations in Syria and Iraq, where it was responsible for the deaths of hundreds of American soldiers during the Iraq War. He was also considered a major force guiding Hezbollah in the past few decades, and helped Iraqi forces push back ISIS fighters during the civil war. Supporters of the president promptly weighed in approving the action and condemning Suleimani, while Trump simply posted a picture of a blurry flag: Ben Sasse: “This is very simple: General Soleimani is dead because he was an evil bastard who murdered Americans.”— Katie Rogers (@katierogers) January 3, 2020 Qassem Soleimani masterminded Iran’s reign of terror for decades, including the deaths of hundreds of Americans. Tonight, he got what he richly deserved, and all those American soldiers who died by his hand also got what they deserved: justice. https://t.co/1wkjtvj2QA— Tom Cotton (@SenTomCotton) January 3, 2020 pic.twitter.com/VXeKiVzpTf— Donald J. Trump (@realDonaldTrump) January 3, 2020 Though the Pentagon cited the attack as an example of deterrence, politicians, reporters, and experts on the region are expecting the opposite: Just got off the phone with Sen. Graham: \"We need to get ready for a major pushback. Our people in Iraq and the Middle East are going to be targeted. We need to be ready to defend our people in the Middle East. I think we need to be ready for a big counterpunch.\"— Erin Banco (@ErinBanco) January 3, 2020 If reports are true, assassinating Iran’s Soleimani would represent a major, overt act of war. Functionally and legally, it’s not a “risk of war” or “tantamount to war.” It is war outright, and against a country that has invested years of preparation into enduring just that.— Max Fisher (@Max_Fisher) January 3, 2020 Soleimani was an enemy of the United States. That’s not a question.The question is this - as reports suggest, did America just assassinate, without any congressional authorization, the second most powerful person in Iran, knowingly setting off a potential massive regional war?— Chris Murphy (@ChrisMurphyCT) January 3, 2020 Soleimani had been in the crosshairs of US military several times but was spared. National security officials during the Obama era were always concerned such a move would lead to #Iran activating terror cells around the world in retaliation. I’m told Trump aware, still made call— Suzanne Kianpour (@KianpourWorld) January 3, 2020 foreign policy specialists now bracing for US-Iran war after killing of Soleimaniformer Bush national security official Richard Haass: “If US behind the strike, then Iran will almost certainly go after US personnel in Iraq and elsewhere. This could spread and escalate fast”— John Harwood (@JohnJHarwood) January 3, 2020 This will unify various opposing political factions in Iran. Soleimani not a regular commander. He’s seen as the person who defeated everyone’s enemy: ISIS.Many Iranians of different political views, even those critical of IRGC, respect him for defeating ISIS.— Negar Mortazavi (@NegarMortazavi) January 3, 2020 Democratic candidates for president began to weigh in late on Thursday night in the U.S. “Soleimani was a murderer, responsible for the deaths of thousands, including hundreds of Americans,” tweeted Elizabeth Warren. But this reckless move escalates the situation with Iran and increases the likelihood of more deaths and new Middle East conflict. Our priority must be to avoid another costly war. Joe Biden wrote that “President Trump just tossed a stick of dynamite into a tinderbox, and he owes the American people an explanation of the strategy and plan to keep safe our troops and embassy personnel, our people and our interests, both here at home and abroad, and our partners throughout the region and beyond.” And Bernie Sanders stated that “Trump’s dangerous escalation brings us closer to another disastrous war in the Middle East that could cost countless lives and trillions more dollars. Trump promised to end endless wars, but this action puts us on the path to another one. This is a breaking-news post and will be updated. Sign Up for the Intelligencer Newsletter Daily news about the politics, business, and technology shaping our world. Email Terms & Privacy Notice By submitting your email, you agree to our Terms and Privacy Notice and to receive email correspondence from us.\n",
      "---------------------------------------\n",
      "U.S. Kills Iranian General Qasem Suleimani in Airstrike at Baghdad Airport A Shiite Muslim pilgrim walks with a bag adorned with a portrait of Qasem Suleimani, Iran’s Islamic Revolutionary Guard Corps (IRGC), Major General and commander of the Quds Force, who was killed on Friday morning in Baghdad.\n",
      "The attack on Suleimani, considered Iran’s most important military leader, was carried out “at the direction of the president.” Suleimani was the head of Iran’s Quds Force, a unit of the Islamic Revolutionary Guard Corps responsible for clandestine operations abroad and for providing material support to groups like Hezbollah, Hamas, and the Popular Mobilization Forces, an umbrella organization for Iraqi militias, whose deputy leader Abu Mahdi al-Muhandis was also reportedly killed in the attack, along with five others.\n",
      "The game has changed.” Shortly after the death of Suleimani, reports also emerged that U.S. marines captured two leaders of pro-Iranian militias in Iraq: Qais Khazali of Iraqi Hezbollah and Hadi Al Ameri, the alleged head of the Badr organization, the military wing of the Supreme Islamic Iraqi Council.\n",
      "Suleimani, 62, became head of the Quds Force in the late 1990s, leading the group’s operations in Syria and Iraq, where it was responsible for the deaths of hundreds of American soldiers during the Iraq War. He was also considered a major force guiding Hezbollah in the past few decades, and helped Iraqi forces push back ISIS fighters during the civil war.\n",
      "Supporters of the president promptly weighed in approving the action and condemning Suleimani, while Trump simply posted a picture of a blurry flag: Ben Sasse: “This is very simple: General Soleimani is dead because he was an evil bastard who murdered Americans.”— Katie Rogers (@katierogers) January 3, 2020 Qassem Soleimani masterminded Iran’s reign of terror for decades, including the deaths of hundreds of Americans.\n",
      "I think we need to be ready for a big counterpunch.\"— Erin Banco (@ErinBanco) January 3, 2020 If reports are true, assassinating Iran’s Soleimani would represent a major, overt act of war.\n"
     ]
    }
   ],
   "source": [
    "# View some results\n",
    "print(source_data.loc[3]['text'])\n",
    "print(\"---------------------------------------\")\n",
    "print(source_data.loc[3]['summary_text'])"
   ]
  },
  {
   "cell_type": "code",
   "execution_count": 31,
   "metadata": {},
   "outputs": [
    {
     "name": "stdout",
     "output_type": "stream",
     "text": [
      "Please Stop Telling Miners to Learn to Code Photo: Spencer Platt/Getty Images Good news, coal miners: Joe Biden has a brilliant idea for your future. “Anybody who can go down 3,000 feet in a mine can sure as hell learn to program as well … Anybody who can throw coal into a furnace can learn how to program, for God’s sake!” the former vice-president said at a New Hampshire rally on Monday. Biden riffing on how Obama put him in charge of judging the \"jobs of the future\" suggests re-training miners as coders.\"Anybody who can go down 3000 feet in a mine can sure as hell learn to program as well.\"This sort of \"just transition\" stuff was murder on Clinton in 2016...— Dave Weigel (@daveweigel) December 30, 2019 God only knows where Biden got the idea that coal mining consists of throwing the stuff into a furnace. That’s not how it works, but I digress. Biden’s recommendation is stale stuff. It’s the kind of rhetoric that will only sway voters whose ideal president is a machine that spits out a white paper from 1998 every time someone pushes a button. R-training programs for workers in precarious industries have been with us for a long time. So has a specific fixation on the tech industry, as though it’s a cure-all for rural poverty. But 1998 was a long time ago. It’s evident now that retraining programs — including the ones that teach miners and factory workers and whoever else to code — are not the panacea that technocrats hoped they’d become. “Despite decades of investments by the federal government in a patchwork of job-retraining efforts, most have been found to be ineffective according to numerous studies over the years, and it remains unclear to experts whether the programs are even up to the task of preparing workers for the new economy,” Jeffrey Selingo recently wrote for The Atlantic. Privately run efforts aren’t always effective, either. As the New York Times reported earlier this year, students sued the founders of Mined Minds, a nonprofit that promised paid apprenticeships to every graduate of its coding program, for fraud. The jobs did not appear; most students didn’t even complete the program. “They’re coming here promising stuff that they don’t deliver,” the husband of a former student told the Times. “People do that all the time. They’ve always done it to Appalachians.” Some day, the mines will close, and mining communities will need new jobs and radical policy solutions if they’re going to survive. But Biden and his fellow technocrats fail to grasp a foundational fact about coal country: The political and economic problems there are not recent. They are deep ones, over a century in the making. Industry came for the coal and the timber and for the people themselves, who turned profits for their bosses and kept the country’s lights on for generations. There is no simple remedy. Sign Up for the Intelligencer Newsletter Daily news about the politics, business, and technology shaping our world. Email Terms & Privacy Notice By submitting your email, you agree to our Terms and Privacy Notice and to receive email correspondence from us.\n",
      "---------------------------------------\n",
      "Biden riffing on how Obama put him in charge of judging the \"jobs of the future\" suggests re-training miners as coders.\"Anybody who can go down 3000 feet in a mine can sure as hell learn to program as well.\"This sort of \"just transition\" stuff was murder on Clinton in 2016...— Dave Weigel (@daveweigel) December 30, 2019 God only knows where Biden got the idea that coal mining consists of throwing the stuff into a furnace.\n",
      "R-training programs for workers in precarious industries have been with us for a long time.\n",
      "“Despite decades of investments by the federal government in a patchwork of job-retraining efforts, most have been found to be ineffective according to numerous studies over the years, and it remains unclear to experts whether the programs are even up to the task of preparing workers for the new economy,” Jeffrey Selingo recently wrote for The Atlantic.\n",
      "As the New York Times reported earlier this year, students sued the founders of Mined Minds, a nonprofit that promised paid apprenticeships to every graduate of its coding program, for fraud.\n"
     ]
    }
   ],
   "source": [
    "# View some results\n",
    "print(source_data.loc[6]['text'])\n",
    "print(\"---------------------------------------\")\n",
    "print(source_data.loc[6]['summary_text'])"
   ]
  },
  {
   "cell_type": "code",
   "execution_count": null,
   "metadata": {},
   "outputs": [],
   "source": []
  }
 ],
 "metadata": {
  "kernelspec": {
   "display_name": "Python 3",
   "language": "python",
   "name": "python3"
  },
  "language_info": {
   "codemirror_mode": {
    "name": "ipython",
    "version": 3
   },
   "file_extension": ".py",
   "mimetype": "text/x-python",
   "name": "python",
   "nbconvert_exporter": "python",
   "pygments_lexer": "ipython3",
   "version": "3.6.8"
  }
 },
 "nbformat": 4,
 "nbformat_minor": 2
}
