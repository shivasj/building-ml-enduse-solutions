{
 "cells": [
  {
   "cell_type": "markdown",
   "metadata": {},
   "source": [
    "# Scrap Data"
   ]
  },
  {
   "cell_type": "code",
   "execution_count": 1,
   "metadata": {},
   "outputs": [],
   "source": [
    "#imports\n",
    "import requests\n",
    "import hashlib\n",
    "import csv,re,json,time,sys\n",
    "from dateutil import parser\n",
    "from bs4 import BeautifulSoup\n",
    "from bs4 import Comment\n",
    "import urllib.parse"
   ]
  },
  {
   "cell_type": "markdown",
   "metadata": {},
   "source": [
    "### CNN"
   ]
  },
  {
   "cell_type": "code",
   "execution_count": 16,
   "metadata": {},
   "outputs": [],
   "source": [
    "# Finding links to news articles from source home page\n",
    "link = \"https://edition.cnn.com/specials/last-50-stories\"\n",
    "# Use headers to pass the authentication\n",
    "headers = {\n",
    "    'User-Agent': 'Mozilla/5.0 (Macintosh; Intel Mac OS X 10_10_1) AppleWebKit/537.36 (KHTML, like Gecko) Chrome/39.0.2171.95 Safari/537.36'\n",
    "}\n",
    "# Request the page\n",
    "page = requests.get(link, headers=headers)\n",
    "# Parsing\n",
    "soup = BeautifulSoup(page.content, 'html.parser')"
   ]
  },
  {
   "cell_type": "code",
   "execution_count": 17,
   "metadata": {},
   "outputs": [
    {
     "name": "stdout",
     "output_type": "stream",
     "text": [
      "/2020/01/05/us/indiana-car-crash-sunday/index.html\n",
      "https://edition.cnn.com/2020/01/05/us/indiana-car-crash-sunday/index.html\n",
      "/videos/us/2020/01/06/indiana-deadly-vehicle-crash-vpx.wxin\n",
      "https://edition.cnn.com/videos/us/2020/01/06/indiana-deadly-vehicle-crash-vpx.wxin\n",
      "/2020/01/06/us/puerto-rico-earthquake/index.html\n",
      "https://edition.cnn.com/2020/01/06/us/puerto-rico-earthquake/index.html\n",
      "/2020/01/06/us/mississippi-prisoners-escape-arrest/index.html\n",
      "https://edition.cnn.com/2020/01/06/us/mississippi-prisoners-escape-arrest/index.html\n",
      "/2020/01/06/us/five-things-january-6-trnd/index.html\n",
      "https://edition.cnn.com/2020/01/06/us/five-things-january-6-trnd/index.html\n",
      "/2020/01/06/us/australian-fires-by-the-numbers-trnd/index.html\n",
      "https://edition.cnn.com/2020/01/06/us/australian-fires-by-the-numbers-trnd/index.html\n",
      "/videos/us/2020/01/06/daily-news-briefing-01062020.cnn\n",
      "https://edition.cnn.com/videos/us/2020/01/06/daily-news-briefing-01062020.cnn\n",
      "/2020/01/06/us/harvey-weinstein-trial/index.html\n",
      "https://edition.cnn.com/2020/01/06/us/harvey-weinstein-trial/index.html\n",
      "/videos/weather/2020/01/06/daily-weather-forecast-snow-cold-wind-rain-pacific-northwest.cnn\n",
      "https://edition.cnn.com/videos/weather/2020/01/06/daily-weather-forecast-snow-cold-wind-rain-pacific-northwest.cnn\n",
      "/2020/01/06/us/dallas-baby-shot-killed/index.html\n",
      "https://edition.cnn.com/2020/01/06/us/dallas-baby-shot-killed/index.html\n",
      "/2020/01/05/us/pennsylvania-turnpike-fatal-crash/index.html\n",
      "https://edition.cnn.com/2020/01/05/us/pennsylvania-turnpike-fatal-crash/index.html\n",
      "/2013/05/31/us/dow-jones-industrial-average-fast-facts/index.html\n",
      "https://edition.cnn.com/2013/05/31/us/dow-jones-industrial-average-fast-facts/index.html\n",
      "/2020/01/05/us/walmart-bed-bugs-released-trnd/index.html\n",
      "https://edition.cnn.com/2020/01/05/us/walmart-bed-bugs-released-trnd/index.html\n",
      "/2020/01/05/us/military-families-troops-deployed-us-iran-trnd/index.html\n",
      "https://edition.cnn.com/2020/01/05/us/military-families-troops-deployed-us-iran-trnd/index.html\n",
      "/videos/us/2020/01/05/troops-deployed-fort-bragg-iran-chen-vpx.cnn\n",
      "https://edition.cnn.com/videos/us/2020/01/05/troops-deployed-fort-bragg-iran-chen-vpx.cnn\n",
      "/videos/us/2020/01/05/daily-news-briefing-01052020-2.cnn\n",
      "https://edition.cnn.com/videos/us/2020/01/05/daily-news-briefing-01052020-2.cnn\n",
      "/videos/us/2020/01/05/methodist-church-split-lgbt-issues-nr-pkg.cnn\n",
      "https://edition.cnn.com/videos/us/2020/01/05/methodist-church-split-lgbt-issues-nr-pkg.cnn\n",
      "/2020/01/05/us/vince-carter-4-decades-in-nba-trnd/index.html\n",
      "https://edition.cnn.com/2020/01/05/us/vince-carter-4-decades-in-nba-trnd/index.html\n",
      "/2020/01/05/us/houston-man-proposal-killing/index.html\n",
      "https://edition.cnn.com/2020/01/05/us/houston-man-proposal-killing/index.html\n",
      "/videos/us/2020/01/05/pennsylvania-turnpike-crash-orig.cnn\n",
      "https://edition.cnn.com/videos/us/2020/01/05/pennsylvania-turnpike-crash-orig.cnn\n",
      "/videos/us/2020/01/05/daily-news-briefing-01052020-1.cnn\n",
      "https://edition.cnn.com/videos/us/2020/01/05/daily-news-briefing-01052020-1.cnn\n",
      "/2020/01/05/us/dating-sunday-trnd/index.html\n",
      "https://edition.cnn.com/2020/01/05/us/dating-sunday-trnd/index.html\n",
      "/2020/01/05/us/titans-patriots-nfl-playoffs/index.html\n",
      "https://edition.cnn.com/2020/01/05/us/titans-patriots-nfl-playoffs/index.html\n",
      "/2020/01/05/us/nfl-playoffs-eagles-seahawks-trnd/index.html\n",
      "https://edition.cnn.com/2020/01/05/us/nfl-playoffs-eagles-seahawks-trnd/index.html\n",
      "/2020/01/05/us/maryland-seagulls-popcorn-animal-cruelty-trnd/index.html\n",
      "https://edition.cnn.com/2020/01/05/us/maryland-seagulls-popcorn-animal-cruelty-trnd/index.html\n",
      "/2020/01/04/us/florida-parrot-neighbor-trnd/index.html\n",
      "https://edition.cnn.com/2020/01/04/us/florida-parrot-neighbor-trnd/index.html\n",
      "/2020/01/04/us/indiana-newborn-twins-different-decades-trnd/index.html\n",
      "https://edition.cnn.com/2020/01/04/us/indiana-newborn-twins-different-decades-trnd/index.html\n",
      "/videos/us/2020/01/05/indiana-twins-born-in-different-decades-vpx.wish\n",
      "https://edition.cnn.com/videos/us/2020/01/05/indiana-twins-born-in-different-decades-vpx.wish\n",
      "/2020/01/04/us/coca-cola-crash-quakertown-pennsylvania-trnd/index.html\n",
      "https://edition.cnn.com/2020/01/04/us/coca-cola-crash-quakertown-pennsylvania-trnd/index.html\n",
      "/videos/us/2020/01/04/colorado-nebraska-drones-pkg-vpx.hln\n",
      "https://edition.cnn.com/videos/us/2020/01/04/colorado-nebraska-drones-pkg-vpx.hln\n",
      "/2020/01/04/us/nfl-playoffs-2020-spt-trnd/index.html\n",
      "https://edition.cnn.com/2020/01/04/us/nfl-playoffs-2020-spt-trnd/index.html\n",
      "/2020/01/04/us/california-plane-crash-trnd/index.html\n",
      "https://edition.cnn.com/2020/01/04/us/california-plane-crash-trnd/index.html\n",
      "/videos/us/2020/01/04/daily-news-briefing-01042020-2.cnn\n",
      "https://edition.cnn.com/videos/us/2020/01/04/daily-news-briefing-01042020-2.cnn\n",
      "/2020/01/04/us/michigan-egg-farm-fire-trnd/index.html\n",
      "https://edition.cnn.com/2020/01/04/us/michigan-egg-farm-fire-trnd/index.html\n",
      "/2014/11/27/us/ray-rice-fast-facts/index.html\n",
      "https://edition.cnn.com/2014/11/27/us/ray-rice-fast-facts/index.html\n",
      "/2013/04/05/us/jeff-bezos-fast-facts/index.html\n",
      "https://edition.cnn.com/2013/04/05/us/jeff-bezos-fast-facts/index.html\n",
      "/2013/02/21/us/eric-holder-fast-facts/index.html\n",
      "https://edition.cnn.com/2013/02/21/us/eric-holder-fast-facts/index.html\n",
      "/2013/07/04/us/donald-trump-fast-facts/index.html\n",
      "https://edition.cnn.com/2013/07/04/us/donald-trump-fast-facts/index.html\n",
      "/2020/01/04/us/iran-protests-roundup-trnd/index.html\n",
      "https://edition.cnn.com/2020/01/04/us/iran-protests-roundup-trnd/index.html\n",
      "/2020/01/04/us/tom-brady-hype-video-trnd/index.html\n",
      "https://edition.cnn.com/2020/01/04/us/tom-brady-hype-video-trnd/index.html\n",
      "/2020/01/04/us/parking-meters-nyc-trnd/index.html\n",
      "https://edition.cnn.com/2020/01/04/us/parking-meters-nyc-trnd/index.html\n",
      "/2020/01/03/us/united-methodist-church-split-proposal/index.html\n",
      "https://edition.cnn.com/2020/01/03/us/united-methodist-church-split-proposal/index.html\n",
      "/2020/01/04/us/illinois-bank-robbery-suspect/index.html\n",
      "https://edition.cnn.com/2020/01/04/us/illinois-bank-robbery-suspect/index.html\n",
      "/2020/01/04/us/pink-australia-fires-donation-trnd/index.html\n",
      "https://edition.cnn.com/2020/01/04/us/pink-australia-fires-donation-trnd/index.html\n",
      "/2020/01/04/us/california-firefighters-australia-brushfires/index.html\n",
      "https://edition.cnn.com/2020/01/04/us/california-firefighters-australia-brushfires/index.html\n",
      "/2020/01/04/us/2020-tipping-challenge-donnie-wahlberg-trnd/index.html\n",
      "https://edition.cnn.com/2020/01/04/us/2020-tipping-challenge-donnie-wahlberg-trnd/index.html\n",
      "/videos/us/2020/01/04/paighton-houston-body-found-alabama-orig-jg.cnn\n",
      "https://edition.cnn.com/videos/us/2020/01/04/paighton-houston-body-found-alabama-orig-jg.cnn\n",
      "/2020/01/04/us/rod-stewart-son-simple-battery-trnd/index.html\n",
      "https://edition.cnn.com/2020/01/04/us/rod-stewart-son-simple-battery-trnd/index.html\n",
      "/2020/01/04/us/mississippi-prisoners-search/index.html\n",
      "https://edition.cnn.com/2020/01/04/us/mississippi-prisoners-search/index.html\n",
      "/videos/us/2020/01/04/daily-news-briefing-01042020-1.cnn\n",
      "https://edition.cnn.com/videos/us/2020/01/04/daily-news-briefing-01042020-1.cnn\n"
     ]
    }
   ],
   "source": [
    "base_url = urllib.parse.urljoin(link, '.')\n",
    "for a in soup.select(\"h3.cd__headline a\"):\n",
    "    print(a.get('href'))\n",
    "    print(urllib.parse.urljoin(base_url, a.get('href')))"
   ]
  },
  {
   "cell_type": "code",
   "execution_count": 18,
   "metadata": {},
   "outputs": [
    {
     "name": "stdout",
     "output_type": "stream",
     "text": [
      "None\n",
      "Updated 0622 GMT (1422 HKT) January 6, 2020 \n",
      "A toddler was shot and killed in his Dallas home. He would have been 2 later this month\n"
     ]
    }
   ],
   "source": [
    "link = \"https://edition.cnn.com/2020/01/06/us/dallas-baby-shot-killed/index.html\"\n",
    "\n",
    "# Request the page\n",
    "page = requests.get(r'{}'.format(link))\n",
    "\n",
    "# HTML Parser\n",
    "soup = BeautifulSoup(page.content, 'html.parser')\n",
    "\n",
    "for time in soup.select(\"p.update-time\"):\n",
    "    print(time.get('datetime'))\n",
    "    print(time.text)\n",
    "\n",
    "for title in soup.select(\"h1.pg-headline\"):\n",
    "    print(title.get_text())\n",
    "\n",
    "article_content = ''\n",
    "for data in soup.select(\"div.l-container div.pg-rail-tall__wrapper div.l-container .zn-body__paragraph\"):\n",
    "    #print(data)\n",
    "    # Remove unwanted tags\n",
    "    [x.extract() for x in data.find_all('script')]\n",
    "    [x.extract() for x in data.find_all('style')]\n",
    "    [x.extract() for x in data.find_all('meta')]\n",
    "    [x.extract() for x in data.find_all('noscript')]\n",
    "    [x.extract() for x in data.find_all('div', class_=\"image\")]\n",
    "    [x.extract() for x in data.find_all(text=lambda text: isinstance(text, Comment))]\n",
    "\n",
    "    # Extract content text\n",
    "    content = data.get_text()\n",
    "    content = content.replace('\\r', ' ').replace('\\n', ' ')\n",
    "    article_content += content + ' '"
   ]
  },
  {
   "cell_type": "code",
   "execution_count": 19,
   "metadata": {},
   "outputs": [
    {
     "name": "stdout",
     "output_type": "stream",
     "text": [
      " (CNN)A toddler was shot in his Dallas home through the window as he slept early Sunday morning, Dallas Police Chief Reneé Hall said during a press conference. Rory Norman, 1, died after someone fired into his bedroom, police said. He would have turned 2 on January 24, Hall said.  \"This sh*t has to stop in this city,\" Chief Hall said as she bemoaned the gun violence plaguing Dallas, noting that across town another child suffered a graze wound from a bullet randomly shot into the air. \"Not only are we brokenhearted, we're angry this 1-year-old baby was killed due to senseless gun violence in this city,\" Hall told reporters. Hall says investigators believe the shooting was targeted as the suspect shot into the bedrooms. \"It was intentional, it was deliberate, and this location was targeted,\" Hall explained. \"The gunman had to be familiar with the layout of the home. He shot only into the bedrooms. He angled the weapon in the downward position and, because it was 3:30 in the morning, he knew that the residents of the home would be asleep and so he knew where to fire.\" Rory's 20-year-old uncle was also shot multiple times and survived. Hall said he was home from a local university for the holidays but was now in the hospital in stable condition. Hall says the suspect used a rifle but very little other information on the suspect is known. She urged anyone with information on the shooting to come forward and said that police need the help of the community to combat shootings in Dallas.  \n"
     ]
    }
   ],
   "source": [
    "print(article_content)"
   ]
  },
  {
   "cell_type": "markdown",
   "metadata": {},
   "source": [
    "### NPR"
   ]
  },
  {
   "cell_type": "code",
   "execution_count": 24,
   "metadata": {},
   "outputs": [],
   "source": [
    "# Finding links to news articles from source home page\n",
    "link = \"https://www.npr.org/sections/politics/\"\n",
    "# Use headers to pass the authentication\n",
    "headers = {\n",
    "    'User-Agent': 'Mozilla/5.0 (Macintosh; Intel Mac OS X 10_10_1) AppleWebKit/537.36 (KHTML, like Gecko) Chrome/39.0.2171.95 Safari/537.36'\n",
    "}\n",
    "# Request the page\n",
    "page = requests.get(link, headers=headers)\n",
    "# Parsing\n",
    "soup = BeautifulSoup(page.content, 'html.parser')"
   ]
  },
  {
   "cell_type": "code",
   "execution_count": 25,
   "metadata": {},
   "outputs": [
    {
     "name": "stdout",
     "output_type": "stream",
     "text": [
      "https://www.npr.org/2020/01/06/793140611/the-trump-impeachment-wars-are-about-to-heat-back-up\n",
      "https://www.npr.org/2020/01/05/793814276/iran-abandons-nuclear-deal-limitations-in-wake-of-soleimani-killing\n",
      "https://www.npr.org/2020/01/05/785672201/deceased-gop-strategists-daughter-makes-files-public-that-republicans-wanted-sea\n",
      "https://www.npr.org/2020/01/02/793208096/iraqi-tv-says-top-iranian-military-leader-killed-in-rocket-strikes-on-iraqi-airp\n",
      "https://www.npr.org/2020/01/03/793293543/there-will-be-reprisals-democrats-warn-of-fallout-from-killing-of-iranian-genera\n",
      "https://www.npr.org/2020/01/03/793309480/after-a-bold-american-gambit-against-iran-4-big-questions-about-whats-next\n",
      "https://www.npr.org/2020/01/03/792612929/with-a-month-to-go-before-iowa-and-new-hampshire-anything-can-happen\n",
      "https://www.npr.org/2020/01/03/793291787/warren-fundraising-drops-lagging-behind-other-top-candidates\n",
      "https://www.npr.org/2020/01/03/791512216/andrew-yang-puts-autism-in-the-spotlight-but-policy-questions-linger\n",
      "https://www.npr.org/2020/01/03/793202192/as-impeachment-trial-looms-sen-susan-collins-faces-scrutiny-in-congress-and-at-h\n",
      "https://www.npr.org/2020/01/02/793027022/sanders-sets-fundraising-pace-among-democrats-with-34-million-haul\n",
      "https://www.npr.org/2020/01/02/774556481/julian-castro-drops-out-of-the-democratic-presidential-race\n",
      "https://www.npr.org/2020/01/01/792681442/6-new-state-laws-you-should-know-about-in-2020\n",
      "https://www.npr.org/2020/01/01/792760468/trump-will-win-again-no-way-hell-win-be-wary-of-2020-election-predictions\n",
      "https://www.npr.org/2020/01/01/792725906/trumps-push-for-lofty-nuclear-treaty-sparks-worry-over-current-deal\n",
      "https://www.npr.org/2019/12/31/792350952/the-top-moments-from-a-decade-that-reshaped-american-politics\n",
      "https://www.npr.org/2019/12/31/787235305/how-a-senate-impeachment-trial-could-work\n",
      "https://www.npr.org/2019/12/30/792476791/federal-judge-dismisses-former-white-house-aides-lawsuit-over-congressional-subp\n",
      "https://www.npr.org/2019/12/30/792436711/3-months-after-heart-attack-sanders-doctors-say-he-s-fit-to-be-president\n",
      "https://www.npr.org/2019/12/29/792241464/civil-rights-leader-rep-john-lewis-to-start-treatment-for-pancreatic-cancer\n",
      "https://www.npr.org/2019/12/29/792222297/trump-comes-under-fire-after-sharing-name-on-twitter-of-alleged-whistleblower\n",
      "https://www.npr.org/2019/12/27/791707318/trump-vs-toilets-and-showers-dishwashers-and-light-bulbs\n",
      "https://www.npr.org/2019/12/26/791439096/gop-senator-disturbed-by-mcconnell-coordinating-with-trump-staff-on-impeachment\n",
      "https://www.npr.org/2019/12/27/791674881/billionaires-bring-big-money-to-democratic-primary\n"
     ]
    }
   ],
   "source": [
    "base_url = urllib.parse.urljoin(link, '.')\n",
    "for a in soup.select(\"div.item-info-wrap h2.title a\"):\n",
    "    print(urllib.parse.urljoin(base_url, a.get('href')))"
   ]
  },
  {
   "cell_type": "code",
   "execution_count": 7,
   "metadata": {},
   "outputs": [
    {
     "name": "stdout",
     "output_type": "stream",
     "text": [
      "2020-01-02T21:29:00-05:00\n",
      "U.S. Kills Top Iranian Military Leader In Airstrike\n"
     ]
    }
   ],
   "source": [
    "link = \"https://www.npr.org/2020/01/02/793208096/iraqi-tv-says-top-iranian-military-leader-killed-in-rocket-strikes-on-iraqi-airp\"\n",
    "\n",
    "# Request the page\n",
    "page = requests.get(r'{}'.format(link))\n",
    "\n",
    "# HTML Parser\n",
    "soup = BeautifulSoup(page.content, 'html.parser')\n",
    "\n",
    "for time in soup.select(\"section time\"):\n",
    "    print(time.get('datetime'))\n",
    "\n",
    "for title in soup.select(\"div h1\"):\n",
    "    print(title.get_text())\n",
    "    \n",
    "article_content = ''\n",
    "for data in soup.select(\"div.storytext.storylocation.linkLocation\"):\n",
    "    #print(data)\n",
    "    # Remove unwanted tags\n",
    "    [x.extract() for x in data.find_all('script')]\n",
    "    [x.extract() for x in data.find_all('style')]\n",
    "    [x.extract() for x in data.find_all('meta')]\n",
    "    [x.extract() for x in data.find_all('noscript')]\n",
    "    [x.extract() for x in data.find_all('div', class_=\"image\")]\n",
    "    [x.extract() for x in data.find_all(text=lambda text: isinstance(text, Comment))]\n",
    "\n",
    "    # Extract content text\n",
    "    content = data.get_text()\n",
    "    content = content.replace('\\r', ' ').replace('\\n', ' ')\n",
    "    article_content += content + ' '"
   ]
  },
  {
   "cell_type": "code",
   "execution_count": 37,
   "metadata": {},
   "outputs": [
    {
     "name": "stdout",
     "output_type": "stream",
     "text": [
      "  A federal judge on Monday dismissed a lawsuit by Charles Kupperman, a former aide to President Trump who had sought a ruling on whether he needed to comply with a subpoena from the House impeachment inquiry. Kupperman was Trump's deputy national security adviser and briefly served as acting national security adviser. He listened to the president's July 25 call with Ukrainian President Volodymyr Zelenskiy. The White House had ordered him not to testify because \"as a close presidential advisor, he was absolutely immune for compelled Congressional testimony,\" court documents say. Kupperman, who has close ties to former national security adviser John Bolton, asked the court to rule on whether he should obey the White House or Congress. He failed to appear to be interviewed in the impeachment inquiry in Washington on Oct. 28. But the House later withdrew its subpoena, which made the matter moot, U.S. District Judge Richard Leon ruled. \"Kupperman no longer faces the 'irreconcilable commands' of two coordinated branches of government ... and he accordingly lacks any personal stake in the outcome of this dispute,\" Leon wrote.        Trump Impeachment Inquiry  Lawyer: Bolton Aide Charles Kupperman Fears House Will Reissue Subpoena For Testimony           Trump Impeachment Inquiry  Trump Impeachment Inquiry: A Guide To Key People, Facts And Documents       In court filings, Kupperman had urged the judge to rule, arguing that the subpoena could be reissued and that he could be punished for failing to comply with that subpoena. But Leon said the argument lacked merit because the House had \"repeatedly and unequivocally\" stated that it would not do so. \"To be perfectly clear yet again, the House Defendants will not reissue the subpoena to Kupperman, period,\" lawyers wrote in earlier court documents. \"The subpoena will not reissue today, tomorrow, or ever.\"   \n"
     ]
    }
   ],
   "source": [
    "print(article_content)"
   ]
  },
  {
   "cell_type": "markdown",
   "metadata": {},
   "source": [
    "### NYMAG"
   ]
  },
  {
   "cell_type": "code",
   "execution_count": 8,
   "metadata": {},
   "outputs": [],
   "source": [
    "# Finding links to news articles from source home page\n",
    "link = \"http://nymag.com/intelligencer/\"\n",
    "# Use headers to pass the authentication\n",
    "headers = {\n",
    "    'User-Agent': 'Mozilla/5.0 (Macintosh; Intel Mac OS X 10_10_1) AppleWebKit/537.36 (KHTML, like Gecko) Chrome/39.0.2171.95 Safari/537.36'\n",
    "}\n",
    "# Request the page\n",
    "page = requests.get(link, headers=headers)\n",
    "# Parsing\n",
    "soup = BeautifulSoup(page.content, 'html.parser')"
   ]
  },
  {
   "cell_type": "code",
   "execution_count": 9,
   "metadata": {},
   "outputs": [
    {
     "name": "stdout",
     "output_type": "stream",
     "text": [
      "http://nymag.com/intelligencer/2020/01/aoc-first-year-in-washington.html\n",
      "http://nymag.com/intelligencer/2020/01/house-to-vote-to-limit-trumps-authority-to-wage-war-on-iran.html\n",
      "http://nymag.com/intelligencer/2020/01/trump-iran-war-crimes-cultural-bomb-foreign-policy.html\n",
      "http://nymag.com/intelligencer/2020/01/bernie-sanders-leads-in-n-h-part-of-lead-tie-in-iowa-poll.html\n",
      "http://nymag.com/intelligencer/2020/01/trump-tweets-threat-to-commit-war-crimes-in-iran.html\n",
      "http://nymag.com/intelligencer/2020/01/iraqis-vote-to-expel-u-s-as-soleimani-fallout-worsens.html\n",
      "http://nymag.com/intelligencer/2020/01/mike-pompeo-says-u-s-can-expect-a-little-noise-from-iran.html\n",
      "http://nymag.com/intelligencer/2020/01/iran-nixes-nuclear-deal-commitments-lifts-enrichment-limits.html\n",
      "http://nymag.com/intelligencer/2020/01/the-real-risk-of-assassinating-soleimani.html\n",
      "http://nymag.com/intelligencer/2020/01/japans-pursuit-of-former-nissan-executive-carlos-ghosn.html\n",
      "http://nymag.com/intelligencer/2020/01/nypd-officer-michael-reynolds-resigns.html\n",
      "http://nymag.com/intelligencer/2020/01/the-geriatric-scenario-for-2020.html\n",
      "http://nymag.com/intelligencer/2020/01/the-candidates-need-to-have-a-plan-to-stop-endless-war.html\n",
      "http://nymag.com/intelligencer/2020/01/if-trump-cant-bully-iran-things-could-get-scary-fast.html\n",
      "http://nymag.com/intelligencer/2020/01/soleimani-killing-iraq-war-supporters-give-thumbs-up.html\n",
      "http://nymag.com/intelligencer/2020/01/democrats-have-multiple-routes-to-2020-electoral-college-win.html\n",
      "http://nymag.com/intelligencer/2020/01/joe-biden-electability-white-voters.html\n",
      "http://nymag.com/intelligencer/2020/01/what-is-trumps-legal-authority-for-soleimani-assassination.html\n",
      "http://nymag.com/intelligencer/2020/01/trump-war-iran-election-nuclear-obama.html\n",
      "http://nymag.com/intelligencer/2020/01/julian-castro-drops-out.html\n",
      "http://nymag.com/intelligencer/2020/01/the-u-s-iran-conflict-after-the-death-of-qasem-suleimani.html\n",
      "http://nymag.com/intelligencer/2020/01/the-young-left-doesnt-think-it-owns-the-future.html\n",
      "http://nymag.com/intelligencer/2020/01/pentagon-docs-show-concern-on-trump-withholding-ukraine-aid.html\n",
      "http://nymag.com/intelligencer/2020/01/confusion-among-california-independents-could-hurt-sanders.html\n",
      "http://nymag.com/intelligencer/2020/01/john-roberts-americans-take-democracy-for-granted.html\n"
     ]
    }
   ],
   "source": [
    "for a in soup.select(\"div.feed-container a.feed-item.article\"):\n",
    "    print(a.get('href'))"
   ]
  },
  {
   "cell_type": "code",
   "execution_count": null,
   "metadata": {},
   "outputs": [],
   "source": []
  },
  {
   "cell_type": "code",
   "execution_count": 10,
   "metadata": {},
   "outputs": [
    {
     "name": "stdout",
     "output_type": "stream",
     "text": [
      "2020-01-06T06:00:16.446-05:00\n",
      "One Year in Washington\n"
     ]
    }
   ],
   "source": [
    "# Extracting news content\n",
    "#link = \"http://nymag.com/intelligencer/2020/01/nypd-officer-michael-reynolds-resigns.html\"\n",
    "#link = \"http://nymag.com/intelligencer/2020/01/the-geriatric-scenario-for-2020.html\"\n",
    "link = \"http://nymag.com/intelligencer/2020/01/aoc-first-year-in-washington.html\"\n",
    "\n",
    "# Request the page\n",
    "page = requests.get(r'{}'.format(link))\n",
    "\n",
    "# HTML Parser\n",
    "soup = BeautifulSoup(page.content, 'html.parser')\n",
    "\n",
    "for time in soup.select(\"header time\"):\n",
    "    print(time.get('datetime'))\n",
    "\n",
    "for title in soup.select(\"h1.headline-primary\"):\n",
    "    print(title.get_text())\n",
    "\n",
    "article_content = ''\n",
    "for data in soup.select(\"section.body p\"):\n",
    "    #print(data)\n",
    "    # Remove unwanted tags\n",
    "    [x.extract() for x in data.find_all('script')]\n",
    "    [x.extract() for x in data.find_all('style')]\n",
    "    [x.extract() for x in data.find_all('meta')]\n",
    "    [x.extract() for x in data.find_all('noscript')]\n",
    "    [x.extract() for x in data.find_all('div', class_=\"image\")]\n",
    "    [x.extract() for x in data.find_all(text=lambda text: isinstance(text, Comment))]\n",
    "\n",
    "    # Extract content text\n",
    "    content = data.get_text()\n",
    "    content = content.replace('\\r', ' ').replace('\\n', ' ')\n",
    "    article_content += content + ' '"
   ]
  },
  {
   "cell_type": "code",
   "execution_count": 11,
   "metadata": {},
   "outputs": [
    {
     "name": "stdout",
     "output_type": "stream",
     "text": [
      "The corridors of Capitol Hill are a marbled monotony, with Oxford heels clacking around corners indistinguishable from one another, white walls, oaken doors, and a steady rhythm of rectangular congressional nameplates. Except for one. At the very end of a hallway in Cannon Office Building is an explosion of affirmation cribbed onto thousands of Post-it notes, a neon-green-and-pastel-pink flower bursting outward. Go there at the right time, Hill aides say, and you can see groups of people, usually women, often young, weeping at the sight of it. “I love you from Maine! Keep on with your fierce, informed queen of a self!,” wrote Mikala from Bangor on a pink Post-it. “AOC! Seeing you is seeing me! I live in Michigan, but you are my representative. Adelante!,” says one on white signed (with a heart) from Kristen on August 1. “Dear AOC. Continue to scare old white men,” adds another. They go on and on and on, these paeans to Alexandria Ocasio-Cortez, the 30-year-old freshman member of Congress from Queens and the Bronx, who, in the year since she was sworn in as the youngest woman elected to the House of Representatives in the body’s 230-year history, has emerged as perhaps the most significant political figure in the Democratic Party in the age of Trump. She was recently ranked the fourth-most-tweeted-about politician in the world, beating out every Democrat running for president. It’s not that there is already a children’s book about her, The ABCs of AOC. It’s that there is already a comic-book series about her, a young-adult biography of her, a wall calendar of her, a book of her quotes, a collection of essays about her, and even, this holiday season, a Christmas sweater with her face on it. Ocasio-Cortez’s staff didn’t know what to do with the Post-its when they first started appearing after she was inaugurated in January 2019. It seemed possible they broke a House rule — and if not an official violation, it was a practice that, at the least, would mark her as different from the rest of the incoming class. Staff took the first batch and framed them in her office, but the notes kept coming. If anyone writes something negative or nasty, one of the myriad devotees who make the pilgrimage takes the errant note down before it can spoil the mood. “It’s weird,” Ocasio-Cortez said when we spoke inside the Capitol Building one afternoon in mid-December as impeachment hearings consumed Washington. “Because I know I am also one of the most hated people in America.” As the rest of the world has changed, Congress remains a place of traditions. Even the chaos merchants — the Ted Cruzes and Rand Pauls and tricornered tea-party Republican congressmen — still end up playing by the rules as laid out by the leadership. Ocasio-Cortez, at least so far, has not. She is at once a movement politician and a cultural phenomenon, someone equally at home on CSPAN and Desus & Mero. She isn’t especially interested in compromising with those who don’t share her values, and isn’t afraid to be the lone “no” vote, as she was last January, when she was the only Democrat to vote against funding the government because it meant continuing to fund ICE. Twelve months later, it is clear she isn’t trying very hard to amass power in Congress. Her heroes are Bernie Sanders, who withstood party pressure decade after decade in the Senate, and Howard Thurman, a mentor of Martin Luther King Jr.’s who believed in merging the spiritual and political. “People come here, and they have served in state legislatures or they may have been executives for health-insurance or fossil-fuel companies or lobbyist groups or PACs, and they’re part of this whole club,” she said. She was dressed in all black — blazer, blouse, pants, and boots, looking more like someone about to cruise out of the last shot of a movie on a motorcycle than someone skipping out on a House Financial Services Committee meeting. “What is it like to show up to Congress with a beginner’s mind? You just fundamentally do things differently.” The Democratic congressional majority, she told me, is too acquiescent to the demands of its members in so-called red-to-blue districts — those moderates who flipped Republican seats and gave Pelosi the gavel. “For so long, when I first got in, people were like, ‘Oh, are you going to basically be a tea party of the left?’ And what people don’t realize is that there is a tea party of the left, but it’s on the right edges, the most conservative parts of the Democratic Party. So the Democratic Party has a role to play in this problem, and it’s like we’re not allowed to talk about it. We’re not allowed to talk about anything wrong the Democratic Party does,” she said. “I think I have created more room for dissent, and we’re learning to stretch our wings a little bit on the left.” Ocasio-Cortez isn’t the first politician to become a cultural sensation, but she may be the first to do so at the very beginning of her career, when she is occupying the lowest rung of political power. Her main project going forward may be this: harnessing her immense star power and the legion of young lefties who see her as their avatar, not just to push the Democratic Party away from an obsession with its most moderate members but also to make the stuff of government, like congressional committee hearings and neighborhood town halls, into must-see TV. She said the Congressional Progressive Caucus should start kicking people out if they stray too far from the party line. Other caucuses within the Democratic Party in Congress require applications, Ocasio-Cortez pointed out. But “they let anybody who the cat dragged in call themselves a progressive. There’s no standard,” she said. The same goes for the party as a whole: “Democrats can be too big of a tent.” It is comments like that that kept Ocasio-Cortez and the rest of the Democratic Party from reaching any kind of meaningful détente. I asked her what she thought her role would be as a member of Congress during, for instance, a Joe Biden presidency. “Oh God,” she said with a groan. “In any other country, Joe Biden and I would not be in the same party, but in America, we are.” Four days before Ocasio-Cortez won her primary in one of the biggest congressional upsets in at least a generation, I stood with her on a street corner in Queens, across from a bodega, underneath the 7 train, and not far from the housing project where she had been canvassing. Long-shot candidates for Congress tend to sound the same. They have a compelling bio, can lay out a theory of why they should win and how the entrenched incumbent has been absent or ignored community voices or kowtowed to the powers in Washington, but they often crumple under sustained questioning and have fantastic views of how politics works. Ocasio-Cortez was different. She was a bartender who had come up through a network of post-2016 millennial activist groups and been recruited to run by the progressive PAC Brand New Congress 18 months earlier. As she went door-to-door, talking to voters, her answers came in mic-drop paragraphs. She saw politics as a rigged system that preserved the careers of those in power at the expense of the poor and working class. Her face that June was ubiquitous in the neighborhood, the result of her army of volunteers blitzing the district with palm cards and posters. Her time in the service industry seemed to make her an unusually empathetic listener. For the most part, here was someone who looked liked her district’s voters, who spoke their language, who had come to ask for their support. Congressman Joe Crowley’s polling had him up by more than 30 points. The weekend before the election, when typically campaigns go all-out with volunteers and visibility, Ocasio-Cortez skipped town — not something somebody who hopes to win an election does. She went to the border, where news was just emerging that the Trump administration was locking up migrant children and separating them from their parents. The visuals of the candidate, dressed in all white, pleading with border guards through a fence to remember their humanity, were striking. Two mornings later, Ocasio-Cortez woke up anonymous for the last morning in her life. “I realized this was going to be a tattoo-on-my-face kind of situation,” she said. “I can’t go outside anymore. I miss being able to go out to dinner. I miss anonymity. I have to send my boyfriend out to get groceries. There has been a shift in chores.” If she was a hero on the streets of New York and online, in Congress, “it was very, very chilly coming in,” she said. Joe Crowley was an old-school Irish pol who slapped backs and raised hundreds of thousands of dollars for his peers. He was a conventional Democrat and congressman, and his replacement had tarred him as hopelessly compromised (for raising money from corporations and pharmaceutical interests); as a creature of Washington who lacked vision, courage, and a moral core. Would she do the same to her colleagues? The fears of what Ocasio-Cortez would mean were present even before she was sworn in, when she swung by a sit-in in Speaker Pelosi’s office for the environmentalist group Sunrise Movement; she wanted the soon-to-be Speaker to push for a “Green New Deal.” Other members of “the Squad” — the group she created with Ilhan Omar, Ayanna Pressley, and Rashida Tlaib when she posted an Instagram of them together on orientation day — were supposed to join her but begged off, and even Ocasio-Cortez’s staff were on the phone with allies moments before, wondering if it was a good idea. “I was terrified,” she told me. She doesn’t regret it — though it set the stage for a very complicated year with Pelosi. “I learned a lot about how fear shapes the decisions of elected officials: ‘I know this could be bad, and this could make someone mad, and I don’t know exactly how they would drop the hammer on me or what hammers would be dropped.’ It felt like the right thing to do, and when you say that people think it’s a form of naïveté and that it’s childish, but I don’t think it was.” Ocasio-Cortez backed Pelosi for Speaker, but the two continued to battle publicly. It wasn’t just that they disagreed about policy: Pelosi thinks in terms of votes, of what any member can bring to the table and who they can bring with them. Preserving the Democratic majority means protecting the party’s most vulnerable members, those in places where people still like Donald Trump and the Democrat may have won by just a few hundred votes in the midterm — exactly the group that Ocasio-Cortez thinks the party doesn’t need. That the freshman didn’t have a meaningful coalition behind her and had alienated some natural allies didn’t seem to give her pause. The Congressional Black Caucus, in particular, was put off by her association with Justice Democrats, the young campaign operatives — co-founded by Ocasio-Cortez’s then chief of staff Saikat Chakrabarti — who powered her win and have made it their mission to replace the Democratic Party’s moderates with a younger and more liberal group of lawmakers. Black lawmakers believed (not entirely incorrectly) that this meant the group was coming for some of them. In the press, CBC members accused Justice Democrats of being privileged gentrifiers with little respect for what it had taken them to gain political power. The conflict came to a head in the summer of 2019, when Chakrabarti accused moderate members of the caucus on Twitter of acting like segregationist Democrats of the civil-rights era. Democratic leadership pounced online, suggesting that Chakrabarti was a racist for singling out lawmakers of color. After Donald Trump jumped into the fray (of course), Pelosi and Ocasio-Cortez had a closed-door meeting. Chakrabarti left soon after, as did another top aide, Corbin Trent, who had been with Ocasio-Cortez since the campaign. Pelosi has never spoken in public about what was said at the meeting; Ocasio-Cortez told me that the two staffers had planned to leave anyway. (They did not go far from her orbit, Chakrabarti to the progressive think tank New Consensus and Trent to her 2020 campaign.) The fracas forced Ocasio-Cortez to ask, What does this movement look like, and what is my role in it? “What was frustrating was getting singled out over and over again over a series of interviews by the Democratic leadership,” Ocasio-Cortez told me. She said that her colleagues consider her an unseen force in every primary this cycle, when in fact she has made endorsements in just two races. Meanwhile, it is the moderates who have put up more challengers to liberal incumbents than the other way around. “As a consequence of my victory, many people are inspired to run for office, and in a body where 70 percent of the seats are safe red or safe blue, that de facto means a lot more primaries. A lot of members think I’m like a Koch brother.” House leadership sees the past summer as having been a turning point and believes that Ocasio-Cortez is now sufficiently chastened. She’s showed up for the job she was elected to do — coming prepared to committee meetings and hearings (like when she cornered Mark Zuckerberg on running misleading ads on Facebook), sponsoring 15 pieces of legislation (most notably the Green New Deal), and missing only two of 701 roll-call votes. I spoke with dozens of House and New York City governmental officials, some of whom disagree with her politics and have reason to dislike her personally, and they all said that she shows up to meetings unusually attentive, taking notes and asking detailed questions and writing personal follow-up emails. That even in House caucus meetings, as members call one another “Congressman this” or “Congresswoman that” but casually call her “Alexandria,” she gets to know her ideological enemies’ home lives and interests. “There are people here who are never going to like her, never going to trust her, who are always going to be worried that she is going to turn her people against them,” says one House aide. “But you can’t say she isn’t making an effort. I think people are surprised at how not-strident she comes off.” Still, even Democrats who are supportive of Ocasio-Cortez’s political project wonder how much enthusiasm there will be for it during an election year. It is one thing to reform a party out of power; it is another when the party is trying to unify for the most consequential election year in memory. Dissident factions could prove deadly to Democratic efforts to retake the White House. Should the party succeed, even with (very optimistically) a slight majority in the Senate, the chances of getting anything passed could easily get bogged down in partisan infighting. “No one gets all of his or her way,” Congressman Gregory Meeks, Crowley’s replacement as head of the Queens Democratic Party, told me recently. “You have to learn quickly; otherwise, you will be in the minority and you will be as relevant as that windowpane. Do you want to be able to just talk a lot or do you want to be able to do something?” If you are a hard “no” in Congress, eventually people will stop asking for your vote. You don’t need to be negotiated with because everyone already knows the answer, and — most of the time — this means your voice is marginalized. Ocasio-Cortez’s opponents in the Democratic Party want this to be her fate. “This is how it works here: You negotiate a concession in exchange for a vote. But you have to have the votes and you have to be willing to negotiate,” says one House aide friendly to Ocasio-Cortez. “She says she is an organizer, but you have to be willing to organize in the caucus as well as outside it.” Opponents point to the fact that early in her tenure, rather than using her prodigious public influence to push for a climate bill that had 71 co-sponsors and would have kept the country in the Paris climate accords, she unveiled the Green New Deal. A draft of the resolution was mistakenly released early, and critics jumped on vague language in it to accuse the new congresswoman of wanting to ban beef and air travel and to give free money to people who don’t work. But it is still the biggest achievement of her term, a rebuke to the idea that leverage is the only power in town. The Green New Deal, for all its vagueness — it was a resolution and a statement of principles and not a piece of legislation — set up a new tentpole in the debate. More than a hundred Democrats signed on as co-sponsors, including a handful of moderates whom House progressives have been trying to push left for years, as did every major contender for the Democratic presidential nomination, including Joe Biden. “The most ambitious climate plans were a carbon tax here or a biodiesel thing there. There were no climate bills that were a solution on the scale of the problem. I couldn’t take all of this and say, ‘Let’s get a 10 percent subsidy on electric vehicles,’ ” Ocasio-Cortez said. “These very small incremental plans are a form of denialism.” Late last month, Politico reported that some political operators are already speculating that Ocasio-Cortez will run for president in 2024 or 2028, and it has been a topic of conversation among her advisers as well. After decennial redistricting in 2020, Ocasio-Cortez could find herself drawn into the district of a neighboring member of Congress, where the young agitator’s odds would suffer. People close to her discussed a possible run for mayor of New York in 2021 but decided against it; a statewide run, probably for the Senate, is likelier. That would mean challenging Chuck Schumer in 2022 or Kirsten Gillibrand in 2024. She and her advisers are aware of her almost unprecedented situation: a wildly popular woman of color with the confidence of Pete Buttigieg, if not his demographic advantages. If she ran for president, they say, she would run to win, not to carry the banner of her brand on behalf of the progressive movement and come in second. Ocasio-Cortez told me how much she admires Bernie Sanders. (She was, by her own estimation, “a scrub” on his 2016 campaign, going door-to-door in the South Bronx.) Year after year, he was willing to be the lone vote on issues that mattered to him, withstanding the pressures to play along with the rest of the team on health care, on taxes, on wages. Eventually, the party caught up to him. Every senator running for president except Amy Klobuchar has signed on to his “Medicare for All” bill. The party is debating a wealth tax, something floated by Ocasio-Cortez on 60 Minutes last year and now pushed by both Sanders and Elizabeth Warren. It is clear there is a shift happening in American politics, one that favors Ocasio-Cortez’s long-term prospects. Trump’s demagogic populism is a part of it, and so is the fact that Americans ages 18 to 24 are more favorably inclined toward socialism than capitalism, that 80 percent of young people think the federal government should address climate change, that over 70 percent say the wealthy should pay higher taxes, and that some of the highest percentages ever recorded call their politics far left or liberal. Post-millennials are majority nonwhite in 13 states and in nearly 40 percent of the nation’s largest metro areas; they are close to majority nonwhite nationwide. Sanders leads by large margins among the young, but also fares better than almost any Democrat against Donald Trump — proof, perhaps, of millennials’ desire for someone liberal and the heartland’s desire for different political ideas. And Ocasio-Cortez is all of these things: Latina, liberal, “authentic,” fluent in social media and popular culture. Outspoken lefties have come and gone before, but often they were like Bernie or, before him, Ralph Nader: rumpled, grouchy, hectoring. For leftists, politics used to be something to avoid, a corrupting drag on the purity of activism. Ocasio-Cortez has changed that. “You hear that trope all the time. ‘I am a workhorse; I am not a show horse.’ But what I think people don’t understand is that educating the public is a part of this job. The most effective public servants are part of our culture. They are just as fluidly part of the conversation as Lizzo or as this movie that you saw,” she said. A few days after our interview, at a middle school in Woodside, Ocasio-Cortez hosted her 12th town hall of the year, one for every month, not including the dozens she has attended that were hosted by others. She points to these town halls, along with directing $500 million in federal grants to her district, as examples of what she’s done for her constituents this year. She had attended a breakfast with Bronx veterans in the morning, SantaCon was raging outside, it was cold and miserable, and her boyfriend, Riley Roberts, was waiting in the wings. But she had to be on. At her town halls, fans, who line up for hours for selfies, often present her with shrines they’ve made to her: paintings of her, T-shirts, family keepsakes. At the one in December, when they finally reached the front of the selfie line, some of her fans just started cheering: “Yea! Yea! Yeaaaaa!” The congresswoman gamely tried to keep up. This is part of her project, too. If people are paying attention, she figures, they will be on her side. “Politics should be pop because it should be consumable and accessible to everyday people,” she said. “I think that’s what populism is about.” Her vision extends beyond Congress. After the election, two of her top campaign aides founded a program called Movement School designed to teach the next generation of campaign operatives what they learned from pulling off the upset of the decade. About 70 people have gone through the ten-week training camp, and they are spread out all over the country — a standing army of dedicated campaign staff that will only grow in the years ahead. Ocasio-Cortez is still in regular contact with leaders of the Democratic Socialists of America, and she has quiet dinners with the volunteers who worked on her campaign, the people who called her Alex until they were told, after the election, that it would be better if they stuck to Alexandria — dinners in which they promise to not Instagram anything with her. So far, no one has. That whole crew will be put to use before long. The reelection bid has already attracted a dozen challengers, including a conservative Democrat pastor, a city councilman close to the Bronx machine. Her team — hyperaware of not taking primary challenges for granted — is preparing to use the race to build out her presence on the ground, talking to voters about her vision of a political revolution, and convincing those who may be skeptical why having a political supernova as their representative is actually useful. There has been no public or private polling on the race, but according to her campaign, Ocasio-Cortez is expected to have raised $5.3 million in 2019 alone, and she’s influential locally. Her endorsement nearly propelled a left-wing neophyte named Tiffany Cabán into the office of Queens District Attorney (she ended up losing to a favorite of the county party by 55 votes), and local electeds have rushed to bask in her celebrity. Her opponents will tag her with having killed jobs by torpedoing the Amazon deal, and argue that she’s more consumed with her own celebrity than the needs of her district; her campaign will counter that, say, her effort to abolish ICE is central in a district where half the population was born in another country. She is setting up a campaign office that will be used as a “space for political education, a kind of ‘TED Talks for activists’ ” program running between now and November. “Everyone in the House is just constantly thinking about self-preservation, and we don’t get nice things because people are constantly thinking in electoral terms. The way we change that is through political education. I had this conversation with Bernie,” she said. “Here’s this guy in a then-Republican state, a quite conservative state, and he wins by a handful of votes to become mayor of Burlington. And by the time he becomes senator, Vermont is crazy-blue. And a lot of that has to do with his time there. And I said, ‘So how’d you do this?’ And he said that he and different grassroots movements in Vermont spent decades doing political education. And they took on the long-term project of turning a red state blue.” As political analysis goes, this is a bit specious. Vermont turned blue thanks to a number of sociological and demographic factors greater than any single politician. But it’s also the kind of downfield vision more likely to be expressed by people who work in political organizing than inside the government. It explains a lot about how she acts in Congress. By the time Ocasio-Cortez is as old as Bernie is now, the year will be 2067. The Democratic Party may have immediate needs, but she wants the movement to think in longer time frames. “Republicans have focused on that long-term project for a very long period of time. Democrats don’t. We think if something is red, it stays red. But you know what? I think if a state like Tennessee or West Virginia can go from blue to red in our lifetime, I think it can go back,” she told me. Justice Democrats are taking aim at another dozen or so incumbents this cycle; if a few more get in, she could build a bloc. “That’s a kind of project that a lot of people think is a waste of time, but I don’t think it is,” she said. “This whole primary,” she went on, referring to the one Biden and Bernie are in, “is going to be about the soul of the Democratic Party. I think it’s a referendum on whether we think everything was fine before Trump. People who live in a lot of privilege, who think of public programs as charity, they often think there was nothing wrong before Trump. They think Hillary was the problem. But it’s much deeper than that.” And so, on the eve of a primary contest that will train everyone’s attention on the project of unseating the president, Ocasio-Cortez is keeping her focus closer, betting that a purer, bolder Democratic Party is the one this country wants, and can afford. *This article appears in the January 6, 2020, issue of New York Magazine. Subscribe Now! \n"
     ]
    }
   ],
   "source": [
    "print(article_content)"
   ]
  },
  {
   "cell_type": "markdown",
   "metadata": {},
   "source": [
    "### thedailybeast"
   ]
  },
  {
   "cell_type": "code",
   "execution_count": 55,
   "metadata": {},
   "outputs": [],
   "source": [
    "# Finding links to news articles from source home page\n",
    "link = \"https://www.thedailybeast.com/category/politics\"\n",
    "# Use headers to pass the authentication\n",
    "headers = {\n",
    "    'User-Agent': 'Mozilla/5.0 (Macintosh; Intel Mac OS X 10_10_1) AppleWebKit/537.36 (KHTML, like Gecko) Chrome/39.0.2171.95 Safari/537.36'\n",
    "}\n",
    "# Request the page\n",
    "page = requests.get(link, headers=headers)\n",
    "# Parsing\n",
    "soup = BeautifulSoup(page.content, 'html.parser')"
   ]
  },
  {
   "cell_type": "code",
   "execution_count": 57,
   "metadata": {},
   "outputs": [
    {
     "name": "stdout",
     "output_type": "stream",
     "text": [
      "https://www.thedailybeast.com/joe-bidens-bipartisan-rhetoric-that-infuriates-the-left-is-why-millions-of-us-like-him\n",
      "https://www.thedailybeast.com/bernie-sanders-and-joe-biden-face-off-in-democratic-battle-for-iran-dove-cred\n",
      "https://www.thedailybeast.com/trump-told-mar-a-lago-pals-to-expect-big-iran-action-days-before-soleimanis-death\n",
      "https://www.thedailybeast.com/without-julian-castro-the-democratic-field-gets-whiter-and-staler\n",
      "https://www.thedailybeast.com/dems-worry-impeachment-jury-duty-will-sideline-most-of-2020-field\n",
      "https://www.thedailybeast.com/us-strike-kills-qassem-soleimani-irans-most-important-military-commander\n",
      "https://www.thedailybeast.com/trump-considers-pardoning-blackwater-mercenary-convicted-of-murder\n",
      "https://www.thedailybeast.com/paul-manafort-said-sean-hannity-served-as-his-trump-backchannel-docs\n",
      "https://www.thedailybeast.com/yes-bernie-sanders-could-be-the-nomineeand-it-would-be-an-epic-nightmare-for-democrats\n",
      "https://www.thedailybeast.com/the-gop-senators-deliciously-awful-impeachment-dilemma\n"
     ]
    }
   ],
   "source": [
    "for a in soup.select(\"div.GridStory__title-link a\"):\n",
    "    print(a.get('href'))"
   ]
  },
  {
   "cell_type": "code",
   "execution_count": 74,
   "metadata": {},
   "outputs": [
    {
     "name": "stdout",
     "output_type": "stream",
     "text": [
      "2020-01-03T04:44:35-05:00\n",
      "<div class=\"StoryBody\"><div class=\"LazyLoad StoryBody__sponsored-logo-lazy-load\"></div><article class=\"Body members-only\"><div class=\"Body__content\"><div class=\"Mobiledoc\"><p>Looking forward to the 21st century, then-President Bill Clinton promised an optimistic nation that he would be a bridge to the future, while <a class=\"LinkWrapper LinkWrapper--external\" href=\"https://www.tandfonline.com/doi/abs/10.1080/10510970109388541\">warning</a> that Republican Bob Dole, his opponent in 1996, would be a bridge to the past. </p><p>Nearly a quarter-century of turmoil later, an increasingly pessimistic America—relentlessly immersed in chaos and toxicity—might make a different bet. It might not make as clever a slogan, but a bridge to the recent past doesn’t sound so bad. At least, that’s what Joe Biden is banking on. </p><p>To be sure, Biden is not hearkening to a Trumpy “America First” past. He is not some hidebound figure hoping to take us back to the 1940s or ’50s. The nostalgia he’s tapping into is decidedly less ambitious. He doesn’t want a return to Mayberry, just a return to normalcy. </p><section class=\"Fancylinks\" data-nosnippet=\"\"><ul class=\"Fancylinks__list\"></ul></section></div><div class=\"Body__paywall-container\"><div class=\"Body__paywall-overlay\"></div><div class=\"Body__paywall-overlay-inner\"></div></div></div></article><div class=\"StoryFooter\"><div class=\"ConnatixAd ConnatixAd--show-preloader\"></div><div class=\"StoryFooter__outbrain\"><section class=\"Outbrain StoryOutbrain\"><div class=\"OUTBRAIN\" data-ob-template=\"TheDailyBeast\" data-src=\"https://www.thedailybeast.com/joe-bidens-bipartisan-rhetoric-that-infuriates-the-left-is-why-millions-of-us-like-him\" data-widget-id=\"AR_6\"></div></section></div></div></div>\n"
     ]
    }
   ],
   "source": [
    "# Extracting news content\n",
    "link = \"https://www.thedailybeast.com/joe-bidens-bipartisan-rhetoric-that-infuriates-the-left-is-why-millions-of-us-like-him?ref=scroll\"\n",
    "\n",
    "# Request the page\n",
    "page = requests.get(r'{}'.format(link), headers=headers)\n",
    "\n",
    "# HTML Parser\n",
    "soup = BeautifulSoup(page.content, 'html.parser')\n",
    "\n",
    "for time in soup.select(\"article time\"):\n",
    "    print(time.get('datetime'))\n",
    "\n",
    "article_content = ''\n",
    "for data in soup.select(\"article.Story div.StoryBody\"):\n",
    "    print(data)\n",
    "#     # Remove unwanted tags\n",
    "#     [x.extract() for x in data.find_all('script')]\n",
    "#     [x.extract() for x in data.find_all('style')]\n",
    "#     [x.extract() for x in data.find_all('meta')]\n",
    "#     [x.extract() for x in data.find_all('noscript')]\n",
    "#     [x.extract() for x in data.find_all('div', class_=\"image\")]\n",
    "#     [x.extract() for x in data.find_all(text=lambda text: isinstance(text, Comment))]\n",
    "\n",
    "#     # Extract content text\n",
    "#     content = data.get_text()\n",
    "#     content = content.replace('\\r', ' ').replace('\\n', ' ')\n",
    "#     article_content += content + ' '"
   ]
  },
  {
   "cell_type": "code",
   "execution_count": 69,
   "metadata": {},
   "outputs": [
    {
     "name": "stdout",
     "output_type": "stream",
     "text": [
      "Looking forward to the 21st century, then-President Bill Clinton promised an optimistic nation that he would be a bridge to the future, while warning that Republican Bob Dole, his opponent in 1996, would be a bridge to the past. Nearly a quarter-century of turmoil later, an increasingly pessimistic America—relentlessly immersed in chaos and toxicity—might make a different bet. It might not make as clever a slogan, but a bridge to the recent past doesn’t sound so bad. At least, that’s what Joe Biden is banking on. To be sure, Biden is not hearkening to a Trumpy “America First” past. He is not some hidebound figure hoping to take us back to the 1940s or ’50s. The nostalgia he’s tapping into is decidedly less ambitious. He doesn’t want a return to Mayberry, just a return to normalcy.  \n"
     ]
    }
   ],
   "source": [
    "print(article_content)"
   ]
  },
  {
   "cell_type": "markdown",
   "metadata": {},
   "source": [
    "### politico"
   ]
  },
  {
   "cell_type": "code",
   "execution_count": 20,
   "metadata": {},
   "outputs": [],
   "source": [
    "# Finding links to news articles from source home page\n",
    "link = \"https://www.politico.com/news/2020-elections\"\n",
    "# Use headers to pass the authentication\n",
    "headers = {\n",
    "    'User-Agent': 'Mozilla/5.0 (Macintosh; Intel Mac OS X 10_10_1) AppleWebKit/537.36 (KHTML, like Gecko) Chrome/39.0.2171.95 Safari/537.36'\n",
    "}\n",
    "# Request the page\n",
    "page = requests.get(link, headers=headers)\n",
    "# Parsing\n",
    "soup = BeautifulSoup(page.content, 'html.parser')"
   ]
  },
  {
   "cell_type": "code",
   "execution_count": 21,
   "metadata": {},
   "outputs": [
    {
     "name": "stdout",
     "output_type": "stream",
     "text": [
      "https://www.politico.com/news/2020/01/06/julian-castro-endorses-elizabeth-warren-president-094700\n",
      "https://www.politico.com/news/2020/01/06/kimpson-biden-endorsement-south-carolina-094513\n",
      "https://www.politico.com/news/2020/01/06/democrats-post-super-tuesday-scramble-093743\n",
      "https://www.politico.com/news/2020/01/06/pence-hits-campaign-trial-trump-2020-094401\n",
      "https://www.politico.com/news/2020/01/06/deval-patrick-late-bid-tv-ad-094458\n",
      "https://www.politico.com/news/2020/01/05/biden-secures-backing-swing-state-democrats-094352\n",
      "https://www.politico.com/news/2020/01/05/trump-2020-reelection-campaign-plan-093339\n",
      "https://www.politico.com/news/2020/01/05/david-bossie-trump-inner-circle-091709\n",
      "https://www.politico.com/news/2020/01/05/andrew-yang-campaign-fundraising-093738\n",
      "https://www.politico.com/news/2020/01/05/pete-buttigieg-foreign-policy-iran-093812\n",
      "https://www.politico.com/news/2020/01/04/bernie-sanders-vaping-shutdown-093780\n",
      "https://www.politico.com/news/2020/01/04/warren-2020-strategy-093641\n",
      "https://www.politico.com/news/2020/01/03/joe-biden-iowa-turnaround-093616\n",
      "https://www.politico.com/news/2020/01/03/trump-donors-koch-093644\n",
      "https://www.politico.com/news/2020/01/03/democrat-2020-iran-trump-soleimani-093615\n",
      "https://www.politico.com/news/2020/01/03/deval-patrick-ad-buy-093287\n",
      "https://www.politico.com/news/2020/01/03/cory-booker-fourth-quarter-fundraising-093413\n",
      "https://www.politico.com/news/2020/01/03/marianne-williamson-pledges-to-stay-in-2020-presidential-race-093188\n",
      "https://www.politico.com/news/2020/01/03/elizabeth-warren-2020-campaign-fundraising-numbers-fell-093132\n",
      "https://www.politico.com/news/2020/01/03/amy-klobuchar-2020-campaign-fundraising-numbers-093089\n"
     ]
    }
   ],
   "source": [
    "for a in soup.select(\"section h1 a\"):\n",
    "    print(a.get('href'))"
   ]
  },
  {
   "cell_type": "code",
   "execution_count": 22,
   "metadata": {},
   "outputs": [
    {
     "name": "stdout",
     "output_type": "stream",
     "text": [
      "2020-01-06 09:36:52\n",
      "Julián Castro endorses Warren for president \n"
     ]
    }
   ],
   "source": [
    "# Extracting news content\n",
    "link = \"https://www.politico.com/news/2020/01/06/julian-castro-endorses-elizabeth-warren-president-094700\"\n",
    "\n",
    "# Request the page\n",
    "page = requests.get(r'{}'.format(link), headers=headers)\n",
    "\n",
    "# HTML Parser\n",
    "soup = BeautifulSoup(page.content, 'html.parser')\n",
    "\n",
    "for time in soup.select(\"section time\"):\n",
    "    print(time.get('datetime'))\n",
    "\n",
    "for title in soup.select(\"h2.headline\"):\n",
    "    print(title.get_text())\n",
    "\n",
    "article_content = ''\n",
    "for data in soup.select(\"section div.story-text p\"):\n",
    "    # Remove unwanted tags\n",
    "    [x.extract() for x in data.find_all('script')]\n",
    "    [x.extract() for x in data.find_all('style')]\n",
    "    [x.extract() for x in data.find_all('meta')]\n",
    "    [x.extract() for x in data.find_all('noscript')]\n",
    "    [x.extract() for x in data.find_all('div', class_=\"image\")]\n",
    "    [x.extract() for x in data.find_all(text=lambda text: isinstance(text, Comment))]\n",
    "\n",
    "    # Extract content text\n",
    "    content = data.get_text()\n",
    "    content = content.replace('\\r', ' ').replace('\\n', ' ')\n",
    "    article_content += content + ' '"
   ]
  },
  {
   "cell_type": "code",
   "execution_count": 23,
   "metadata": {},
   "outputs": [
    {
     "name": "stdout",
     "output_type": "stream",
     "text": [
      "         Julián Castro. | Marcio Jose Sanchez/AP Photo              By CAITLIN OPRYSKO 01/06/2020 09:36 AM EST Link Copied Julián Castro on Monday threw his backing behind Sen. Elizabeth Warren for president, only days after suspending his own bid for the White House.  “There’s one candidate I see who’s unafraid to fight like hell to make sure America’s promise will be there for everyone,” Castro says in a video announcing his endorsement.  Story Continued Below The video, posted on Twitter, shows the Obama-era Housing and Urban Development secretary and former San Antonio mayor apparently meeting with Warren in her home, telling the Massachusetts senator that he sees the same vision in her campaign as he did in his own, which sought to push the crowded Democratic primary field left on a number of issues.  Today I'm proud to endorse @ewarren for president.Elizabeth and I share a vision of America where everyone counts. An America where people⁠—not the wealthy or well-connected⁠—are put first. I'm proud to join her in the fight for big, structural change. pic.twitter.com/xDvMEKqpF3 Castro suspended his campaign last week after not making the last two primary debates and failing to reach critical polling thresholds.  \"Thank you, @JulianCastro! You’ve been a powerful voice for bold, progressive change and I’m honored to have your support. Together, we'll fight to make sure every single family in America has a path to opportunity,\" Warren responded to Castro in a tweet.  \n"
     ]
    }
   ],
   "source": [
    "print(article_content)"
   ]
  },
  {
   "cell_type": "code",
   "execution_count": null,
   "metadata": {},
   "outputs": [],
   "source": []
  }
 ],
 "metadata": {
  "kernelspec": {
   "display_name": "Python 3",
   "language": "python",
   "name": "python3"
  },
  "language_info": {
   "codemirror_mode": {
    "name": "ipython",
    "version": 3
   },
   "file_extension": ".py",
   "mimetype": "text/x-python",
   "name": "python",
   "nbconvert_exporter": "python",
   "pygments_lexer": "ipython3",
   "version": "3.6.8"
  }
 },
 "nbformat": 4,
 "nbformat_minor": 2
}
