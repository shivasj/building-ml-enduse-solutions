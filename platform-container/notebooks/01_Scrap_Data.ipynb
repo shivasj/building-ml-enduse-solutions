{
 "cells": [
  {
   "cell_type": "markdown",
   "metadata": {},
   "source": [
    "# Scrap Data"
   ]
  },
  {
   "cell_type": "code",
   "execution_count": 42,
   "metadata": {},
   "outputs": [],
   "source": [
    "#imports\n",
    "import requests\n",
    "import hashlib\n",
    "import csv,re,json,time,sys\n",
    "from dateutil import parser\n",
    "from bs4 import BeautifulSoup\n",
    "from bs4 import Comment\n",
    "import urllib.parse"
   ]
  },
  {
   "cell_type": "markdown",
   "metadata": {},
   "source": [
    "### CNN"
   ]
  },
  {
   "cell_type": "code",
   "execution_count": 51,
   "metadata": {},
   "outputs": [],
   "source": [
    "# Finding links to news articles from source home page\n",
    "link = \"https://edition.cnn.com/specials/last-50-stories\"\n",
    "# Use headers to pass the authentication\n",
    "headers = {\n",
    "    'User-Agent': 'Mozilla/5.0 (Macintosh; Intel Mac OS X 10_10_1) AppleWebKit/537.36 (KHTML, like Gecko) Chrome/39.0.2171.95 Safari/537.36'\n",
    "}\n",
    "# Request the page\n",
    "page = requests.get(link, headers=headers)\n",
    "# Parsing\n",
    "soup = BeautifulSoup(page.content, 'html.parser')"
   ]
  },
  {
   "cell_type": "code",
   "execution_count": 52,
   "metadata": {},
   "outputs": [
    {
     "name": "stdout",
     "output_type": "stream",
     "text": [
      "/2020/01/04/us/california-firefighters-australia-brushfires/index.html\n",
      "https://edition.cnn.com/2020/01/04/us/california-firefighters-australia-brushfires/index.html\n",
      "/2020/01/04/us/2020-tipping-challenge-donnie-wahlberg-trnd/index.html\n",
      "https://edition.cnn.com/2020/01/04/us/2020-tipping-challenge-donnie-wahlberg-trnd/index.html\n",
      "/videos/us/2020/01/04/paighton-houston-body-found-alabama-orig-jg.cnn\n",
      "https://edition.cnn.com/videos/us/2020/01/04/paighton-houston-body-found-alabama-orig-jg.cnn\n",
      "/2020/01/04/us/rod-stewart-son-simple-battery-trnd/index.html\n",
      "https://edition.cnn.com/2020/01/04/us/rod-stewart-son-simple-battery-trnd/index.html\n",
      "/2020/01/04/us/mississippi-prisoners-search/index.html\n",
      "https://edition.cnn.com/2020/01/04/us/mississippi-prisoners-search/index.html\n",
      "/videos/us/2020/01/04/daily-news-briefing-01042020-1.cnn\n",
      "https://edition.cnn.com/videos/us/2020/01/04/daily-news-briefing-01042020-1.cnn\n",
      "/2020/01/04/us/dont-abbreviate-2020-date-fraud-trnd/index.html\n",
      "https://edition.cnn.com/2020/01/04/us/dont-abbreviate-2020-date-fraud-trnd/index.html\n",
      "/2020/01/04/us/nfl-playoffs-new-england-patriots-tennessee-titans-trnd/index.html\n",
      "https://edition.cnn.com/2020/01/04/us/nfl-playoffs-new-england-patriots-tennessee-titans-trnd/index.html\n",
      "/2020/01/04/us/new-york-education-official-child-pornography/index.html\n",
      "https://edition.cnn.com/2020/01/04/us/new-york-education-official-child-pornography/index.html\n",
      "/2020/01/04/us/texas-church-shooting-officers-uniform/index.html\n",
      "https://edition.cnn.com/2020/01/04/us/texas-church-shooting-officers-uniform/index.html\n",
      "/2020/01/03/us/japanese-internee-remains-trnd/index.html\n",
      "https://edition.cnn.com/2020/01/03/us/japanese-internee-remains-trnd/index.html\n",
      "/2020/01/03/us/the-good-stuff-010420/index.html\n",
      "https://edition.cnn.com/2020/01/03/us/the-good-stuff-010420/index.html\n",
      "/2020/01/03/us/rockford-illinois-bank-standoff/index.html\n",
      "https://edition.cnn.com/2020/01/03/us/rockford-illinois-bank-standoff/index.html\n",
      "/videos/us/2014/12/18/5-things-to-do-hostage-when-taken-hostage-orig-nws.cnn\n",
      "https://edition.cnn.com/videos/us/2014/12/18/5-things-to-do-hostage-when-taken-hostage-orig-nws.cnn\n",
      "/2020/01/03/us/monsey-hanukkah-stabbing-suspect/index.html\n",
      "https://edition.cnn.com/2020/01/03/us/monsey-hanukkah-stabbing-suspect/index.html\n",
      "/2020/01/03/us/mexico-public-safety-secretary-plea/index.html\n",
      "https://edition.cnn.com/2020/01/03/us/mexico-public-safety-secretary-plea/index.html\n",
      "/2020/01/03/us/palm-reader-charged-tricking-client-trnd/index.html\n",
      "https://edition.cnn.com/2020/01/03/us/palm-reader-charged-tricking-client-trnd/index.html\n",
      "/2020/01/03/us/alabama-missing-woman-paighton-houston-dead/index.html\n",
      "https://edition.cnn.com/2020/01/03/us/alabama-missing-woman-paighton-houston-dead/index.html\n",
      "/2020/01/01/us/oakland-laptop-thief-starbucks-trnd/index.html\n",
      "https://edition.cnn.com/2020/01/01/us/oakland-laptop-thief-starbucks-trnd/index.html\n",
      "/2020/01/03/us/california-mother-missing-found-dead/index.html\n",
      "https://edition.cnn.com/2020/01/03/us/california-mother-missing-found-dead/index.html\n",
      "/videos/us/2020/01/03/former-iranian-prisoner-acfc-full-episode-vpx.cnn\n",
      "https://edition.cnn.com/videos/us/2020/01/03/former-iranian-prisoner-acfc-full-episode-vpx.cnn\n",
      "/2020/01/03/us/ethan-couch-affluenza-weak-positive/index.html\n",
      "https://edition.cnn.com/2020/01/03/us/ethan-couch-affluenza-weak-positive/index.html\n",
      "/2020/01/03/us/kenneth-feinberg/index.html\n",
      "https://edition.cnn.com/2020/01/03/us/kenneth-feinberg/index.html\n",
      "/2020/01/03/us/how-to-help-australia-bushfire-victims-iyw-trnd/index.html\n",
      "https://edition.cnn.com/2020/01/03/us/how-to-help-australia-bushfire-victims-iyw-trnd/index.html\n",
      "/videos/us/2020/01/03/boy-3d-printed-hands-acfc-goods-vpx.cnn\n",
      "https://edition.cnn.com/videos/us/2020/01/03/boy-3d-printed-hands-acfc-goods-vpx.cnn\n",
      "/2020/01/03/us/paul-turley-california-sex-abuse-lawsuit/index.html\n",
      "https://edition.cnn.com/2020/01/03/us/paul-turley-california-sex-abuse-lawsuit/index.html\n",
      "/2020/01/03/us/idaho-missing-siblings-warrant/index.html\n",
      "https://edition.cnn.com/2020/01/03/us/idaho-missing-siblings-warrant/index.html\n",
      "/videos/us/2020/01/03/daily-news-briefing-01032020-2.cnn\n",
      "https://edition.cnn.com/videos/us/2020/01/03/daily-news-briefing-01032020-2.cnn\n",
      "/videos/us/2020/01/02/sisters-babies-born-same-day-acfc-goods-vpx.cnn\n",
      "https://edition.cnn.com/videos/us/2020/01/02/sisters-babies-born-same-day-acfc-goods-vpx.cnn\n",
      "/2020/01/03/us/ohio-new-year-bullet-trnd/index.html\n",
      "https://edition.cnn.com/2020/01/03/us/ohio-new-year-bullet-trnd/index.html\n",
      "/2020/01/03/us/united-methodist-church-split-proposal/index.html\n",
      "https://edition.cnn.com/2020/01/03/us/united-methodist-church-split-proposal/index.html\n",
      "/videos/politics/2020/01/03/former-army-special-ops-velicovich-soleimani-baldwin-newsroom-vpx.cnn\n",
      "https://edition.cnn.com/videos/politics/2020/01/03/former-army-special-ops-velicovich-soleimani-baldwin-newsroom-vpx.cnn\n",
      "/videos/us/2020/01/03/palm-reader-arrested-trick-cash-orig-mss.cnn\n",
      "https://edition.cnn.com/videos/us/2020/01/03/palm-reader-arrested-trick-cash-orig-mss.cnn\n",
      "/videos/us/2020/01/02/driver-livestreams-100-mph-crash-mxp-vpx.hln\n",
      "https://edition.cnn.com/videos/us/2020/01/02/driver-livestreams-100-mph-crash-mxp-vpx.hln\n",
      "/videos/health/2020/01/03/dreamworks-artists-kids-hospital-elam-pkg-vpx.hln\n",
      "https://edition.cnn.com/videos/health/2020/01/03/dreamworks-artists-kids-hospital-elam-pkg-vpx.hln\n",
      "/2020/01/03/us/army-officer-mom-deported/index.html\n",
      "https://edition.cnn.com/2020/01/03/us/army-officer-mom-deported/index.html\n",
      "/2020/01/03/us/austin-stabbing-incident/index.html\n",
      "https://edition.cnn.com/2020/01/03/us/austin-stabbing-incident/index.html\n",
      "/videos/us/2020/01/03/austin-stabbing-incident-vpx.keye\n",
      "https://edition.cnn.com/videos/us/2020/01/03/austin-stabbing-incident-vpx.keye\n",
      "/2020/01/02/us/inmate-captured-south-carolina-delaware-trnd/index.html\n",
      "https://edition.cnn.com/2020/01/02/us/inmate-captured-south-carolina-delaware-trnd/index.html\n",
      "/2020/01/03/us/sam-wyche-dies/index.html\n",
      "https://edition.cnn.com/2020/01/03/us/sam-wyche-dies/index.html\n",
      "/videos/us/2020/01/02/captain-america-actress-charged-mother-murder-orig-jk.cnn\n",
      "https://edition.cnn.com/videos/us/2020/01/02/captain-america-actress-charged-mother-murder-orig-jk.cnn\n",
      "/videos/us/2020/01/03/mother-of-us-soldier-deported-mxp-vpx.hln\n",
      "https://edition.cnn.com/videos/us/2020/01/03/mother-of-us-soldier-deported-mxp-vpx.hln\n",
      "/2020/01/03/us/kentucky-fbi-former-governor-bevin-pardons/index.html\n",
      "https://edition.cnn.com/2020/01/03/us/kentucky-fbi-former-governor-bevin-pardons/index.html\n",
      "/2020/01/03/us/nba-black-band-uniforms-david-stern-spt-trnd/index.html\n",
      "https://edition.cnn.com/2020/01/03/us/nba-black-band-uniforms-david-stern-spt-trnd/index.html\n",
      "/videos/us/2020/01/01/waitress-gets-2020-tip-challenge-pkg-vpx.wxyz\n",
      "https://edition.cnn.com/videos/us/2020/01/01/waitress-gets-2020-tip-challenge-pkg-vpx.wxyz\n",
      "/2020/01/02/us/father-daughter-hunting-death-trnd/index.html\n",
      "https://edition.cnn.com/2020/01/02/us/father-daughter-hunting-death-trnd/index.html\n",
      "/videos/us/2020/01/03/father-daughter-killed-hunting-accident-mxp-vpx.hln\n",
      "https://edition.cnn.com/videos/us/2020/01/03/father-daughter-killed-hunting-accident-mxp-vpx.hln\n",
      "/2020/01/02/us/texas-infant-life-support-tinslee-lewis/index.html\n",
      "https://edition.cnn.com/2020/01/02/us/texas-infant-life-support-tinslee-lewis/index.html\n",
      "/2020/01/02/us/american-kennel-club-barbet-dogo-argentino-trnd/index.html\n",
      "https://edition.cnn.com/2020/01/02/us/american-kennel-club-barbet-dogo-argentino-trnd/index.html\n",
      "/videos/us/2020/01/03/texas-baby-life-support-mxp-vpx.hln\n",
      "https://edition.cnn.com/videos/us/2020/01/03/texas-baby-life-support-mxp-vpx.hln\n"
     ]
    }
   ],
   "source": [
    "base_url = urllib.parse.urljoin(link, '.')\n",
    "for a in soup.select(\"h3.cd__headline a\"):\n",
    "    print(a.get('href'))\n",
    "    print(urllib.parse.urljoin(base_url, a.get('href')))"
   ]
  },
  {
   "cell_type": "code",
   "execution_count": 53,
   "metadata": {},
   "outputs": [
    {
     "name": "stdout",
     "output_type": "stream",
     "text": [
      "None\n",
      "Updated 1800 GMT (0200 HKT) January 4, 2020 \n"
     ]
    }
   ],
   "source": [
    "link = \"https://edition.cnn.com/2020/01/04/us/california-firefighters-australia-brushfires/index.html\"\n",
    "\n",
    "# Request the page\n",
    "page = requests.get(r'{}'.format(link))\n",
    "\n",
    "# HTML Parser\n",
    "soup = BeautifulSoup(page.content, 'html.parser')\n",
    "\n",
    "for time in soup.select(\"p.update-time\"):\n",
    "    print(time.get('datetime'))\n",
    "    print(time.text)\n",
    "\n",
    "article_content = ''\n",
    "for data in soup.select(\"div.l-container div.pg-rail-tall__wrapper div.l-container .zn-body__paragraph\"):\n",
    "    #print(data)\n",
    "    # Remove unwanted tags\n",
    "    [x.extract() for x in data.find_all('script')]\n",
    "    [x.extract() for x in data.find_all('style')]\n",
    "    [x.extract() for x in data.find_all('meta')]\n",
    "    [x.extract() for x in data.find_all('noscript')]\n",
    "    [x.extract() for x in data.find_all('div', class_=\"image\")]\n",
    "    [x.extract() for x in data.find_all(text=lambda text: isinstance(text, Comment))]\n",
    "\n",
    "    # Extract content text\n",
    "    content = data.get_text()\n",
    "    content = content.replace('\\r', ' ').replace('\\n', ' ')\n",
    "    article_content += content + ' '"
   ]
  },
  {
   "cell_type": "code",
   "execution_count": 54,
   "metadata": {},
   "outputs": [
    {
     "name": "stdout",
     "output_type": "stream",
     "text": [
      "Los Angeles (CNN)Twenty veteran California firefighters are heading to Australia as the first US ground crew to battle out-of-control wildfires that have killed at least 23 people. The Angeles National Forest crew will deploy from Los Angeles on Monday, the US Forest Service reports. The US has sent dozens of managers to Australia already, but this team is thought to be the first that puts shovels in the ground to dig fire breaks, starts back fires with drip torch cans, and hikes dusty miles in rough terrain. \"I'm looking forward to the opportunity to reciprocate to our Australian brothers and sisters for the same assistance they've given us for many years,\" said fire technician Jonathan Merager. Australia and New Zealand have been sending firefighters to the United States for more than 15 years, the Forest Service says. The most recent example was in August 2018, when 138 arrived, a federal spokeswoman said. The last time US firefighters worked in Australia was 2010. Australia and California firefighters battle a similar menace: flaming eucalyptus trees that can shoot off and send dangerous burning embers miles in strong winds. The eucalyptus leaves in Australia are bigger and can send flames farther, heightening the danger. Videos from Australia have shown vast stands of trees blazing like roman candles, giant walls of flame sealing off residents of a beach town, and the national symbols of Australia, including kangaroos, running for cover. Dozens of US fire managers will help in Australia, including some leaving Saturday, but the Angeles crew is unique in its infantry-like capabilities. The Forest Service says the hand-picked 20-person unit includes full-time firefighters with crew boss experience. \"They work on engine crews, hot-shot crews, aviation helicopters crews, and they often work in remote places, independently with little support,\" said Robert Garcia, Angeles National Forest Chief. \"They are used to traveling, breaking up into small squads, doing initial attack -- meaning attacking fires early before they become a large fire.\" Garcia, who is not going to Australia, said the unit is made up of firefighters from several stations in the mountains over Los Angeles. The Angeles Forest crew deployment is expected to last 30 to 45 days. Merager, an 18-year Forest Service veteran, said Australians will provide much of the equipment, such as tools for digging fire lines and drip torch cans used for setting backfires. \"I've talked to local firefighters on the ground in Australia,\" said Merager. \"They take safety, firefighting in the forest as seriously as we do. And that's encouraging.\"  \n"
     ]
    }
   ],
   "source": [
    "print(article_content)"
   ]
  },
  {
   "cell_type": "markdown",
   "metadata": {},
   "source": [
    "### NPR"
   ]
  },
  {
   "cell_type": "code",
   "execution_count": 38,
   "metadata": {},
   "outputs": [
    {
     "name": "stdout",
     "output_type": "stream",
     "text": [
      "2019-12-30T18:26:00-05:00\n"
     ]
    }
   ],
   "source": [
    "link = \"https://www.npr.org/2019/12/30/792476791/federal-judge-dismisses-former-white-house-aides-lawsuit-over-congressional-subp\"\n",
    "\n",
    "# Request the page\n",
    "page = requests.get(r'{}'.format(link))\n",
    "\n",
    "# HTML Parser\n",
    "soup = BeautifulSoup(page.content, 'html.parser')\n",
    "\n",
    "for time in soup.select(\"section time\"):\n",
    "    print(time.get('datetime'))\n",
    "\n",
    "article_content = ''\n",
    "for data in soup.select(\"div.storytext.storylocation.linkLocation\"):\n",
    "    #print(data)\n",
    "    # Remove unwanted tags\n",
    "    [x.extract() for x in data.find_all('script')]\n",
    "    [x.extract() for x in data.find_all('style')]\n",
    "    [x.extract() for x in data.find_all('meta')]\n",
    "    [x.extract() for x in data.find_all('noscript')]\n",
    "    [x.extract() for x in data.find_all('div', class_=\"image\")]\n",
    "    [x.extract() for x in data.find_all(text=lambda text: isinstance(text, Comment))]\n",
    "\n",
    "    # Extract content text\n",
    "    content = data.get_text()\n",
    "    content = content.replace('\\r', ' ').replace('\\n', ' ')\n",
    "    article_content += content + ' '"
   ]
  },
  {
   "cell_type": "code",
   "execution_count": 37,
   "metadata": {},
   "outputs": [
    {
     "name": "stdout",
     "output_type": "stream",
     "text": [
      "  A federal judge on Monday dismissed a lawsuit by Charles Kupperman, a former aide to President Trump who had sought a ruling on whether he needed to comply with a subpoena from the House impeachment inquiry. Kupperman was Trump's deputy national security adviser and briefly served as acting national security adviser. He listened to the president's July 25 call with Ukrainian President Volodymyr Zelenskiy. The White House had ordered him not to testify because \"as a close presidential advisor, he was absolutely immune for compelled Congressional testimony,\" court documents say. Kupperman, who has close ties to former national security adviser John Bolton, asked the court to rule on whether he should obey the White House or Congress. He failed to appear to be interviewed in the impeachment inquiry in Washington on Oct. 28. But the House later withdrew its subpoena, which made the matter moot, U.S. District Judge Richard Leon ruled. \"Kupperman no longer faces the 'irreconcilable commands' of two coordinated branches of government ... and he accordingly lacks any personal stake in the outcome of this dispute,\" Leon wrote.        Trump Impeachment Inquiry  Lawyer: Bolton Aide Charles Kupperman Fears House Will Reissue Subpoena For Testimony           Trump Impeachment Inquiry  Trump Impeachment Inquiry: A Guide To Key People, Facts And Documents       In court filings, Kupperman had urged the judge to rule, arguing that the subpoena could be reissued and that he could be punished for failing to comply with that subpoena. But Leon said the argument lacked merit because the House had \"repeatedly and unequivocally\" stated that it would not do so. \"To be perfectly clear yet again, the House Defendants will not reissue the subpoena to Kupperman, period,\" lawyers wrote in earlier court documents. \"The subpoena will not reissue today, tomorrow, or ever.\"   \n"
     ]
    }
   ],
   "source": [
    "print(article_content)"
   ]
  },
  {
   "cell_type": "markdown",
   "metadata": {},
   "source": [
    "### NYMAG"
   ]
  },
  {
   "cell_type": "code",
   "execution_count": 14,
   "metadata": {},
   "outputs": [],
   "source": [
    "# Finding links to news articles from source home page\n",
    "link = \"http://nymag.com/intelligencer/\"\n",
    "# Use headers to pass the authentication\n",
    "headers = {\n",
    "    'User-Agent': 'Mozilla/5.0 (Macintosh; Intel Mac OS X 10_10_1) AppleWebKit/537.36 (KHTML, like Gecko) Chrome/39.0.2171.95 Safari/537.36'\n",
    "}\n",
    "# Request the page\n",
    "page = requests.get(link, headers=headers)\n",
    "# Parsing\n",
    "soup = BeautifulSoup(page.content, 'html.parser')"
   ]
  },
  {
   "cell_type": "code",
   "execution_count": 16,
   "metadata": {},
   "outputs": [
    {
     "name": "stdout",
     "output_type": "stream",
     "text": [
      "http://nymag.com/intelligencer/2020/01/japans-pursuit-of-former-nissan-executive-carlos-ghosn.html\n",
      "http://nymag.com/intelligencer/2020/01/nypd-officer-michael-reynolds-resigns.html\n",
      "http://nymag.com/intelligencer/2020/01/the-geriatric-scenario-for-2020.html\n",
      "http://nymag.com/intelligencer/2020/01/the-candidates-need-to-have-a-plan-to-stop-endless-war.html\n",
      "http://nymag.com/intelligencer/2020/01/if-trump-cant-bully-iran-things-could-get-scary-fast.html\n",
      "http://nymag.com/intelligencer/2020/01/soleimani-killing-iraq-war-supporters-give-thumbs-up.html\n",
      "http://nymag.com/intelligencer/2020/01/democrats-have-multiple-routes-to-2020-electoral-college-win.html\n",
      "http://nymag.com/intelligencer/2020/01/joe-biden-electability-white-voters.html\n",
      "http://nymag.com/intelligencer/2020/01/what-is-trumps-legal-authority-for-soleimani-assassination.html\n",
      "http://nymag.com/intelligencer/2020/01/trump-war-iran-election-nuclear-obama.html\n",
      "http://nymag.com/intelligencer/2020/01/julian-castro-drops-out.html\n",
      "http://nymag.com/intelligencer/2020/01/the-u-s-iran-conflict-after-the-death-of-qasem-suleimani.html\n",
      "http://nymag.com/intelligencer/2020/01/the-young-left-doesnt-think-it-owns-the-future.html\n",
      "http://nymag.com/intelligencer/2020/01/pentagon-docs-show-concern-on-trump-withholding-ukraine-aid.html\n",
      "http://nymag.com/intelligencer/2020/01/confusion-among-california-independents-could-hurt-sanders.html\n",
      "http://nymag.com/intelligencer/2020/01/john-roberts-americans-take-democracy-for-granted.html\n",
      "http://nymag.com/intelligencer/2020/01/twitter-memes-asks-what-the-best-subway-seat-is.html\n",
      "http://nymag.com/intelligencer/2020/01/amy-klobuchar-hints-at-declassifying-ufo-info-if-elected.html\n",
      "http://nymag.com/intelligencer/2020/01/why-nobody-can-prevent-the-democrats-all-white-debate-stage.html\n",
      "http://nymag.com/intelligencer/2020/01/trump-cnn-merger-time-warner-at-and-t-media-scandal-impeachment.html\n",
      "http://nymag.com/intelligencer/2020/01/julin-castro-drops-out-of-2020-race.html\n",
      "http://nymag.com/intelligencer/2020/01/u-s-population-growth-census-immigration-birth-rate-trump.html\n",
      "http://nymag.com/intelligencer/2020/01/eugenic-ideas-never-really-went-away.html\n",
      "http://nymag.com/intelligencer/2020/01/iran-general-qasem-soleimani-killed-in-baghdad-airport-iraq.html\n",
      "http://nymag.com/intelligencer/2020/01/clip-of-biden-suggesting-far-right-idea-is-a-deceptive-edit.html\n"
     ]
    }
   ],
   "source": [
    "for a in soup.select(\"div.feed-container a.feed-item.article\"):\n",
    "    print(a.get('href'))"
   ]
  },
  {
   "cell_type": "code",
   "execution_count": null,
   "metadata": {},
   "outputs": [],
   "source": []
  },
  {
   "cell_type": "code",
   "execution_count": 35,
   "metadata": {},
   "outputs": [
    {
     "name": "stdout",
     "output_type": "stream",
     "text": [
      "2020-01-04T08:00:26.040-05:00\n"
     ]
    }
   ],
   "source": [
    "# Extracting news content\n",
    "#link = \"http://nymag.com/intelligencer/2020/01/nypd-officer-michael-reynolds-resigns.html\"\n",
    "#link = \"http://nymag.com/intelligencer/2020/01/the-geriatric-scenario-for-2020.html\"\n",
    "link = \"http://nymag.com/intelligencer/2020/01/japans-pursuit-of-former-nissan-executive-carlos-ghosn.html\"\n",
    "\n",
    "# Request the page\n",
    "page = requests.get(r'{}'.format(link))\n",
    "\n",
    "# HTML Parser\n",
    "soup = BeautifulSoup(page.content, 'html.parser')\n",
    "\n",
    "for time in soup.select(\"header time\"):\n",
    "    print(time.get('datetime'))\n",
    "\n",
    "article_content = ''\n",
    "for data in soup.select(\"section.body p\"):\n",
    "    #print(data)\n",
    "    # Remove unwanted tags\n",
    "    [x.extract() for x in data.find_all('script')]\n",
    "    [x.extract() for x in data.find_all('style')]\n",
    "    [x.extract() for x in data.find_all('meta')]\n",
    "    [x.extract() for x in data.find_all('noscript')]\n",
    "    [x.extract() for x in data.find_all('div', class_=\"image\")]\n",
    "    [x.extract() for x in data.find_all(text=lambda text: isinstance(text, Comment))]\n",
    "\n",
    "    # Extract content text\n",
    "    content = data.get_text()\n",
    "    content = content.replace('\\r', ' ').replace('\\n', ' ')\n",
    "    article_content += content + ' '"
   ]
  },
  {
   "cell_type": "code",
   "execution_count": 32,
   "metadata": {},
   "outputs": [
    {
     "name": "stdout",
     "output_type": "stream",
     "text": [
      "The cinematic details are just one reason the Carlos Ghosn story is popcorn-worthy. Who could help but be interested in how the disgraced and indicted former Nissan CEO succeeded at jumping bail in Japan, getting himself smuggled out of the country onto a private jet in an audio-equipment box, and making it to Lebanon, a country where he has strong personal ties and protections against extradition? But beyond the fun logistical details of the escape, we’re probably also about to get more juicy details about the drama inside Nissan that led to Ghosn’s downfall and arrest. Ghosn says he’s eager to finally name names and declare who set him up as the fall guy in an international dispute over who should control the Japanese automaker. Ghosn has the unusual distinction of having long served as the head of two major auto companies on two continents at the same time: Nissan and France’s Renault. He achieved business executive celebrity status in the late 1990s and early 2000s by establishing a partnership between the two firms that brought Nissan from the brink of financial collapse. But in recent years, Ghosn believed even deeper links between the two companies would be needed to keep them viable. The French government, which owns 15 percent of Renault, was perceived in Japan as pushing for a full merger, though French officials periodically denied they were seeking one. Ghosn claims, not implausibly, that he was taken down by Japanese executives and government officials who feared he would shepherd a French takeover of Nissan, leading to the loss of one of Japan’s top national companies. Indeed, the Wall Street Journal reported back in March that Ghosn’s successor as Nissan CEO, Hiroto Saikawa, told a Renault executive as much at the beginning of last year. A significant problem for Ghosn is that, even if this is all true, that doesn’t mean he didn’t break the law. If you alienate people, they may try to figure out if you committed crimes. If they figure out that you did commit crimes, “but the crimes aren’t really why they were out to get me” is not a great defense. The criminal accusations against Ghosn are sort of odd: that he awarded himself deferred compensation of which Nissan’s board was unaware, thus causing the company to underreport his pay to Japan’s equivalent of the Securities and Exchange Commission. The deferred compensation awards started in 2010, right after Japan implemented a new law disclosing CEO pay. Ghosn felt he should be paid according to the standards by which international (especially American) auto company CEOs are paid, but the company faced a public relations imperative to follow Japan’s norms on executive compensation, which are considerably more modest. Ghosn is also accused of using company funds to pay for various personal expenses, including the acquisition and upkeep of homes in cities where Ghosn has extensive ties but Nissan does not have major business, like Beirut and Rio de Janeiro. I’m not sure exactly how the deferred compensation scheme was supposed to work. After he retired, was he going to go to Nissan and say, “I will take my deferred compensation now,” and the board would say, “What deferred compensation?” and he would say, “Oh, the tens of millions of dollars worth of deferred compensation I awarded myself without telling you so we wouldn’t have to report it to the government,” and the board would say, “Oh, well then, here you go”? In the U.S., it is quite common for a board to be excessively close with a CEO and willing to overpay him; it is much more irregular for the board to be literally unaware of what it is paying the CEO. Shortly before he fled Japan, Ghosn’s defense attorneys were arguing that, in fact, there had been no deferred compensation, but that the amounts recorded each year were just notes of how much less Ghosn was being paid than he truly deserved to be paid, which Ghosn intended to use to bolster his arguments in future salary negotiations. They did not reflect guaranteed payments, and so they weren’t compensation and weren’t reportable. This does not seem to have been the view of Nissan’s auditors, nor is it the view of the U.S. Securities and Exchange Commission, which sought civil penalties related to Ghosn’s allegedly underreported compensation. Both Nissan and Ghosn reached settlements with the SEC without admitting wrongdoing. But those are details. The broader subtext I read into Ghosn’s defense of himself is that when things were going well for Nissan — when he was the savior of one of Japan’s great manufacturing firms — everyone was willing to look the other way. That this was supposed to be the deal: I save Nissan, you give me lots of money in a way that is out of step with Japanese norms. The deferred compensation scheme, if it existed, was just a tactic in service of that deal. Now, he sees Nissan and the Japanese government as having reneged on the deal by claiming this was never the deal at all. But if that was the deal, it wasn’t a valid one. It ran contrary to Japanese public policy, which was changed during Ghosn’s tenure to force the disclosure of executive compensation in order to discourage extremely generous executive salaries. Ghosn says he wants a trial to clear his name, but he wants it in Lebanon, where he thinks the justice system will be more fair to him than in Japan. But as Pete Sweeney notes for Reuters, this situation is so hideously embarrassing for all parties involved that I suspect we will see mutual relief that Ghosn’s escape eliminates the need for a trial. The Japanese can say he fled because he knows he was guilty, and they won’t have to litigate the incredibly weak corporate governance that would have made his alleged crimes possible. France and Japan can more easily get on with salvaging the Nissan-Renault alliance without having to fight over Ghosn. And Ghosn can stay out of prison. But we probably will get to see him litigate at least some of this in the court of public opinion. \n"
     ]
    }
   ],
   "source": [
    "print(article_content)"
   ]
  },
  {
   "cell_type": "markdown",
   "metadata": {},
   "source": [
    "### thedailybeast"
   ]
  },
  {
   "cell_type": "code",
   "execution_count": 55,
   "metadata": {},
   "outputs": [],
   "source": [
    "# Finding links to news articles from source home page\n",
    "link = \"https://www.thedailybeast.com/category/politics\"\n",
    "# Use headers to pass the authentication\n",
    "headers = {\n",
    "    'User-Agent': 'Mozilla/5.0 (Macintosh; Intel Mac OS X 10_10_1) AppleWebKit/537.36 (KHTML, like Gecko) Chrome/39.0.2171.95 Safari/537.36'\n",
    "}\n",
    "# Request the page\n",
    "page = requests.get(link, headers=headers)\n",
    "# Parsing\n",
    "soup = BeautifulSoup(page.content, 'html.parser')"
   ]
  },
  {
   "cell_type": "code",
   "execution_count": 57,
   "metadata": {},
   "outputs": [
    {
     "name": "stdout",
     "output_type": "stream",
     "text": [
      "https://www.thedailybeast.com/joe-bidens-bipartisan-rhetoric-that-infuriates-the-left-is-why-millions-of-us-like-him\n",
      "https://www.thedailybeast.com/bernie-sanders-and-joe-biden-face-off-in-democratic-battle-for-iran-dove-cred\n",
      "https://www.thedailybeast.com/trump-told-mar-a-lago-pals-to-expect-big-iran-action-days-before-soleimanis-death\n",
      "https://www.thedailybeast.com/without-julian-castro-the-democratic-field-gets-whiter-and-staler\n",
      "https://www.thedailybeast.com/dems-worry-impeachment-jury-duty-will-sideline-most-of-2020-field\n",
      "https://www.thedailybeast.com/us-strike-kills-qassem-soleimani-irans-most-important-military-commander\n",
      "https://www.thedailybeast.com/trump-considers-pardoning-blackwater-mercenary-convicted-of-murder\n",
      "https://www.thedailybeast.com/paul-manafort-said-sean-hannity-served-as-his-trump-backchannel-docs\n",
      "https://www.thedailybeast.com/yes-bernie-sanders-could-be-the-nomineeand-it-would-be-an-epic-nightmare-for-democrats\n",
      "https://www.thedailybeast.com/the-gop-senators-deliciously-awful-impeachment-dilemma\n"
     ]
    }
   ],
   "source": [
    "for a in soup.select(\"div.GridStory__title-link a\"):\n",
    "    print(a.get('href'))"
   ]
  },
  {
   "cell_type": "code",
   "execution_count": 74,
   "metadata": {},
   "outputs": [
    {
     "name": "stdout",
     "output_type": "stream",
     "text": [
      "2020-01-03T04:44:35-05:00\n",
      "<div class=\"StoryBody\"><div class=\"LazyLoad StoryBody__sponsored-logo-lazy-load\"></div><article class=\"Body members-only\"><div class=\"Body__content\"><div class=\"Mobiledoc\"><p>Looking forward to the 21st century, then-President Bill Clinton promised an optimistic nation that he would be a bridge to the future, while <a class=\"LinkWrapper LinkWrapper--external\" href=\"https://www.tandfonline.com/doi/abs/10.1080/10510970109388541\">warning</a> that Republican Bob Dole, his opponent in 1996, would be a bridge to the past. </p><p>Nearly a quarter-century of turmoil later, an increasingly pessimistic America—relentlessly immersed in chaos and toxicity—might make a different bet. It might not make as clever a slogan, but a bridge to the recent past doesn’t sound so bad. At least, that’s what Joe Biden is banking on. </p><p>To be sure, Biden is not hearkening to a Trumpy “America First” past. He is not some hidebound figure hoping to take us back to the 1940s or ’50s. The nostalgia he’s tapping into is decidedly less ambitious. He doesn’t want a return to Mayberry, just a return to normalcy. </p><section class=\"Fancylinks\" data-nosnippet=\"\"><ul class=\"Fancylinks__list\"></ul></section></div><div class=\"Body__paywall-container\"><div class=\"Body__paywall-overlay\"></div><div class=\"Body__paywall-overlay-inner\"></div></div></div></article><div class=\"StoryFooter\"><div class=\"ConnatixAd ConnatixAd--show-preloader\"></div><div class=\"StoryFooter__outbrain\"><section class=\"Outbrain StoryOutbrain\"><div class=\"OUTBRAIN\" data-ob-template=\"TheDailyBeast\" data-src=\"https://www.thedailybeast.com/joe-bidens-bipartisan-rhetoric-that-infuriates-the-left-is-why-millions-of-us-like-him\" data-widget-id=\"AR_6\"></div></section></div></div></div>\n"
     ]
    }
   ],
   "source": [
    "# Extracting news content\n",
    "link = \"https://www.thedailybeast.com/joe-bidens-bipartisan-rhetoric-that-infuriates-the-left-is-why-millions-of-us-like-him?ref=scroll\"\n",
    "\n",
    "# Request the page\n",
    "page = requests.get(r'{}'.format(link), headers=headers)\n",
    "\n",
    "# HTML Parser\n",
    "soup = BeautifulSoup(page.content, 'html.parser')\n",
    "\n",
    "for time in soup.select(\"article time\"):\n",
    "    print(time.get('datetime'))\n",
    "\n",
    "article_content = ''\n",
    "for data in soup.select(\"article.Story div.StoryBody\"):\n",
    "    print(data)\n",
    "#     # Remove unwanted tags\n",
    "#     [x.extract() for x in data.find_all('script')]\n",
    "#     [x.extract() for x in data.find_all('style')]\n",
    "#     [x.extract() for x in data.find_all('meta')]\n",
    "#     [x.extract() for x in data.find_all('noscript')]\n",
    "#     [x.extract() for x in data.find_all('div', class_=\"image\")]\n",
    "#     [x.extract() for x in data.find_all(text=lambda text: isinstance(text, Comment))]\n",
    "\n",
    "#     # Extract content text\n",
    "#     content = data.get_text()\n",
    "#     content = content.replace('\\r', ' ').replace('\\n', ' ')\n",
    "#     article_content += content + ' '"
   ]
  },
  {
   "cell_type": "code",
   "execution_count": 69,
   "metadata": {},
   "outputs": [
    {
     "name": "stdout",
     "output_type": "stream",
     "text": [
      "Looking forward to the 21st century, then-President Bill Clinton promised an optimistic nation that he would be a bridge to the future, while warning that Republican Bob Dole, his opponent in 1996, would be a bridge to the past. Nearly a quarter-century of turmoil later, an increasingly pessimistic America—relentlessly immersed in chaos and toxicity—might make a different bet. It might not make as clever a slogan, but a bridge to the recent past doesn’t sound so bad. At least, that’s what Joe Biden is banking on. To be sure, Biden is not hearkening to a Trumpy “America First” past. He is not some hidebound figure hoping to take us back to the 1940s or ’50s. The nostalgia he’s tapping into is decidedly less ambitious. He doesn’t want a return to Mayberry, just a return to normalcy.  \n"
     ]
    }
   ],
   "source": [
    "print(article_content)"
   ]
  },
  {
   "cell_type": "markdown",
   "metadata": {},
   "source": [
    "### politico"
   ]
  },
  {
   "cell_type": "code",
   "execution_count": 75,
   "metadata": {},
   "outputs": [],
   "source": [
    "# Finding links to news articles from source home page\n",
    "link = \"https://www.politico.com/news/2020-elections\"\n",
    "# Use headers to pass the authentication\n",
    "headers = {\n",
    "    'User-Agent': 'Mozilla/5.0 (Macintosh; Intel Mac OS X 10_10_1) AppleWebKit/537.36 (KHTML, like Gecko) Chrome/39.0.2171.95 Safari/537.36'\n",
    "}\n",
    "# Request the page\n",
    "page = requests.get(link, headers=headers)\n",
    "# Parsing\n",
    "soup = BeautifulSoup(page.content, 'html.parser')"
   ]
  },
  {
   "cell_type": "code",
   "execution_count": 76,
   "metadata": {},
   "outputs": [
    {
     "name": "stdout",
     "output_type": "stream",
     "text": [
      "https://www.politico.com/news/2020/01/04/warren-2020-strategy-093641\n",
      "https://www.politico.com/news/2020/01/03/joe-biden-iowa-turnaround-093616\n",
      "https://www.politico.com/news/2020/01/03/trump-donors-koch-093644\n",
      "https://www.politico.com/news/2020/01/03/democrat-2020-iran-trump-soleimani-093615\n",
      "https://www.politico.com/news/2020/01/03/deval-patrick-ad-buy-093287\n",
      "https://www.politico.com/news/2020/01/03/cory-booker-fourth-quarter-fundraising-093413\n",
      "https://www.politico.com/news/2020/01/03/marianne-williamson-pledges-to-stay-in-2020-presidential-race-093188\n",
      "https://www.politico.com/news/2020/01/03/elizabeth-warren-2020-campaign-fundraising-numbers-fell-093132\n",
      "https://www.politico.com/news/2020/01/03/amy-klobuchar-2020-campaign-fundraising-numbers-093089\n",
      "https://www.politico.com/news/2020/01/03/trump-evangelical-defection-093071\n",
      "https://www.politico.com/news/2020/01/03/four-decades-in-politics-whats-next-093005\n",
      "https://www.politico.com/news/2020/01/02/castro-democratic-primary-093079\n",
      "https://www.politico.com/news/2020/01/02/democrats-2020-huge-donor-windfall-093034\n",
      "https://www.politico.com/news/2020/01/02/biden-raises-23-million-top-result-092759\n",
      "https://www.politico.com/news/2020/01/02/bill-gates-higher-taxes-rich-092783\n",
      "https://www.politico.com/news/2020/01/02/bloomberg-fails-to-file-nevada-democratic-caucuses-092761\n",
      "https://www.politico.com/news/2020/01/02/biden-picks-up-key-iowa-endorsement-092653\n",
      "https://www.politico.com/news/2020/01/02/tulsi-gabbard-campaign-fundraising-numbers-092595\n",
      "https://www.politico.com/news/2020/01/02/julian-castro-ends-presidential-bid-092604\n",
      "https://www.politico.com/news/2020/01/02/yang-fundraising-fourth-quarter-092584\n"
     ]
    }
   ],
   "source": [
    "for a in soup.select(\"section h1 a\"):\n",
    "    print(a.get('href'))"
   ]
  },
  {
   "cell_type": "code",
   "execution_count": 82,
   "metadata": {},
   "outputs": [
    {
     "name": "stdout",
     "output_type": "stream",
     "text": [
      "2020-01-04 06:35:12\n"
     ]
    }
   ],
   "source": [
    "# Extracting news content\n",
    "link = \"https://www.politico.com/news/2020/01/04/warren-2020-strategy-093641\"\n",
    "\n",
    "# Request the page\n",
    "page = requests.get(r'{}'.format(link), headers=headers)\n",
    "\n",
    "# HTML Parser\n",
    "soup = BeautifulSoup(page.content, 'html.parser')\n",
    "\n",
    "for time in soup.select(\"section time\"):\n",
    "    print(time.get('datetime'))\n",
    "\n",
    "article_content = ''\n",
    "for data in soup.select(\"section div.story-text p\"):\n",
    "    # Remove unwanted tags\n",
    "    [x.extract() for x in data.find_all('script')]\n",
    "    [x.extract() for x in data.find_all('style')]\n",
    "    [x.extract() for x in data.find_all('meta')]\n",
    "    [x.extract() for x in data.find_all('noscript')]\n",
    "    [x.extract() for x in data.find_all('div', class_=\"image\")]\n",
    "    [x.extract() for x in data.find_all(text=lambda text: isinstance(text, Comment))]\n",
    "\n",
    "    # Extract content text\n",
    "    content = data.get_text()\n",
    "    content = content.replace('\\r', ' ').replace('\\n', ' ')\n",
    "    article_content += content + ' '"
   ]
  },
  {
   "cell_type": "code",
   "execution_count": 83,
   "metadata": {},
   "outputs": [
    {
     "name": "stdout",
     "output_type": "stream",
     "text": [
      "CONCORD, N.H. — Wine caves are out. Universal child care, student loan debt, and political corruption are in. After Elizabeth Warren’s bumpy ride as a front-runner this past fall — her fundraising has slipped and she’s stalled in national and state polls — the Massachusetts senator is done with the attacks against former South Bend Mayor Pete Buttigieg and reverting to the approach that helped power her initial rise in the polls. Story Continued Below When asked here Thursday about Buttigieg’s $24.7 million fundraising haul, Warren would only say, “I didn’t spend one single minute selling access to my time to millionaires and billionaires.” Then she pivoted to her gratitude for her own donors.  Her campaign’s emails to supporters struck a similarly non-combative tone in announcing their fundraising for the fourth quarter. And in a speech on New Year’s Eve in Boston, Warren offered a rebuttal of her rivals’ critiques that she insists on damaging purity tests when she’s not pure herself, but without naming names. “The billionaires, the corporate executives and their favorite presidential candidates have one clear goal,” she said. “To convince you that reform is hopeless. To convince you that because no one can be pure, it’s pointless to try to make anything better.” The moves are part of an attempt to return to the core messaging and stay-above-fray style that served her so well for much of the campaign. But it’s also an effort to move beyond her recent slog. Some voters are glad to see Warren go back to her “I’m not here to criticize other Democrats” creed. “The whole wine cave thing was blown out of proportion,” said Jim Martin, a 48-year-old from Hopkinton who is undecided and brought a baseball for Warren to sign after a Thursday event in Concord. “Campaigns cost money.”  Dick Hesse, a retired 86-year-old from Hopkinton who is also undecided, echoed that sentiment. “It didn’t make sense and it was meaningless,” he said of the wine cave attacks. Even some volunteers for the Warren campaign such as Mary Shelby — an 81-year-old retiree from Pittsfield — said they found the attacks “disappointing.” Even if Warren herself is refraining from the negative, outside Warren allies like the Progressive Change Campaign Committee (PCCC) continue to regularly attack her rivals.  Adam Green, the co-founder of the PCCC, said that there isn't anything new about the senator’s approach but rather \"she punches when warranted, and when strategic. The wine thing worked because she doesn't cry wolf,\" he said.  Still, the return to a more positive approach is partly about trying to be a plausible nominee for as many voters as possible — what the Warren campaign calls voters’ “consideration set.”                                      POLITICO NEWSLETTERS Sign up today to receive the #1-rated newsletter in politics. By signing up you agree to receive email newsletters or alerts from POLITICO. You can unsubscribe at any time. This site is protected by reCAPTCHA and the Google Privacy Policy and Terms of Service apply. There are some signs of success, with many polls showing that Warren usually ranks as the second choice among supporters of other candidates — a sign of her broad appeal. It’s also a distinctly different approach than Sanders, who has more aggressively attacked other candidates and focused on cultivating his devoted base. “In the closing days leading up the caucuses, she is squarely focused on her number one issue which is political corruption,” said Iowa state Sen. Zach Wahls, who endorsed Warren this fall and joined her at a town hall last week. “At the most recent event I was at of hers in North Liberty she answered maybe 10 questions and tied 9 of them back to corruption.” Warren’s pivot back to basics — such as the rigged political system — comes amid signs that Medicare for All may be fading as a concern among voters considering her. Rivals and their allies have repeatedly hammered her on the issue and she spent weeks trying to explain her position on Medicare for All — releasing multiple plans to do so. While she continues to briefly mention the single payer health care program during her town halls, voters have started to ask fewer questions about it, allowing Warren to track back to other issues that were more central to her candidacy from the start — such as universal child care, student loan debt, and enacting a wealth tax. \"Elizabeth's message from day one has been that she is running for president to make our government work for everyone, not just for millionaires and billionaires who can influence politicians behind closed doors with max out donations,\" spokesman Chris Hayden said in a statement. In a pair of events Thursday in New Hampshire where Warren took about twenty questions, none were about Medicare for All. Last month, she would sometimes receive multiple questions about it at a single event. Asked afterward about whether she was avoiding Medicare for All Warren shook her head and replied: “I take questions and I go wherever the questions take me.” \n"
     ]
    }
   ],
   "source": [
    "print(article_content)"
   ]
  },
  {
   "cell_type": "code",
   "execution_count": null,
   "metadata": {},
   "outputs": [],
   "source": []
  }
 ],
 "metadata": {
  "kernelspec": {
   "display_name": "Python 3",
   "language": "python",
   "name": "python3"
  },
  "language_info": {
   "codemirror_mode": {
    "name": "ipython",
    "version": 3
   },
   "file_extension": ".py",
   "mimetype": "text/x-python",
   "name": "python",
   "nbconvert_exporter": "python",
   "pygments_lexer": "ipython3",
   "version": "3.6.8"
  }
 },
 "nbformat": 4,
 "nbformat_minor": 2
}
