{
 "cells": [
  {
   "cell_type": "markdown",
   "metadata": {},
   "source": [
    "# Model 3 : toxchange.toxicology.org\n",
    "\n",
    "In this section we will describe our approach we used to build the build our first model using what we learnt from the baseline model and steps taken to make it an effective model. For this experiment we used a controlled dataset."
   ]
  },
  {
   "cell_type": "code",
   "execution_count": 1,
   "metadata": {
    "collapsed": true
   },
   "outputs": [],
   "source": [
    "# imports\n",
    "import sys\n",
    "import os\n",
    "import numpy as np\n",
    "import pandas as pd\n",
    "import ujson\n",
    "import re\n",
    "import spacy\n",
    "import math\n",
    "from sklearn.model_selection import train_test_split\n",
    "\n",
    "from gensim.models import Word2Vec\n",
    "\n",
    "from nltk.corpus import stopwords\n",
    "stop_words = stopwords.words('english')"
   ]
  },
  {
   "cell_type": "markdown",
   "metadata": {
    "collapsed": true
   },
   "source": [
    "## Model\n",
    "\n",
    "In this approach we will use a Word2Vec model. The Word2Vec model is used for learning vector representations of words called word embeddings. We will find the word embeddings of the entire corpus. The next step will be to go through each document and find the words that has the most similar words from the entire corpus. These words will be marked as relevant words in the document.\n"
   ]
  },
  {
   "cell_type": "markdown",
   "metadata": {},
   "source": [
    "## Dataset\n",
    "\n",
    "For this experiment we used a controlled dataset of just blogs entries from one blog site: https://toxchange.toxicology.org/p/bl/et/blogid=9"
   ]
  },
  {
   "cell_type": "code",
   "execution_count": 2,
   "metadata": {},
   "outputs": [
    {
     "name": "stdout",
     "output_type": "stream",
     "text": [
      "Shape: (2340, 4)\n"
     ]
    },
    {
     "data": {
      "text/html": [
       "<div>\n",
       "<style scoped>\n",
       "    .dataframe tbody tr th:only-of-type {\n",
       "        vertical-align: middle;\n",
       "    }\n",
       "\n",
       "    .dataframe tbody tr th {\n",
       "        vertical-align: top;\n",
       "    }\n",
       "\n",
       "    .dataframe thead th {\n",
       "        text-align: right;\n",
       "    }\n",
       "</style>\n",
       "<table border=\"1\" class=\"dataframe\">\n",
       "  <thead>\n",
       "    <tr style=\"text-align: right;\">\n",
       "      <th></th>\n",
       "      <th>article_date</th>\n",
       "      <th>article_title</th>\n",
       "      <th>article_content</th>\n",
       "      <th>article_url</th>\n",
       "    </tr>\n",
       "  </thead>\n",
       "  <tbody>\n",
       "    <tr>\n",
       "      <th>0</th>\n",
       "      <td>2019-09-19 16:30:00</td>\n",
       "      <td>Apply for a 2020 Supported Award</td>\n",
       "      <td>Each year, SOT presents awards in partnership ...</td>\n",
       "      <td>https://toxchange.toxicology.org/p/bl/et/bloga...</td>\n",
       "    </tr>\n",
       "    <tr>\n",
       "      <th>1</th>\n",
       "      <td>2019-09-19 16:30:00</td>\n",
       "      <td>Nominate a Scientist or Clinician for the 2020...</td>\n",
       "      <td>The SOT Translational/Bridging Travel Award is...</td>\n",
       "      <td>https://toxchange.toxicology.org/p/bl/et/bloga...</td>\n",
       "    </tr>\n",
       "    <tr>\n",
       "      <th>2</th>\n",
       "      <td>2019-09-19 16:30:00</td>\n",
       "      <td>National Postdoc Appreciation Week: A Message ...</td>\n",
       "      <td>I would like to thank everyone who participate...</td>\n",
       "      <td>https://toxchange.toxicology.org/p/bl/et/bloga...</td>\n",
       "    </tr>\n",
       "    <tr>\n",
       "      <th>3</th>\n",
       "      <td>2019-09-19 16:30:00</td>\n",
       "      <td>Nominations Are Open for the 2020 SOT Translat...</td>\n",
       "      <td>The SOT Translational Impact Award is presente...</td>\n",
       "      <td>https://toxchange.toxicology.org/p/bl/et/bloga...</td>\n",
       "    </tr>\n",
       "    <tr>\n",
       "      <th>4</th>\n",
       "      <td>2019-09-19 16:30:00</td>\n",
       "      <td>SOT/SOT Endowment Fund/IUTOX Travel Awards: Fu...</td>\n",
       "      <td>The SOT/SOT Endowment Fund/IUTOX Travel Awards...</td>\n",
       "      <td>https://toxchange.toxicology.org/p/bl/et/bloga...</td>\n",
       "    </tr>\n",
       "  </tbody>\n",
       "</table>\n",
       "</div>"
      ],
      "text/plain": [
       "         article_date                                      article_title  \\\n",
       "0 2019-09-19 16:30:00                   Apply for a 2020 Supported Award   \n",
       "1 2019-09-19 16:30:00  Nominate a Scientist or Clinician for the 2020...   \n",
       "2 2019-09-19 16:30:00  National Postdoc Appreciation Week: A Message ...   \n",
       "3 2019-09-19 16:30:00  Nominations Are Open for the 2020 SOT Translat...   \n",
       "4 2019-09-19 16:30:00  SOT/SOT Endowment Fund/IUTOX Travel Awards: Fu...   \n",
       "\n",
       "                                     article_content  \\\n",
       "0  Each year, SOT presents awards in partnership ...   \n",
       "1  The SOT Translational/Bridging Travel Award is...   \n",
       "2  I would like to thank everyone who participate...   \n",
       "3  The SOT Translational Impact Award is presente...   \n",
       "4  The SOT/SOT Endowment Fund/IUTOX Travel Awards...   \n",
       "\n",
       "                                         article_url  \n",
       "0  https://toxchange.toxicology.org/p/bl/et/bloga...  \n",
       "1  https://toxchange.toxicology.org/p/bl/et/bloga...  \n",
       "2  https://toxchange.toxicology.org/p/bl/et/bloga...  \n",
       "3  https://toxchange.toxicology.org/p/bl/et/bloga...  \n",
       "4  https://toxchange.toxicology.org/p/bl/et/bloga...  "
      ]
     },
     "execution_count": 2,
     "metadata": {},
     "output_type": "execute_result"
    }
   ],
   "source": [
    "# Data file\n",
    "data_file ='../../../Datasets/selected/toxchange.toxicology.org.xlsx'\n",
    "source_data = pd.read_excel(data_file)\n",
    "\n",
    "print(\"Shape:\",source_data.shape)\n",
    "source_data.head()"
   ]
  },
  {
   "cell_type": "code",
   "execution_count": 3,
   "metadata": {},
   "outputs": [
    {
     "name": "stdout",
     "output_type": "stream",
     "text": [
      "Number of Blogs: 2,340\n",
      "Minimum Article Date: Mar 11 2012\n",
      "Maximum Article Date: Sep 19 2019\n",
      "Minimum Word Count: 10.0\n",
      "Maximum Word Count: 3,189.0\n"
     ]
    }
   ],
   "source": [
    "source_data['word_count'] = source_data['article_content'].str.split().str.len()\n",
    "\n",
    "# View some metrics of data\n",
    "print(\"Number of Blogs:\",f'{source_data.shape[0]:,}')\n",
    "print(\"Minimum Article Date:\",min(source_data['article_date']).strftime(\"%b %d %Y\"))\n",
    "print(\"Maximum Article Date:\",max(source_data['article_date']).strftime(\"%b %d %Y\"))\n",
    "print(\"Minimum Word Count:\",min(source_data['word_count']))\n",
    "print(\"Maximum Word Count:\",f'{max(source_data[\"word_count\"]):,}')"
   ]
  },
  {
   "cell_type": "code",
   "execution_count": 4,
   "metadata": {},
   "outputs": [
    {
     "name": "stdout",
     "output_type": "stream",
     "text": [
      "------ Blog 1--------\n",
      "Apply for a 2020 Supported Award Each year, SOT presents awards in partnership with the Colgate-Palmolive Company and Syngenta during the SOT Annual Meeting. These companies sponsor several awards, grants, and fellowships allowing the recipients to conduct research for the following year. The deadline for these awards, which are featured here, is October 9, 2019.\n",
      "\n",
      "The purpose of the Colgate-Palmolive Award for Student Research Training in Alternative Methods is to enhance student research training using¬†in vitro¬†methods or al\n",
      "------ Blog 2--------\n",
      "Nominate a Scientist or Clinician for the 2020 SOT Translational/Bridging Travel Award The SOT Translational/Bridging Travel Award is given to assist up to two individuals with travel to the SOT Annual Meeting. The SOT Awards Committee provides this award to mid- or senior-level scientists/clinicians with at least 10 years of experience (postdoctoral research/clinical practice) and who either have an active research program or are active in the practice of clinical toxicology, medical toxicology, disease prevention, or the application of translational toxicology. This award will b\n",
      "------ Blog 3--------\n",
      "National Postdoc Appreciation Week: A Message from the 2019‚Äì2020 Postdoctoral Assembly Chair I would like to thank everyone who participated in this year‚Äôs National Postdoc Appreciation Week. Whether it was through the Postdoctoral Assembly (PDA) or an event at your institution, we hope that SOT postdocs and their colleagues nationwide had an opportunity to celebrate the hard work and major accomplishments of the postdoctoral community! As President Hines wrote in his address to SOT postdocs at the beginning of the week, ‚ÄúYou, as an SOT postdoctoral scholar, are an integral part of \n"
     ]
    }
   ],
   "source": [
    "# Preview some blogs\n",
    "print(\"------ Blog 1--------\")\n",
    "print(source_data[\"article_title\"][0],source_data[\"article_content\"][0][:500])\n",
    "print(\"------ Blog 2--------\")\n",
    "print(source_data[\"article_title\"][1],source_data[\"article_content\"][1][:500])\n",
    "print(\"------ Blog 3--------\")\n",
    "print(source_data[\"article_title\"][2],source_data[\"article_content\"][2][:500])"
   ]
  },
  {
   "cell_type": "markdown",
   "metadata": {},
   "source": [
    "## Data Preprocessing\n",
    "\n",
    "The data preprocessing steps that we will follow inorder to feed the data to the topic model are:\n",
    "- Combine Title with Blog Content\n",
    "- Remove line breaks\n",
    "- Remove Special Characters\n",
    "- Remove small words < 3 letters\n",
    "- Convert text to lowercase\n",
    "- Remove stop words\n",
    "- Tokenize\n",
    "- Lemmatization\n",
    "- Remove custom stop words"
   ]
  },
  {
   "cell_type": "code",
   "execution_count": 5,
   "metadata": {},
   "outputs": [
    {
     "name": "stdout",
     "output_type": "stream",
     "text": [
      "Shape: (1138, 1)\n"
     ]
    }
   ],
   "source": [
    "# Custom stop words\n",
    "custom_stopwords_file ='../lookups/custom_stopwords.txt'\n",
    "custom_stopwords_df = pd.read_csv(custom_stopwords_file, header=None)\n",
    "print(\"Shape:\",custom_stopwords_df.shape)\n",
    "custom_stopwords = custom_stopwords_df[0].tolist()"
   ]
  },
  {
   "cell_type": "code",
   "execution_count": 6,
   "metadata": {
    "collapsed": true
   },
   "outputs": [],
   "source": [
    "# Utilities to perfrom data cleaning and preparation\n",
    "\n",
    "nlp = spacy.load('en', disable=['parser', 'ner'])\n",
    "\n",
    "# function to remove stopwords\n",
    "def remove_stopwords(rev):\n",
    "    rev_new = \" \".join([i for i in rev if i not in stop_words])\n",
    "    return rev_new\n",
    "\n",
    "def lemmatization(texts, tags=['NOUN', 'ADJ']):\n",
    "    output = []\n",
    "    for sent in texts:\n",
    "        doc = nlp(\" \".join(sent)) \n",
    "        output.append([token.lemma_ for token in doc if token.pos_ in tags])\n",
    "    return output\n",
    "\n",
    "# function to remove custom stopwords\n",
    "def remove_custom_stopwords(texts):\n",
    "    output = []\n",
    "    for sent in texts:\n",
    "        output.append([word for word in sent if word not in custom_stopwords])\n",
    "    return output"
   ]
  },
  {
   "cell_type": "code",
   "execution_count": 7,
   "metadata": {
    "collapsed": true
   },
   "outputs": [],
   "source": [
    "# Merge title with content\n",
    "source_data['text'] = source_data['article_title'] + \" \" + source_data[\"article_content\"]\n",
    "\n",
    "# Convert column to str\n",
    "source_data['text'] = source_data['text'].apply(str)\n",
    "\n",
    "# Replace line breaks\n",
    "article_text = source_data['text'].str.replace(\"\\n\", \" \")\n",
    "\n",
    "# remove unwanted characters, numbers and symbols\n",
    "article_text = article_text.str.replace(\"[^a-zA-Z#]\", \" \")\n",
    "\n",
    "# remove short words (length < 3)\n",
    "article_text = article_text.apply(lambda x: ' '.join([w for w in x.split() if len(w)>2]))\n",
    "\n",
    "# make entire text lowercase\n",
    "article_text = [r.lower() for r in article_text]\n",
    "\n",
    "# remove stopwords from the text\n",
    "article_text = [remove_stopwords(r.split()) for r in article_text]\n",
    "\n",
    "# Tokenize\n",
    "tokenized_text = pd.Series(article_text).apply(lambda x: x.split())\n",
    "# Lemmatize\n",
    "tokenized_text = lemmatization(tokenized_text)\n",
    "# Remove custom stopwords\n",
    "tokenized_text = remove_custom_stopwords(tokenized_text)\n",
    "\n",
    "flattened_text = []\n",
    "for i in range(len(tokenized_text)):\n",
    "    flattened_text.append(' '.join(tokenized_text[i]))\n",
    "\n",
    "source_data['text'] = flattened_text\n",
    "\n",
    "# Update word count\n",
    "source_data['word_count'] = source_data['text'].str.split().str.len()\n",
    "\n",
    "# Remove word count < 15\n",
    "source_data = source_data[source_data['word_count'] > 14]\n",
    "source_data = source_data.reset_index()"
   ]
  },
  {
   "cell_type": "code",
   "execution_count": 8,
   "metadata": {},
   "outputs": [
    {
     "name": "stdout",
     "output_type": "stream",
     "text": [
      "Shape: (1727, 7)\n"
     ]
    },
    {
     "data": {
      "text/html": [
       "<div>\n",
       "<style scoped>\n",
       "    .dataframe tbody tr th:only-of-type {\n",
       "        vertical-align: middle;\n",
       "    }\n",
       "\n",
       "    .dataframe tbody tr th {\n",
       "        vertical-align: top;\n",
       "    }\n",
       "\n",
       "    .dataframe thead th {\n",
       "        text-align: right;\n",
       "    }\n",
       "</style>\n",
       "<table border=\"1\" class=\"dataframe\">\n",
       "  <thead>\n",
       "    <tr style=\"text-align: right;\">\n",
       "      <th></th>\n",
       "      <th>index</th>\n",
       "      <th>article_date</th>\n",
       "      <th>article_title</th>\n",
       "      <th>article_content</th>\n",
       "      <th>article_url</th>\n",
       "      <th>word_count</th>\n",
       "      <th>text</th>\n",
       "    </tr>\n",
       "  </thead>\n",
       "  <tbody>\n",
       "    <tr>\n",
       "      <th>0</th>\n",
       "      <td>0</td>\n",
       "      <td>2019-09-19 16:30:00</td>\n",
       "      <td>Apply for a 2020 Supported Award</td>\n",
       "      <td>Each year, SOT presents awards in partnership ...</td>\n",
       "      <td>https://toxchange.toxicology.org/p/bl/et/bloga...</td>\n",
       "      <td>49</td>\n",
       "      <td>syngenta recipient deadline replace refine tox...</td>\n",
       "    </tr>\n",
       "    <tr>\n",
       "      <th>1</th>\n",
       "      <td>1</td>\n",
       "      <td>2019-09-19 16:30:00</td>\n",
       "      <td>Nominate a Scientist or Clinician for the 2020...</td>\n",
       "      <td>The SOT Translational/Bridging Travel Award is...</td>\n",
       "      <td>https://toxchange.toxicology.org/p/bl/et/bloga...</td>\n",
       "      <td>18</td>\n",
       "      <td>nominate assist mid clinician clinical clinica...</td>\n",
       "    </tr>\n",
       "    <tr>\n",
       "      <th>2</th>\n",
       "      <td>2</td>\n",
       "      <td>2019-09-19 16:30:00</td>\n",
       "      <td>National Postdoc Appreciation Week: A Message ...</td>\n",
       "      <td>I would like to thank everyone who participate...</td>\n",
       "      <td>https://toxchange.toxicology.org/p/bl/et/bloga...</td>\n",
       "      <td>35</td>\n",
       "      <td>assembly pda nationwide accomplishment integra...</td>\n",
       "    </tr>\n",
       "    <tr>\n",
       "      <th>3</th>\n",
       "      <td>3</td>\n",
       "      <td>2019-09-19 16:30:00</td>\n",
       "      <td>Nominations Are Open for the 2020 SOT Translat...</td>\n",
       "      <td>The SOT Translational Impact Award is presente...</td>\n",
       "      <td>https://toxchange.toxicology.org/p/bl/et/bloga...</td>\n",
       "      <td>19</td>\n",
       "      <td>nomination nonmember outstanding clinical toxi...</td>\n",
       "    </tr>\n",
       "    <tr>\n",
       "      <th>4</th>\n",
       "      <td>4</td>\n",
       "      <td>2019-09-19 16:30:00</td>\n",
       "      <td>SOT/SOT Endowment Fund/IUTOX Travel Awards: Fu...</td>\n",
       "      <td>The SOT/SOT Endowment Fund/IUTOX Travel Awards...</td>\n",
       "      <td>https://toxchange.toxicology.org/p/bl/et/bloga...</td>\n",
       "      <td>16</td>\n",
       "      <td>iutox iutox toxicology junior toxicology under...</td>\n",
       "    </tr>\n",
       "  </tbody>\n",
       "</table>\n",
       "</div>"
      ],
      "text/plain": [
       "   index        article_date  \\\n",
       "0      0 2019-09-19 16:30:00   \n",
       "1      1 2019-09-19 16:30:00   \n",
       "2      2 2019-09-19 16:30:00   \n",
       "3      3 2019-09-19 16:30:00   \n",
       "4      4 2019-09-19 16:30:00   \n",
       "\n",
       "                                       article_title  \\\n",
       "0                   Apply for a 2020 Supported Award   \n",
       "1  Nominate a Scientist or Clinician for the 2020...   \n",
       "2  National Postdoc Appreciation Week: A Message ...   \n",
       "3  Nominations Are Open for the 2020 SOT Translat...   \n",
       "4  SOT/SOT Endowment Fund/IUTOX Travel Awards: Fu...   \n",
       "\n",
       "                                     article_content  \\\n",
       "0  Each year, SOT presents awards in partnership ...   \n",
       "1  The SOT Translational/Bridging Travel Award is...   \n",
       "2  I would like to thank everyone who participate...   \n",
       "3  The SOT Translational Impact Award is presente...   \n",
       "4  The SOT/SOT Endowment Fund/IUTOX Travel Awards...   \n",
       "\n",
       "                                         article_url  word_count  \\\n",
       "0  https://toxchange.toxicology.org/p/bl/et/bloga...          49   \n",
       "1  https://toxchange.toxicology.org/p/bl/et/bloga...          18   \n",
       "2  https://toxchange.toxicology.org/p/bl/et/bloga...          35   \n",
       "3  https://toxchange.toxicology.org/p/bl/et/bloga...          19   \n",
       "4  https://toxchange.toxicology.org/p/bl/et/bloga...          16   \n",
       "\n",
       "                                                text  \n",
       "0  syngenta recipient deadline replace refine tox...  \n",
       "1  nominate assist mid clinician clinical clinica...  \n",
       "2  assembly pda nationwide accomplishment integra...  \n",
       "3  nomination nonmember outstanding clinical toxi...  \n",
       "4  iutox iutox toxicology junior toxicology under...  "
      ]
     },
     "execution_count": 8,
     "metadata": {},
     "output_type": "execute_result"
    }
   ],
   "source": [
    "print(\"Shape:\",source_data.shape)\n",
    "source_data.head()"
   ]
  },
  {
   "cell_type": "code",
   "execution_count": 9,
   "metadata": {},
   "outputs": [
    {
     "name": "stdout",
     "output_type": "stream",
     "text": [
      "------ Blog 1--------\n",
      "syngenta recipient deadline replace refine toxicological nonmammalian modeling structure methodology contribute dissertation toxicology expense expense consistent sponsor stipend trainee preference applicant identifie refine validate acceptable formulation nonanimal acute toxicity maximum lump payment progression eligible submit awardee subsequent mode dependent causal sequence toxicity quantitative extrapolation dose trainee recipient recipient communiqu\n",
      "------ Blog 2--------\n",
      "nominate assist mid clinician clinical clinical toxicology ceremony nomination nomination package nomination nominee maximum nonmember qualified bridging recipient\n",
      "------ Blog 3--------\n",
      "assembly pda nationwide accomplishment integral pda recruitment pda formulate toxicology ideal stay scholar involvement pda scholar scholar advancement dedicated volunteer pda provide excited planning pda upcoming poster informational luncheon assembly luncheon outstanding traineeship exceptional toxicology\n"
     ]
    }
   ],
   "source": [
    "# Preview some pre processed text\n",
    "print(\"------ Blog 1--------\")\n",
    "print(source_data[\"text\"][0][:500])\n",
    "print(\"------ Blog 2--------\")\n",
    "print(source_data[\"text\"][1][:500])\n",
    "print(\"------ Blog 3--------\")\n",
    "print(source_data[\"text\"][2][:500])"
   ]
  },
  {
   "cell_type": "markdown",
   "metadata": {},
   "source": [
    "## Build Word2Vec\n"
   ]
  },
  {
   "cell_type": "code",
   "execution_count": 10,
   "metadata": {},
   "outputs": [
    {
     "name": "stdout",
     "output_type": "stream",
     "text": [
      "Shape Train: (1709, 8)\n",
      "Shape Test: (18, 8)\n"
     ]
    }
   ],
   "source": [
    "# Train Test Split\n",
    "train,test = train_test_split(source_data,test_size=0.01, shuffle=False)\n",
    "train = train.reset_index()\n",
    "test = test.reset_index()\n",
    "\n",
    "tokenized_text_train = train['text'].apply(lambda x: x.split()).tolist()\n",
    "tokenized_text_test = test['text'].apply(lambda x: x.split()).tolist()\n",
    "\n",
    "print(\"Shape Train:\",train.shape)\n",
    "print(\"Shape Test:\",test.shape)"
   ]
  },
  {
   "cell_type": "code",
   "execution_count": 11,
   "metadata": {
    "collapsed": true
   },
   "outputs": [],
   "source": [
    "tokenized_text_train\n",
    "# Set parameters\n",
    "feature_size = 20    # Word vector dimensionality  \n",
    "window_context = 30  # Context window size                                                                                    \n",
    "min_word_count = 1   # Minimum word count                        \n",
    "sample = 1e-3        # Downsample setting for frequent words\n",
    "\n",
    "w2v_model = Word2Vec(tokenized_text_train, size=feature_size, \n",
    "                          window=window_context, min_count=min_word_count,\n",
    "                          sample=sample, iter=100)"
   ]
  },
  {
   "cell_type": "code",
   "execution_count": 12,
   "metadata": {},
   "outputs": [
    {
     "name": "stdout",
     "output_type": "stream",
     "text": [
      "Shape Train: (1709, 9)\n"
     ]
    },
    {
     "data": {
      "text/html": [
       "<div>\n",
       "<style scoped>\n",
       "    .dataframe tbody tr th:only-of-type {\n",
       "        vertical-align: middle;\n",
       "    }\n",
       "\n",
       "    .dataframe tbody tr th {\n",
       "        vertical-align: top;\n",
       "    }\n",
       "\n",
       "    .dataframe thead th {\n",
       "        text-align: right;\n",
       "    }\n",
       "</style>\n",
       "<table border=\"1\" class=\"dataframe\">\n",
       "  <thead>\n",
       "    <tr style=\"text-align: right;\">\n",
       "      <th></th>\n",
       "      <th>level_0</th>\n",
       "      <th>index</th>\n",
       "      <th>article_date</th>\n",
       "      <th>article_title</th>\n",
       "      <th>article_content</th>\n",
       "      <th>article_url</th>\n",
       "      <th>word_count</th>\n",
       "      <th>text</th>\n",
       "      <th>relevant_words</th>\n",
       "    </tr>\n",
       "  </thead>\n",
       "  <tbody>\n",
       "    <tr>\n",
       "      <th>0</th>\n",
       "      <td>0</td>\n",
       "      <td>0</td>\n",
       "      <td>2019-09-19 16:30:00</td>\n",
       "      <td>Apply for a 2020 Supported Award</td>\n",
       "      <td>Each year, SOT presents awards in partnership ...</td>\n",
       "      <td>https://toxchange.toxicology.org/p/bl/et/bloga...</td>\n",
       "      <td>49</td>\n",
       "      <td>syngenta recipient deadline replace refine tox...</td>\n",
       "      <td>[validate, acceptable, nonanimal, methodology,...</td>\n",
       "    </tr>\n",
       "    <tr>\n",
       "      <th>1</th>\n",
       "      <td>1</td>\n",
       "      <td>1</td>\n",
       "      <td>2019-09-19 16:30:00</td>\n",
       "      <td>Nominate a Scientist or Clinician for the 2020...</td>\n",
       "      <td>The SOT Translational/Bridging Travel Award is...</td>\n",
       "      <td>https://toxchange.toxicology.org/p/bl/et/bloga...</td>\n",
       "      <td>18</td>\n",
       "      <td>nominate assist mid clinician clinical clinica...</td>\n",
       "      <td>[nonmember, recipient, nomination]</td>\n",
       "    </tr>\n",
       "    <tr>\n",
       "      <th>2</th>\n",
       "      <td>2</td>\n",
       "      <td>2</td>\n",
       "      <td>2019-09-19 16:30:00</td>\n",
       "      <td>National Postdoc Appreciation Week: A Message ...</td>\n",
       "      <td>I would like to thank everyone who participate...</td>\n",
       "      <td>https://toxchange.toxicology.org/p/bl/et/bloga...</td>\n",
       "      <td>35</td>\n",
       "      <td>assembly pda nationwide accomplishment integra...</td>\n",
       "      <td>[volunteer, nationwide, informational, trainee...</td>\n",
       "    </tr>\n",
       "    <tr>\n",
       "      <th>3</th>\n",
       "      <td>3</td>\n",
       "      <td>3</td>\n",
       "      <td>2019-09-19 16:30:00</td>\n",
       "      <td>Nominations Are Open for the 2020 SOT Translat...</td>\n",
       "      <td>The SOT Translational Impact Award is presente...</td>\n",
       "      <td>https://toxchange.toxicology.org/p/bl/et/bloga...</td>\n",
       "      <td>19</td>\n",
       "      <td>nomination nonmember outstanding clinical toxi...</td>\n",
       "      <td>[nonmember, recipient, nomination, seconding]</td>\n",
       "    </tr>\n",
       "    <tr>\n",
       "      <th>4</th>\n",
       "      <td>4</td>\n",
       "      <td>4</td>\n",
       "      <td>2019-09-19 16:30:00</td>\n",
       "      <td>SOT/SOT Endowment Fund/IUTOX Travel Awards: Fu...</td>\n",
       "      <td>The SOT/SOT Endowment Fund/IUTOX Travel Awards...</td>\n",
       "      <td>https://toxchange.toxicology.org/p/bl/et/bloga...</td>\n",
       "      <td>16</td>\n",
       "      <td>iutox iutox toxicology junior toxicology under...</td>\n",
       "      <td>[download, expense]</td>\n",
       "    </tr>\n",
       "  </tbody>\n",
       "</table>\n",
       "</div>"
      ],
      "text/plain": [
       "   level_0  index        article_date  \\\n",
       "0        0      0 2019-09-19 16:30:00   \n",
       "1        1      1 2019-09-19 16:30:00   \n",
       "2        2      2 2019-09-19 16:30:00   \n",
       "3        3      3 2019-09-19 16:30:00   \n",
       "4        4      4 2019-09-19 16:30:00   \n",
       "\n",
       "                                       article_title  \\\n",
       "0                   Apply for a 2020 Supported Award   \n",
       "1  Nominate a Scientist or Clinician for the 2020...   \n",
       "2  National Postdoc Appreciation Week: A Message ...   \n",
       "3  Nominations Are Open for the 2020 SOT Translat...   \n",
       "4  SOT/SOT Endowment Fund/IUTOX Travel Awards: Fu...   \n",
       "\n",
       "                                     article_content  \\\n",
       "0  Each year, SOT presents awards in partnership ...   \n",
       "1  The SOT Translational/Bridging Travel Award is...   \n",
       "2  I would like to thank everyone who participate...   \n",
       "3  The SOT Translational Impact Award is presente...   \n",
       "4  The SOT/SOT Endowment Fund/IUTOX Travel Awards...   \n",
       "\n",
       "                                         article_url  word_count  \\\n",
       "0  https://toxchange.toxicology.org/p/bl/et/bloga...          49   \n",
       "1  https://toxchange.toxicology.org/p/bl/et/bloga...          18   \n",
       "2  https://toxchange.toxicology.org/p/bl/et/bloga...          35   \n",
       "3  https://toxchange.toxicology.org/p/bl/et/bloga...          19   \n",
       "4  https://toxchange.toxicology.org/p/bl/et/bloga...          16   \n",
       "\n",
       "                                                text  \\\n",
       "0  syngenta recipient deadline replace refine tox...   \n",
       "1  nominate assist mid clinician clinical clinica...   \n",
       "2  assembly pda nationwide accomplishment integra...   \n",
       "3  nomination nonmember outstanding clinical toxi...   \n",
       "4  iutox iutox toxicology junior toxicology under...   \n",
       "\n",
       "                                      relevant_words  \n",
       "0  [validate, acceptable, nonanimal, methodology,...  \n",
       "1                 [nonmember, recipient, nomination]  \n",
       "2  [volunteer, nationwide, informational, trainee...  \n",
       "3      [nonmember, recipient, nomination, seconding]  \n",
       "4                                [download, expense]  "
      ]
     },
     "execution_count": 12,
     "metadata": {},
     "output_type": "execute_result"
    }
   ],
   "source": [
    "TOP_N_SIMILAR_WORDS = 10\n",
    "COSINE_SIMILARITY_THRESHOLD = 0.70\n",
    "NUM_SIMILAR_WORDS_THRESHOLD = 6\n",
    "\n",
    "# Find relevant words in the train set\n",
    "train[\"relevant_words\"] = \"\"\n",
    "for index, row in train.iterrows():\n",
    "    # Get tokenized text\n",
    "    tokenized_text = row[\"text\"].split()\n",
    "    # Get the unique words in the document\n",
    "    unique_words = set(tokenized_text)\n",
    "    relevant_words = []\n",
    "    for word in unique_words:\n",
    "        # Find similar words from the corpus\n",
    "        similar_words = w2v_model.wv.most_similar([word], topn=TOP_N_SIMILAR_WORDS)\n",
    "        similar_words = [x[0] for x in similar_words if x[1] >= COSINE_SIMILARITY_THRESHOLD]\n",
    "        if len(similar_words) >= NUM_SIMILAR_WORDS_THRESHOLD:\n",
    "            relevant_words.append(word)\n",
    "    \n",
    "    train.at[index, \"relevant_words\"]=relevant_words\n",
    "\n",
    "print(\"Shape Train:\",train.shape)\n",
    "train.head()"
   ]
  },
  {
   "cell_type": "markdown",
   "metadata": {},
   "source": [
    "## Model Evaluation\n",
    "\n",
    "We will visually look at a few of the blogs ot see if the relevant words identified makes sense from the model"
   ]
  },
  {
   "cell_type": "code",
   "execution_count": 13,
   "metadata": {
    "collapsed": true
   },
   "outputs": [],
   "source": [
    "def evaluate_results(row):\n",
    "    text = row[\"text\"]\n",
    "    relevant_words = row[\"relevant_words\"]\n",
    "    for relevant_word in relevant_words:\n",
    "        text = text.replace(relevant_word, '\\x1b[1;03;31;46m'+ relevant_word + '\\x1b[0m')\n",
    "    \n",
    "    print(text)"
   ]
  },
  {
   "cell_type": "code",
   "execution_count": 14,
   "metadata": {},
   "outputs": [
    {
     "name": "stdout",
     "output_type": "stream",
     "text": [
      "\u001b[1;03;31;46msyngenta\u001b[0m \u001b[1;03;31;46mrecipient\u001b[0m deadline replace refine toxicological \u001b[1;03;31;46mnonmammalian\u001b[0m modeling \u001b[1;03;31;46mstructure\u001b[0m \u001b[1;03;31;46mmethodology\u001b[0m contribute dissertation toxicology \u001b[1;03;31;46mexpense\u001b[0m \u001b[1;03;31;46mexpense\u001b[0m consistent sponsor stipend trainee preference applicant identifie refine \u001b[1;03;31;46mvalidate\u001b[0m \u001b[1;03;31;46macceptable\u001b[0m formulation \u001b[1;03;31;46mnonanimal\u001b[0m acute toxicity maximum \u001b[1;03;31;46mlump\u001b[0m payment \u001b[1;03;31;46mprogression\u001b[0m eligible submit awardee subsequent mode \u001b[1;03;31;46mdependent\u001b[0m causal \u001b[1;03;31;46msequence\u001b[0m toxicity \u001b[1;03;31;46mquantitative\u001b[0m extrapolation dose trainee \u001b[1;03;31;46mrecipient\u001b[0m \u001b[1;03;31;46mrecipient\u001b[0m communiqu\n"
     ]
    }
   ],
   "source": [
    "# View some results\n",
    "evaluate_results(train.loc[0])"
   ]
  },
  {
   "cell_type": "code",
   "execution_count": 15,
   "metadata": {},
   "outputs": [
    {
     "name": "stdout",
     "output_type": "stream",
     "text": [
      "nominate assist mid clinician clinical clinical toxicology ceremony \u001b[1;03;31;46mnomination\u001b[0m \u001b[1;03;31;46mnomination\u001b[0m package \u001b[1;03;31;46mnomination\u001b[0m nominee maximum \u001b[1;03;31;46mnonmember\u001b[0m qualified bridging \u001b[1;03;31;46mrecipient\u001b[0m\n"
     ]
    }
   ],
   "source": [
    "# View some results\n",
    "evaluate_results(train.loc[1])"
   ]
  },
  {
   "cell_type": "code",
   "execution_count": 16,
   "metadata": {},
   "outputs": [
    {
     "name": "stdout",
     "output_type": "stream",
     "text": [
      "assembly pda \u001b[1;03;31;46mnationwide\u001b[0m accomplishment integral pda recruitment pda formulate toxicology ideal stay scholar involvement pda scholar scholar advancement dedicated \u001b[1;03;31;46mvolunteer\u001b[0m pda provide \u001b[1;03;31;46mexcited\u001b[0m planning pda upcoming poster \u001b[1;03;31;46minformational\u001b[0m luncheon assembly luncheon outstanding \u001b[1;03;31;46mtraineeship\u001b[0m exceptional toxicology\n"
     ]
    }
   ],
   "source": [
    "# View some results\n",
    "evaluate_results(train.loc[2])"
   ]
  },
  {
   "cell_type": "code",
   "execution_count": 17,
   "metadata": {},
   "outputs": [
    {
     "name": "stdout",
     "output_type": "stream",
     "text": [
      "\u001b[1;03;31;46mnomination\u001b[0m \u001b[1;03;31;46mnonmember\u001b[0m outstanding clinical toxicological multidisciplinary toxicity toxicologist clinician \u001b[1;03;31;46mseconding\u001b[0m \u001b[1;03;31;46mnomination\u001b[0m toxicology maximum accomplishment sufficient \u001b[1;03;31;46mnomination\u001b[0m deadline \u001b[1;03;31;46mnomination\u001b[0m \u001b[1;03;31;46mrecipient\u001b[0m\n"
     ]
    }
   ],
   "source": [
    "# View some results\n",
    "evaluate_results(train.loc[3])"
   ]
  },
  {
   "cell_type": "code",
   "execution_count": 18,
   "metadata": {},
   "outputs": [
    {
     "name": "stdout",
     "output_type": "stream",
     "text": [
      "scholar assembly scholar toxicology outstanding toxicological pleased announce outstanding toxicology assembly luncheon awardee plaque recognition accomplishment \u001b[1;03;31;46mconfidentiality\u001b[0m \u001b[1;03;31;46mnondisclosure\u001b[0m \u001b[1;03;31;46mrecipient\u001b[0m headquarters adviser \u001b[1;03;31;46mnomination\u001b[0m applicant \u001b[1;03;31;46msignificance\u001b[0m headquarters\n"
     ]
    }
   ],
   "source": [
    "# View some results\n",
    "evaluate_results(train.loc[5])"
   ]
  },
  {
   "cell_type": "code",
   "execution_count": null,
   "metadata": {
    "collapsed": true
   },
   "outputs": [],
   "source": []
  }
 ],
 "metadata": {
  "kernelspec": {
   "display_name": "tti-platform",
   "language": "python",
   "name": "tti-platform"
  },
  "language_info": {
   "codemirror_mode": {
    "name": "ipython",
    "version": 3
   },
   "file_extension": ".py",
   "mimetype": "text/x-python",
   "name": "python",
   "nbconvert_exporter": "python",
   "pygments_lexer": "ipython3",
   "version": "3.7.2"
  }
 },
 "nbformat": 4,
 "nbformat_minor": 2
}
