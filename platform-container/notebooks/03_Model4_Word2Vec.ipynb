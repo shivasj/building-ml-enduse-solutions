{
 "cells": [
  {
   "cell_type": "markdown",
   "metadata": {},
   "source": [
    "# Word2Vec"
   ]
  },
  {
   "cell_type": "code",
   "execution_count": 1,
   "metadata": {},
   "outputs": [],
   "source": [
    "# imports\n",
    "import sys\n",
    "import os\n",
    "import numpy as np\n",
    "import pandas as pd\n",
    "import sqlite3\n",
    "import json\n",
    "import re\n",
    "import spacy\n",
    "import math\n",
    "import datetime\n",
    "\n",
    "from gensim.models import Word2Vec\n",
    "\n",
    "from nltk.corpus import stopwords\n",
    "stop_words = stopwords.words('english')"
   ]
  },
  {
   "cell_type": "markdown",
   "metadata": {
    "collapsed": true
   },
   "source": [
    "## Model\n",
    "\n",
    "In this approach we will use a Word2Vec model. The Word2Vec model is used for learning vector representations of words called word embeddings. We will find the word embeddings of the entire corpus. The next step will be to go through each document and find the words that has the most similar words from the entire corpus. These words will be marked as relevant words in the document.\n"
   ]
  },
  {
   "cell_type": "markdown",
   "metadata": {},
   "source": [
    "## Dataset\n",
    "\n",
    "For this experiment lets pull in the news articles for the last few days"
   ]
  },
  {
   "cell_type": "code",
   "execution_count": 2,
   "metadata": {},
   "outputs": [
    {
     "name": "stdout",
     "output_type": "stream",
     "text": [
      "Shape: (166, 7)\n"
     ]
    },
    {
     "data": {
      "text/html": [
       "<div>\n",
       "<style scoped>\n",
       "    .dataframe tbody tr th:only-of-type {\n",
       "        vertical-align: middle;\n",
       "    }\n",
       "\n",
       "    .dataframe tbody tr th {\n",
       "        vertical-align: top;\n",
       "    }\n",
       "\n",
       "    .dataframe thead th {\n",
       "        text-align: right;\n",
       "    }\n",
       "</style>\n",
       "<table border=\"1\" class=\"dataframe\">\n",
       "  <thead>\n",
       "    <tr style=\"text-align: right;\">\n",
       "      <th></th>\n",
       "      <th>id</th>\n",
       "      <th>source</th>\n",
       "      <th>article_link</th>\n",
       "      <th>article_date</th>\n",
       "      <th>article_title</th>\n",
       "      <th>article_content</th>\n",
       "      <th>article_dts</th>\n",
       "    </tr>\n",
       "  </thead>\n",
       "  <tbody>\n",
       "    <tr>\n",
       "      <th>0</th>\n",
       "      <td>7c66bfc6f7b115ac9ea1c443d64d9f662a3c7257d06d2a...</td>\n",
       "      <td>npr</td>\n",
       "      <td>https://www.npr.org/2019/12/24/791102803/trump...</td>\n",
       "      <td>December 24, 2019</td>\n",
       "      <td>Trump Downplays Threat Of 'Gift' From North Ko...</td>\n",
       "      <td>President Trump did not seem concerned Tuesday...</td>\n",
       "      <td>1.577146e+09</td>\n",
       "    </tr>\n",
       "    <tr>\n",
       "      <th>1</th>\n",
       "      <td>d5e50fa5f13830087bedc86232317ea1790d2417d4d729...</td>\n",
       "      <td>npr</td>\n",
       "      <td>https://www.npr.org/2019/12/23/790747698/newly...</td>\n",
       "      <td>December 23, 2019</td>\n",
       "      <td>Ukraine Emails Fuel Democrats' Call For Impeac...</td>\n",
       "      <td>Party leaders in Congress continued to spar Mo...</td>\n",
       "      <td>1.577059e+09</td>\n",
       "    </tr>\n",
       "    <tr>\n",
       "      <th>2</th>\n",
       "      <td>2b767e199bd897158dd7f8b999bef7aa592b82fd4548eb...</td>\n",
       "      <td>nymag</td>\n",
       "      <td>http://nymag.com/intelligencer/2019/12/matt-sh...</td>\n",
       "      <td>Dec. 24, 2019</td>\n",
       "      <td>GOP Lawmaker Plotted Insurrections to Establis...</td>\n",
       "      <td>Shea’s rebellion. Photo: Ted S Warren/AP/Shutt...</td>\n",
       "      <td>1.577146e+09</td>\n",
       "    </tr>\n",
       "    <tr>\n",
       "      <th>3</th>\n",
       "      <td>139c45cf3296a8e4f8bf50d3525b808be1620b3b670778...</td>\n",
       "      <td>nymag</td>\n",
       "      <td>http://nymag.com/intelligencer/2020/01/iran-ge...</td>\n",
       "      <td>Jan. 2, 2020</td>\n",
       "      <td>U.S. Kills Iranian General Qasem Suleimani in ...</td>\n",
       "      <td>A Shiite Muslim pilgrim walks with a bag adorn...</td>\n",
       "      <td>1.577923e+09</td>\n",
       "    </tr>\n",
       "    <tr>\n",
       "      <th>4</th>\n",
       "      <td>f99ee44a2f210564c2eb3bc91a781f36dd6de44142047a...</td>\n",
       "      <td>nymag</td>\n",
       "      <td>http://nymag.com/intelligencer/2019/12/a-gloss...</td>\n",
       "      <td>Dec. 31, 2019</td>\n",
       "      <td>A Glossary of Everyday Things, According to Trump</td>\n",
       "      <td>Donald Trump. Photo: Chip Somodevilla/Getty Im...</td>\n",
       "      <td>1.577750e+09</td>\n",
       "    </tr>\n",
       "  </tbody>\n",
       "</table>\n",
       "</div>"
      ],
      "text/plain": [
       "                                                  id source  \\\n",
       "0  7c66bfc6f7b115ac9ea1c443d64d9f662a3c7257d06d2a...    npr   \n",
       "1  d5e50fa5f13830087bedc86232317ea1790d2417d4d729...    npr   \n",
       "2  2b767e199bd897158dd7f8b999bef7aa592b82fd4548eb...  nymag   \n",
       "3  139c45cf3296a8e4f8bf50d3525b808be1620b3b670778...  nymag   \n",
       "4  f99ee44a2f210564c2eb3bc91a781f36dd6de44142047a...  nymag   \n",
       "\n",
       "                                        article_link       article_date  \\\n",
       "0  https://www.npr.org/2019/12/24/791102803/trump...  December 24, 2019   \n",
       "1  https://www.npr.org/2019/12/23/790747698/newly...  December 23, 2019   \n",
       "2  http://nymag.com/intelligencer/2019/12/matt-sh...      Dec. 24, 2019   \n",
       "3  http://nymag.com/intelligencer/2020/01/iran-ge...       Jan. 2, 2020   \n",
       "4  http://nymag.com/intelligencer/2019/12/a-gloss...      Dec. 31, 2019   \n",
       "\n",
       "                                       article_title  \\\n",
       "0  Trump Downplays Threat Of 'Gift' From North Ko...   \n",
       "1  Ukraine Emails Fuel Democrats' Call For Impeac...   \n",
       "2  GOP Lawmaker Plotted Insurrections to Establis...   \n",
       "3  U.S. Kills Iranian General Qasem Suleimani in ...   \n",
       "4  A Glossary of Everyday Things, According to Trump   \n",
       "\n",
       "                                     article_content   article_dts  \n",
       "0  President Trump did not seem concerned Tuesday...  1.577146e+09  \n",
       "1  Party leaders in Congress continued to spar Mo...  1.577059e+09  \n",
       "2  Shea’s rebellion. Photo: Ted S Warren/AP/Shutt...  1.577146e+09  \n",
       "3  A Shiite Muslim pilgrim walks with a bag adorn...  1.577923e+09  \n",
       "4  Donald Trump. Photo: Chip Somodevilla/Getty Im...  1.577750e+09  "
      ]
     },
     "execution_count": 2,
     "metadata": {},
     "output_type": "execute_result"
    }
   ],
   "source": [
    "# Connect to database\n",
    "database_url = \"../datastore/app_data.db\"\n",
    "database = sqlite3.connect(database_url)\n",
    "\n",
    "sql = \"select * from articles\"\n",
    "source_data = pd.read_sql_query(sql, database)\n",
    "\n",
    "print(\"Shape:\",source_data.shape)\n",
    "source_data.head()"
   ]
  },
  {
   "cell_type": "code",
   "execution_count": 3,
   "metadata": {},
   "outputs": [
    {
     "name": "stdout",
     "output_type": "stream",
     "text": [
      "Number of Article: 166\n",
      "Minimum Article Date: Dec 23 2019\n",
      "Maximum Article Date: Jan 05 2020\n",
      "Minimum Word Count: 111\n",
      "Maximum Word Count: 5,195\n"
     ]
    }
   ],
   "source": [
    "source_data['word_count'] = source_data['article_content'].str.split().str.len()\n",
    "\n",
    "# View some metrics of data\n",
    "print(\"Number of Article:\",f'{source_data.shape[0]:,}')\n",
    "print(\"Minimum Article Date:\",datetime.datetime.fromtimestamp(min(source_data['article_dts'])).strftime(\"%b %d %Y\"))\n",
    "print(\"Maximum Article Date:\",datetime.datetime.fromtimestamp(max(source_data['article_dts'])).strftime(\"%b %d %Y\"))\n",
    "print(\"Minimum Word Count:\",min(source_data['word_count']))\n",
    "print(\"Maximum Word Count:\",f'{max(source_data[\"word_count\"]):,}')"
   ]
  },
  {
   "cell_type": "code",
   "execution_count": 4,
   "metadata": {},
   "outputs": [
    {
     "name": "stdout",
     "output_type": "stream",
     "text": [
      "------ Article 1--------\n",
      "Trump Downplays Threat Of 'Gift' From North Korea: Maybe It's A 'Beautiful Vase' President Trump did not seem concerned Tuesday when asked about the threat of a \"Christmas present\" from North Korea if the U.S. doesn't roll back economic sanctions on the country by the end of the year. \"Maybe it's a nice present,\" Trump told reporters at an event at his Mar-a-Lago resort in Florida. \"Maybe it's a present where he sends me a beautiful vase, as opposed to a missile test.\" Pyongyang imposed an end-of-year deadline for concessions from the U.S. earlier this month, but the Trump a\n",
      "------ Article 2--------\n",
      "Ukraine Emails Fuel Democrats' Call For Impeachment Trial Witnesses Party leaders in Congress continued to spar Monday over details of an impending impeachment trial in the Senate, with newly released emails giving more ammunition to Democrats in their requests for new witnesses. The emails, released late Friday to the Center for Public Integrity, are heavily redacted, but Democrats have jumped on one in particular to bolster their argument that there is more to know about the saga of President Trump withholding military aid to Ukraine in exchange for political \n",
      "------ Article 3--------\n",
      "GOP Lawmaker Plotted Insurrections to Establish Christian State Shea’s rebellion. Photo: Ted S Warren/AP/Shutterstock Last year, the chair of the Republican caucus in Washington’s state legislature acknowledged that he had written a manifesto on the “Biblical Basis for War.” In that document, the lawmaker argued that – as far as Jesus Christ was concerned – American Christians have the right to “kill all males” who support abortion, same-sex marriage or communism (so long as they first give such infidels the opportunity to renounce their heresies). The manif\n"
     ]
    }
   ],
   "source": [
    "# Preview some articles\n",
    "print(\"------ Article 1--------\")\n",
    "print(source_data[\"article_title\"][0],source_data[\"article_content\"][0][:500])\n",
    "print(\"------ Article 2--------\")\n",
    "print(source_data[\"article_title\"][1],source_data[\"article_content\"][1][:500])\n",
    "print(\"------ Article 3--------\")\n",
    "print(source_data[\"article_title\"][2],source_data[\"article_content\"][2][:500])"
   ]
  },
  {
   "cell_type": "markdown",
   "metadata": {},
   "source": [
    "## Data Preprocessing\n",
    "\n",
    "The data preprocessing steps that we will follow inorder to feed the data to the model are:\n",
    "- Combine Title with Blog Content\n",
    "- Remove line breaks\n",
    "- Remove Special Characters\n",
    "- Remove small words < 3 letters\n",
    "- Convert text to lowercase\n",
    "- Remove stop words\n",
    "- Tokenize\n",
    "- Lemmatization\n",
    "- Remove custom stop words"
   ]
  },
  {
   "cell_type": "code",
   "execution_count": 5,
   "metadata": {},
   "outputs": [
    {
     "name": "stdout",
     "output_type": "stream",
     "text": [
      "Shape: (6, 1)\n"
     ]
    }
   ],
   "source": [
    "# Custom stop words\n",
    "custom_stopwords_file ='../datastore/custom_stopwords.txt'\n",
    "custom_stopwords_df = pd.read_csv(custom_stopwords_file, header=None)\n",
    "print(\"Shape:\",custom_stopwords_df.shape)\n",
    "custom_stopwords = custom_stopwords_df[0].tolist()"
   ]
  },
  {
   "cell_type": "code",
   "execution_count": 6,
   "metadata": {},
   "outputs": [],
   "source": [
    "# Utilities to perfrom data cleaning and preparation\n",
    "\n",
    "nlp = spacy.load('en', disable=['parser', 'ner'])\n",
    "\n",
    "# function to remove stopwords\n",
    "def remove_stopwords(rev):\n",
    "    rev_new = \" \".join([i for i in rev if i not in stop_words])\n",
    "    return rev_new\n",
    "\n",
    "def lemmatization(texts, tags=['NOUN', 'ADJ']):\n",
    "    output = []\n",
    "    for sent in texts:\n",
    "        doc = nlp(\" \".join(sent)) \n",
    "        output.append([token.lemma_ for token in doc if token.pos_ in tags])\n",
    "    return output\n",
    "\n",
    "# function to remove custom stopwords\n",
    "def remove_custom_stopwords(texts):\n",
    "    output = []\n",
    "    for sent in texts:\n",
    "        output.append([word for word in sent if word not in custom_stopwords])\n",
    "    return output"
   ]
  },
  {
   "cell_type": "code",
   "execution_count": 7,
   "metadata": {},
   "outputs": [],
   "source": [
    "# Merge title with content\n",
    "source_data['text'] = source_data['article_title'] + \" \" + source_data[\"article_content\"]\n",
    "\n",
    "# Convert column to str\n",
    "source_data['text'] = source_data['text'].apply(str)\n",
    "\n",
    "# Replace line breaks\n",
    "article_text = source_data['text'].str.replace(\"\\n\", \" \")\n",
    "\n",
    "# remove unwanted characters, numbers and symbols\n",
    "article_text = article_text.str.replace(\"[^a-zA-Z#]\", \" \")\n",
    "\n",
    "# remove short words (length < 3)\n",
    "article_text = article_text.apply(lambda x: ' '.join([w for w in x.split() if len(w)>2]))\n",
    "\n",
    "# make entire text lowercase\n",
    "article_text = [r.lower() for r in article_text]\n",
    "\n",
    "# remove stopwords from the text\n",
    "article_text = [remove_stopwords(r.split()) for r in article_text]\n",
    "\n",
    "# Tokenize\n",
    "tokenized_text = pd.Series(article_text).apply(lambda x: x.split())\n",
    "# Lemmatize\n",
    "tokenized_text = lemmatization(tokenized_text)\n",
    "# Remove custom stopwords\n",
    "tokenized_text = remove_custom_stopwords(tokenized_text)\n",
    "\n",
    "flattened_text = []\n",
    "for i in range(len(tokenized_text)):\n",
    "    flattened_text.append(' '.join(tokenized_text[i]))\n",
    "\n",
    "source_data['text'] = flattened_text\n",
    "\n",
    "# Update word count\n",
    "source_data['word_count'] = source_data['text'].str.split().str.len()\n",
    "\n",
    "# Remove word count < 15\n",
    "source_data = source_data[source_data['word_count'] > 14]\n",
    "source_data = source_data.reset_index()"
   ]
  },
  {
   "cell_type": "code",
   "execution_count": 8,
   "metadata": {},
   "outputs": [
    {
     "name": "stdout",
     "output_type": "stream",
     "text": [
      "Shape: (166, 10)\n"
     ]
    },
    {
     "data": {
      "text/html": [
       "<div>\n",
       "<style scoped>\n",
       "    .dataframe tbody tr th:only-of-type {\n",
       "        vertical-align: middle;\n",
       "    }\n",
       "\n",
       "    .dataframe tbody tr th {\n",
       "        vertical-align: top;\n",
       "    }\n",
       "\n",
       "    .dataframe thead th {\n",
       "        text-align: right;\n",
       "    }\n",
       "</style>\n",
       "<table border=\"1\" class=\"dataframe\">\n",
       "  <thead>\n",
       "    <tr style=\"text-align: right;\">\n",
       "      <th></th>\n",
       "      <th>index</th>\n",
       "      <th>id</th>\n",
       "      <th>source</th>\n",
       "      <th>article_link</th>\n",
       "      <th>article_date</th>\n",
       "      <th>article_title</th>\n",
       "      <th>article_content</th>\n",
       "      <th>article_dts</th>\n",
       "      <th>word_count</th>\n",
       "      <th>text</th>\n",
       "    </tr>\n",
       "  </thead>\n",
       "  <tbody>\n",
       "    <tr>\n",
       "      <th>0</th>\n",
       "      <td>0</td>\n",
       "      <td>7c66bfc6f7b115ac9ea1c443d64d9f662a3c7257d06d2a...</td>\n",
       "      <td>npr</td>\n",
       "      <td>https://www.npr.org/2019/12/24/791102803/trump...</td>\n",
       "      <td>December 24, 2019</td>\n",
       "      <td>Trump Downplays Threat Of 'Gift' From North Ko...</td>\n",
       "      <td>President Trump did not seem concerned Tuesday...</td>\n",
       "      <td>1.577146e+09</td>\n",
       "      <td>64</td>\n",
       "      <td>beautiful vase president trump threat economic...</td>\n",
       "    </tr>\n",
       "    <tr>\n",
       "      <th>1</th>\n",
       "      <td>1</td>\n",
       "      <td>d5e50fa5f13830087bedc86232317ea1790d2417d4d729...</td>\n",
       "      <td>npr</td>\n",
       "      <td>https://www.npr.org/2019/12/23/790747698/newly...</td>\n",
       "      <td>December 23, 2019</td>\n",
       "      <td>Ukraine Emails Fuel Democrats' Call For Impeac...</td>\n",
       "      <td>Party leaders in Congress continued to spar Mo...</td>\n",
       "      <td>1.577059e+09</td>\n",
       "      <td>149</td>\n",
       "      <td>fuel impeachment trial party leader spar detai...</td>\n",
       "    </tr>\n",
       "    <tr>\n",
       "      <th>2</th>\n",
       "      <td>2</td>\n",
       "      <td>2b767e199bd897158dd7f8b999bef7aa592b82fd4548eb...</td>\n",
       "      <td>nymag</td>\n",
       "      <td>http://nymag.com/intelligencer/2019/12/matt-sh...</td>\n",
       "      <td>Dec. 24, 2019</td>\n",
       "      <td>GOP Lawmaker Plotted Insurrections to Establis...</td>\n",
       "      <td>Shea’s rebellion. Photo: Ted S Warren/AP/Shutt...</td>\n",
       "      <td>1.577146e+09</td>\n",
       "      <td>219</td>\n",
       "      <td>insurrection christian state rebellion photo l...</td>\n",
       "    </tr>\n",
       "    <tr>\n",
       "      <th>3</th>\n",
       "      <td>3</td>\n",
       "      <td>139c45cf3296a8e4f8bf50d3525b808be1620b3b670778...</td>\n",
       "      <td>nymag</td>\n",
       "      <td>http://nymag.com/intelligencer/2020/01/iran-ge...</td>\n",
       "      <td>Jan. 2, 2020</td>\n",
       "      <td>U.S. Kills Iranian General Qasem Suleimani in ...</td>\n",
       "      <td>A Shiite Muslim pilgrim walks with a bag adorn...</td>\n",
       "      <td>1.577923e+09</td>\n",
       "      <td>250</td>\n",
       "      <td>iranian major qud force morning photo getty im...</td>\n",
       "    </tr>\n",
       "    <tr>\n",
       "      <th>4</th>\n",
       "      <td>4</td>\n",
       "      <td>f99ee44a2f210564c2eb3bc91a781f36dd6de44142047a...</td>\n",
       "      <td>nymag</td>\n",
       "      <td>http://nymag.com/intelligencer/2019/12/a-gloss...</td>\n",
       "      <td>Dec. 31, 2019</td>\n",
       "      <td>A Glossary of Everyday Things, According to Trump</td>\n",
       "      <td>Donald Trump. Photo: Chip Somodevilla/Getty Im...</td>\n",
       "      <td>1.577750e+09</td>\n",
       "      <td>173</td>\n",
       "      <td>glossary everyday thing image mundane element ...</td>\n",
       "    </tr>\n",
       "  </tbody>\n",
       "</table>\n",
       "</div>"
      ],
      "text/plain": [
       "   index                                                 id source  \\\n",
       "0      0  7c66bfc6f7b115ac9ea1c443d64d9f662a3c7257d06d2a...    npr   \n",
       "1      1  d5e50fa5f13830087bedc86232317ea1790d2417d4d729...    npr   \n",
       "2      2  2b767e199bd897158dd7f8b999bef7aa592b82fd4548eb...  nymag   \n",
       "3      3  139c45cf3296a8e4f8bf50d3525b808be1620b3b670778...  nymag   \n",
       "4      4  f99ee44a2f210564c2eb3bc91a781f36dd6de44142047a...  nymag   \n",
       "\n",
       "                                        article_link       article_date  \\\n",
       "0  https://www.npr.org/2019/12/24/791102803/trump...  December 24, 2019   \n",
       "1  https://www.npr.org/2019/12/23/790747698/newly...  December 23, 2019   \n",
       "2  http://nymag.com/intelligencer/2019/12/matt-sh...      Dec. 24, 2019   \n",
       "3  http://nymag.com/intelligencer/2020/01/iran-ge...       Jan. 2, 2020   \n",
       "4  http://nymag.com/intelligencer/2019/12/a-gloss...      Dec. 31, 2019   \n",
       "\n",
       "                                       article_title  \\\n",
       "0  Trump Downplays Threat Of 'Gift' From North Ko...   \n",
       "1  Ukraine Emails Fuel Democrats' Call For Impeac...   \n",
       "2  GOP Lawmaker Plotted Insurrections to Establis...   \n",
       "3  U.S. Kills Iranian General Qasem Suleimani in ...   \n",
       "4  A Glossary of Everyday Things, According to Trump   \n",
       "\n",
       "                                     article_content   article_dts  \\\n",
       "0  President Trump did not seem concerned Tuesday...  1.577146e+09   \n",
       "1  Party leaders in Congress continued to spar Mo...  1.577059e+09   \n",
       "2  Shea’s rebellion. Photo: Ted S Warren/AP/Shutt...  1.577146e+09   \n",
       "3  A Shiite Muslim pilgrim walks with a bag adorn...  1.577923e+09   \n",
       "4  Donald Trump. Photo: Chip Somodevilla/Getty Im...  1.577750e+09   \n",
       "\n",
       "   word_count                                               text  \n",
       "0          64  beautiful vase president trump threat economic...  \n",
       "1         149  fuel impeachment trial party leader spar detai...  \n",
       "2         219  insurrection christian state rebellion photo l...  \n",
       "3         250  iranian major qud force morning photo getty im...  \n",
       "4         173  glossary everyday thing image mundane element ...  "
      ]
     },
     "execution_count": 8,
     "metadata": {},
     "output_type": "execute_result"
    }
   ],
   "source": [
    "print(\"Shape:\",source_data.shape)\n",
    "source_data.head()"
   ]
  },
  {
   "cell_type": "code",
   "execution_count": 9,
   "metadata": {},
   "outputs": [
    {
     "name": "stdout",
     "output_type": "stream",
     "text": [
      "------ Article 1--------\n",
      "beautiful vase president trump threat economic sanction country end year nice present trump reporter present beautiful vase missile test end year deadline concession early month administration sign plan pressure campaign entire nuclear arsenal sanction ambition top foreign policy priority series meeting solution surprise option unclear option rocket payload space underground nuclear test testing long range missile capable trump missile test surprise deal surprise trump\n",
      "------ Article 2--------\n",
      "fuel impeachment trial party leader spar detail impeachment trial email ammunition new witness email late center public integrity particular bolster argument president military aid political investigation message senior official office management less hour trump phone ukrainian president matter quiet duffey halt guidance light administration plan review assistance sensitive nature request information execute direction duffey email government official issue administration decision aid huge anxiet\n",
      "------ Article 3--------\n",
      "insurrection christian state rebellion photo last year document american abortion sex marriage communism give opportunity renounce heresy manifesto author chairmanship writing church sermon old war current event historical context call spring text message shea anti fascist activist harassment violence shea online prescription treatment female antifa protester fist full hair face treat communist revolutionary background check list leader participation chat conversation leadership shea action expu\n"
     ]
    }
   ],
   "source": [
    "# Preview some pre processed text\n",
    "print(\"------ Article 1--------\")\n",
    "print(source_data[\"text\"][0][:500])\n",
    "print(\"------ Article 2--------\")\n",
    "print(source_data[\"text\"][1][:500])\n",
    "print(\"------ Article 3--------\")\n",
    "print(source_data[\"text\"][2][:500])"
   ]
  },
  {
   "cell_type": "markdown",
   "metadata": {},
   "source": [
    "## Build Word2Vec\n"
   ]
  },
  {
   "cell_type": "code",
   "execution_count": 11,
   "metadata": {},
   "outputs": [],
   "source": [
    "tokenized_text_source = source_data['text'].apply(lambda x: x.split()).tolist()\n",
    "\n",
    "# Set parameters\n",
    "feature_size = 20    # Word vector dimensionality  \n",
    "window_context = 30  # Context window size                                                                                    \n",
    "min_word_count = 1   # Minimum word count                        \n",
    "sample = 1e-3        # Downsample setting for frequent words\n",
    "\n",
    "w2v_model = Word2Vec(tokenized_text_source, size=feature_size, \n",
    "                          window=window_context, min_count=min_word_count,\n",
    "                          sample=sample, iter=100)"
   ]
  },
  {
   "cell_type": "code",
   "execution_count": 14,
   "metadata": {},
   "outputs": [
    {
     "name": "stdout",
     "output_type": "stream",
     "text": [
      "Shape: (166, 11)\n"
     ]
    },
    {
     "data": {
      "text/html": [
       "<div>\n",
       "<style scoped>\n",
       "    .dataframe tbody tr th:only-of-type {\n",
       "        vertical-align: middle;\n",
       "    }\n",
       "\n",
       "    .dataframe tbody tr th {\n",
       "        vertical-align: top;\n",
       "    }\n",
       "\n",
       "    .dataframe thead th {\n",
       "        text-align: right;\n",
       "    }\n",
       "</style>\n",
       "<table border=\"1\" class=\"dataframe\">\n",
       "  <thead>\n",
       "    <tr style=\"text-align: right;\">\n",
       "      <th></th>\n",
       "      <th>index</th>\n",
       "      <th>id</th>\n",
       "      <th>source</th>\n",
       "      <th>article_link</th>\n",
       "      <th>article_date</th>\n",
       "      <th>article_title</th>\n",
       "      <th>article_content</th>\n",
       "      <th>article_dts</th>\n",
       "      <th>word_count</th>\n",
       "      <th>text</th>\n",
       "      <th>relevant_words</th>\n",
       "    </tr>\n",
       "  </thead>\n",
       "  <tbody>\n",
       "    <tr>\n",
       "      <th>0</th>\n",
       "      <td>0</td>\n",
       "      <td>7c66bfc6f7b115ac9ea1c443d64d9f662a3c7257d06d2a...</td>\n",
       "      <td>npr</td>\n",
       "      <td>https://www.npr.org/2019/12/24/791102803/trump...</td>\n",
       "      <td>December 24, 2019</td>\n",
       "      <td>Trump Downplays Threat Of 'Gift' From North Ko...</td>\n",
       "      <td>President Trump did not seem concerned Tuesday...</td>\n",
       "      <td>1.577146e+09</td>\n",
       "      <td>64</td>\n",
       "      <td>beautiful vase president trump threat economic...</td>\n",
       "      <td>[nice, range, sign, arsenal, test, testing, ca...</td>\n",
       "    </tr>\n",
       "    <tr>\n",
       "      <th>1</th>\n",
       "      <td>1</td>\n",
       "      <td>d5e50fa5f13830087bedc86232317ea1790d2417d4d729...</td>\n",
       "      <td>npr</td>\n",
       "      <td>https://www.npr.org/2019/12/23/790747698/newly...</td>\n",
       "      <td>December 23, 2019</td>\n",
       "      <td>Ukraine Emails Fuel Democrats' Call For Impeac...</td>\n",
       "      <td>Party leaders in Congress continued to spar Mo...</td>\n",
       "      <td>1.577059e+09</td>\n",
       "      <td>149</td>\n",
       "      <td>fuel impeachment trial party leader spar detai...</td>\n",
       "      <td>[impeachment, ukrainian, chamber, schumer, tri...</td>\n",
       "    </tr>\n",
       "    <tr>\n",
       "      <th>2</th>\n",
       "      <td>2</td>\n",
       "      <td>2b767e199bd897158dd7f8b999bef7aa592b82fd4548eb...</td>\n",
       "      <td>nymag</td>\n",
       "      <td>http://nymag.com/intelligencer/2019/12/matt-sh...</td>\n",
       "      <td>Dec. 24, 2019</td>\n",
       "      <td>GOP Lawmaker Plotted Insurrections to Establis...</td>\n",
       "      <td>Shea’s rebellion. Photo: Ted S Warren/AP/Shutt...</td>\n",
       "      <td>1.577146e+09</td>\n",
       "      <td>219</td>\n",
       "      <td>insurrection christian state rebellion photo l...</td>\n",
       "      <td>[conservative, renounce, site, writing, phone,...</td>\n",
       "    </tr>\n",
       "    <tr>\n",
       "      <th>3</th>\n",
       "      <td>3</td>\n",
       "      <td>139c45cf3296a8e4f8bf50d3525b808be1620b3b670778...</td>\n",
       "      <td>nymag</td>\n",
       "      <td>http://nymag.com/intelligencer/2020/01/iran-ge...</td>\n",
       "      <td>Jan. 2, 2020</td>\n",
       "      <td>U.S. Kills Iranian General Qasem Suleimani in ...</td>\n",
       "      <td>A Shiite Muslim pilgrim walks with a bag adorn...</td>\n",
       "      <td>1.577923e+09</td>\n",
       "      <td>250</td>\n",
       "      <td>iranian major qud force morning photo getty im...</td>\n",
       "      <td>[ready, pre, site, dangerous, phone, foreign, ...</td>\n",
       "    </tr>\n",
       "    <tr>\n",
       "      <th>4</th>\n",
       "      <td>4</td>\n",
       "      <td>f99ee44a2f210564c2eb3bc91a781f36dd6de44142047a...</td>\n",
       "      <td>nymag</td>\n",
       "      <td>http://nymag.com/intelligencer/2019/12/a-gloss...</td>\n",
       "      <td>Dec. 31, 2019</td>\n",
       "      <td>A Glossary of Everyday Things, According to Trump</td>\n",
       "      <td>Donald Trump. Photo: Chip Somodevilla/Getty Im...</td>\n",
       "      <td>1.577750e+09</td>\n",
       "      <td>173</td>\n",
       "      <td>glossary everyday thing image mundane element ...</td>\n",
       "      <td>[site, sea, dangerous, glossary, pilot, worker...</td>\n",
       "    </tr>\n",
       "  </tbody>\n",
       "</table>\n",
       "</div>"
      ],
      "text/plain": [
       "   index                                                 id source  \\\n",
       "0      0  7c66bfc6f7b115ac9ea1c443d64d9f662a3c7257d06d2a...    npr   \n",
       "1      1  d5e50fa5f13830087bedc86232317ea1790d2417d4d729...    npr   \n",
       "2      2  2b767e199bd897158dd7f8b999bef7aa592b82fd4548eb...  nymag   \n",
       "3      3  139c45cf3296a8e4f8bf50d3525b808be1620b3b670778...  nymag   \n",
       "4      4  f99ee44a2f210564c2eb3bc91a781f36dd6de44142047a...  nymag   \n",
       "\n",
       "                                        article_link       article_date  \\\n",
       "0  https://www.npr.org/2019/12/24/791102803/trump...  December 24, 2019   \n",
       "1  https://www.npr.org/2019/12/23/790747698/newly...  December 23, 2019   \n",
       "2  http://nymag.com/intelligencer/2019/12/matt-sh...      Dec. 24, 2019   \n",
       "3  http://nymag.com/intelligencer/2020/01/iran-ge...       Jan. 2, 2020   \n",
       "4  http://nymag.com/intelligencer/2019/12/a-gloss...      Dec. 31, 2019   \n",
       "\n",
       "                                       article_title  \\\n",
       "0  Trump Downplays Threat Of 'Gift' From North Ko...   \n",
       "1  Ukraine Emails Fuel Democrats' Call For Impeac...   \n",
       "2  GOP Lawmaker Plotted Insurrections to Establis...   \n",
       "3  U.S. Kills Iranian General Qasem Suleimani in ...   \n",
       "4  A Glossary of Everyday Things, According to Trump   \n",
       "\n",
       "                                     article_content   article_dts  \\\n",
       "0  President Trump did not seem concerned Tuesday...  1.577146e+09   \n",
       "1  Party leaders in Congress continued to spar Mo...  1.577059e+09   \n",
       "2  Shea’s rebellion. Photo: Ted S Warren/AP/Shutt...  1.577146e+09   \n",
       "3  A Shiite Muslim pilgrim walks with a bag adorn...  1.577923e+09   \n",
       "4  Donald Trump. Photo: Chip Somodevilla/Getty Im...  1.577750e+09   \n",
       "\n",
       "   word_count                                               text  \\\n",
       "0          64  beautiful vase president trump threat economic...   \n",
       "1         149  fuel impeachment trial party leader spar detai...   \n",
       "2         219  insurrection christian state rebellion photo l...   \n",
       "3         250  iranian major qud force morning photo getty im...   \n",
       "4         173  glossary everyday thing image mundane element ...   \n",
       "\n",
       "                                      relevant_words  \n",
       "0  [nice, range, sign, arsenal, test, testing, ca...  \n",
       "1  [impeachment, ukrainian, chamber, schumer, tri...  \n",
       "2  [conservative, renounce, site, writing, phone,...  \n",
       "3  [ready, pre, site, dangerous, phone, foreign, ...  \n",
       "4  [site, sea, dangerous, glossary, pilot, worker...  "
      ]
     },
     "execution_count": 14,
     "metadata": {},
     "output_type": "execute_result"
    }
   ],
   "source": [
    "TOP_N_SIMILAR_WORDS = 10\n",
    "COSINE_SIMILARITY_THRESHOLD = 0.70\n",
    "NUM_SIMILAR_WORDS_THRESHOLD = 6\n",
    "\n",
    "# Find relevant words\n",
    "source_data[\"relevant_words\"] = \"\"\n",
    "for index, row in source_data.iterrows():\n",
    "    # Get tokenized text\n",
    "    tokenized_text = row[\"text\"].split()\n",
    "    # Get the unique words in the document\n",
    "    unique_words = set(tokenized_text)\n",
    "    relevant_words = []\n",
    "    for word in unique_words:\n",
    "        # Find similar words from the corpus\n",
    "        similar_words = w2v_model.wv.most_similar([word], topn=TOP_N_SIMILAR_WORDS)\n",
    "        similar_words = [x[0] for x in similar_words if x[1] >= COSINE_SIMILARITY_THRESHOLD]\n",
    "        if len(similar_words) >= NUM_SIMILAR_WORDS_THRESHOLD:\n",
    "            relevant_words.append(word)\n",
    "    \n",
    "    source_data.at[index, \"relevant_words\"]=relevant_words\n",
    "\n",
    "print(\"Shape:\",source_data.shape)\n",
    "source_data.head()"
   ]
  },
  {
   "cell_type": "markdown",
   "metadata": {},
   "source": [
    "## Model Evaluation\n",
    "\n",
    "We will visually look at a few of the articles to see if the relevant words identified makes sense from the model"
   ]
  },
  {
   "cell_type": "code",
   "execution_count": 15,
   "metadata": {},
   "outputs": [],
   "source": [
    "def evaluate_results(row):\n",
    "    text = row[\"text\"]\n",
    "    relevant_words = row[\"relevant_words\"]\n",
    "    for relevant_word in relevant_words:\n",
    "        text = text.replace(relevant_word, '\\x1b[1;03;31;46m'+ relevant_word + '\\x1b[0m')\n",
    "    \n",
    "    print(text)"
   ]
  },
  {
   "cell_type": "code",
   "execution_count": 16,
   "metadata": {},
   "outputs": [
    {
     "name": "stdout",
     "output_type": "stream",
     "text": [
      "beautiful vase president trump \u001b[1;03;31;46mthreat\u001b[0m \u001b[1;03;31;46meconomic\u001b[0m \u001b[1;03;31;46msanction\u001b[0m country end year \u001b[1;03;31;46mnice\u001b[0m \u001b[1;03;31;46mpresent\u001b[0m trump reporter \u001b[1;03;31;46mpresent\u001b[0m beautiful vase \u001b[1;03;31;46mmissile\u001b[0m \u001b[1;03;31;46mtest\u001b[0m end year deadline \u001b[1;03;31;46mconcession\u001b[0m early \u001b[1;03;31;46mmonth\u001b[0m administration \u001b[1;03;31;46msign\u001b[0m plan \u001b[1;03;31;46mpressure\u001b[0m campaign entire \u001b[1;03;31;46mnuclear\u001b[0m \u001b[1;03;31;46marsenal\u001b[0m \u001b[1;03;31;46msanction\u001b[0m ambition top \u001b[1;03;31;46mforeign\u001b[0m policy priority series meeting solution surprise option unclear option \u001b[1;03;31;46mrocket\u001b[0m payload \u001b[1;03;31;46mspace\u001b[0m underground \u001b[1;03;31;46mnuclear\u001b[0m \u001b[1;03;31;46mtest\u001b[0m \u001b[1;03;31;46mtest\u001b[0ming long \u001b[1;03;31;46mrange\u001b[0m \u001b[1;03;31;46mmissile\u001b[0m \u001b[1;03;31;46mcapable\u001b[0m trump \u001b[1;03;31;46mmissile\u001b[0m \u001b[1;03;31;46mtest\u001b[0m surprise deal surprise trump\n"
     ]
    }
   ],
   "source": [
    "# View some results\n",
    "evaluate_results(source_data.loc[0])"
   ]
  },
  {
   "cell_type": "code",
   "execution_count": 17,
   "metadata": {},
   "outputs": [
    {
     "name": "stdout",
     "output_type": "stream",
     "text": [
      "fuel \u001b[1;03;31;46mimpeachment\u001b[0m \u001b[1;03;31;46mtrial\u001b[0m \u001b[1;03;31;46mparty\u001b[0m leader spar \u001b[1;03;31;46mdetail\u001b[0m \u001b[1;03;31;46mimpeachment\u001b[0m \u001b[1;03;31;46mtrial\u001b[0m email ammunition new \u001b[1;03;31;46mwitness\u001b[0m email late center public \u001b[1;03;31;46mintegrity\u001b[0m particular bolster argument president military \u001b[1;03;31;46maid\u001b[0m political \u001b[1;03;31;46minvestigation\u001b[0m message senior official office \u001b[1;03;31;46mmanagement\u001b[0m less hour trump \u001b[1;03;31;46mphone\u001b[0m \u001b[1;03;31;46mukrainian\u001b[0m president matter quiet \u001b[1;03;31;46mduffey\u001b[0m halt \u001b[1;03;31;46mguidance\u001b[0m \u001b[1;03;31;46mlight\u001b[0m administration plan review \u001b[1;03;31;46massistance\u001b[0m \u001b[1;03;31;46msensitive\u001b[0m nature \u001b[1;03;31;46mrequest\u001b[0m information \u001b[1;03;31;46mexecute\u001b[0m direction \u001b[1;03;31;46mduffey\u001b[0m email government official issue administration decision \u001b[1;03;31;46maid\u001b[0m \u001b[1;03;31;46mhuge\u001b[0m anxiety government \u001b[1;03;31;46maid\u001b[0m \u001b[1;03;31;46munwise\u001b[0m illegal center public \u001b[1;03;31;46mintegrity\u001b[0m president government official money \u001b[1;03;31;46minquiry\u001b[0m key people fact document copy press conference new \u001b[1;03;31;46mwitness\u001b[0m \u001b[1;03;31;46mtrial\u001b[0m \u001b[1;03;31;46mtrial\u001b[0m \u001b[1;03;31;46mwitness\u001b[0m document \u001b[1;03;31;46mtrial\u001b[0m \u001b[1;03;31;46mschumer\u001b[0m \u001b[1;03;31;46msign\u001b[0m \u001b[1;03;31;46mgroundwork\u001b[0m question \u001b[1;03;31;46mtrial\u001b[0m \u001b[1;03;31;46mwitness\u001b[0m document american people \u001b[1;03;31;46mtestimony\u001b[0m cover \u001b[1;03;31;46mschumer\u001b[0m \u001b[1;03;31;46mplain\u001b[0m simple \u001b[1;03;31;46mtrial\u001b[0m article \u001b[1;03;31;46mimpeachment\u001b[0m \u001b[1;03;31;46mimpeachment\u001b[0m \u001b[1;03;31;46mmanager\u001b[0m \u001b[1;03;31;46mtrial\u001b[0m look \u001b[1;03;31;46msufficient\u001b[0m \u001b[1;03;31;46mvote\u001b[0m president ability stall \u001b[1;03;31;46mtransfer\u001b[0m \u001b[1;03;31;46mleverage\u001b[0m news morning \u001b[1;03;31;46mtrial\u001b[0m new \u001b[1;03;31;46mwitness\u001b[0m \u001b[1;03;31;46mtrial\u001b[0m fact impartial juror early \u001b[1;03;31;46mmonth\u001b[0m chance office \u001b[1;03;31;46mchamber\u001b[0m clear last week \u001b[1;03;31;46minvestigation\u001b[0m document \u001b[1;03;31;46mtestimony\u001b[0m \u001b[1;03;31;46mimpeachment\u001b[0m \u001b[1;03;31;46mvote\u001b[0m last week duty investigate duty high \u001b[1;03;31;46mbar\u001b[0m undoing national \u001b[1;03;31;46melection\u001b[0m\n"
     ]
    }
   ],
   "source": [
    "# View some results\n",
    "evaluate_results(source_data.loc[1])"
   ]
  },
  {
   "cell_type": "code",
   "execution_count": 18,
   "metadata": {},
   "outputs": [
    {
     "name": "stdout",
     "output_type": "stream",
     "text": [
      "\u001b[1;03;31;46minsurrection\u001b[0m \u001b[1;03;31;46mchristian\u001b[0m state rebellion p\u001b[1;03;31;46mhot\u001b[0mo last year document american \u001b[1;03;31;46mabortion\u001b[0m \u001b[1;03;31;46msex\u001b[0m \u001b[1;03;31;46mmarriage\u001b[0m \u001b[1;03;31;46mcommunism\u001b[0m give opportunity \u001b[1;03;31;46mrenounce\u001b[0m \u001b[1;03;31;46mheresy\u001b[0m \u001b[1;03;31;46mmanifesto\u001b[0m \u001b[1;03;31;46mauthor\u001b[0m \u001b[1;03;31;46mc\u001b[1;03;31;46mhair\u001b[0mmanship\u001b[0m \u001b[1;03;31;46mwriting\u001b[0m \u001b[1;03;31;46mchurch\u001b[0m \u001b[1;03;31;46msermon\u001b[0m old war current event \u001b[1;03;31;46mhistorical\u001b[0m context call \u001b[1;03;31;46mspring\u001b[0m text message \u001b[1;03;31;46mshea\u001b[0m anti \u001b[1;03;31;46mfascist\u001b[0m \u001b[1;03;31;46mactivist\u001b[0m \u001b[1;03;31;46mharassment\u001b[0m violence \u001b[1;03;31;46mshea\u001b[0m online prescription \u001b[1;03;31;46m\u001b[1;03;31;46mtreat\u001b[0mment\u001b[0m female \u001b[1;03;31;46mantifa\u001b[0m protester \u001b[1;03;31;46mfist\u001b[0m full \u001b[1;03;31;46mhair\u001b[0m \u001b[1;03;31;46mface\u001b[0m \u001b[1;03;31;46mtreat\u001b[0m \u001b[1;03;31;46mcommunist\u001b[0m \u001b[1;03;31;46mrevolutionary\u001b[0m background \u001b[1;03;31;46mcheck\u001b[0m list leader participation \u001b[1;03;31;46mchat\u001b[0m \u001b[1;03;31;46mconversation\u001b[0m leadership \u001b[1;03;31;46mshea\u001b[0m action \u001b[1;03;31;46mexpulsion\u001b[0m government \u001b[1;03;31;46mshea\u001b[0m activity \u001b[1;03;31;46mrobertson\u001b[0m plan prominent \u001b[1;03;31;46mconservative\u001b[0m trump \u001b[1;03;31;46malarm\u001b[0m \u001b[1;03;31;46mshea\u001b[0m former supporter press state \u001b[1;03;31;46mlegislature\u001b[0m document \u001b[1;03;31;46mshea\u001b[0m plan theocratic government unspecified collapse event former agent report last week leader total armed \u001b[1;03;31;46mconflict\u001b[0m political violence government state year period occupation wildlife \u001b[1;03;31;46mphone\u001b[0m call advance occupation report day occupation \u001b[1;03;31;46mcode\u001b[0m name verumbellator detailed military \u001b[1;03;31;46mstyle\u001b[0m plan operation \u001b[1;03;31;46mcold\u001b[0m \u001b[1;03;31;46mreality\u001b[0m role member coalition western state day \u001b[1;03;31;46msite\u001b[0m state representative local national law enforcement report gathered intelligence law enforcement strategy operation meeting occupier report warning law enforcement \u001b[1;03;31;46mshea\u001b[0m resignation practitioner radical \u001b[1;03;31;46mchristian\u001b[0m \u001b[1;03;31;46mterrorism\u001b[0m state legislator story \u001b[1;03;31;46mconservative\u001b[0m trump supporter \u001b[1;03;31;46mbright\u001b[0m line president brand politic right militia chief \u001b[1;03;31;46mdistinction\u001b[0m fact large number atypical ultra\u001b[1;03;31;46mconservative\u001b[0m rhetoric \u001b[1;03;31;46mviewer\u001b[0m coup \u001b[1;03;31;46mundocumented\u001b[0m \u001b[1;03;31;46mimmigrant\u001b[0m \u001b[1;03;31;46mimmigrant\u001b[0m republican state radical left \u001b[1;03;31;46mwing\u001b[0m idea second \u001b[1;03;31;46mamendment\u001b[0m people \u001b[1;03;31;46mparanoid\u001b[0m \u001b[1;03;31;46mxenophobic\u001b[0m logic \u001b[1;03;31;46mendpoint\u001b[0m president twitter office \u001b[1;03;31;46mcause\u001b[0m civil war organization oath keeper trump \u001b[1;03;31;46mhot\u001b[0m civil war politic business technology world email term \u001b[1;03;31;46mprivacy\u001b[0m notice email term \u001b[1;03;31;46mprivacy\u001b[0m notice email \u001b[1;03;31;46mcorrespondence\u001b[0m\n"
     ]
    }
   ],
   "source": [
    "# View some results\n",
    "evaluate_results(source_data.loc[2])"
   ]
  },
  {
   "cell_type": "code",
   "execution_count": 19,
   "metadata": {},
   "outputs": [
    {
     "name": "stdout",
     "output_type": "stream",
     "text": [
      "iranian major \u001b[1;03;31;46mqud\u001b[0m \u001b[1;03;31;46mforce\u001b[0m morning photo \u001b[1;03;31;46mgetty\u001b[0m image early \u001b[1;03;31;46mforce\u001b[0m major strike airport order personnel \u001b[1;03;31;46mattack\u001b[0m important military leader direction unit responsible clandestine operation material support group \u001b[1;03;31;46mpopular\u001b[0m mobilization iraqi militia deputy leader \u001b[1;03;31;46mattack\u001b[0m other full statement \u001b[1;03;31;46mpic\u001b[0m twitter name \u001b[1;03;31;46mtension\u001b[0m power \u001b[1;03;31;46mproxy\u001b[0m last week iranian militia american \u001b[1;03;31;46mcontractor\u001b[0m response \u001b[1;03;31;46mforce\u001b[0m \u001b[1;03;31;46msite\u001b[0m iranian militia several \u001b[1;03;31;46mfighter\u001b[0m protestor pro iranian militia american \u001b[1;03;31;46mpast\u001b[0m \u001b[1;03;31;46mguard\u001b[0m \u001b[1;03;31;46mdiplomat\u001b[0m hour stern warning word \u001b[1;03;31;46mattack\u001b[0m \u001b[1;03;31;46mpre\u001b[0m emptive action american \u001b[1;03;31;46mforce\u001b[0m life \u001b[1;03;31;46mgame\u001b[0m death suleimani report \u001b[1;03;31;46mmarine\u001b[0m leader iranian militia iraqi \u001b[1;03;31;46mhead\u001b[0m \u001b[1;03;31;46mqud\u001b[0m late group operation responsible death american \u001b[1;03;31;46msoldier\u001b[0m major \u001b[1;03;31;46mforce\u001b[0m decade iraqi \u001b[1;03;31;46mforce\u001b[0m \u001b[1;03;31;46misis\u001b[0m \u001b[1;03;31;46mfighter\u001b[0m civil war supporter action trump \u001b[1;03;31;46mgeneral\u001b[0m evil \u001b[1;03;31;46mbastard\u001b[0m \u001b[1;03;31;46mterror\u001b[0m decade death hundred \u001b[1;03;31;46mto\u001b[1;03;31;46mnight\u001b[0m\u001b[0m \u001b[1;03;31;46mdeserved\u001b[0m american \u001b[1;03;31;46msoldier\u001b[0m hand \u001b[1;03;31;46mpic\u001b[0m \u001b[1;03;31;46mattack\u001b[0m example \u001b[1;03;31;46mdeterrence\u001b[0m politician reporter \u001b[1;03;31;46mexpert\u001b[0m region oppo\u001b[1;03;31;46msite\u001b[0m \u001b[1;03;31;46mphone\u001b[0m \u001b[1;03;31;46mready\u001b[0m major \u001b[1;03;31;46mpushback\u001b[0m people \u001b[1;03;31;46mready\u001b[0m defend people \u001b[1;03;31;46mready\u001b[0m big \u001b[1;03;31;46mtrue\u001b[0m \u001b[1;03;31;46massassinating\u001b[0m major war war \u001b[1;03;31;46moutright\u001b[0m country year \u001b[1;03;31;46mpre\u001b[0mparation question report congressional \u001b[1;03;31;46mauthorization\u001b[0m second powerful person potential massive military several time national security official concerned move \u001b[1;03;31;46mterror\u001b[0m cell world \u001b[1;03;31;46mretaliation\u001b[0m aware call \u001b[1;03;31;46mforeign\u001b[0m policy \u001b[1;03;31;46mspecialist\u001b[0m official strike various political \u001b[1;03;31;46mfaction\u001b[0m \u001b[1;03;31;46mregular\u001b[0m commander person enemy \u001b[1;03;31;46misis\u001b[0m many different political view \u001b[1;03;31;46mcritical\u001b[0m \u001b[1;03;31;46mirgc\u001b[0m respect democratic candidate late \u001b[1;03;31;46mnight\u001b[0m \u001b[1;03;31;46mmurderer\u001b[0m responsible death \u001b[1;03;31;46mthousand\u001b[0m hundred reckless move situation \u001b[1;03;31;46mlikelihood\u001b[0m death \u001b[1;03;31;46mconflict\u001b[0m priority \u001b[1;03;31;46mcostly\u001b[0m war american people explanation strategy plan safe troop \u001b[1;03;31;46membassy\u001b[0m personnel people interest partner region sander trump \u001b[1;03;31;46mdangerous\u001b[0m \u001b[1;03;31;46mescalation\u001b[0m \u001b[1;03;31;46mdisastrous\u001b[0m war countless life trillion \u001b[1;03;31;46mdollar\u001b[0m trump end endless war action news post politic business technology world email term \u001b[1;03;31;46mprivacy\u001b[0m notice email term \u001b[1;03;31;46mprivacy\u001b[0m notice email \u001b[1;03;31;46mcorrespondence\u001b[0m\n"
     ]
    }
   ],
   "source": [
    "# View some results\n",
    "evaluate_results(source_data.loc[3])"
   ]
  },
  {
   "cell_type": "code",
   "execution_count": 20,
   "metadata": {},
   "outputs": [
    {
     "name": "stdout",
     "output_type": "stream",
     "text": [
      "\u001b[1;03;31;46mperilous\u001b[0m decade \u001b[1;03;31;46mprogressivism\u001b[0m photo image \u001b[1;03;31;46mplenty\u001b[0m decade \u001b[1;03;31;46mteen\u001b[0m end \u001b[1;03;31;46mproper\u001b[0m \u001b[1;03;31;46mweight\u001b[0m shocking event world politic \u001b[1;03;31;46mteen\u001b[0m \u001b[1;03;31;46mcontinuation\u001b[0m \u001b[1;03;31;46mstrong\u001b[0m \u001b[1;03;31;46mdemocrat\u001b[0mic \u001b[1;03;31;46mtrend\u001b[0m \u001b[1;03;31;46mlandslide\u001b[0m \u001b[1;03;31;46mseat\u001b[0m \u001b[1;03;31;46mchamber\u001b[0m time special \u001b[1;03;31;46melection\u001b[0m \u001b[1;03;31;46maberration\u001b[0m \u001b[1;03;31;46mirregular\u001b[0m \u001b[1;03;31;46mturnout\u001b[0m \u001b[1;03;31;46mfeckless\u001b[0m campaign \u001b[1;03;31;46multimate\u001b[0m \u001b[1;03;31;46moman\u001b[0m win \u001b[1;03;31;46mtrauma\u001b[0m \u001b[1;03;31;46mdefcon\u001b[0m \u001b[1;03;31;46mmidterm\u001b[0m \u001b[1;03;31;46melection\u001b[0m \u001b[1;03;31;46munprepared\u001b[0m \u001b[1;03;31;46mdebacle\u001b[0m state \u001b[1;03;31;46mlegislature\u001b[0m new \u001b[1;03;31;46mcase\u001b[0m \u001b[1;03;31;46melection\u001b[0m \u001b[1;03;31;46mmap\u001b[0m \u001b[1;03;31;46mcensus\u001b[0m race governor able \u001b[1;03;31;46mtemper\u001b[0m \u001b[1;03;31;46mveto\u001b[0m \u001b[1;03;31;46mmap\u001b[0m house \u001b[1;03;31;46mtrend\u001b[0m state \u001b[1;03;31;46mlegislature\u001b[0m \u001b[1;03;31;46mtakeover\u001b[0m \u001b[1;03;31;46mglide\u001b[0m path \u001b[1;03;31;46mconservative\u001b[0m judge justice \u001b[1;03;31;46mjolt\u001b[0m year \u001b[1;03;31;46mform\u001b[0m trump \u001b[1;03;31;46mstrong\u001b[0m republican year \u001b[1;03;31;46mmargin\u001b[0m percent percent \u001b[1;03;31;46mpopular\u001b[0m \u001b[1;03;31;46mvote\u001b[0m course \u001b[1;03;31;46mseat\u001b[0m time many \u001b[1;03;31;46mobserver\u001b[0m \u001b[1;03;31;46mdemographic\u001b[0m \u001b[1;03;31;46mdisparity\u001b[0m lot apparent \u001b[1;03;31;46moscillation\u001b[0m result \u001b[1;03;31;46mdemocrat\u001b[0mic \u001b[1;03;31;46mprospect\u001b[0m week \u001b[1;03;31;46mtenth\u001b[0m \u001b[1;03;31;46manniversary\u001b[0m \u001b[1;03;31;46mshocker\u001b[0m \u001b[1;03;31;46mdiscernible\u001b[0m \u001b[1;03;31;46mpattern\u001b[0m american politic \u001b[1;03;31;46mstandard\u001b[0m \u001b[1;03;31;46mseat\u001b[0m \u001b[1;03;31;46mnet\u001b[0m \u001b[1;03;31;46mseat\u001b[0m \u001b[1;03;31;46mthank\u001b[0m \u001b[1;03;31;46mlandscape\u001b[0m unusual president \u001b[1;03;31;46mbarn\u001b[0m \u001b[1;03;31;46mburner\u001b[0m benefit \u001b[1;03;31;46mdemographic\u001b[0m change republican good \u001b[1;03;31;46mmaximizing\u001b[0m power combination \u001b[1;03;31;46mvote\u001b[0mr \u001b[1;03;31;46msuppression\u001b[0m \u001b[1;03;31;46munrepresentative\u001b[0m nature \u001b[1;03;31;46mdemagoguery\u001b[0m trump next year \u001b[1;03;31;46mfederal\u001b[0m \u001b[1;03;31;46mjudiciary\u001b[0m decade \u001b[1;03;31;46mpopular\u001b[0m \u001b[1;03;31;46mweight\u001b[0m \u001b[1;03;31;46marena\u001b[0m \u001b[1;03;31;46mthank\u001b[0m \u001b[1;03;31;46mstructural\u001b[0m \u001b[1;03;31;46madvantage\u001b[0m \u001b[1;03;31;46mbrown\u001b[0m victory \u001b[1;03;31;46mstruggle\u001b[0m \u001b[1;03;31;46menact\u001b[0m \u001b[1;03;31;46mobamacare\u001b[0m successful \u001b[1;03;31;46melement\u001b[0m president \u001b[1;03;31;46mdemocrat\u001b[0mic \u001b[1;03;31;46msupermajority\u001b[0m \u001b[1;03;31;46mtutorial\u001b[0m obstruction republican price \u001b[1;03;31;46mdemocrat\u001b[0m policy \u001b[1;03;31;46mcompromise\u001b[0m \u001b[1;03;31;46mstrong\u001b[0m position question \u001b[1;03;31;46mdemocrat\u001b[0m \u001b[1;03;31;46mebullient\u001b[0m \u001b[1;03;31;46mmanage\u001b[0m \u001b[1;03;31;46mdefenestrate\u001b[0m trump win first \u001b[1;03;31;46mdemocrat\u001b[0mic political fortune change majority politic business technology world email term \u001b[1;03;31;46mprivacy\u001b[0m notice email term \u001b[1;03;31;46mprivacy\u001b[0m notice email \u001b[1;03;31;46mcorrespondence\u001b[0m\n"
     ]
    }
   ],
   "source": [
    "# View some results\n",
    "evaluate_results(source_data.loc[5])"
   ]
  },
  {
   "cell_type": "code",
   "execution_count": null,
   "metadata": {
    "collapsed": true
   },
   "outputs": [],
   "source": []
  }
 ],
 "metadata": {
  "kernelspec": {
   "display_name": "Python 3",
   "language": "python",
   "name": "python3"
  },
  "language_info": {
   "codemirror_mode": {
    "name": "ipython",
    "version": 3
   },
   "file_extension": ".py",
   "mimetype": "text/x-python",
   "name": "python",
   "nbconvert_exporter": "python",
   "pygments_lexer": "ipython3",
   "version": "3.6.8"
  }
 },
 "nbformat": 4,
 "nbformat_minor": 2
}
