{
 "cells": [
  {
   "cell_type": "markdown",
   "metadata": {},
   "source": [
    "# Model 2"
   ]
  },
  {
   "cell_type": "code",
   "execution_count": 1,
   "metadata": {
    "collapsed": true
   },
   "outputs": [],
   "source": [
    "# imports\n",
    "import sys\n",
    "import os\n",
    "import numpy as np\n",
    "import pandas as pd\n",
    "import ujson\n",
    "from sklearn.model_selection import train_test_split\n",
    "from nltk import FreqDist\n",
    "from nltk.util import ngrams\n",
    "import re\n",
    "import spacy\n",
    "import math\n",
    "\n",
    "import gensim\n",
    "from gensim import corpora\n",
    "from gensim.models import CoherenceModel\n",
    "\n",
    "from nltk.corpus import stopwords\n",
    "stop_words = stopwords.words('english')"
   ]
  },
  {
   "cell_type": "markdown",
   "metadata": {},
   "source": [
    "## Model"
   ]
  },
  {
   "cell_type": "markdown",
   "metadata": {},
   "source": [
    "## Dataset\n",
    "\n",
    "For this experiment we used a controlled dataset of just blogs entries from one blog site: https://blog.americanchemistry.com/. The American Chemistry Blog has content related to to Chemical regulation, Energy, Sustainability. "
   ]
  },
  {
   "cell_type": "code",
   "execution_count": 2,
   "metadata": {},
   "outputs": [
    {
     "name": "stdout",
     "output_type": "stream",
     "text": [
      "Shape: (7152, 4)\n"
     ]
    },
    {
     "data": {
      "text/html": [
       "<div>\n",
       "<style scoped>\n",
       "    .dataframe tbody tr th:only-of-type {\n",
       "        vertical-align: middle;\n",
       "    }\n",
       "\n",
       "    .dataframe tbody tr th {\n",
       "        vertical-align: top;\n",
       "    }\n",
       "\n",
       "    .dataframe thead th {\n",
       "        text-align: right;\n",
       "    }\n",
       "</style>\n",
       "<table border=\"1\" class=\"dataframe\">\n",
       "  <thead>\n",
       "    <tr style=\"text-align: right;\">\n",
       "      <th></th>\n",
       "      <th>article_date</th>\n",
       "      <th>article_title</th>\n",
       "      <th>article_content</th>\n",
       "      <th>article_url</th>\n",
       "    </tr>\n",
       "  </thead>\n",
       "  <tbody>\n",
       "    <tr>\n",
       "      <th>0</th>\n",
       "      <td>2019-09-14</td>\n",
       "      <td>Air Ambulances Woo Rural Consumers With Member...</td>\n",
       "      <td>Visitors and park rangers at historic Fort Sco...</td>\n",
       "      <td>https://www.npr.org/sections/health-shots/2019...</td>\n",
       "    </tr>\n",
       "    <tr>\n",
       "      <th>1</th>\n",
       "      <td>2019-09-09</td>\n",
       "      <td>Esketamine Nasal Spray Eases Depression Sympto...</td>\n",
       "      <td>The depression drug esketamine, marketed as Sp...</td>\n",
       "      <td>https://www.npr.org/sections/health-shots/2019...</td>\n",
       "    </tr>\n",
       "    <tr>\n",
       "      <th>2</th>\n",
       "      <td>2019-09-16</td>\n",
       "      <td>'Tip Of The Iceberg' ‚Äî 1 In 16 Women Reports...</td>\n",
       "      <td>A survey of women ages 18 to 44 found that for...</td>\n",
       "      <td>https://www.npr.org/sections/health-shots/2019...</td>\n",
       "    </tr>\n",
       "    <tr>\n",
       "      <th>3</th>\n",
       "      <td>2019-09-13</td>\n",
       "      <td>How A Proposed 3-Digit Suicide Hotline Could H...</td>\n",
       "      <td>With suicides on the rise, the government want...</td>\n",
       "      <td>https://www.npr.org/sections/health-shots/2019...</td>\n",
       "    </tr>\n",
       "    <tr>\n",
       "      <th>4</th>\n",
       "      <td>2019-09-12</td>\n",
       "      <td>Untreated Hearing Loss Linked To Loneliness An...</td>\n",
       "      <td>Untreated hearing loss increases the risks of ...</td>\n",
       "      <td>https://www.npr.org/sections/health-shots/2019...</td>\n",
       "    </tr>\n",
       "  </tbody>\n",
       "</table>\n",
       "</div>"
      ],
      "text/plain": [
       "  article_date                                      article_title  \\\n",
       "0   2019-09-14  Air Ambulances Woo Rural Consumers With Member...   \n",
       "1   2019-09-09  Esketamine Nasal Spray Eases Depression Sympto...   \n",
       "2   2019-09-16  'Tip Of The Iceberg' ‚Äî 1 In 16 Women Reports...   \n",
       "3   2019-09-13  How A Proposed 3-Digit Suicide Hotline Could H...   \n",
       "4   2019-09-12  Untreated Hearing Loss Linked To Loneliness An...   \n",
       "\n",
       "                                     article_content  \\\n",
       "0  Visitors and park rangers at historic Fort Sco...   \n",
       "1  The depression drug esketamine, marketed as Sp...   \n",
       "2  A survey of women ages 18 to 44 found that for...   \n",
       "3  With suicides on the rise, the government want...   \n",
       "4  Untreated hearing loss increases the risks of ...   \n",
       "\n",
       "                                         article_url  \n",
       "0  https://www.npr.org/sections/health-shots/2019...  \n",
       "1  https://www.npr.org/sections/health-shots/2019...  \n",
       "2  https://www.npr.org/sections/health-shots/2019...  \n",
       "3  https://www.npr.org/sections/health-shots/2019...  \n",
       "4  https://www.npr.org/sections/health-shots/2019...  "
      ]
     },
     "execution_count": 2,
     "metadata": {},
     "output_type": "execute_result"
    }
   ],
   "source": [
    "# Data file\n",
    "data_file ='../../../Datasets/selected/npr.org.xlsx'\n",
    "source_data = pd.read_excel(data_file)\n",
    "\n",
    "print(\"Shape:\",source_data.shape)\n",
    "source_data.head()"
   ]
  },
  {
   "cell_type": "code",
   "execution_count": 3,
   "metadata": {},
   "outputs": [
    {
     "name": "stdout",
     "output_type": "stream",
     "text": [
      "Number of Blogs: 7,152\n",
      "Minimum Article Date: Jan 20 2012\n",
      "Maximum Article Date: Sep 16 2019\n",
      "Minimum Word Count: 1\n",
      "Maximum Word Count: 4,773\n"
     ]
    }
   ],
   "source": [
    "source_data['word_count'] = source_data['article_content'].str.split().str.len()\n",
    "\n",
    "# View some metrics of data\n",
    "print(\"Number of Blogs:\",f'{source_data.shape[0]:,}')\n",
    "print(\"Minimum Article Date:\",min(source_data['article_date']).strftime(\"%b %d %Y\"))\n",
    "print(\"Maximum Article Date:\",max(source_data['article_date']).strftime(\"%b %d %Y\"))\n",
    "print(\"Minimum Word Count:\",min(source_data['word_count']))\n",
    "print(\"Maximum Word Count:\",f'{max(source_data[\"word_count\"]):,}')"
   ]
  },
  {
   "cell_type": "markdown",
   "metadata": {},
   "source": [
    "## Data Preprocessing\n",
    "\n",
    "The data preprocessing steps that we will follow inorder to feed the data to the topic model are:\n",
    "- Combine Title with Blog Content\n",
    "- Remove line breaks\n",
    "- Remove Special Characters\n",
    "- Remove small words < 3 letters\n",
    "- Convert text to lowercase\n",
    "- Remove stop words\n",
    "- Tokenize\n",
    "- Lemmatization\n",
    "- Remove custom stop words"
   ]
  },
  {
   "cell_type": "code",
   "execution_count": 4,
   "metadata": {},
   "outputs": [
    {
     "name": "stdout",
     "output_type": "stream",
     "text": [
      "Shape: (1138, 1)\n"
     ]
    }
   ],
   "source": [
    "# Custom stop words\n",
    "custom_stopwords_file ='../lookups/custom_stopwords.txt'\n",
    "custom_stopwords_df = pd.read_csv(custom_stopwords_file, header=None)\n",
    "print(\"Shape:\",custom_stopwords_df.shape)\n",
    "custom_stopwords = custom_stopwords_df[0].tolist()"
   ]
  },
  {
   "cell_type": "code",
   "execution_count": 5,
   "metadata": {
    "collapsed": true
   },
   "outputs": [],
   "source": [
    "# Utilities to perfrom data cleaning and preparation\n",
    "\n",
    "nlp = spacy.load('en', disable=['parser', 'ner'])\n",
    "\n",
    "# function to remove stopwords\n",
    "def remove_stopwords(rev):\n",
    "    rev_new = \" \".join([i for i in rev if i not in stop_words])\n",
    "    return rev_new\n",
    "\n",
    "def lemmatization(texts, tags=['NOUN', 'ADJ']):\n",
    "    output = []\n",
    "    for sent in texts:\n",
    "        doc = nlp(\" \".join(sent)) \n",
    "        output.append([token.lemma_ for token in doc if token.pos_ in tags])\n",
    "    return output\n",
    "\n",
    "# function to remove custom stopwords\n",
    "def remove_custom_stopwords(texts):\n",
    "    output = []\n",
    "    for sent in texts:\n",
    "        output.append([word for word in sent if word not in custom_stopwords])\n",
    "    return output"
   ]
  },
  {
   "cell_type": "code",
   "execution_count": 6,
   "metadata": {
    "collapsed": true
   },
   "outputs": [],
   "source": [
    "# Merge title with content\n",
    "source_data['text'] = source_data['article_title'] + \" \" + source_data[\"article_content\"]\n",
    "\n",
    "# Convert column to str\n",
    "source_data['text'] = source_data['text'].apply(str)\n",
    "\n",
    "# Replace line breaks\n",
    "article_text = source_data['text'].str.replace(\"\\n\", \" \")\n",
    "\n",
    "# remove unwanted characters, numbers and symbols\n",
    "article_text = article_text.str.replace(\"[^a-zA-Z#]\", \" \")\n",
    "\n",
    "# remove short words (length < 3)\n",
    "article_text = article_text.apply(lambda x: ' '.join([w for w in x.split() if len(w)>2]))\n",
    "\n",
    "# make entire text lowercase\n",
    "article_text = [r.lower() for r in article_text]\n",
    "\n",
    "# remove stopwords from the text\n",
    "article_text = [remove_stopwords(r.split()) for r in article_text]\n",
    "\n",
    "# Tokenize\n",
    "tokenized_text = pd.Series(article_text).apply(lambda x: x.split())\n",
    "# Lemmatize\n",
    "tokenized_text = lemmatization(tokenized_text)\n",
    "# Remove custom stopwords\n",
    "tokenized_text = remove_custom_stopwords(tokenized_text)\n",
    "\n",
    "flattened_text = []\n",
    "for i in range(len(tokenized_text)):\n",
    "    flattened_text.append(' '.join(tokenized_text[i]))\n",
    "\n",
    "source_data['text'] = flattened_text\n",
    "\n",
    "# Update word count\n",
    "source_data['word_count'] = source_data['text'].str.split().str.len()\n",
    "\n",
    "# Remove word count < 15\n",
    "source_data = source_data[source_data['word_count'] > 14]\n",
    "source_data = source_data.reset_index()"
   ]
  },
  {
   "cell_type": "code",
   "execution_count": 7,
   "metadata": {},
   "outputs": [
    {
     "name": "stdout",
     "output_type": "stream",
     "text": [
      "Shape: (7081, 7)\n"
     ]
    },
    {
     "data": {
      "text/html": [
       "<div>\n",
       "<style scoped>\n",
       "    .dataframe tbody tr th:only-of-type {\n",
       "        vertical-align: middle;\n",
       "    }\n",
       "\n",
       "    .dataframe tbody tr th {\n",
       "        vertical-align: top;\n",
       "    }\n",
       "\n",
       "    .dataframe thead th {\n",
       "        text-align: right;\n",
       "    }\n",
       "</style>\n",
       "<table border=\"1\" class=\"dataframe\">\n",
       "  <thead>\n",
       "    <tr style=\"text-align: right;\">\n",
       "      <th></th>\n",
       "      <th>index</th>\n",
       "      <th>article_date</th>\n",
       "      <th>article_title</th>\n",
       "      <th>article_content</th>\n",
       "      <th>article_url</th>\n",
       "      <th>word_count</th>\n",
       "      <th>text</th>\n",
       "    </tr>\n",
       "  </thead>\n",
       "  <tbody>\n",
       "    <tr>\n",
       "      <th>0</th>\n",
       "      <td>0</td>\n",
       "      <td>2019-09-14</td>\n",
       "      <td>Air Ambulances Woo Rural Consumers With Member...</td>\n",
       "      <td>Visitors and park rangers at historic Fort Sco...</td>\n",
       "      <td>https://www.npr.org/sections/health-shots/2019...</td>\n",
       "      <td>174</td>\n",
       "      <td>ambulance rural membership visitor helicopter ...</td>\n",
       "    </tr>\n",
       "    <tr>\n",
       "      <th>1</th>\n",
       "      <td>1</td>\n",
       "      <td>2019-09-09</td>\n",
       "      <td>Esketamine Nasal Spray Eases Depression Sympto...</td>\n",
       "      <td>The depression drug esketamine, marketed as Sp...</td>\n",
       "      <td>https://www.npr.org/sections/health-shots/2019...</td>\n",
       "      <td>61</td>\n",
       "      <td>spray depression symptom suicidal depression d...</td>\n",
       "    </tr>\n",
       "    <tr>\n",
       "      <th>2</th>\n",
       "      <td>2</td>\n",
       "      <td>2019-09-16</td>\n",
       "      <td>'Tip Of The Iceberg' ‚Äî 1 In 16 Women Reports...</td>\n",
       "      <td>A survey of women ages 18 to 44 found that for...</td>\n",
       "      <td>https://www.npr.org/sections/health-shots/2019...</td>\n",
       "      <td>105</td>\n",
       "      <td>sexual encounter rape sexual encounter sexual ...</td>\n",
       "    </tr>\n",
       "    <tr>\n",
       "      <th>3</th>\n",
       "      <td>3</td>\n",
       "      <td>2019-09-13</td>\n",
       "      <td>How A Proposed 3-Digit Suicide Hotline Could H...</td>\n",
       "      <td>With suicides on the rise, the government want...</td>\n",
       "      <td>https://www.npr.org/sections/health-shots/2019...</td>\n",
       "      <td>96</td>\n",
       "      <td>digit suicide hotline suicide crisis hotline d...</td>\n",
       "    </tr>\n",
       "    <tr>\n",
       "      <th>4</th>\n",
       "      <td>4</td>\n",
       "      <td>2019-09-12</td>\n",
       "      <td>Untreated Hearing Loss Linked To Loneliness An...</td>\n",
       "      <td>Untreated hearing loss increases the risks of ...</td>\n",
       "      <td>https://www.npr.org/sections/health-shots/2019...</td>\n",
       "      <td>163</td>\n",
       "      <td>untreated loneliness isolation isolation isola...</td>\n",
       "    </tr>\n",
       "  </tbody>\n",
       "</table>\n",
       "</div>"
      ],
      "text/plain": [
       "   index article_date                                      article_title  \\\n",
       "0      0   2019-09-14  Air Ambulances Woo Rural Consumers With Member...   \n",
       "1      1   2019-09-09  Esketamine Nasal Spray Eases Depression Sympto...   \n",
       "2      2   2019-09-16  'Tip Of The Iceberg' ‚Äî 1 In 16 Women Reports...   \n",
       "3      3   2019-09-13  How A Proposed 3-Digit Suicide Hotline Could H...   \n",
       "4      4   2019-09-12  Untreated Hearing Loss Linked To Loneliness An...   \n",
       "\n",
       "                                     article_content  \\\n",
       "0  Visitors and park rangers at historic Fort Sco...   \n",
       "1  The depression drug esketamine, marketed as Sp...   \n",
       "2  A survey of women ages 18 to 44 found that for...   \n",
       "3  With suicides on the rise, the government want...   \n",
       "4  Untreated hearing loss increases the risks of ...   \n",
       "\n",
       "                                         article_url  word_count  \\\n",
       "0  https://www.npr.org/sections/health-shots/2019...         174   \n",
       "1  https://www.npr.org/sections/health-shots/2019...          61   \n",
       "2  https://www.npr.org/sections/health-shots/2019...         105   \n",
       "3  https://www.npr.org/sections/health-shots/2019...          96   \n",
       "4  https://www.npr.org/sections/health-shots/2019...         163   \n",
       "\n",
       "                                                text  \n",
       "0  ambulance rural membership visitor helicopter ...  \n",
       "1  spray depression symptom suicidal depression d...  \n",
       "2  sexual encounter rape sexual encounter sexual ...  \n",
       "3  digit suicide hotline suicide crisis hotline d...  \n",
       "4  untreated loneliness isolation isolation isola...  "
      ]
     },
     "execution_count": 7,
     "metadata": {},
     "output_type": "execute_result"
    }
   ],
   "source": [
    "print(\"Shape:\",source_data.shape)\n",
    "source_data.head()"
   ]
  },
  {
   "cell_type": "code",
   "execution_count": 8,
   "metadata": {
    "collapsed": true
   },
   "outputs": [],
   "source": [
    "def word_counts(all_words,cutoff=2):\n",
    "    #all_words = ' '.join([text for text in x])\n",
    "    all_words = all_words.split()\n",
    "    fdist = FreqDist(all_words)\n",
    "    \n",
    "    df = pd.DataFrame({'word':list(fdist.keys()), 'count':list(fdist.values())})\n",
    "    df = df[df['count'] > cutoff]\n",
    "    df = df.reset_index()\n",
    "    \n",
    "    frequency_table = {}\n",
    "    for index, row in df.iterrows():\n",
    "        frequency_table[row['word']] = row['count']\n",
    "    \n",
    "    return frequency_table"
   ]
  },
  {
   "cell_type": "code",
   "execution_count": 9,
   "metadata": {},
   "outputs": [
    {
     "data": {
      "text/plain": [
       "{'ambulance': 11,\n",
       " 'rural': 4,\n",
       " 'membership': 18,\n",
       " 'helicopter': 10,\n",
       " 'town': 4,\n",
       " 'air': 16,\n",
       " 'subscription': 5,\n",
       " 'insurance': 8,\n",
       " 'customer': 3}"
      ]
     },
     "execution_count": 9,
     "metadata": {},
     "output_type": "execute_result"
    }
   ],
   "source": [
    "frequency_table = word_counts(source_data[\"text\"].loc[0],cutoff=2)\n",
    "frequency_table"
   ]
  },
  {
   "cell_type": "code",
   "execution_count": 16,
   "metadata": {
    "collapsed": true
   },
   "outputs": [],
   "source": [
    "def evaluate_blog_results(row,frequency_table):\n",
    "    text = row[\"text\"]\n",
    "    for keyword in frequency_table:\n",
    "        text = text.replace(' '+keyword+' ', ' \\x1b[1;03;31;46m'+ keyword + '\\x1b[0m ')\n",
    "    \n",
    "    print(text)"
   ]
  },
  {
   "cell_type": "code",
   "execution_count": 20,
   "metadata": {},
   "outputs": [
    {
     "name": "stdout",
     "output_type": "stream",
     "text": [
      "spray \u001b[1;03;31;46mdepression\u001b[0m \u001b[1;03;31;46msymptom\u001b[0m \u001b[1;03;31;46msuicidal\u001b[0m \u001b[1;03;31;46mdepression\u001b[0m \u001b[1;03;31;46mdrug\u001b[0m \u001b[1;03;31;46mesketamine\u001b[0m spravato quick relief \u001b[1;03;31;46msuicide\u001b[0m \u001b[1;03;31;46mesketamine\u001b[0m \u001b[1;03;31;46mdepression\u001b[0m \u001b[1;03;31;46msymptom\u001b[0m \u001b[1;03;31;46msuicidal\u001b[0m \u001b[1;03;31;46mdrug\u001b[0m drug \u001b[1;03;31;46mdepressed\u001b[0m \u001b[1;03;31;46mesketamine\u001b[0m \u001b[1;03;31;46msuicidal\u001b[0m few \u001b[1;03;31;46msymptom\u001b[0m \u001b[1;03;31;46mdepression\u001b[0m \u001b[1;03;31;46mdrug\u001b[0m neuropsychopharmacology \u001b[1;03;31;46msuicide\u001b[0m crisis \u001b[1;03;31;46mesketamine\u001b[0m population clinical trial \u001b[1;03;31;46mdepressed\u001b[0m \u001b[1;03;31;46mdrug\u001b[0m \u001b[1;03;31;46mdepression\u001b[0m \u001b[1;03;31;46mdrug\u001b[0m \u001b[1;03;31;46mdepressed\u001b[0m envision \u001b[1;03;31;46msuicidal\u001b[0m \u001b[1;03;31;46mdrug\u001b[0m oral antidepressant hough \u001b[1;03;31;46mesketamine\u001b[0m \u001b[1;03;31;46mdepression\u001b[0m \u001b[1;03;31;46mdrug\u001b[0m \u001b[1;03;31;46mdepression\u001b[0m \u001b[1;03;31;46mdrug\u001b[0m \u001b[1;03;31;46msuicidal\u001b[0m \u001b[1;03;31;46msuicide\u001b[0m arm \u001b[1;03;31;46msuicide\u001b[0m prevent \u001b[1;03;31;46msuicide\u001b[0m mental \u001b[1;03;31;46msuicide\u001b[0m changer million resistant \u001b[1;03;31;46mdepression\u001b[0m \u001b[1;03;31;46msuicidal\u001b[0m deadly\n"
     ]
    }
   ],
   "source": [
    "# View some results\n",
    "frequency_table = word_counts(source_data[\"text\"].loc[1],cutoff=2)\n",
    "evaluate_blog_results(source_data.loc[1],frequency_table)"
   ]
  },
  {
   "cell_type": "code",
   "execution_count": 21,
   "metadata": {},
   "outputs": [
    {
     "name": "stdout",
     "output_type": "stream",
     "text": [
      "digit \u001b[1;03;31;46msuicide\u001b[0m \u001b[1;03;31;46mhotline\u001b[0m \u001b[1;03;31;46msuicide\u001b[0m \u001b[1;03;31;46mcrisis\u001b[0m \u001b[1;03;31;46mhotline\u001b[0m \u001b[1;03;31;46mdigit\u001b[0m \u001b[1;03;31;46msuicide\u001b[0m \u001b[1;03;31;46mcrisis\u001b[0m \u001b[1;03;31;46mhotline\u001b[0m \u001b[1;03;31;46mdigit\u001b[0m digit \u001b[1;03;31;46mhotline\u001b[0m \u001b[1;03;31;46mmental\u001b[0m \u001b[1;03;31;46mcrisis\u001b[0m \u001b[1;03;31;46mdigit\u001b[0m \u001b[1;03;31;46mmental\u001b[0m advocate excited \u001b[1;03;31;46mcrisis\u001b[0m costly \u001b[1;03;31;46mcrisis\u001b[0m cognitive shutdown blank extreme stress \u001b[1;03;31;46mhotline\u001b[0m facilitate dire \u001b[1;03;31;46msuicide\u001b[0m suicidal lifeline \u001b[1;03;31;46mdigit\u001b[0m \u001b[1;03;31;46mhotline\u001b[0m brain fcc congressional abuse affair lifeline \u001b[1;03;31;46mdigit\u001b[0m dialing \u001b[1;03;31;46mmental\u001b[0m behavioral brain stigma \u001b[1;03;31;46mmental\u001b[0m illness \u001b[1;03;31;46mmental\u001b[0m \u001b[1;03;31;46mcrisis\u001b[0m \u001b[1;03;31;46msuicide\u001b[0m stigma \u001b[1;03;31;46mhotline\u001b[0m normalize seek encourage suicidal extreme depression anxiety \u001b[1;03;31;46mcrisis\u001b[0m escalate overwhelmed \u001b[1;03;31;46msuicide\u001b[0m gould caution \u001b[1;03;31;46mdigit\u001b[0m \u001b[1;03;31;46mhotline\u001b[0m \u001b[1;03;31;46msuicide\u001b[0m patchwork \u001b[1;03;31;46mcrisis\u001b[0m regional trained volunteer \u001b[1;03;31;46mcrisis\u001b[0m clinician \u001b[1;03;31;46mcrisis\u001b[0m \u001b[1;03;31;46msuicide\u001b[0m \u001b[1;03;31;46mcrisis\u001b[0m caller discouraged helpless uneven backup \u001b[1;03;31;46mcrisis\u001b[0m surge rapper logic song song \u001b[1;03;31;46msuicide\u001b[0m \u001b[1;03;31;46mhotline\u001b[0m celebrity \u001b[1;03;31;46msuicide\u001b[0m say\n"
     ]
    }
   ],
   "source": [
    "# View some results\n",
    "frequency_table = word_counts(source_data[\"text\"].loc[3],cutoff=2)\n",
    "evaluate_blog_results(source_data.loc[3],frequency_table)"
   ]
  },
  {
   "cell_type": "code",
   "execution_count": 22,
   "metadata": {},
   "outputs": [
    {
     "name": "stdout",
     "output_type": "stream",
     "text": [
      "untreated \u001b[1;03;31;46mloneliness\u001b[0m \u001b[1;03;31;46misolation\u001b[0m isolation \u001b[1;03;31;46misolation\u001b[0m microwave appliance repair confusion frustrating struggle lonely battle expensive hassle impairment sock exercise newsletter shrivel church sermon frequent rally son endless speak reputation standoffish neighbor sit apartment horrible \u001b[1;03;31;46mloneliness\u001b[0m epidemic plaguing \u001b[1;03;31;46mhearing\u001b[0m \u001b[1;03;31;46mloneliness\u001b[0m decibel drop perception odd lonely dutch apartment \u001b[1;03;31;46mhearing\u001b[0m \u001b[1;03;31;46mloneliness\u001b[0m intensify detrimental hazardous smoking cigarette \u001b[1;03;31;46mloneliness\u001b[0m depression \u001b[1;03;31;46mdementia\u001b[0m death \u001b[1;03;31;46mhearing\u001b[0m know \u001b[1;03;31;46mhearing\u001b[0m stigma difficulty harmless routine \u001b[1;03;31;46mhearing\u001b[0m ago harm \u001b[1;03;31;46mloneliness\u001b[0m enormous consequence blood pressure elevated stress hormone immune feeling \u001b[1;03;31;46misolation\u001b[0m \u001b[1;03;31;46mdementia\u001b[0m death \u001b[1;03;31;46mdementia\u001b[0m depression surgery untangling \u001b[1;03;31;46mloneliness\u001b[0m \u001b[1;03;31;46mhearing\u001b[0m \u001b[1;03;31;46mdementia\u001b[0m trial determine slow \u001b[1;03;31;46mcognitive\u001b[0m \u001b[1;03;31;46mdementia\u001b[0m dementia \u001b[1;03;31;46mdementia\u001b[0m trial \u001b[1;03;31;46mloneliness\u001b[0m \u001b[1;03;31;46mhearing\u001b[0m \u001b[1;03;31;46mloneliness\u001b[0m unclear \u001b[1;03;31;46mhearing\u001b[0m \u001b[1;03;31;46mdementia\u001b[0m \u001b[1;03;31;46mloneliness\u001b[0m loneliness raise stress inflammation \u001b[1;03;31;46mdementia\u001b[0m \u001b[1;03;31;46mhearing\u001b[0m brain \u001b[1;03;31;46mcognitive\u001b[0m speculation brain perceive memory pilot \u001b[1;03;31;46mdementia\u001b[0m symptom connected french observational \u001b[1;03;31;46mhearing\u001b[0m \u001b[1;03;31;46mcognitive\u001b[0m wear untreated capability frustration echo muffle unwanted inch thick insulation ceiling kitchen backsplash dining ceiling hopeless overcoming category counter \u001b[1;03;31;46mhearing\u001b[0m arcane \u001b[1;03;31;46mhearing\u001b[0m bose enter \u001b[1;03;31;46mhearing\u001b[0m distinction electronic unregulated amplification \u001b[1;03;31;46mhearing\u001b[0m immediate neighbor gathering enjoyable enthusiastic convert amplification marriage startled noise amplifier shell\n"
     ]
    }
   ],
   "source": [
    "# View some results\n",
    "frequency_table = word_counts(source_data[\"text\"].loc[4],cutoff=2)\n",
    "evaluate_blog_results(source_data.loc[4],frequency_table)"
   ]
  },
  {
   "cell_type": "code",
   "execution_count": null,
   "metadata": {
    "collapsed": true
   },
   "outputs": [],
   "source": []
  },
  {
   "cell_type": "code",
   "execution_count": null,
   "metadata": {
    "collapsed": true
   },
   "outputs": [],
   "source": []
  },
  {
   "cell_type": "code",
   "execution_count": 1,
   "metadata": {},
   "outputs": [
    {
     "data": {
      "text/plain": [
       "<sqlite3.Connection at 0x106721c70>"
      ]
     },
     "execution_count": 1,
     "metadata": {},
     "output_type": "execute_result"
    }
   ],
   "source": [
    "import sqlite3\n",
    "sqlite3.connect('tti_data.db')"
   ]
  },
  {
   "cell_type": "code",
   "execution_count": null,
   "metadata": {
    "collapsed": true
   },
   "outputs": [],
   "source": []
  }
 ],
 "metadata": {
  "kernelspec": {
   "display_name": "tti-platform",
   "language": "python",
   "name": "tti-platform"
  },
  "language_info": {
   "codemirror_mode": {
    "name": "ipython",
    "version": 3
   },
   "file_extension": ".py",
   "mimetype": "text/x-python",
   "name": "python",
   "nbconvert_exporter": "python",
   "pygments_lexer": "ipython3",
   "version": "3.7.2"
  }
 },
 "nbformat": 4,
 "nbformat_minor": 2
}
