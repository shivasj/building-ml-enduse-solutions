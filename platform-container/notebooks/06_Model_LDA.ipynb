{
 "cells": [
  {
   "cell_type": "markdown",
   "metadata": {},
   "source": [
    "# LDA"
   ]
  },
  {
   "cell_type": "code",
   "execution_count": 7,
   "metadata": {},
   "outputs": [],
   "source": [
    "# imports\n",
    "import sys\n",
    "import os\n",
    "import numpy as np\n",
    "import pandas as pd\n",
    "import sqlite3\n",
    "import json\n",
    "import datetime\n",
    "\n",
    "from nltk import FreqDist\n",
    "from nltk.util import ngrams\n",
    "import re\n",
    "import spacy\n",
    "import math\n",
    "\n",
    "import gensim\n",
    "from gensim import corpora\n",
    "from gensim.models import CoherenceModel\n",
    "\n",
    "from nltk.corpus import stopwords\n",
    "stop_words = stopwords.words('english')"
   ]
  },
  {
   "cell_type": "markdown",
   "metadata": {},
   "source": [
    "## Model\n",
    "\n",
    "Latent Dirichlet Allocation (LDA): LDA is a probabilistic approach to group texts in a document to specific topics. Topic models can organize a collection of unstructured documents to discover themes in them. LDA’s can be used to analyze text across blogs to discover the topics that run through them and how those topics are connected to each other.\n",
    "\n",
    "The main assumption for the model is that documents are made up of a distribution of topics, and the topics are represented by a distribution of keywords. \n"
   ]
  },
  {
   "cell_type": "markdown",
   "metadata": {},
   "source": [
    "## Dataset\n",
    "\n",
    "For this experiment lets pull in the news articles for the last few days"
   ]
  },
  {
   "cell_type": "code",
   "execution_count": 4,
   "metadata": {},
   "outputs": [
    {
     "name": "stdout",
     "output_type": "stream",
     "text": [
      "Shape: (166, 7)\n"
     ]
    },
    {
     "data": {
      "text/html": [
       "<div>\n",
       "<style scoped>\n",
       "    .dataframe tbody tr th:only-of-type {\n",
       "        vertical-align: middle;\n",
       "    }\n",
       "\n",
       "    .dataframe tbody tr th {\n",
       "        vertical-align: top;\n",
       "    }\n",
       "\n",
       "    .dataframe thead th {\n",
       "        text-align: right;\n",
       "    }\n",
       "</style>\n",
       "<table border=\"1\" class=\"dataframe\">\n",
       "  <thead>\n",
       "    <tr style=\"text-align: right;\">\n",
       "      <th></th>\n",
       "      <th>id</th>\n",
       "      <th>source</th>\n",
       "      <th>article_link</th>\n",
       "      <th>article_date</th>\n",
       "      <th>article_title</th>\n",
       "      <th>article_content</th>\n",
       "      <th>article_dts</th>\n",
       "    </tr>\n",
       "  </thead>\n",
       "  <tbody>\n",
       "    <tr>\n",
       "      <th>0</th>\n",
       "      <td>7c66bfc6f7b115ac9ea1c443d64d9f662a3c7257d06d2a...</td>\n",
       "      <td>npr</td>\n",
       "      <td>https://www.npr.org/2019/12/24/791102803/trump...</td>\n",
       "      <td>December 24, 2019</td>\n",
       "      <td>Trump Downplays Threat Of 'Gift' From North Ko...</td>\n",
       "      <td>President Trump did not seem concerned Tuesday...</td>\n",
       "      <td>1.577146e+09</td>\n",
       "    </tr>\n",
       "    <tr>\n",
       "      <th>1</th>\n",
       "      <td>d5e50fa5f13830087bedc86232317ea1790d2417d4d729...</td>\n",
       "      <td>npr</td>\n",
       "      <td>https://www.npr.org/2019/12/23/790747698/newly...</td>\n",
       "      <td>December 23, 2019</td>\n",
       "      <td>Ukraine Emails Fuel Democrats' Call For Impeac...</td>\n",
       "      <td>Party leaders in Congress continued to spar Mo...</td>\n",
       "      <td>1.577059e+09</td>\n",
       "    </tr>\n",
       "    <tr>\n",
       "      <th>2</th>\n",
       "      <td>2b767e199bd897158dd7f8b999bef7aa592b82fd4548eb...</td>\n",
       "      <td>nymag</td>\n",
       "      <td>http://nymag.com/intelligencer/2019/12/matt-sh...</td>\n",
       "      <td>Dec. 24, 2019</td>\n",
       "      <td>GOP Lawmaker Plotted Insurrections to Establis...</td>\n",
       "      <td>Shea’s rebellion. Photo: Ted S Warren/AP/Shutt...</td>\n",
       "      <td>1.577146e+09</td>\n",
       "    </tr>\n",
       "    <tr>\n",
       "      <th>3</th>\n",
       "      <td>139c45cf3296a8e4f8bf50d3525b808be1620b3b670778...</td>\n",
       "      <td>nymag</td>\n",
       "      <td>http://nymag.com/intelligencer/2020/01/iran-ge...</td>\n",
       "      <td>Jan. 2, 2020</td>\n",
       "      <td>U.S. Kills Iranian General Qasem Suleimani in ...</td>\n",
       "      <td>A Shiite Muslim pilgrim walks with a bag adorn...</td>\n",
       "      <td>1.577923e+09</td>\n",
       "    </tr>\n",
       "    <tr>\n",
       "      <th>4</th>\n",
       "      <td>f99ee44a2f210564c2eb3bc91a781f36dd6de44142047a...</td>\n",
       "      <td>nymag</td>\n",
       "      <td>http://nymag.com/intelligencer/2019/12/a-gloss...</td>\n",
       "      <td>Dec. 31, 2019</td>\n",
       "      <td>A Glossary of Everyday Things, According to Trump</td>\n",
       "      <td>Donald Trump. Photo: Chip Somodevilla/Getty Im...</td>\n",
       "      <td>1.577750e+09</td>\n",
       "    </tr>\n",
       "  </tbody>\n",
       "</table>\n",
       "</div>"
      ],
      "text/plain": [
       "                                                  id source  \\\n",
       "0  7c66bfc6f7b115ac9ea1c443d64d9f662a3c7257d06d2a...    npr   \n",
       "1  d5e50fa5f13830087bedc86232317ea1790d2417d4d729...    npr   \n",
       "2  2b767e199bd897158dd7f8b999bef7aa592b82fd4548eb...  nymag   \n",
       "3  139c45cf3296a8e4f8bf50d3525b808be1620b3b670778...  nymag   \n",
       "4  f99ee44a2f210564c2eb3bc91a781f36dd6de44142047a...  nymag   \n",
       "\n",
       "                                        article_link       article_date  \\\n",
       "0  https://www.npr.org/2019/12/24/791102803/trump...  December 24, 2019   \n",
       "1  https://www.npr.org/2019/12/23/790747698/newly...  December 23, 2019   \n",
       "2  http://nymag.com/intelligencer/2019/12/matt-sh...      Dec. 24, 2019   \n",
       "3  http://nymag.com/intelligencer/2020/01/iran-ge...       Jan. 2, 2020   \n",
       "4  http://nymag.com/intelligencer/2019/12/a-gloss...      Dec. 31, 2019   \n",
       "\n",
       "                                       article_title  \\\n",
       "0  Trump Downplays Threat Of 'Gift' From North Ko...   \n",
       "1  Ukraine Emails Fuel Democrats' Call For Impeac...   \n",
       "2  GOP Lawmaker Plotted Insurrections to Establis...   \n",
       "3  U.S. Kills Iranian General Qasem Suleimani in ...   \n",
       "4  A Glossary of Everyday Things, According to Trump   \n",
       "\n",
       "                                     article_content   article_dts  \n",
       "0  President Trump did not seem concerned Tuesday...  1.577146e+09  \n",
       "1  Party leaders in Congress continued to spar Mo...  1.577059e+09  \n",
       "2  Shea’s rebellion. Photo: Ted S Warren/AP/Shutt...  1.577146e+09  \n",
       "3  A Shiite Muslim pilgrim walks with a bag adorn...  1.577923e+09  \n",
       "4  Donald Trump. Photo: Chip Somodevilla/Getty Im...  1.577750e+09  "
      ]
     },
     "execution_count": 4,
     "metadata": {},
     "output_type": "execute_result"
    }
   ],
   "source": [
    "# Connect to database\n",
    "database_url = \"../datastore/app_data.db\"\n",
    "database = sqlite3.connect(database_url)\n",
    "\n",
    "sql = \"select * from articles\"\n",
    "source_data = pd.read_sql_query(sql, database)\n",
    "\n",
    "print(\"Shape:\",source_data.shape)\n",
    "source_data.head()"
   ]
  },
  {
   "cell_type": "code",
   "execution_count": 8,
   "metadata": {},
   "outputs": [
    {
     "name": "stdout",
     "output_type": "stream",
     "text": [
      "Number of Article: 166\n",
      "Minimum Article Date: Dec 23 2019\n",
      "Maximum Article Date: Jan 05 2020\n",
      "Minimum Word Count: 111\n",
      "Maximum Word Count: 5,195\n"
     ]
    }
   ],
   "source": [
    "source_data['word_count'] = source_data['article_content'].str.split().str.len()\n",
    "\n",
    "# View some metrics of data\n",
    "print(\"Number of Article:\",f'{source_data.shape[0]:,}')\n",
    "print(\"Minimum Article Date:\",datetime.datetime.fromtimestamp(min(source_data['article_dts'])).strftime(\"%b %d %Y\"))\n",
    "print(\"Maximum Article Date:\",datetime.datetime.fromtimestamp(max(source_data['article_dts'])).strftime(\"%b %d %Y\"))\n",
    "print(\"Minimum Word Count:\",min(source_data['word_count']))\n",
    "print(\"Maximum Word Count:\",f'{max(source_data[\"word_count\"]):,}')"
   ]
  },
  {
   "cell_type": "code",
   "execution_count": 9,
   "metadata": {},
   "outputs": [
    {
     "name": "stdout",
     "output_type": "stream",
     "text": [
      "------ Article 1--------\n",
      "Trump Downplays Threat Of 'Gift' From North Korea: Maybe It's A 'Beautiful Vase' President Trump did not seem concerned Tuesday when asked about the threat of a \"Christmas present\" from North Korea if the U.S. doesn't roll back economic sanctions on the country by the end of the year. \"Maybe it's a nice present,\" Trump told reporters at an event at his Mar-a-Lago resort in Florida. \"Maybe it's a present where he sends me a beautiful vase, as opposed to a missile test.\" Pyongyang imposed an end-of-year deadline for concessions from the U.S. earlier this month, but the Trump a\n",
      "------ Article 2--------\n",
      "Ukraine Emails Fuel Democrats' Call For Impeachment Trial Witnesses Party leaders in Congress continued to spar Monday over details of an impending impeachment trial in the Senate, with newly released emails giving more ammunition to Democrats in their requests for new witnesses. The emails, released late Friday to the Center for Public Integrity, are heavily redacted, but Democrats have jumped on one in particular to bolster their argument that there is more to know about the saga of President Trump withholding military aid to Ukraine in exchange for political \n",
      "------ Article 3--------\n",
      "GOP Lawmaker Plotted Insurrections to Establish Christian State Shea’s rebellion. Photo: Ted S Warren/AP/Shutterstock Last year, the chair of the Republican caucus in Washington’s state legislature acknowledged that he had written a manifesto on the “Biblical Basis for War.” In that document, the lawmaker argued that – as far as Jesus Christ was concerned – American Christians have the right to “kill all males” who support abortion, same-sex marriage or communism (so long as they first give such infidels the opportunity to renounce their heresies). The manif\n"
     ]
    }
   ],
   "source": [
    "# Preview some content\n",
    "print(\"------ Article 1--------\")\n",
    "print(source_data[\"article_title\"][0],source_data[\"article_content\"][0][:500])\n",
    "print(\"------ Article 2--------\")\n",
    "print(source_data[\"article_title\"][1],source_data[\"article_content\"][1][:500])\n",
    "print(\"------ Article 3--------\")\n",
    "print(source_data[\"article_title\"][2],source_data[\"article_content\"][2][:500])"
   ]
  },
  {
   "cell_type": "markdown",
   "metadata": {},
   "source": [
    "## Data Preprocessing\n",
    "\n",
    "The data preprocessing steps that we will follow inorder to feed the data to the topic model are:\n",
    "- Combine Title with Blog Content\n",
    "- Remove line breaks\n",
    "- Remove Special Characters\n",
    "- Remove small words < 3 letters\n",
    "- Convert text to lowercase\n",
    "- Remove stop words\n",
    "- Tokenize\n",
    "- Lemmatization\n",
    "- Remove custom stop words\n",
    "- Remove blogs less than 15 words"
   ]
  },
  {
   "cell_type": "code",
   "execution_count": 10,
   "metadata": {},
   "outputs": [
    {
     "name": "stdout",
     "output_type": "stream",
     "text": [
      "Shape: (6, 1)\n"
     ]
    }
   ],
   "source": [
    "# Custom stop words\n",
    "custom_stopwords_file ='../datastore/custom_stopwords.txt'\n",
    "custom_stopwords_df = pd.read_csv(custom_stopwords_file, header=None)\n",
    "print(\"Shape:\",custom_stopwords_df.shape)\n",
    "custom_stopwords = custom_stopwords_df[0].tolist()"
   ]
  },
  {
   "cell_type": "code",
   "execution_count": 11,
   "metadata": {},
   "outputs": [],
   "source": [
    "# Utilities to perfrom data cleaning and preparation\n",
    "\n",
    "nlp = spacy.load('en', disable=['parser', 'ner'])\n",
    "\n",
    "# function to remove stopwords\n",
    "def remove_stopwords(rev):\n",
    "    rev_new = \" \".join([i for i in rev if i not in stop_words])\n",
    "    return rev_new\n",
    "\n",
    "def lemmatization(texts, tags=['NOUN', 'ADJ']):\n",
    "    output = []\n",
    "    for sent in texts:\n",
    "        doc = nlp(\" \".join(sent)) \n",
    "        output.append([token.lemma_ for token in doc if token.pos_ in tags])\n",
    "    return output\n",
    "\n",
    "# function to remove custom stopwords\n",
    "def remove_custom_stopwords(texts):\n",
    "    output = []\n",
    "    for sent in texts:\n",
    "        output.append([word for word in sent if word not in custom_stopwords])\n",
    "    return output"
   ]
  },
  {
   "cell_type": "code",
   "execution_count": 12,
   "metadata": {},
   "outputs": [],
   "source": [
    "\n",
    "# Merge title with content\n",
    "source_data['text'] = source_data['article_title'] + \" \" + source_data[\"article_content\"]\n",
    "\n",
    "# Convert column to str\n",
    "source_data['text'] = source_data['text'].apply(str)\n",
    "\n",
    "# Replace line breaks\n",
    "article_text = source_data['text'].str.replace(\"\\n\", \" \")\n",
    "\n",
    "# remove unwanted characters, numbers and symbols\n",
    "article_text = article_text.str.replace(\"[^a-zA-Z#]\", \" \")\n",
    "\n",
    "# remove short words (length < 3)\n",
    "article_text = article_text.apply(lambda x: ' '.join([w for w in x.split() if len(w)>2]))\n",
    "\n",
    "# make entire text lowercase\n",
    "article_text = [r.lower() for r in article_text]\n",
    "\n",
    "# remove stopwords from the text\n",
    "article_text = [remove_stopwords(r.split()) for r in article_text]\n",
    "\n",
    "# Tokenize\n",
    "tokenized_text = pd.Series(article_text).apply(lambda x: x.split())\n",
    "# Lemmatize\n",
    "tokenized_text = lemmatization(tokenized_text)\n",
    "# Remove custom stopwords\n",
    "tokenized_text = remove_custom_stopwords(tokenized_text)\n",
    "\n",
    "flattened_text = []\n",
    "for i in range(len(tokenized_text)):\n",
    "    flattened_text.append(' '.join(tokenized_text[i]))\n",
    "\n",
    "source_data['text'] = flattened_text\n",
    "\n",
    "# Update word count\n",
    "source_data['word_count'] = source_data['text'].str.split().str.len()\n",
    "\n",
    "# Remove word count < 15\n",
    "source_data = source_data[source_data['word_count'] > 14]\n",
    "source_data = source_data.reset_index()"
   ]
  },
  {
   "cell_type": "code",
   "execution_count": 13,
   "metadata": {},
   "outputs": [
    {
     "name": "stdout",
     "output_type": "stream",
     "text": [
      "Shape: (166, 10)\n"
     ]
    },
    {
     "data": {
      "text/html": [
       "<div>\n",
       "<style scoped>\n",
       "    .dataframe tbody tr th:only-of-type {\n",
       "        vertical-align: middle;\n",
       "    }\n",
       "\n",
       "    .dataframe tbody tr th {\n",
       "        vertical-align: top;\n",
       "    }\n",
       "\n",
       "    .dataframe thead th {\n",
       "        text-align: right;\n",
       "    }\n",
       "</style>\n",
       "<table border=\"1\" class=\"dataframe\">\n",
       "  <thead>\n",
       "    <tr style=\"text-align: right;\">\n",
       "      <th></th>\n",
       "      <th>index</th>\n",
       "      <th>id</th>\n",
       "      <th>source</th>\n",
       "      <th>article_link</th>\n",
       "      <th>article_date</th>\n",
       "      <th>article_title</th>\n",
       "      <th>article_content</th>\n",
       "      <th>article_dts</th>\n",
       "      <th>word_count</th>\n",
       "      <th>text</th>\n",
       "    </tr>\n",
       "  </thead>\n",
       "  <tbody>\n",
       "    <tr>\n",
       "      <th>0</th>\n",
       "      <td>0</td>\n",
       "      <td>7c66bfc6f7b115ac9ea1c443d64d9f662a3c7257d06d2a...</td>\n",
       "      <td>npr</td>\n",
       "      <td>https://www.npr.org/2019/12/24/791102803/trump...</td>\n",
       "      <td>December 24, 2019</td>\n",
       "      <td>Trump Downplays Threat Of 'Gift' From North Ko...</td>\n",
       "      <td>President Trump did not seem concerned Tuesday...</td>\n",
       "      <td>1.577146e+09</td>\n",
       "      <td>64</td>\n",
       "      <td>beautiful vase president trump threat economic...</td>\n",
       "    </tr>\n",
       "    <tr>\n",
       "      <th>1</th>\n",
       "      <td>1</td>\n",
       "      <td>d5e50fa5f13830087bedc86232317ea1790d2417d4d729...</td>\n",
       "      <td>npr</td>\n",
       "      <td>https://www.npr.org/2019/12/23/790747698/newly...</td>\n",
       "      <td>December 23, 2019</td>\n",
       "      <td>Ukraine Emails Fuel Democrats' Call For Impeac...</td>\n",
       "      <td>Party leaders in Congress continued to spar Mo...</td>\n",
       "      <td>1.577059e+09</td>\n",
       "      <td>149</td>\n",
       "      <td>fuel impeachment trial party leader spar detai...</td>\n",
       "    </tr>\n",
       "    <tr>\n",
       "      <th>2</th>\n",
       "      <td>2</td>\n",
       "      <td>2b767e199bd897158dd7f8b999bef7aa592b82fd4548eb...</td>\n",
       "      <td>nymag</td>\n",
       "      <td>http://nymag.com/intelligencer/2019/12/matt-sh...</td>\n",
       "      <td>Dec. 24, 2019</td>\n",
       "      <td>GOP Lawmaker Plotted Insurrections to Establis...</td>\n",
       "      <td>Shea’s rebellion. Photo: Ted S Warren/AP/Shutt...</td>\n",
       "      <td>1.577146e+09</td>\n",
       "      <td>219</td>\n",
       "      <td>insurrection christian state rebellion photo l...</td>\n",
       "    </tr>\n",
       "    <tr>\n",
       "      <th>3</th>\n",
       "      <td>3</td>\n",
       "      <td>139c45cf3296a8e4f8bf50d3525b808be1620b3b670778...</td>\n",
       "      <td>nymag</td>\n",
       "      <td>http://nymag.com/intelligencer/2020/01/iran-ge...</td>\n",
       "      <td>Jan. 2, 2020</td>\n",
       "      <td>U.S. Kills Iranian General Qasem Suleimani in ...</td>\n",
       "      <td>A Shiite Muslim pilgrim walks with a bag adorn...</td>\n",
       "      <td>1.577923e+09</td>\n",
       "      <td>250</td>\n",
       "      <td>iranian major qud force morning photo getty im...</td>\n",
       "    </tr>\n",
       "    <tr>\n",
       "      <th>4</th>\n",
       "      <td>4</td>\n",
       "      <td>f99ee44a2f210564c2eb3bc91a781f36dd6de44142047a...</td>\n",
       "      <td>nymag</td>\n",
       "      <td>http://nymag.com/intelligencer/2019/12/a-gloss...</td>\n",
       "      <td>Dec. 31, 2019</td>\n",
       "      <td>A Glossary of Everyday Things, According to Trump</td>\n",
       "      <td>Donald Trump. Photo: Chip Somodevilla/Getty Im...</td>\n",
       "      <td>1.577750e+09</td>\n",
       "      <td>173</td>\n",
       "      <td>glossary everyday thing image mundane element ...</td>\n",
       "    </tr>\n",
       "  </tbody>\n",
       "</table>\n",
       "</div>"
      ],
      "text/plain": [
       "   index                                                 id source  \\\n",
       "0      0  7c66bfc6f7b115ac9ea1c443d64d9f662a3c7257d06d2a...    npr   \n",
       "1      1  d5e50fa5f13830087bedc86232317ea1790d2417d4d729...    npr   \n",
       "2      2  2b767e199bd897158dd7f8b999bef7aa592b82fd4548eb...  nymag   \n",
       "3      3  139c45cf3296a8e4f8bf50d3525b808be1620b3b670778...  nymag   \n",
       "4      4  f99ee44a2f210564c2eb3bc91a781f36dd6de44142047a...  nymag   \n",
       "\n",
       "                                        article_link       article_date  \\\n",
       "0  https://www.npr.org/2019/12/24/791102803/trump...  December 24, 2019   \n",
       "1  https://www.npr.org/2019/12/23/790747698/newly...  December 23, 2019   \n",
       "2  http://nymag.com/intelligencer/2019/12/matt-sh...      Dec. 24, 2019   \n",
       "3  http://nymag.com/intelligencer/2020/01/iran-ge...       Jan. 2, 2020   \n",
       "4  http://nymag.com/intelligencer/2019/12/a-gloss...      Dec. 31, 2019   \n",
       "\n",
       "                                       article_title  \\\n",
       "0  Trump Downplays Threat Of 'Gift' From North Ko...   \n",
       "1  Ukraine Emails Fuel Democrats' Call For Impeac...   \n",
       "2  GOP Lawmaker Plotted Insurrections to Establis...   \n",
       "3  U.S. Kills Iranian General Qasem Suleimani in ...   \n",
       "4  A Glossary of Everyday Things, According to Trump   \n",
       "\n",
       "                                     article_content   article_dts  \\\n",
       "0  President Trump did not seem concerned Tuesday...  1.577146e+09   \n",
       "1  Party leaders in Congress continued to spar Mo...  1.577059e+09   \n",
       "2  Shea’s rebellion. Photo: Ted S Warren/AP/Shutt...  1.577146e+09   \n",
       "3  A Shiite Muslim pilgrim walks with a bag adorn...  1.577923e+09   \n",
       "4  Donald Trump. Photo: Chip Somodevilla/Getty Im...  1.577750e+09   \n",
       "\n",
       "   word_count                                               text  \n",
       "0          64  beautiful vase president trump threat economic...  \n",
       "1         149  fuel impeachment trial party leader spar detai...  \n",
       "2         219  insurrection christian state rebellion photo l...  \n",
       "3         250  iranian major qud force morning photo getty im...  \n",
       "4         173  glossary everyday thing image mundane element ...  "
      ]
     },
     "execution_count": 13,
     "metadata": {},
     "output_type": "execute_result"
    }
   ],
   "source": [
    "print(\"Shape:\",source_data.shape)\n",
    "source_data.head()"
   ]
  },
  {
   "cell_type": "code",
   "execution_count": 14,
   "metadata": {},
   "outputs": [
    {
     "name": "stdout",
     "output_type": "stream",
     "text": [
      "------ Article 1--------\n",
      "beautiful vase president trump threat economic sanction country end year nice present trump reporter present beautiful vase missile test end year deadline concession early month administration sign plan pressure campaign entire nuclear arsenal sanction ambition top foreign policy priority series meeting solution surprise option unclear option rocket payload space underground nuclear test testing long range missile capable trump missile test surprise deal surprise trump\n",
      "------ Article 2--------\n",
      "insurrection christian state rebellion photo last year document american abortion sex marriage communism give opportunity renounce heresy manifesto author chairmanship writing church sermon old war current event historical context call spring text message shea anti fascist activist harassment violence shea online prescription treatment female antifa protester fist full hair face treat communist revolutionary background check list leader participation chat conversation leadership shea action expu\n",
      "------ Article 3--------\n",
      "fuel impeachment trial party leader spar detail impeachment trial email ammunition new witness email late center public integrity particular bolster argument president military aid political investigation message senior official office management less hour trump phone ukrainian president matter quiet duffey halt guidance light administration plan review assistance sensitive nature request information execute direction duffey email government official issue administration decision aid huge anxiet\n"
     ]
    }
   ],
   "source": [
    "# Preview some pre processed text\n",
    "print(\"------ Article 1--------\")\n",
    "print(source_data[\"text\"][0][:500])\n",
    "print(\"------ Article 2--------\")\n",
    "print(source_data[\"text\"][2][:500])\n",
    "print(\"------ Article 3--------\")\n",
    "print(source_data[\"text\"][1][:500])"
   ]
  },
  {
   "cell_type": "markdown",
   "metadata": {},
   "source": [
    "## Build Topic Model\n",
    "\n",
    "Build the Latent Dirichlet Allocation (LDA) model for topic modeling."
   ]
  },
  {
   "cell_type": "code",
   "execution_count": 16,
   "metadata": {},
   "outputs": [
    {
     "data": {
      "text/plain": [
       "[(0,\n",
       "  '0.024*\"trump\" + 0.008*\"eugenic\" + 0.008*\"time\" + 0.007*\"year\" + 0.007*\"people\" + 0.006*\"email\" + 0.006*\"conspiracy\" + 0.006*\"theory\" + 0.006*\"believer\" + 0.006*\"decade\"'),\n",
       " (1,\n",
       "  '0.016*\"voter\" + 0.016*\"candidate\" + 0.015*\"state\" + 0.015*\"democratic\" + 0.014*\"sander\" + 0.013*\"people\" + 0.011*\"election\" + 0.010*\"year\" + 0.008*\"campaign\" + 0.008*\"primary\"'),\n",
       " (2,\n",
       "  '0.019*\"family\" + 0.015*\"police\" + 0.009*\"hostage\" + 0.008*\"member\" + 0.007*\"suspect\" + 0.006*\"matsumura\" + 0.006*\"federal\" + 0.006*\"mother\" + 0.006*\"hour\" + 0.006*\"month\"'),\n",
       " (3,\n",
       "  '0.021*\"war\" + 0.016*\"iranian\" + 0.015*\"trump\" + 0.015*\"attack\" + 0.014*\"military\" + 0.013*\"force\" + 0.012*\"american\" + 0.011*\"strike\" + 0.010*\"iraqi\" + 0.010*\"action\"'),\n",
       " (4,\n",
       "  '0.015*\"election\" + 0.013*\"system\" + 0.012*\"computer\" + 0.009*\"voter\" + 0.007*\"year\" + 0.007*\"report\" + 0.007*\"dhs\" + 0.007*\"holder\" + 0.007*\"time\" + 0.006*\"security\"'),\n",
       " (5,\n",
       "  '0.025*\"trump\" + 0.011*\"president\" + 0.009*\"year\" + 0.009*\"campaign\" + 0.008*\"time\" + 0.007*\"percent\" + 0.007*\"political\" + 0.006*\"email\" + 0.006*\"election\" + 0.005*\"voter\"'),\n",
       " (6,\n",
       "  '0.033*\"campaign\" + 0.018*\"candidate\" + 0.016*\"quarter\" + 0.016*\"fundraising\" + 0.014*\"sander\" + 0.013*\"democratic\" + 0.013*\"debate\" + 0.012*\"month\" + 0.011*\"former\" + 0.009*\"day\"'),\n",
       " (7,\n",
       "  '0.017*\"trump\" + 0.011*\"trial\" + 0.010*\"year\" + 0.009*\"impeachment\" + 0.008*\"time\" + 0.007*\"people\" + 0.006*\"former\" + 0.006*\"new\" + 0.006*\"campaign\" + 0.005*\"day\"'),\n",
       " (8,\n",
       "  '0.018*\"police\" + 0.017*\"officer\" + 0.015*\"year\" + 0.010*\"child\" + 0.009*\"official\" + 0.008*\"family\" + 0.008*\"hay\" + 0.008*\"black\" + 0.007*\"victim\" + 0.006*\"old\"'),\n",
       " (9,\n",
       "  '0.018*\"game\" + 0.017*\"year\" + 0.014*\"season\" + 0.013*\"patriot\" + 0.013*\"playoff\" + 0.011*\"card\" + 0.010*\"coach\" + 0.009*\"wild\" + 0.008*\"crash\" + 0.008*\"time\"')]"
      ]
     },
     "execution_count": 16,
     "metadata": {},
     "output_type": "execute_result"
    }
   ],
   "source": [
    "tokenized_text = source_data['text'].apply(lambda x: x.split()).tolist()\n",
    "\n",
    "NUM_TOPICS = 10\n",
    "# Create term dictionary\n",
    "id2word = corpora.Dictionary(tokenized_text)\n",
    "\n",
    "# Convert into a Document Term Matrix corpus\n",
    "corpus = [id2word.doc2bow(text) for text in tokenized_text]\n",
    "\n",
    "# Creating the object for LDA model using gensim library\n",
    "LDA = gensim.models.ldamodel.LdaModel\n",
    "\n",
    "# Build LDA model\n",
    "lda_model = LDA(corpus=corpus,\n",
    "                id2word=id2word,\n",
    "                num_topics=NUM_TOPICS, \n",
    "                random_state=100,\n",
    "                chunksize=1000,\n",
    "                passes=200)\n",
    "\n",
    "# View the generated topics\n",
    "lda_model.print_topics()"
   ]
  },
  {
   "cell_type": "code",
   "execution_count": 18,
   "metadata": {},
   "outputs": [],
   "source": [
    "# Build the list of Topic\n",
    "topics_details = {}\n",
    "\n",
    "for topic_num in range(lda_model.num_topics):\n",
    "    word_prob = lda_model.show_topic(topic_num,topn=30)\n",
    "    #topic_keywords = \", \".join([word for word, prob in word_prob])\n",
    "    topic_keywords = [word for word, prob in word_prob]\n",
    "    word_probability = [{\"word\":word,\"probability\":prob} for word, prob in word_prob]\n",
    "    \n",
    "    topics_details[topic_num] = {\n",
    "        \"topic_keywords\" : topic_keywords,\n",
    "        \"word_probability\" : word_probability\n",
    "    }\n",
    "\n",
    "# Assign the topics back to the source text\n",
    "doc = 0\n",
    "for doc_topics in lda_model[corpus]:\n",
    "    doc_topics = sorted(doc_topics, key=lambda tup: (tup[1]), reverse=True)\n",
    "    top = 1\n",
    "    for topic_num,prob in doc_topics:\n",
    "        #print(topic_num,prob)\n",
    "        source_data.loc[doc, \"topic_\"+str(top)] = topic_num\n",
    "        top = top +1\n",
    "    \n",
    "    doc = doc +1"
   ]
  },
  {
   "cell_type": "code",
   "execution_count": 20,
   "metadata": {},
   "outputs": [
    {
     "name": "stdout",
     "output_type": "stream",
     "text": [
      "Shape: (166, 14)\n"
     ]
    },
    {
     "data": {
      "text/html": [
       "<div>\n",
       "<style scoped>\n",
       "    .dataframe tbody tr th:only-of-type {\n",
       "        vertical-align: middle;\n",
       "    }\n",
       "\n",
       "    .dataframe tbody tr th {\n",
       "        vertical-align: top;\n",
       "    }\n",
       "\n",
       "    .dataframe thead th {\n",
       "        text-align: right;\n",
       "    }\n",
       "</style>\n",
       "<table border=\"1\" class=\"dataframe\">\n",
       "  <thead>\n",
       "    <tr style=\"text-align: right;\">\n",
       "      <th></th>\n",
       "      <th>article_date</th>\n",
       "      <th>article_title</th>\n",
       "      <th>article_content</th>\n",
       "      <th>topic_1</th>\n",
       "      <th>topic_2</th>\n",
       "      <th>topic_3</th>\n",
       "    </tr>\n",
       "  </thead>\n",
       "  <tbody>\n",
       "    <tr>\n",
       "      <th>0</th>\n",
       "      <td>December 24, 2019</td>\n",
       "      <td>Trump Downplays Threat Of 'Gift' From North Ko...</td>\n",
       "      <td>President Trump did not seem concerned Tuesday...</td>\n",
       "      <td>5.0</td>\n",
       "      <td>3.0</td>\n",
       "      <td>NaN</td>\n",
       "    </tr>\n",
       "    <tr>\n",
       "      <th>1</th>\n",
       "      <td>December 23, 2019</td>\n",
       "      <td>Ukraine Emails Fuel Democrats' Call For Impeac...</td>\n",
       "      <td>Party leaders in Congress continued to spar Mo...</td>\n",
       "      <td>7.0</td>\n",
       "      <td>5.0</td>\n",
       "      <td>NaN</td>\n",
       "    </tr>\n",
       "    <tr>\n",
       "      <th>2</th>\n",
       "      <td>Dec. 24, 2019</td>\n",
       "      <td>GOP Lawmaker Plotted Insurrections to Establis...</td>\n",
       "      <td>Shea’s rebellion. Photo: Ted S Warren/AP/Shutt...</td>\n",
       "      <td>5.0</td>\n",
       "      <td>3.0</td>\n",
       "      <td>NaN</td>\n",
       "    </tr>\n",
       "    <tr>\n",
       "      <th>3</th>\n",
       "      <td>Jan. 2, 2020</td>\n",
       "      <td>U.S. Kills Iranian General Qasem Suleimani in ...</td>\n",
       "      <td>A Shiite Muslim pilgrim walks with a bag adorn...</td>\n",
       "      <td>3.0</td>\n",
       "      <td>NaN</td>\n",
       "      <td>NaN</td>\n",
       "    </tr>\n",
       "    <tr>\n",
       "      <th>4</th>\n",
       "      <td>Dec. 31, 2019</td>\n",
       "      <td>A Glossary of Everyday Things, According to Trump</td>\n",
       "      <td>Donald Trump. Photo: Chip Somodevilla/Getty Im...</td>\n",
       "      <td>5.0</td>\n",
       "      <td>NaN</td>\n",
       "      <td>NaN</td>\n",
       "    </tr>\n",
       "  </tbody>\n",
       "</table>\n",
       "</div>"
      ],
      "text/plain": [
       "        article_date                                      article_title  \\\n",
       "0  December 24, 2019  Trump Downplays Threat Of 'Gift' From North Ko...   \n",
       "1  December 23, 2019  Ukraine Emails Fuel Democrats' Call For Impeac...   \n",
       "2      Dec. 24, 2019  GOP Lawmaker Plotted Insurrections to Establis...   \n",
       "3       Jan. 2, 2020  U.S. Kills Iranian General Qasem Suleimani in ...   \n",
       "4      Dec. 31, 2019  A Glossary of Everyday Things, According to Trump   \n",
       "\n",
       "                                     article_content  topic_1  topic_2  \\\n",
       "0  President Trump did not seem concerned Tuesday...      5.0      3.0   \n",
       "1  Party leaders in Congress continued to spar Mo...      7.0      5.0   \n",
       "2  Shea’s rebellion. Photo: Ted S Warren/AP/Shutt...      5.0      3.0   \n",
       "3  A Shiite Muslim pilgrim walks with a bag adorn...      3.0      NaN   \n",
       "4  Donald Trump. Photo: Chip Somodevilla/Getty Im...      5.0      NaN   \n",
       "\n",
       "   topic_3  \n",
       "0      NaN  \n",
       "1      NaN  \n",
       "2      NaN  \n",
       "3      NaN  \n",
       "4      NaN  "
      ]
     },
     "execution_count": 20,
     "metadata": {},
     "output_type": "execute_result"
    }
   ],
   "source": [
    "print(\"Shape:\",source_data.shape)\n",
    "source_data[[\"article_date\",\"article_title\",\"article_content\",\"topic_1\",\"topic_2\",\"topic_3\"]].head()"
   ]
  },
  {
   "cell_type": "markdown",
   "metadata": {},
   "source": [
    "## Model Evaluation\n",
    "\n",
    "We will visually look at a few of the articles to see how the model performed"
   ]
  },
  {
   "cell_type": "code",
   "execution_count": 21,
   "metadata": {},
   "outputs": [],
   "source": [
    "def evaluate_topic_results(row):\n",
    "    text = row[\"text\"]\n",
    "    for top in range(NUM_TOPICS):\n",
    "        topic_column = \"topic_\"+str(top+1)\n",
    "        if topic_column in row:\n",
    "            topic_num = row[topic_column]\n",
    "            #print(topic_num)\n",
    "            if not math.isnan(topic_num):\n",
    "                topic = topics_details[topic_num]\n",
    "                #print(topic)\n",
    "                topic_keywords = topic[\"topic_keywords\"]\n",
    "\n",
    "                #print(topic_1)\n",
    "\n",
    "                for keyword in topic_keywords:\n",
    "                    #print(keyword)\n",
    "                    text = text.replace(' '+keyword+' ', ' \\x1b[1;03;31;46m'+ keyword + '\\x1b[0m ')\n",
    "    \n",
    "    print(text)"
   ]
  },
  {
   "cell_type": "code",
   "execution_count": 22,
   "metadata": {},
   "outputs": [
    {
     "name": "stdout",
     "output_type": "stream",
     "text": [
      "beautiful vase \u001b[1;03;31;46mpresident\u001b[0m \u001b[1;03;31;46mtrump\u001b[0m threat economic sanction \u001b[1;03;31;46mcountry\u001b[0m end \u001b[1;03;31;46myear\u001b[0m nice present \u001b[1;03;31;46mtrump\u001b[0m reporter present beautiful vase missile test end \u001b[1;03;31;46myear\u001b[0m deadline concession early month \u001b[1;03;31;46madministration\u001b[0m sign plan pressure \u001b[1;03;31;46mcampaign\u001b[0m entire \u001b[1;03;31;46mnuclear\u001b[0m arsenal sanction ambition top \u001b[1;03;31;46mforeign\u001b[0m \u001b[1;03;31;46mpolicy\u001b[0m priority series meeting solution surprise option unclear option rocket payload space underground \u001b[1;03;31;46mnuclear\u001b[0m test testing long range missile capable \u001b[1;03;31;46mtrump\u001b[0m missile test surprise \u001b[1;03;31;46mdeal\u001b[0m surprise trump\n"
     ]
    }
   ],
   "source": [
    "# View some results\n",
    "evaluate_topic_results(source_data.loc[0])"
   ]
  },
  {
   "cell_type": "code",
   "execution_count": 23,
   "metadata": {},
   "outputs": [
    {
     "name": "stdout",
     "output_type": "stream",
     "text": [
      "fuel \u001b[1;03;31;46mimpeachment\u001b[0m \u001b[1;03;31;46mtrial\u001b[0m party leader spar detail \u001b[1;03;31;46mimpeachment\u001b[0m \u001b[1;03;31;46mtrial\u001b[0m \u001b[1;03;31;46memail\u001b[0m ammunition \u001b[1;03;31;46mnew\u001b[0m witness \u001b[1;03;31;46memail\u001b[0m late center \u001b[1;03;31;46mpublic\u001b[0m integrity particular bolster argument \u001b[1;03;31;46mpresident\u001b[0m military aid \u001b[1;03;31;46mpolitical\u001b[0m \u001b[1;03;31;46minvestigation\u001b[0m message senior official \u001b[1;03;31;46moffice\u001b[0m management less hour \u001b[1;03;31;46mtrump\u001b[0m phone ukrainian \u001b[1;03;31;46mpresident\u001b[0m matter quiet duffey halt guidance light administration plan review assistance sensitive nature request information execute direction duffey \u001b[1;03;31;46memail\u001b[0m \u001b[1;03;31;46mgovernment\u001b[0m official issue administration decision aid huge anxiety \u001b[1;03;31;46mgovernment\u001b[0m aid unwise illegal center \u001b[1;03;31;46mpublic\u001b[0m integrity \u001b[1;03;31;46mpresident\u001b[0m \u001b[1;03;31;46mgovernment\u001b[0m official money inquiry key \u001b[1;03;31;46mpeople\u001b[0m fact \u001b[1;03;31;46mdocument\u001b[0m copy press conference \u001b[1;03;31;46mnew\u001b[0m witness \u001b[1;03;31;46mtrial\u001b[0m trial witness \u001b[1;03;31;46mdocument\u001b[0m \u001b[1;03;31;46mtrial\u001b[0m schumer sign groundwork question \u001b[1;03;31;46mtrial\u001b[0m witness \u001b[1;03;31;46mdocument\u001b[0m american \u001b[1;03;31;46mpeople\u001b[0m testimony cover schumer plain simple \u001b[1;03;31;46mtrial\u001b[0m \u001b[1;03;31;46marticle\u001b[0m \u001b[1;03;31;46mimpeachment\u001b[0m \u001b[1;03;31;46mimpeachment\u001b[0m manager \u001b[1;03;31;46mtrial\u001b[0m look sufficient \u001b[1;03;31;46mvote\u001b[0m \u001b[1;03;31;46mpresident\u001b[0m ability stall transfer leverage news morning \u001b[1;03;31;46mtrial\u001b[0m \u001b[1;03;31;46mnew\u001b[0m witness \u001b[1;03;31;46mtrial\u001b[0m fact impartial juror early \u001b[1;03;31;46mmonth\u001b[0m chance \u001b[1;03;31;46moffice\u001b[0m chamber clear \u001b[1;03;31;46mlast\u001b[0m \u001b[1;03;31;46mweek\u001b[0m \u001b[1;03;31;46minvestigation\u001b[0m \u001b[1;03;31;46mdocument\u001b[0m testimony \u001b[1;03;31;46mimpeachment\u001b[0m \u001b[1;03;31;46mvote\u001b[0m \u001b[1;03;31;46mlast\u001b[0m \u001b[1;03;31;46mweek\u001b[0m duty investigate duty high bar undoing national election\n"
     ]
    }
   ],
   "source": [
    "# View some results\n",
    "evaluate_topic_results(source_data.loc[1])"
   ]
  },
  {
   "cell_type": "code",
   "execution_count": 24,
   "metadata": {},
   "outputs": [
    {
     "name": "stdout",
     "output_type": "stream",
     "text": [
      "insurrection christian \u001b[1;03;31;46mstate\u001b[0m rebellion photo \u001b[1;03;31;46mlast\u001b[0m \u001b[1;03;31;46myear\u001b[0m document \u001b[1;03;31;46mamerican\u001b[0m abortion sex marriage communism give opportunity renounce heresy manifesto author chairmanship writing church sermon old \u001b[1;03;31;46mwar\u001b[0m current event historical context call spring text message shea anti fascist activist harassment violence shea online prescription treatment female antifa protester fist full hair face treat communist revolutionary background check list \u001b[1;03;31;46mleader\u001b[0m participation chat conversation leadership shea \u001b[1;03;31;46maction\u001b[0m expulsion \u001b[1;03;31;46mgovernment\u001b[0m shea activity robertson plan prominent \u001b[1;03;31;46mconservative\u001b[0m \u001b[1;03;31;46mtrump\u001b[0m alarm shea former supporter press \u001b[1;03;31;46mstate\u001b[0m legislature document shea plan theocratic \u001b[1;03;31;46mgovernment\u001b[0m unspecified collapse event former agent \u001b[1;03;31;46mreport\u001b[0m \u001b[1;03;31;46mlast\u001b[0m week \u001b[1;03;31;46mleader\u001b[0m total armed \u001b[1;03;31;46mconflict\u001b[0m \u001b[1;03;31;46mpolitical\u001b[0m violence \u001b[1;03;31;46mgovernment\u001b[0m \u001b[1;03;31;46mstate\u001b[0m \u001b[1;03;31;46myear\u001b[0m period occupation wildlife phone call advance occupation \u001b[1;03;31;46mreport\u001b[0m day occupation code name verumbellator detailed \u001b[1;03;31;46mmilitary\u001b[0m style plan operation cold reality role member coalition western \u001b[1;03;31;46mstate\u001b[0m day site \u001b[1;03;31;46mstate\u001b[0m representative local national law enforcement \u001b[1;03;31;46mreport\u001b[0m gathered intelligence law enforcement strategy operation meeting occupier \u001b[1;03;31;46mreport\u001b[0m warning law enforcement shea resignation practitioner radical christian terrorism \u001b[1;03;31;46mstate\u001b[0m legislator story \u001b[1;03;31;46mconservative\u001b[0m \u001b[1;03;31;46mtrump\u001b[0m supporter bright line \u001b[1;03;31;46mpresident\u001b[0m brand \u001b[1;03;31;46mpolitic\u001b[0m right \u001b[1;03;31;46mmilitia\u001b[0m chief distinction fact large number atypical ultraconservative rhetoric viewer coup undocumented immigrant immigrant \u001b[1;03;31;46mrepublican\u001b[0m \u001b[1;03;31;46mstate\u001b[0m radical left wing idea second amendment \u001b[1;03;31;46mpeople\u001b[0m paranoid xenophobic logic endpoint \u001b[1;03;31;46mpresident\u001b[0m twitter office cause civil \u001b[1;03;31;46mwar\u001b[0m organization oath keeper \u001b[1;03;31;46mtrump\u001b[0m hot civil \u001b[1;03;31;46mwar\u001b[0m \u001b[1;03;31;46mpolitic\u001b[0m business technology world \u001b[1;03;31;46memail\u001b[0m \u001b[1;03;31;46mterm\u001b[0m privacy notice \u001b[1;03;31;46memail\u001b[0m \u001b[1;03;31;46mterm\u001b[0m privacy notice \u001b[1;03;31;46memail\u001b[0m correspondence\n"
     ]
    }
   ],
   "source": [
    "# View some results\n",
    "evaluate_topic_results(source_data.loc[2])"
   ]
  },
  {
   "cell_type": "markdown",
   "metadata": {},
   "source": [
    "## Model Performance"
   ]
  },
  {
   "cell_type": "code",
   "execution_count": 25,
   "metadata": {},
   "outputs": [
    {
     "name": "stdout",
     "output_type": "stream",
     "text": [
      "Perplexity: -7.537349439875256\n",
      "Coherence 0.41461878280841596\n"
     ]
    }
   ],
   "source": [
    "# Model Perplexity\n",
    "print(\"Perplexity:\", lda_model.log_perplexity(corpus))\n",
    "\n",
    "# Model Coherence\n",
    "coherence_model_lda = CoherenceModel(model=lda_model, texts=tokenized_text, dictionary=id2word, coherence='c_v')\n",
    "coherence_lda = coherence_model_lda.get_coherence()\n",
    "print(\"Coherence\", coherence_lda)"
   ]
  },
  {
   "cell_type": "markdown",
   "metadata": {
    "collapsed": true
   },
   "source": [
    "## Evaluation of Topic Coherence\n",
    "\n",
    "In this step we will create multiple models to test topic coherence"
   ]
  },
  {
   "cell_type": "code",
   "execution_count": 28,
   "metadata": {},
   "outputs": [],
   "source": [
    "# Create term dictionary\n",
    "id2word = corpora.Dictionary(tokenized_text)\n",
    "\n",
    "# Convert into a Document Term Matrix corpus\n",
    "corpus = [id2word.doc2bow(text) for text in tokenized_text]\n",
    "\n",
    "# Creating the object for LDA model using gensim library\n",
    "LDA = gensim.models.ldamodel.LdaModel\n",
    "\n",
    "coherence_values = []\n",
    "model_list = []\n",
    "start = 5\n",
    "limit = 100\n",
    "step = 6\n",
    "for num_topics in range(start, limit, step):\n",
    "    model=LDA(corpus=corpus, id2word=id2word, num_topics=num_topics,\n",
    "              random_state=100,chunksize=1000,passes=200)\n",
    "    model_list.append(model)\n",
    "    coherencemodel = CoherenceModel(model=model, texts=tokenized_text, dictionary=id2word, coherence='c_v')\n",
    "    coherence_values.append(coherencemodel.get_coherence())"
   ]
  },
  {
   "cell_type": "code",
   "execution_count": 32,
   "metadata": {},
   "outputs": [
    {
     "data": {
      "image/png": "[encoded data removed]",
      "text/plain": [
       "<Figure size 432x288 with 1 Axes>"
      ]
     },
     "metadata": {
      "needs_background": "light"
     },
     "output_type": "display_data"
    }
   ],
   "source": [
    "# Show graph\n",
    "import matplotlib.pyplot as plt\n",
    "%matplotlib inline\n",
    "x = range(start, limit, step)\n",
    "plt.plot(x, coherence_values)\n",
    "plt.xlabel(\"Number of Topics\")\n",
    "plt.ylabel(\"Coherence score\")\n",
    "plt.show()"
   ]
  },
  {
   "cell_type": "code",
   "execution_count": 33,
   "metadata": {},
   "outputs": [
    {
     "data": {
      "text/plain": [
       "[0.45522642577900124,\n",
       " 0.4092617841257411,\n",
       " 0.3755168582455469,\n",
       " 0.37855374773593126,\n",
       " 0.3907903892601367,\n",
       " 0.39380540782939033,\n",
       " 0.3527327728562341,\n",
       " 0.37494467297331896,\n",
       " 0.38217891341999843,\n",
       " 0.3843828156899292,\n",
       " 0.4110681259077299,\n",
       " 0.3805892483951833,\n",
       " 0.40474445514726626,\n",
       " 0.3779139723070282,\n",
       " 0.4265849955285937,\n",
       " 0.40884205493323106]"
      ]
     },
     "execution_count": 33,
     "metadata": {},
     "output_type": "execute_result"
    }
   ],
   "source": [
    "coherence_values"
   ]
  },
  {
   "cell_type": "code",
   "execution_count": null,
   "metadata": {},
   "outputs": [],
   "source": []
  }
 ],
 "metadata": {
  "kernelspec": {
   "display_name": "Python 3",
   "language": "python",
   "name": "python3"
  },
  "language_info": {
   "codemirror_mode": {
    "name": "ipython",
    "version": 3
   },
   "file_extension": ".py",
   "mimetype": "text/x-python",
   "name": "python",
   "nbconvert_exporter": "python",
   "pygments_lexer": "ipython3",
   "version": "3.6.8"
  }
 },
 "nbformat": 4,
 "nbformat_minor": 2
}
