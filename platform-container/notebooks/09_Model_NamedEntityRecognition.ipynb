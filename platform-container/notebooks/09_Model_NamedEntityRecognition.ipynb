{
 "cells": [
  {
   "cell_type": "markdown",
   "metadata": {},
   "source": [
    "# Named Entity Recognition"
   ]
  },
  {
   "cell_type": "code",
   "execution_count": 1,
   "metadata": {},
   "outputs": [],
   "source": [
    "# imports\n",
    "import sys\n",
    "import os\n",
    "import numpy as np\n",
    "import pandas as pd\n",
    "import sqlite3\n",
    "import json\n",
    "from datetime import datetime, timedelta\n",
    "\n",
    "import en_core_web_sm\n",
    "nlp = en_core_web_sm.load()"
   ]
  },
  {
   "cell_type": "code",
   "execution_count": 2,
   "metadata": {},
   "outputs": [
    {
     "name": "stdout",
     "output_type": "stream",
     "text": [
      "Shape: (16, 7)\n"
     ]
    },
    {
     "data": {
      "text/html": [
       "<div>\n",
       "<style scoped>\n",
       "    .dataframe tbody tr th:only-of-type {\n",
       "        vertical-align: middle;\n",
       "    }\n",
       "\n",
       "    .dataframe tbody tr th {\n",
       "        vertical-align: top;\n",
       "    }\n",
       "\n",
       "    .dataframe thead th {\n",
       "        text-align: right;\n",
       "    }\n",
       "</style>\n",
       "<table border=\"1\" class=\"dataframe\">\n",
       "  <thead>\n",
       "    <tr style=\"text-align: right;\">\n",
       "      <th></th>\n",
       "      <th>id</th>\n",
       "      <th>source</th>\n",
       "      <th>article_link</th>\n",
       "      <th>article_date</th>\n",
       "      <th>article_title</th>\n",
       "      <th>article_content</th>\n",
       "      <th>article_dts</th>\n",
       "    </tr>\n",
       "  </thead>\n",
       "  <tbody>\n",
       "    <tr>\n",
       "      <th>0</th>\n",
       "      <td>eaa27f44001f9e4f88c9dd72f3fd3739672f5efe812761...</td>\n",
       "      <td>npr</td>\n",
       "      <td>https://www.npr.org/2020/01/07/794254074/mccon...</td>\n",
       "      <td>2020-01-07T14:57:37-05:00</td>\n",
       "      <td>McConnell Will Move Ahead With Impeachment Tri...</td>\n",
       "      <td>Senate Majority Leader Mitch McConnell, R-Ky...</td>\n",
       "      <td>1.578427e+09</td>\n",
       "    </tr>\n",
       "    <tr>\n",
       "      <th>1</th>\n",
       "      <td>d611d7663957534cee4131432652f8fe9041d1f3b5a836...</td>\n",
       "      <td>npr</td>\n",
       "      <td>https://www.npr.org/2020/01/07/794268837/in-ir...</td>\n",
       "      <td>2020-01-07T14:40:06-05:00</td>\n",
       "      <td>In Iran Speech, Biden Calls Escalating Tension...</td>\n",
       "      <td>Former Vice President Joe Biden blasted Pres...</td>\n",
       "      <td>1.578426e+09</td>\n",
       "    </tr>\n",
       "    <tr>\n",
       "      <th>2</th>\n",
       "      <td>53abbf9d06863e50f7d05a00d336e5b5cd8ba121cb97bf...</td>\n",
       "      <td>nymag</td>\n",
       "      <td>http://nymag.com/intelligencer/2020/01/joe-wal...</td>\n",
       "      <td>2020-01-07T15:52:42.616-05:00</td>\n",
       "      <td>Long-Shot GOP Candidate Joe Walsh on His New B...</td>\n",
       "      <td>The last time we caught up with Joe Walsh, he ...</td>\n",
       "      <td>1.578430e+09</td>\n",
       "    </tr>\n",
       "    <tr>\n",
       "      <th>3</th>\n",
       "      <td>e7d041457cd5a3790c6b96d740a943a417b29fb9ef7f36...</td>\n",
       "      <td>nymag</td>\n",
       "      <td>http://nymag.com/intelligencer/2020/01/doj-mic...</td>\n",
       "      <td>2020-01-07T15:28:33.823-05:00</td>\n",
       "      <td>DOJ Suggests Michael Flynn Spend Up to 6 Month...</td>\n",
       "      <td>In a sentencing memo published on Tuesday, Dep...</td>\n",
       "      <td>1.578429e+09</td>\n",
       "    </tr>\n",
       "    <tr>\n",
       "      <th>4</th>\n",
       "      <td>67beedfab453b1cabc362d168304013581ceb182f5fd7d...</td>\n",
       "      <td>nymag</td>\n",
       "      <td>http://nymag.com/intelligencer/2020/01/mcconne...</td>\n",
       "      <td>2020-01-07T14:57:46.739-05:00</td>\n",
       "      <td>McConnell Has the Votes to Begin Impeachment T...</td>\n",
       "      <td>The Nancy Pelosi–Chuck Schumer effort to mouse...</td>\n",
       "      <td>1.578427e+09</td>\n",
       "    </tr>\n",
       "  </tbody>\n",
       "</table>\n",
       "</div>"
      ],
      "text/plain": [
       "                                                  id source  \\\n",
       "0  eaa27f44001f9e4f88c9dd72f3fd3739672f5efe812761...    npr   \n",
       "1  d611d7663957534cee4131432652f8fe9041d1f3b5a836...    npr   \n",
       "2  53abbf9d06863e50f7d05a00d336e5b5cd8ba121cb97bf...  nymag   \n",
       "3  e7d041457cd5a3790c6b96d740a943a417b29fb9ef7f36...  nymag   \n",
       "4  67beedfab453b1cabc362d168304013581ceb182f5fd7d...  nymag   \n",
       "\n",
       "                                        article_link  \\\n",
       "0  https://www.npr.org/2020/01/07/794254074/mccon...   \n",
       "1  https://www.npr.org/2020/01/07/794268837/in-ir...   \n",
       "2  http://nymag.com/intelligencer/2020/01/joe-wal...   \n",
       "3  http://nymag.com/intelligencer/2020/01/doj-mic...   \n",
       "4  http://nymag.com/intelligencer/2020/01/mcconne...   \n",
       "\n",
       "                    article_date  \\\n",
       "0      2020-01-07T14:57:37-05:00   \n",
       "1      2020-01-07T14:40:06-05:00   \n",
       "2  2020-01-07T15:52:42.616-05:00   \n",
       "3  2020-01-07T15:28:33.823-05:00   \n",
       "4  2020-01-07T14:57:46.739-05:00   \n",
       "\n",
       "                                       article_title  \\\n",
       "0  McConnell Will Move Ahead With Impeachment Tri...   \n",
       "1  In Iran Speech, Biden Calls Escalating Tension...   \n",
       "2  Long-Shot GOP Candidate Joe Walsh on His New B...   \n",
       "3  DOJ Suggests Michael Flynn Spend Up to 6 Month...   \n",
       "4  McConnell Has the Votes to Begin Impeachment T...   \n",
       "\n",
       "                                     article_content   article_dts  \n",
       "0    Senate Majority Leader Mitch McConnell, R-Ky...  1.578427e+09  \n",
       "1    Former Vice President Joe Biden blasted Pres...  1.578426e+09  \n",
       "2  The last time we caught up with Joe Walsh, he ...  1.578430e+09  \n",
       "3  In a sentencing memo published on Tuesday, Dep...  1.578429e+09  \n",
       "4  The Nancy Pelosi–Chuck Schumer effort to mouse...  1.578427e+09  "
      ]
     },
     "execution_count": 2,
     "metadata": {},
     "output_type": "execute_result"
    }
   ],
   "source": [
    "# Connect to database\n",
    "database_url = \"../datastore/app_data.db\"\n",
    "database = sqlite3.connect(database_url)\n",
    "\n",
    "today = datetime.today()\n",
    "start_time = today - timedelta(hours=12)\n",
    "        \n",
    "sql = \"select * from articles where 1=1 \"\n",
    "sql += \" and article_dts >= \"+ str(start_time.timestamp())\n",
    "source_data = pd.read_sql_query(sql, database)\n",
    "\n",
    "print(\"Shape:\",source_data.shape)\n",
    "source_data.head()"
   ]
  },
  {
   "cell_type": "code",
   "execution_count": 3,
   "metadata": {},
   "outputs": [],
   "source": [
    "# Merge title with content\n",
    "source_data['text'] = source_data['article_title'] + \" \" + source_data[\"article_content\"]"
   ]
  },
  {
   "cell_type": "code",
   "execution_count": 4,
   "metadata": {},
   "outputs": [
    {
     "name": "stdout",
     "output_type": "stream",
     "text": [
      "[{'name': 'McConnell', 'entity': 'ORG'}, {'name': 'Democrats', 'entity': 'NORP'}, {'name': 'Senate', 'entity': 'ORG'}, {'name': 'Mitch McConnell', 'entity': 'PERSON'}, {'name': 'R-Ky.', 'entity': 'PERSON'}, {'name': 'Senate', 'entity': 'ORG'}, {'name': 'Trump', 'entity': 'PERSON'}, {'name': 'Democrats', 'entity': 'NORP'}, {'name': 'McConnell', 'entity': 'PERSON'}, {'name': 'Tuesday', 'entity': 'DATE'}, {'name': 'Senate', 'entity': 'ORG'}, {'name': 'Chuck Schumer', 'entity': 'PERSON'}, {'name': 'D-N.Y.', 'entity': 'GPE'}, {'name': 'weeks', 'entity': 'DATE'}, {'name': 'Democrats', 'entity': 'NORP'}, {'name': 'House', 'entity': 'ORG'}, {'name': 'Nancy Pelosi', 'entity': 'PERSON'}, {'name': 'D-Calif.', 'entity': 'GPE'}, {'name': 'House', 'entity': 'ORG'}, {'name': 'Clinton', 'entity': 'PERSON'}, {'name': 'McConnell', 'entity': 'PERSON'}, {'name': 'McConnell', 'entity': 'PERSON'}, {'name': '1999', 'entity': 'DATE'}, {'name': 'Bill Clinton', 'entity': 'PERSON'}, {'name': 'second', 'entity': 'ORDINAL'}, {'name': 'McConnell', 'entity': 'PERSON'}, {'name': 'first', 'entity': 'ORDINAL'}, {'name': 'McConnell', 'entity': 'PERSON'}, {'name': 'Senate', 'entity': 'ORG'}, {'name': 'Pelosi', 'entity': 'PRODUCT'}, {'name': 'House', 'entity': 'ORG'}, {'name': 'McConnell', 'entity': 'PERSON'}, {'name': 'Their Impeachment Strategies', 'entity': 'ORG'}, {'name': 'Pelosi', 'entity': 'ORG'}, {'name': 'McConnell', 'entity': 'PERSON'}, {'name': '4:14', 'entity': 'CARDINAL'}, {'name': '4:14', 'entity': 'ORDINAL'}, {'name': 'Toggle', 'entity': 'ORG'}, {'name': 'Download   Embed     Embed', 'entity': 'PRODUCT'}, {'name': 'NPR One', 'entity': 'ORG'}, {'name': 'Apple', 'entity': 'ORG'}, {'name': 'RSS', 'entity': 'ORG'}, {'name': 'Senate', 'entity': 'ORG'}, {'name': 'Democrats', 'entity': 'NORP'}, {'name': 'two', 'entity': 'CARDINAL'}, {'name': 'Schumer', 'entity': 'PERSON'}, {'name': 'Schumer', 'entity': 'PERSON'}, {'name': 'Democrats', 'entity': 'NORP'}, {'name': 'four', 'entity': 'CARDINAL'}, {'name': 'House', 'entity': 'ORG'}, {'name': 'White House', 'entity': 'ORG'}, {'name': 'Mick Mulvaney', 'entity': 'PERSON'}, {'name': 'John Bolton', 'entity': 'PERSON'}, {'name': 'this week', 'entity': 'DATE'}, {'name': 'Bolton', 'entity': 'PERSON'}, {'name': 'Senate', 'entity': 'ORG'}, {'name': 'Senate', 'entity': 'ORG'}, {'name': 'Schumer', 'entity': 'PERSON'}, {'name': 'Bolton', 'entity': 'PERSON'}, {'name': 'Senate', 'entity': 'ORG'}, {'name': 'Republican', 'entity': 'NORP'}, {'name': 'four', 'entity': 'CARDINAL'}, {'name': 'Senate', 'entity': 'ORG'}, {'name': 'Democrats', 'entity': 'NORP'}, {'name': '51', 'entity': 'CARDINAL'}, {'name': 'four', 'entity': 'CARDINAL'}, {'name': 'Republicans', 'entity': 'NORP'}, {'name': 'GOP', 'entity': 'ORG'}, {'name': 'McConnell', 'entity': 'PERSON'}, {'name': 'at least 51', 'entity': 'CARDINAL'}, {'name': '53', 'entity': 'CARDINAL'}, {'name': 'Senate', 'entity': 'ORG'}, {'name': 'Republicans', 'entity': 'NORP'}, {'name': 'Kevin Cramer', 'entity': 'PERSON'}, {'name': 'R-N.D.', 'entity': 'PERSON'}, {'name': 'Tuesday', 'entity': 'DATE'}, {'name': 'McConnell', 'entity': 'ORG'}, {'name': 'Senate', 'entity': 'ORG'}, {'name': 'GOP', 'entity': 'ORG'}, {'name': 'recent days', 'entity': 'DATE'}, {'name': 'Cramer', 'entity': 'ORG'}, {'name': 'Democrats', 'entity': 'NORP'}, {'name': 'Republicans', 'entity': 'NORP'}, {'name': 'Lisa Murkowski', 'entity': 'PERSON'}, {'name': 'R-Alaska', 'entity': 'PERSON'}, {'name': 'Susan Collins', 'entity': 'PERSON'}, {'name': 'R-Maine', 'entity': 'ORG'}, {'name': 'Mitt Romney', 'entity': 'ORG'}, {'name': 'R-Utah', 'entity': 'ORG'}, {'name': 'Collins', 'entity': 'PERSON'}, {'name': 'Murkowski', 'entity': 'PERSON'}, {'name': 'McConnell', 'entity': 'PERSON'}, {'name': 'the White House', 'entity': 'ORG'}, {'name': 'Susan Collins', 'entity': 'PERSON'}, {'name': 'Congress', 'entity': 'ORG'}, {'name': 'recent weeks', 'entity': 'DATE'}, {'name': 'Republicans', 'entity': 'NORP'}, {'name': 'Collins', 'entity': 'PERSON'}, {'name': 'Murkowski', 'entity': 'GPE'}, {'name': 'McConnell', 'entity': 'PERSON'}, {'name': 'Clinton', 'entity': 'PERSON'}, {'name': 'Collins', 'entity': 'PERSON'}, {'name': 'Maine Public Radio', 'entity': 'ORG'}, {'name': 'today', 'entity': 'DATE'}, {'name': 'McConnell', 'entity': 'PERSON'}, {'name': 'Pelosi', 'entity': 'ORG'}, {'name': 'Pelosi', 'entity': 'ORG'}, {'name': 'McConnell', 'entity': 'PERSON'}, {'name': 'Schumer', 'entity': 'PERSON'}, {'name': 'House', 'entity': 'ORG'}, {'name': 'Senate', 'entity': 'ORG'}, {'name': 'Trump', 'entity': 'PERSON'}, {'name': 'House', 'entity': 'ORG'}, {'name': 'American', 'entity': 'NORP'}, {'name': 'House', 'entity': 'ORG'}, {'name': 'Nancy Pelosi', 'entity': 'PERSON'}, {'name': 'December 23, 2019', 'entity': 'DATE'}, {'name': 'Senate', 'entity': 'ORG'}, {'name': 'the week', 'entity': 'DATE'}, {'name': 'NPR', 'entity': 'ORG'}, {'name': 'Claudia Grisales', 'entity': 'PERSON'}]\n"
     ]
    }
   ],
   "source": [
    "doc = nlp(source_data[\"text\"].loc[0])\n",
    "print([{'name':ne.text,'entity':ne.label_} for ne in doc.ents])"
   ]
  },
  {
   "cell_type": "code",
   "execution_count": 5,
   "metadata": {},
   "outputs": [
    {
     "name": "stdout",
     "output_type": "stream",
     "text": [
      "[{'name': 'Iran Speech', 'entity': 'EVENT'}, {'name': 'Joe Biden', 'entity': 'PERSON'}, {'name': 'Trump', 'entity': 'PERSON'}, {'name': 'Iranian', 'entity': 'NORP'}, {'name': 'Qassem Soleimani', 'entity': 'PERSON'}, {'name': 'Trump', 'entity': 'PERSON'}, {'name': 'Tuesday', 'entity': 'DATE'}, {'name': 'Biden', 'entity': 'PERSON'}, {'name': 'Democratic', 'entity': 'NORP'}, {'name': 'U.S.', 'entity': 'GPE'}, {'name': 'Trump', 'entity': 'LOC'}, {'name': 'Obama', 'entity': 'LOC'}, {'name': 'Iran', 'entity': 'GPE'}, {'name': '2015', 'entity': 'DATE'}, {'name': 'Biden', 'entity': 'PERSON'}, {'name': 'Donald Trump', 'entity': 'PERSON'}, {'name': 'May 8, 2018', 'entity': 'DATE'}, {'name': 'the day', 'entity': 'DATE'}, {'name': 'Iran', 'entity': 'GPE'}, {'name': 'Trump', 'entity': 'PERSON'}, {'name': 'one', 'entity': 'CARDINAL'}, {'name': 'Middle East', 'entity': 'LOC'}, {'name': 'Iran', 'entity': 'GPE'}, {'name': 'U.S.', 'entity': 'GPE'}, {'name': 'Mike Pompeo', 'entity': 'PERSON'}, {'name': 'Iran', 'entity': 'GPE'}, {'name': 'New York City', 'entity': 'GPE'}, {'name': 'Biden', 'entity': 'PERSON'}, {'name': 'Tuesday', 'entity': 'DATE'}, {'name': 'Trump', 'entity': 'LOC'}, {'name': 'Soleimani', 'entity': 'NORP'}, {'name': 'Democratic', 'entity': 'NORP'}, {'name': 'Biden', 'entity': 'PERSON'}, {'name': 'Iowa', 'entity': 'GPE'}, {'name': 'Democratic', 'entity': 'NORP'}, {'name': 'Trump', 'entity': 'PERSON'}, {'name': 'years', 'entity': 'DATE'}, {'name': 'the Senate Foreign Relations Committee', 'entity': 'ORG'}, {'name': 'his eight years', 'entity': 'DATE'}, {'name': 'Barack Obama', 'entity': 'PERSON'}, {'name': 'Biden', 'entity': 'PERSON'}, {'name': 'Soleimani', 'entity': 'NORP'}, {'name': 'Trump', 'entity': 'PERSON'}, {'name': \"the United States'\", 'entity': 'GPE'}, {'name': 'Trump', 'entity': 'PERSON'}, {'name': 'Soleimani', 'entity': 'ORG'}, {'name': 'U.S.', 'entity': 'GPE'}, {'name': 'Tuesday', 'entity': 'DATE'}, {'name': 'Biden', 'entity': 'PERSON'}, {'name': 'Trump', 'entity': 'PERSON'}, {'name': 'the days', 'entity': 'DATE'}, {'name': 'American', 'entity': 'NORP'}, {'name': 'Biden', 'entity': 'PERSON'}, {'name': 'Congress', 'entity': 'ORG'}, {'name': 'Trump', 'entity': 'LOC'}, {'name': 'American', 'entity': 'NORP'}, {'name': 'Iran', 'entity': 'GPE'}, {'name': 'Biden', 'entity': 'LOC'}, {'name': 'Soleimani', 'entity': 'NORP'}, {'name': 'Iran', 'entity': 'GPE'}, {'name': 'Iran', 'entity': 'GPE'}, {'name': 'Biden', 'entity': 'PERSON'}, {'name': 'This summer', 'entity': 'DATE'}, {'name': 'Iran', 'entity': 'GPE'}, {'name': 'Biden', 'entity': 'ORG'}, {'name': 'Tehran', 'entity': 'GPE'}, {'name': 'Iran', 'entity': 'GPE'}, {'name': 'July', 'entity': 'DATE'}, {'name': 'Biden', 'entity': 'PERSON'}, {'name': 'Trump', 'entity': 'PERSON'}, {'name': 'Tuesday', 'entity': 'DATE'}, {'name': 'Obama', 'entity': 'PERSON'}, {'name': 'Biden', 'entity': 'PERSON'}]\n"
     ]
    }
   ],
   "source": [
    "doc = nlp(source_data[\"text\"].loc[1])\n",
    "print([{'name':ne.text,'entity':ne.label_} for ne in doc.ents])"
   ]
  },
  {
   "cell_type": "code",
   "execution_count": 6,
   "metadata": {},
   "outputs": [
    {
     "name": "stdout",
     "output_type": "stream",
     "text": [
      "[{'name': 'GOP', 'entity': 'ORG'}, {'name': 'Joe Walsh', 'entity': 'PERSON'}, {'name': 'His Secret Plan to Beat Trump', 'entity': 'WORK_OF_ART'}, {'name': 'Joe Walsh', 'entity': 'PERSON'}, {'name': 'Republican', 'entity': 'NORP'}, {'name': 'Bill Weld', 'entity': 'PERSON'}, {'name': 'Iran', 'entity': 'GPE'}, {'name': 'Mark Sanford', 'entity': 'PERSON'}, {'name': 'the Republican Party', 'entity': 'ORG'}, {'name': 'Donald Trump', 'entity': 'PERSON'}, {'name': 'Walsh', 'entity': 'PERSON'}, {'name': 'Walsh', 'entity': 'PERSON'}, {'name': 'New Hampshire', 'entity': 'GPE'}, {'name': 'one percent', 'entity': 'PERCENT'}, {'name': 'February 18', 'entity': 'DATE'}, {'name': 'Labor Day', 'entity': 'EVENT'}, {'name': 'one', 'entity': 'CARDINAL'}, {'name': 'Trump', 'entity': 'LOC'}, {'name': 'every day', 'entity': 'DATE'}, {'name': 'Republican', 'entity': 'NORP'}, {'name': 'Trump', 'entity': 'PERSON'}, {'name': 'every day', 'entity': 'DATE'}, {'name': 'Trump', 'entity': 'PRODUCT'}, {'name': 'Fox News', 'entity': 'ORG'}, {'name': 'Don Jr.', 'entity': 'PERSON'}, {'name': 'millions', 'entity': 'CARDINAL'}, {'name': 'the White House', 'entity': 'ORG'}, {'name': 'Trump', 'entity': 'PRODUCT'}, {'name': 'Trump', 'entity': 'PERSON'}, {'name': '2020', 'entity': 'CARDINAL'}, {'name': 'Trump', 'entity': 'PRODUCT'}, {'name': 'Never Trumper', 'entity': 'ORG'}, {'name': 'several months', 'entity': 'DATE'}, {'name': 'Trump', 'entity': 'PRODUCT'}, {'name': 'Republican', 'entity': 'NORP'}, {'name': 'Trump', 'entity': 'PRODUCT'}, {'name': 'Never Trump', 'entity': 'PERSON'}, {'name': 'Trump', 'entity': 'PRODUCT'}, {'name': 'Bloomberg', 'entity': 'PERSON'}, {'name': 'GOP', 'entity': 'ORG'}, {'name': 'Trump', 'entity': 'PRODUCT'}, {'name': 'Republicans', 'entity': 'NORP'}, {'name': 'Donald Trump', 'entity': 'PERSON'}, {'name': 'Trump', 'entity': 'PRODUCT'}, {'name': 'nine', 'entity': 'CARDINAL'}, {'name': 'Iowa', 'entity': 'GPE'}, {'name': 'NH', 'entity': 'ORG'}, {'name': 'Super Tuesday', 'entity': 'DATE'}, {'name': 'The Art of the Deal, Triggered, Atlas Shrugged', 'entity': 'WORK_OF_ART'}, {'name': 'Bible', 'entity': 'WORK_OF_ART'}, {'name': 'Animal Farm', 'entity': 'ORG'}, {'name': '1', 'entity': 'CARDINAL'}, {'name': 'Bible2', 'entity': 'PERSON'}, {'name': 'Atlas', 'entity': 'PERSON'}]\n"
     ]
    }
   ],
   "source": [
    "doc = nlp(source_data[\"text\"].loc[2])\n",
    "print([{'name':ne.text,'entity':ne.label_} for ne in doc.ents])"
   ]
  },
  {
   "cell_type": "code",
   "execution_count": null,
   "metadata": {},
   "outputs": [],
   "source": []
  }
 ],
 "metadata": {
  "kernelspec": {
   "display_name": "Python 3",
   "language": "python",
   "name": "python3"
  },
  "language_info": {
   "codemirror_mode": {
    "name": "ipython",
    "version": 3
   },
   "file_extension": ".py",
   "mimetype": "text/x-python",
   "name": "python",
   "nbconvert_exporter": "python",
   "pygments_lexer": "ipython3",
   "version": "3.6.8"
  }
 },
 "nbformat": 4,
 "nbformat_minor": 2
}
