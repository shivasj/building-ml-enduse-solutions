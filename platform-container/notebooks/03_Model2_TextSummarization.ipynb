{
 "cells": [
  {
   "cell_type": "markdown",
   "metadata": {},
   "source": [
    "# Text Summarization"
   ]
  },
  {
   "cell_type": "code",
   "execution_count": 2,
   "metadata": {},
   "outputs": [],
   "source": [
    "# imports\n",
    "import sys\n",
    "import os\n",
    "import numpy as np\n",
    "import pandas as pd\n",
    "import sqlite3\n",
    "import json\n",
    "import datetime\n",
    "\n",
    "from nltk import FreqDist\n",
    "from nltk.util import ngrams"
   ]
  },
  {
   "cell_type": "markdown",
   "metadata": {},
   "source": [
    "## Model\n",
    "\n",
    "Word Frequencies based summarization:\n",
    "A simple and robust method to find the number of times a word has been used in a sentence. Words with higher count are assumed to be more important. Sentences with importent words are slected for the final extractive summary"
   ]
  },
  {
   "cell_type": "markdown",
   "metadata": {},
   "source": [
    "## Dataset\n",
    "\n",
    "For this experiment lets pull in the news articles for the last few days"
   ]
  },
  {
   "cell_type": "code",
   "execution_count": 3,
   "metadata": {},
   "outputs": [
    {
     "name": "stdout",
     "output_type": "stream",
     "text": [
      "Shape: (153, 7)\n"
     ]
    },
    {
     "data": {
      "text/html": [
       "<div>\n",
       "<style scoped>\n",
       "    .dataframe tbody tr th:only-of-type {\n",
       "        vertical-align: middle;\n",
       "    }\n",
       "\n",
       "    .dataframe tbody tr th {\n",
       "        vertical-align: top;\n",
       "    }\n",
       "\n",
       "    .dataframe thead th {\n",
       "        text-align: right;\n",
       "    }\n",
       "</style>\n",
       "<table border=\"1\" class=\"dataframe\">\n",
       "  <thead>\n",
       "    <tr style=\"text-align: right;\">\n",
       "      <th></th>\n",
       "      <th>id</th>\n",
       "      <th>source</th>\n",
       "      <th>article_link</th>\n",
       "      <th>article_date</th>\n",
       "      <th>article_title</th>\n",
       "      <th>article_content</th>\n",
       "      <th>article_dts</th>\n",
       "    </tr>\n",
       "  </thead>\n",
       "  <tbody>\n",
       "    <tr>\n",
       "      <th>0</th>\n",
       "      <td>7c66bfc6f7b115ac9ea1c443d64d9f662a3c7257d06d2a...</td>\n",
       "      <td>npr</td>\n",
       "      <td>https://www.npr.org/2019/12/24/791102803/trump...</td>\n",
       "      <td>December 24, 2019</td>\n",
       "      <td>Trump Downplays Threat Of 'Gift' From North Ko...</td>\n",
       "      <td>President Trump did not seem concerned Tuesday...</td>\n",
       "      <td>1.577146e+09</td>\n",
       "    </tr>\n",
       "    <tr>\n",
       "      <th>1</th>\n",
       "      <td>d5e50fa5f13830087bedc86232317ea1790d2417d4d729...</td>\n",
       "      <td>npr</td>\n",
       "      <td>https://www.npr.org/2019/12/23/790747698/newly...</td>\n",
       "      <td>December 23, 2019</td>\n",
       "      <td>Ukraine Emails Fuel Democrats' Call For Impeac...</td>\n",
       "      <td>Party leaders in Congress continued to spar Mo...</td>\n",
       "      <td>1.577059e+09</td>\n",
       "    </tr>\n",
       "    <tr>\n",
       "      <th>2</th>\n",
       "      <td>2b767e199bd897158dd7f8b999bef7aa592b82fd4548eb...</td>\n",
       "      <td>nymag</td>\n",
       "      <td>http://nymag.com/intelligencer/2019/12/matt-sh...</td>\n",
       "      <td>Dec. 24, 2019</td>\n",
       "      <td>GOP Lawmaker Plotted Insurrections to Establis...</td>\n",
       "      <td>Shea’s rebellion. Photo: Ted S Warren/AP/Shutt...</td>\n",
       "      <td>1.577146e+09</td>\n",
       "    </tr>\n",
       "    <tr>\n",
       "      <th>3</th>\n",
       "      <td>139c45cf3296a8e4f8bf50d3525b808be1620b3b670778...</td>\n",
       "      <td>nymag</td>\n",
       "      <td>http://nymag.com/intelligencer/2020/01/iran-ge...</td>\n",
       "      <td>Jan. 2, 2020</td>\n",
       "      <td>U.S. Kills Iranian General Qasem Suleimani in ...</td>\n",
       "      <td>A Shiite Muslim pilgrim walks with a bag adorn...</td>\n",
       "      <td>1.577923e+09</td>\n",
       "    </tr>\n",
       "    <tr>\n",
       "      <th>4</th>\n",
       "      <td>f99ee44a2f210564c2eb3bc91a781f36dd6de44142047a...</td>\n",
       "      <td>nymag</td>\n",
       "      <td>http://nymag.com/intelligencer/2019/12/a-gloss...</td>\n",
       "      <td>Dec. 31, 2019</td>\n",
       "      <td>A Glossary of Everyday Things, According to Trump</td>\n",
       "      <td>Donald Trump. Photo: Chip Somodevilla/Getty Im...</td>\n",
       "      <td>1.577750e+09</td>\n",
       "    </tr>\n",
       "  </tbody>\n",
       "</table>\n",
       "</div>"
      ],
      "text/plain": [
       "                                                  id source  \\\n",
       "0  7c66bfc6f7b115ac9ea1c443d64d9f662a3c7257d06d2a...    npr   \n",
       "1  d5e50fa5f13830087bedc86232317ea1790d2417d4d729...    npr   \n",
       "2  2b767e199bd897158dd7f8b999bef7aa592b82fd4548eb...  nymag   \n",
       "3  139c45cf3296a8e4f8bf50d3525b808be1620b3b670778...  nymag   \n",
       "4  f99ee44a2f210564c2eb3bc91a781f36dd6de44142047a...  nymag   \n",
       "\n",
       "                                        article_link       article_date  \\\n",
       "0  https://www.npr.org/2019/12/24/791102803/trump...  December 24, 2019   \n",
       "1  https://www.npr.org/2019/12/23/790747698/newly...  December 23, 2019   \n",
       "2  http://nymag.com/intelligencer/2019/12/matt-sh...      Dec. 24, 2019   \n",
       "3  http://nymag.com/intelligencer/2020/01/iran-ge...       Jan. 2, 2020   \n",
       "4  http://nymag.com/intelligencer/2019/12/a-gloss...      Dec. 31, 2019   \n",
       "\n",
       "                                       article_title  \\\n",
       "0  Trump Downplays Threat Of 'Gift' From North Ko...   \n",
       "1  Ukraine Emails Fuel Democrats' Call For Impeac...   \n",
       "2  GOP Lawmaker Plotted Insurrections to Establis...   \n",
       "3  U.S. Kills Iranian General Qasem Suleimani in ...   \n",
       "4  A Glossary of Everyday Things, According to Trump   \n",
       "\n",
       "                                     article_content   article_dts  \n",
       "0  President Trump did not seem concerned Tuesday...  1.577146e+09  \n",
       "1  Party leaders in Congress continued to spar Mo...  1.577059e+09  \n",
       "2  Shea’s rebellion. Photo: Ted S Warren/AP/Shutt...  1.577146e+09  \n",
       "3  A Shiite Muslim pilgrim walks with a bag adorn...  1.577923e+09  \n",
       "4  Donald Trump. Photo: Chip Somodevilla/Getty Im...  1.577750e+09  "
      ]
     },
     "execution_count": 3,
     "metadata": {},
     "output_type": "execute_result"
    }
   ],
   "source": [
    "# Connect to database\n",
    "database_url = \"../datastore/app_data.db\"\n",
    "database = sqlite3.connect(database_url)\n",
    "\n",
    "sql = \"select * from articles\"\n",
    "source_data = pd.read_sql_query(sql, database)\n",
    "\n",
    "print(\"Shape:\",source_data.shape)\n",
    "source_data.head()"
   ]
  },
  {
   "cell_type": "code",
   "execution_count": 4,
   "metadata": {},
   "outputs": [
    {
     "name": "stdout",
     "output_type": "stream",
     "text": [
      "Number of Article: 153\n",
      "Minimum Article Date: Dec 23 2019\n",
      "Maximum Article Date: Jan 05 2020\n",
      "Minimum Word Count: 111\n",
      "Maximum Word Count: 5,195\n"
     ]
    }
   ],
   "source": [
    "source_data['word_count'] = source_data['article_content'].str.split().str.len()\n",
    "\n",
    "# View some metrics of data\n",
    "print(\"Number of Article:\",f'{source_data.shape[0]:,}')\n",
    "print(\"Minimum Article Date:\",datetime.datetime.fromtimestamp(min(source_data['article_dts'])).strftime(\"%b %d %Y\"))\n",
    "print(\"Maximum Article Date:\",datetime.datetime.fromtimestamp(max(source_data['article_dts'])).strftime(\"%b %d %Y\"))\n",
    "print(\"Minimum Word Count:\",min(source_data['word_count']))\n",
    "print(\"Maximum Word Count:\",f'{max(source_data[\"word_count\"]):,}')"
   ]
  },
  {
   "cell_type": "markdown",
   "metadata": {},
   "source": [
    "## Data Preprocessing\n",
    "\n",
    "The data preprocessing steps that we will follow inorder to feed the data to the model are:\n",
    "- Combine Title with Blog Content\n",
    "- Remove line breaks"
   ]
  },
  {
   "cell_type": "code",
   "execution_count": null,
   "metadata": {},
   "outputs": [],
   "source": []
  }
 ],
 "metadata": {
  "kernelspec": {
   "display_name": "Python 3",
   "language": "python",
   "name": "python3"
  },
  "language_info": {
   "codemirror_mode": {
    "name": "ipython",
    "version": 3
   },
   "file_extension": ".py",
   "mimetype": "text/x-python",
   "name": "python",
   "nbconvert_exporter": "python",
   "pygments_lexer": "ipython3",
   "version": "3.6.8"
  }
 },
 "nbformat": 4,
 "nbformat_minor": 2
}
