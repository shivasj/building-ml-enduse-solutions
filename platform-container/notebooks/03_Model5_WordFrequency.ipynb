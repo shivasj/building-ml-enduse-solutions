{
 "cells": [
  {
   "cell_type": "markdown",
   "metadata": {},
   "source": [
    "# WordFrequency"
   ]
  },
  {
   "cell_type": "code",
   "execution_count": 1,
   "metadata": {},
   "outputs": [],
   "source": [
    "# imports\n",
    "import sys\n",
    "import os\n",
    "import numpy as np\n",
    "import pandas as pd\n",
    "import sqlite3\n",
    "import json\n",
    "import datetime\n",
    "\n",
    "from nltk import FreqDist\n",
    "from nltk.util import ngrams\n",
    "import re\n",
    "import spacy\n",
    "import math\n",
    "\n",
    "from nltk.corpus import stopwords\n",
    "stop_words = stopwords.words('english')"
   ]
  },
  {
   "cell_type": "markdown",
   "metadata": {},
   "source": [
    "## Model\n",
    "\n",
    "Word Frequencies:\n",
    "A simple and robust method to find the number of times a word has been used in a document. Words with higher count are assumed to be more important than than those with lesser counts.\n"
   ]
  },
  {
   "cell_type": "markdown",
   "metadata": {},
   "source": [
    "## Dataset\n",
    "\n",
    "For this experiment lets pull in the news articles for the last few days"
   ]
  },
  {
   "cell_type": "code",
   "execution_count": 2,
   "metadata": {},
   "outputs": [
    {
     "name": "stdout",
     "output_type": "stream",
     "text": [
      "Shape: (157, 7)\n"
     ]
    },
    {
     "data": {
      "text/html": [
       "<div>\n",
       "<style scoped>\n",
       "    .dataframe tbody tr th:only-of-type {\n",
       "        vertical-align: middle;\n",
       "    }\n",
       "\n",
       "    .dataframe tbody tr th {\n",
       "        vertical-align: top;\n",
       "    }\n",
       "\n",
       "    .dataframe thead th {\n",
       "        text-align: right;\n",
       "    }\n",
       "</style>\n",
       "<table border=\"1\" class=\"dataframe\">\n",
       "  <thead>\n",
       "    <tr style=\"text-align: right;\">\n",
       "      <th></th>\n",
       "      <th>id</th>\n",
       "      <th>source</th>\n",
       "      <th>article_link</th>\n",
       "      <th>article_date</th>\n",
       "      <th>article_title</th>\n",
       "      <th>article_content</th>\n",
       "      <th>article_dts</th>\n",
       "    </tr>\n",
       "  </thead>\n",
       "  <tbody>\n",
       "    <tr>\n",
       "      <th>0</th>\n",
       "      <td>7c66bfc6f7b115ac9ea1c443d64d9f662a3c7257d06d2a...</td>\n",
       "      <td>npr</td>\n",
       "      <td>https://www.npr.org/2019/12/24/791102803/trump...</td>\n",
       "      <td>December 24, 2019</td>\n",
       "      <td>Trump Downplays Threat Of 'Gift' From North Ko...</td>\n",
       "      <td>President Trump did not seem concerned Tuesday...</td>\n",
       "      <td>1.577146e+09</td>\n",
       "    </tr>\n",
       "    <tr>\n",
       "      <th>1</th>\n",
       "      <td>d5e50fa5f13830087bedc86232317ea1790d2417d4d729...</td>\n",
       "      <td>npr</td>\n",
       "      <td>https://www.npr.org/2019/12/23/790747698/newly...</td>\n",
       "      <td>December 23, 2019</td>\n",
       "      <td>Ukraine Emails Fuel Democrats' Call For Impeac...</td>\n",
       "      <td>Party leaders in Congress continued to spar Mo...</td>\n",
       "      <td>1.577059e+09</td>\n",
       "    </tr>\n",
       "    <tr>\n",
       "      <th>2</th>\n",
       "      <td>2b767e199bd897158dd7f8b999bef7aa592b82fd4548eb...</td>\n",
       "      <td>nymag</td>\n",
       "      <td>http://nymag.com/intelligencer/2019/12/matt-sh...</td>\n",
       "      <td>Dec. 24, 2019</td>\n",
       "      <td>GOP Lawmaker Plotted Insurrections to Establis...</td>\n",
       "      <td>Shea’s rebellion. Photo: Ted S Warren/AP/Shutt...</td>\n",
       "      <td>1.577146e+09</td>\n",
       "    </tr>\n",
       "    <tr>\n",
       "      <th>3</th>\n",
       "      <td>139c45cf3296a8e4f8bf50d3525b808be1620b3b670778...</td>\n",
       "      <td>nymag</td>\n",
       "      <td>http://nymag.com/intelligencer/2020/01/iran-ge...</td>\n",
       "      <td>Jan. 2, 2020</td>\n",
       "      <td>U.S. Kills Iranian General Qasem Suleimani in ...</td>\n",
       "      <td>A Shiite Muslim pilgrim walks with a bag adorn...</td>\n",
       "      <td>1.577923e+09</td>\n",
       "    </tr>\n",
       "    <tr>\n",
       "      <th>4</th>\n",
       "      <td>f99ee44a2f210564c2eb3bc91a781f36dd6de44142047a...</td>\n",
       "      <td>nymag</td>\n",
       "      <td>http://nymag.com/intelligencer/2019/12/a-gloss...</td>\n",
       "      <td>Dec. 31, 2019</td>\n",
       "      <td>A Glossary of Everyday Things, According to Trump</td>\n",
       "      <td>Donald Trump. Photo: Chip Somodevilla/Getty Im...</td>\n",
       "      <td>1.577750e+09</td>\n",
       "    </tr>\n",
       "  </tbody>\n",
       "</table>\n",
       "</div>"
      ],
      "text/plain": [
       "                                                  id source  \\\n",
       "0  7c66bfc6f7b115ac9ea1c443d64d9f662a3c7257d06d2a...    npr   \n",
       "1  d5e50fa5f13830087bedc86232317ea1790d2417d4d729...    npr   \n",
       "2  2b767e199bd897158dd7f8b999bef7aa592b82fd4548eb...  nymag   \n",
       "3  139c45cf3296a8e4f8bf50d3525b808be1620b3b670778...  nymag   \n",
       "4  f99ee44a2f210564c2eb3bc91a781f36dd6de44142047a...  nymag   \n",
       "\n",
       "                                        article_link       article_date  \\\n",
       "0  https://www.npr.org/2019/12/24/791102803/trump...  December 24, 2019   \n",
       "1  https://www.npr.org/2019/12/23/790747698/newly...  December 23, 2019   \n",
       "2  http://nymag.com/intelligencer/2019/12/matt-sh...      Dec. 24, 2019   \n",
       "3  http://nymag.com/intelligencer/2020/01/iran-ge...       Jan. 2, 2020   \n",
       "4  http://nymag.com/intelligencer/2019/12/a-gloss...      Dec. 31, 2019   \n",
       "\n",
       "                                       article_title  \\\n",
       "0  Trump Downplays Threat Of 'Gift' From North Ko...   \n",
       "1  Ukraine Emails Fuel Democrats' Call For Impeac...   \n",
       "2  GOP Lawmaker Plotted Insurrections to Establis...   \n",
       "3  U.S. Kills Iranian General Qasem Suleimani in ...   \n",
       "4  A Glossary of Everyday Things, According to Trump   \n",
       "\n",
       "                                     article_content   article_dts  \n",
       "0  President Trump did not seem concerned Tuesday...  1.577146e+09  \n",
       "1  Party leaders in Congress continued to spar Mo...  1.577059e+09  \n",
       "2  Shea’s rebellion. Photo: Ted S Warren/AP/Shutt...  1.577146e+09  \n",
       "3  A Shiite Muslim pilgrim walks with a bag adorn...  1.577923e+09  \n",
       "4  Donald Trump. Photo: Chip Somodevilla/Getty Im...  1.577750e+09  "
      ]
     },
     "execution_count": 2,
     "metadata": {},
     "output_type": "execute_result"
    }
   ],
   "source": [
    "# Connect to database\n",
    "database_url = \"../datastore/app_data.db\"\n",
    "database = sqlite3.connect(database_url)\n",
    "\n",
    "sql = \"select * from articles\"\n",
    "source_data = pd.read_sql_query(sql, database)\n",
    "\n",
    "print(\"Shape:\",source_data.shape)\n",
    "source_data.head()"
   ]
  },
  {
   "cell_type": "code",
   "execution_count": 7,
   "metadata": {},
   "outputs": [
    {
     "name": "stdout",
     "output_type": "stream",
     "text": [
      "Number of Article: 166\n",
      "Minimum Article Date: Dec 23 2019\n",
      "Maximum Article Date: Jan 05 2020\n",
      "Minimum Word Count: 111\n",
      "Maximum Word Count: 5,195\n"
     ]
    }
   ],
   "source": [
    "source_data['word_count'] = source_data['article_content'].str.split().str.len()\n",
    "\n",
    "# View some metrics of data\n",
    "print(\"Number of Article:\",f'{source_data.shape[0]:,}')\n",
    "print(\"Minimum Article Date:\",datetime.datetime.fromtimestamp(min(source_data['article_dts'])).strftime(\"%b %d %Y\"))\n",
    "print(\"Maximum Article Date:\",datetime.datetime.fromtimestamp(max(source_data['article_dts'])).strftime(\"%b %d %Y\"))\n",
    "print(\"Minimum Word Count:\",min(source_data['word_count']))\n",
    "print(\"Maximum Word Count:\",f'{max(source_data[\"word_count\"]):,}')"
   ]
  },
  {
   "cell_type": "markdown",
   "metadata": {},
   "source": [
    "## Data Preprocessing\n",
    "\n",
    "The data preprocessing steps that we will follow inorder to feed the data to the model are:\n",
    "- Combine Title with Blog Content\n",
    "- Remove line breaks\n",
    "- Remove Special Characters\n",
    "- Remove small words < 3 letters\n",
    "- Convert text to lowercase\n",
    "- Remove stop words\n",
    "- Tokenize\n",
    "- Lemmatization\n",
    "- Remove custom stop words"
   ]
  },
  {
   "cell_type": "code",
   "execution_count": 8,
   "metadata": {},
   "outputs": [
    {
     "name": "stdout",
     "output_type": "stream",
     "text": [
      "Shape: (6, 1)\n"
     ]
    }
   ],
   "source": [
    "# Custom stop words\n",
    "custom_stopwords_file ='../datastore/custom_stopwords.txt'\n",
    "custom_stopwords_df = pd.read_csv(custom_stopwords_file, header=None)\n",
    "print(\"Shape:\",custom_stopwords_df.shape)\n",
    "custom_stopwords = custom_stopwords_df[0].tolist()"
   ]
  },
  {
   "cell_type": "code",
   "execution_count": 9,
   "metadata": {},
   "outputs": [],
   "source": [
    "# Utilities to perfrom data cleaning and preparation\n",
    "\n",
    "nlp = spacy.load('en', disable=['parser', 'ner'])\n",
    "\n",
    "# function to remove stopwords\n",
    "def remove_stopwords(rev):\n",
    "    rev_new = \" \".join([i for i in rev if i not in stop_words])\n",
    "    return rev_new\n",
    "\n",
    "def lemmatization(texts, tags=['NOUN', 'ADJ']):\n",
    "    output = []\n",
    "    for sent in texts:\n",
    "        doc = nlp(\" \".join(sent)) \n",
    "        output.append([token.lemma_ for token in doc if token.pos_ in tags])\n",
    "    return output\n",
    "\n",
    "# function to remove custom stopwords\n",
    "def remove_custom_stopwords(texts):\n",
    "    output = []\n",
    "    for sent in texts:\n",
    "        output.append([word for word in sent if word not in custom_stopwords])\n",
    "    return output"
   ]
  },
  {
   "cell_type": "code",
   "execution_count": 10,
   "metadata": {},
   "outputs": [],
   "source": [
    "# Merge title with content\n",
    "source_data['text'] = source_data['article_title'] + \" \" + source_data[\"article_content\"]\n",
    "\n",
    "# Convert column to str\n",
    "source_data['text'] = source_data['text'].apply(str)\n",
    "\n",
    "# Replace line breaks\n",
    "article_text = source_data['text'].str.replace(\"\\n\", \" \")\n",
    "\n",
    "# remove unwanted characters, numbers and symbols\n",
    "article_text = article_text.str.replace(\"[^a-zA-Z#]\", \" \")\n",
    "\n",
    "# remove short words (length < 3)\n",
    "article_text = article_text.apply(lambda x: ' '.join([w for w in x.split() if len(w)>2]))\n",
    "\n",
    "# make entire text lowercase\n",
    "article_text = [r.lower() for r in article_text]\n",
    "\n",
    "# remove stopwords from the text\n",
    "article_text = [remove_stopwords(r.split()) for r in article_text]\n",
    "\n",
    "# Tokenize\n",
    "tokenized_text = pd.Series(article_text).apply(lambda x: x.split())\n",
    "# Lemmatize\n",
    "tokenized_text = lemmatization(tokenized_text)\n",
    "# Remove custom stopwords\n",
    "tokenized_text = remove_custom_stopwords(tokenized_text)\n",
    "\n",
    "flattened_text = []\n",
    "for i in range(len(tokenized_text)):\n",
    "    flattened_text.append(' '.join(tokenized_text[i]))\n",
    "\n",
    "source_data['text'] = flattened_text\n",
    "\n",
    "# Update word count\n",
    "source_data['word_count'] = source_data['text'].str.split().str.len()\n",
    "\n",
    "# Remove word count < 15\n",
    "source_data = source_data[source_data['word_count'] > 14]\n",
    "source_data = source_data.reset_index()"
   ]
  },
  {
   "cell_type": "code",
   "execution_count": 11,
   "metadata": {},
   "outputs": [
    {
     "name": "stdout",
     "output_type": "stream",
     "text": [
      "Shape: (166, 10)\n"
     ]
    },
    {
     "data": {
      "text/html": [
       "<div>\n",
       "<style scoped>\n",
       "    .dataframe tbody tr th:only-of-type {\n",
       "        vertical-align: middle;\n",
       "    }\n",
       "\n",
       "    .dataframe tbody tr th {\n",
       "        vertical-align: top;\n",
       "    }\n",
       "\n",
       "    .dataframe thead th {\n",
       "        text-align: right;\n",
       "    }\n",
       "</style>\n",
       "<table border=\"1\" class=\"dataframe\">\n",
       "  <thead>\n",
       "    <tr style=\"text-align: right;\">\n",
       "      <th></th>\n",
       "      <th>index</th>\n",
       "      <th>id</th>\n",
       "      <th>source</th>\n",
       "      <th>article_link</th>\n",
       "      <th>article_date</th>\n",
       "      <th>article_title</th>\n",
       "      <th>article_content</th>\n",
       "      <th>article_dts</th>\n",
       "      <th>word_count</th>\n",
       "      <th>text</th>\n",
       "    </tr>\n",
       "  </thead>\n",
       "  <tbody>\n",
       "    <tr>\n",
       "      <th>0</th>\n",
       "      <td>0</td>\n",
       "      <td>7c66bfc6f7b115ac9ea1c443d64d9f662a3c7257d06d2a...</td>\n",
       "      <td>npr</td>\n",
       "      <td>https://www.npr.org/2019/12/24/791102803/trump...</td>\n",
       "      <td>December 24, 2019</td>\n",
       "      <td>Trump Downplays Threat Of 'Gift' From North Ko...</td>\n",
       "      <td>President Trump did not seem concerned Tuesday...</td>\n",
       "      <td>1.577146e+09</td>\n",
       "      <td>64</td>\n",
       "      <td>beautiful vase president trump threat economic...</td>\n",
       "    </tr>\n",
       "    <tr>\n",
       "      <th>1</th>\n",
       "      <td>1</td>\n",
       "      <td>d5e50fa5f13830087bedc86232317ea1790d2417d4d729...</td>\n",
       "      <td>npr</td>\n",
       "      <td>https://www.npr.org/2019/12/23/790747698/newly...</td>\n",
       "      <td>December 23, 2019</td>\n",
       "      <td>Ukraine Emails Fuel Democrats' Call For Impeac...</td>\n",
       "      <td>Party leaders in Congress continued to spar Mo...</td>\n",
       "      <td>1.577059e+09</td>\n",
       "      <td>149</td>\n",
       "      <td>fuel impeachment trial party leader spar detai...</td>\n",
       "    </tr>\n",
       "    <tr>\n",
       "      <th>2</th>\n",
       "      <td>2</td>\n",
       "      <td>2b767e199bd897158dd7f8b999bef7aa592b82fd4548eb...</td>\n",
       "      <td>nymag</td>\n",
       "      <td>http://nymag.com/intelligencer/2019/12/matt-sh...</td>\n",
       "      <td>Dec. 24, 2019</td>\n",
       "      <td>GOP Lawmaker Plotted Insurrections to Establis...</td>\n",
       "      <td>Shea’s rebellion. Photo: Ted S Warren/AP/Shutt...</td>\n",
       "      <td>1.577146e+09</td>\n",
       "      <td>219</td>\n",
       "      <td>insurrection christian state rebellion photo l...</td>\n",
       "    </tr>\n",
       "    <tr>\n",
       "      <th>3</th>\n",
       "      <td>3</td>\n",
       "      <td>139c45cf3296a8e4f8bf50d3525b808be1620b3b670778...</td>\n",
       "      <td>nymag</td>\n",
       "      <td>http://nymag.com/intelligencer/2020/01/iran-ge...</td>\n",
       "      <td>Jan. 2, 2020</td>\n",
       "      <td>U.S. Kills Iranian General Qasem Suleimani in ...</td>\n",
       "      <td>A Shiite Muslim pilgrim walks with a bag adorn...</td>\n",
       "      <td>1.577923e+09</td>\n",
       "      <td>250</td>\n",
       "      <td>iranian major qud force morning photo getty im...</td>\n",
       "    </tr>\n",
       "    <tr>\n",
       "      <th>4</th>\n",
       "      <td>4</td>\n",
       "      <td>f99ee44a2f210564c2eb3bc91a781f36dd6de44142047a...</td>\n",
       "      <td>nymag</td>\n",
       "      <td>http://nymag.com/intelligencer/2019/12/a-gloss...</td>\n",
       "      <td>Dec. 31, 2019</td>\n",
       "      <td>A Glossary of Everyday Things, According to Trump</td>\n",
       "      <td>Donald Trump. Photo: Chip Somodevilla/Getty Im...</td>\n",
       "      <td>1.577750e+09</td>\n",
       "      <td>173</td>\n",
       "      <td>glossary everyday thing image mundane element ...</td>\n",
       "    </tr>\n",
       "  </tbody>\n",
       "</table>\n",
       "</div>"
      ],
      "text/plain": [
       "   index                                                 id source  \\\n",
       "0      0  7c66bfc6f7b115ac9ea1c443d64d9f662a3c7257d06d2a...    npr   \n",
       "1      1  d5e50fa5f13830087bedc86232317ea1790d2417d4d729...    npr   \n",
       "2      2  2b767e199bd897158dd7f8b999bef7aa592b82fd4548eb...  nymag   \n",
       "3      3  139c45cf3296a8e4f8bf50d3525b808be1620b3b670778...  nymag   \n",
       "4      4  f99ee44a2f210564c2eb3bc91a781f36dd6de44142047a...  nymag   \n",
       "\n",
       "                                        article_link       article_date  \\\n",
       "0  https://www.npr.org/2019/12/24/791102803/trump...  December 24, 2019   \n",
       "1  https://www.npr.org/2019/12/23/790747698/newly...  December 23, 2019   \n",
       "2  http://nymag.com/intelligencer/2019/12/matt-sh...      Dec. 24, 2019   \n",
       "3  http://nymag.com/intelligencer/2020/01/iran-ge...       Jan. 2, 2020   \n",
       "4  http://nymag.com/intelligencer/2019/12/a-gloss...      Dec. 31, 2019   \n",
       "\n",
       "                                       article_title  \\\n",
       "0  Trump Downplays Threat Of 'Gift' From North Ko...   \n",
       "1  Ukraine Emails Fuel Democrats' Call For Impeac...   \n",
       "2  GOP Lawmaker Plotted Insurrections to Establis...   \n",
       "3  U.S. Kills Iranian General Qasem Suleimani in ...   \n",
       "4  A Glossary of Everyday Things, According to Trump   \n",
       "\n",
       "                                     article_content   article_dts  \\\n",
       "0  President Trump did not seem concerned Tuesday...  1.577146e+09   \n",
       "1  Party leaders in Congress continued to spar Mo...  1.577059e+09   \n",
       "2  Shea’s rebellion. Photo: Ted S Warren/AP/Shutt...  1.577146e+09   \n",
       "3  A Shiite Muslim pilgrim walks with a bag adorn...  1.577923e+09   \n",
       "4  Donald Trump. Photo: Chip Somodevilla/Getty Im...  1.577750e+09   \n",
       "\n",
       "   word_count                                               text  \n",
       "0          64  beautiful vase president trump threat economic...  \n",
       "1         149  fuel impeachment trial party leader spar detai...  \n",
       "2         219  insurrection christian state rebellion photo l...  \n",
       "3         250  iranian major qud force morning photo getty im...  \n",
       "4         173  glossary everyday thing image mundane element ...  "
      ]
     },
     "execution_count": 11,
     "metadata": {},
     "output_type": "execute_result"
    }
   ],
   "source": [
    "print(\"Shape:\",source_data.shape)\n",
    "source_data.head()"
   ]
  },
  {
   "cell_type": "markdown",
   "metadata": {},
   "source": [
    "## Word Frequency Model"
   ]
  },
  {
   "cell_type": "code",
   "execution_count": 12,
   "metadata": {},
   "outputs": [],
   "source": [
    "def word_counts(all_words,cutoff=2):\n",
    "    #all_words = ' '.join([text for text in x])\n",
    "    all_words = all_words.split()\n",
    "    fdist = FreqDist(all_words)\n",
    "    \n",
    "    df = pd.DataFrame({'word':list(fdist.keys()), 'count':list(fdist.values())})\n",
    "    df = df[df['count'] > cutoff]\n",
    "    df = df.reset_index()\n",
    "    \n",
    "    frequency_table = {}\n",
    "    for index, row in df.iterrows():\n",
    "        frequency_table[row['word']] = row['count']\n",
    "    \n",
    "    return frequency_table"
   ]
  },
  {
   "cell_type": "code",
   "execution_count": 14,
   "metadata": {},
   "outputs": [
    {
     "name": "stdout",
     "output_type": "stream",
     "text": [
      "{'trump': 4, 'missile': 3, 'test': 3, 'surprise': 3}\n",
      "{'impeachment': 5, 'trial': 10, 'email': 3, 'new': 3, 'witness': 5, 'president': 4, 'aid': 3, 'official': 3, 'government': 3, 'document': 4}\n",
      "{'state': 7, 'war': 3, 'shea': 7, 'government': 3, 'plan': 3, 'trump': 3, 'report': 4, 'occupation': 3, 'law': 3, 'enforcement': 3, 'email': 3}\n"
     ]
    }
   ],
   "source": [
    "frequency_table = word_counts(source_data[\"text\"].loc[0],cutoff=2)\n",
    "print(frequency_table)\n",
    "\n",
    "frequency_table = word_counts(source_data[\"text\"].loc[1],cutoff=2)\n",
    "print(frequency_table)\n",
    "\n",
    "frequency_table = word_counts(source_data[\"text\"].loc[2],cutoff=2)\n",
    "print(frequency_table)"
   ]
  },
  {
   "cell_type": "markdown",
   "metadata": {},
   "source": [
    "## Model Evaluation\n",
    "\n",
    "We will visually look at a few of the articles to see how the model performed"
   ]
  },
  {
   "cell_type": "code",
   "execution_count": 15,
   "metadata": {},
   "outputs": [],
   "source": [
    "def evaluate_blog_results(row,frequency_table):\n",
    "    text = row[\"text\"]\n",
    "    for keyword in frequency_table:\n",
    "        text = text.replace(' '+keyword+' ', ' \\x1b[1;03;31;46m'+ keyword + '\\x1b[0m ')\n",
    "    \n",
    "    print(text)"
   ]
  },
  {
   "cell_type": "code",
   "execution_count": 16,
   "metadata": {},
   "outputs": [
    {
     "name": "stdout",
     "output_type": "stream",
     "text": [
      "fuel \u001b[1;03;31;46mimpeachment\u001b[0m \u001b[1;03;31;46mtrial\u001b[0m party leader spar detail \u001b[1;03;31;46mimpeachment\u001b[0m \u001b[1;03;31;46mtrial\u001b[0m \u001b[1;03;31;46memail\u001b[0m ammunition \u001b[1;03;31;46mnew\u001b[0m \u001b[1;03;31;46mwitness\u001b[0m \u001b[1;03;31;46memail\u001b[0m late center public integrity particular bolster argument \u001b[1;03;31;46mpresident\u001b[0m military \u001b[1;03;31;46maid\u001b[0m political investigation message senior \u001b[1;03;31;46mofficial\u001b[0m office management less hour trump phone ukrainian \u001b[1;03;31;46mpresident\u001b[0m matter quiet duffey halt guidance light administration plan review assistance sensitive nature request information execute direction duffey \u001b[1;03;31;46memail\u001b[0m \u001b[1;03;31;46mgovernment\u001b[0m \u001b[1;03;31;46mofficial\u001b[0m issue administration decision \u001b[1;03;31;46maid\u001b[0m huge anxiety \u001b[1;03;31;46mgovernment\u001b[0m \u001b[1;03;31;46maid\u001b[0m unwise illegal center public integrity \u001b[1;03;31;46mpresident\u001b[0m \u001b[1;03;31;46mgovernment\u001b[0m \u001b[1;03;31;46mofficial\u001b[0m money inquiry key people fact \u001b[1;03;31;46mdocument\u001b[0m copy press conference \u001b[1;03;31;46mnew\u001b[0m \u001b[1;03;31;46mwitness\u001b[0m \u001b[1;03;31;46mtrial\u001b[0m trial \u001b[1;03;31;46mwitness\u001b[0m \u001b[1;03;31;46mdocument\u001b[0m \u001b[1;03;31;46mtrial\u001b[0m schumer sign groundwork question \u001b[1;03;31;46mtrial\u001b[0m \u001b[1;03;31;46mwitness\u001b[0m \u001b[1;03;31;46mdocument\u001b[0m american people testimony cover schumer plain simple \u001b[1;03;31;46mtrial\u001b[0m article \u001b[1;03;31;46mimpeachment\u001b[0m impeachment manager \u001b[1;03;31;46mtrial\u001b[0m look sufficient vote \u001b[1;03;31;46mpresident\u001b[0m ability stall transfer leverage news morning \u001b[1;03;31;46mtrial\u001b[0m \u001b[1;03;31;46mnew\u001b[0m \u001b[1;03;31;46mwitness\u001b[0m \u001b[1;03;31;46mtrial\u001b[0m fact impartial juror early month chance office chamber clear last week investigation \u001b[1;03;31;46mdocument\u001b[0m testimony \u001b[1;03;31;46mimpeachment\u001b[0m vote last week duty investigate duty high bar undoing national election\n"
     ]
    }
   ],
   "source": [
    "# View some results\n",
    "frequency_table = word_counts(source_data[\"text\"].loc[1],cutoff=2)\n",
    "evaluate_blog_results(source_data.loc[1],frequency_table)"
   ]
  },
  {
   "cell_type": "code",
   "execution_count": 17,
   "metadata": {},
   "outputs": [
    {
     "name": "stdout",
     "output_type": "stream",
     "text": [
      "iranian \u001b[1;03;31;46mmajor\u001b[0m qud \u001b[1;03;31;46mforce\u001b[0m morning photo getty image early \u001b[1;03;31;46mforce\u001b[0m \u001b[1;03;31;46mmajor\u001b[0m strike airport order personnel \u001b[1;03;31;46mattack\u001b[0m important military \u001b[1;03;31;46mleader\u001b[0m direction unit \u001b[1;03;31;46mresponsible\u001b[0m clandestine operation material support group popular mobilization \u001b[1;03;31;46miraqi\u001b[0m \u001b[1;03;31;46mmilitia\u001b[0m deputy \u001b[1;03;31;46mleader\u001b[0m \u001b[1;03;31;46mattack\u001b[0m other full statement pic twitter name tension power proxy last week \u001b[1;03;31;46miranian\u001b[0m \u001b[1;03;31;46mmilitia\u001b[0m \u001b[1;03;31;46mamerican\u001b[0m contractor response \u001b[1;03;31;46mforce\u001b[0m site \u001b[1;03;31;46miranian\u001b[0m \u001b[1;03;31;46mmilitia\u001b[0m several fighter protestor pro \u001b[1;03;31;46miranian\u001b[0m \u001b[1;03;31;46mmilitia\u001b[0m \u001b[1;03;31;46mamerican\u001b[0m past guard diplomat hour stern warning word \u001b[1;03;31;46mattack\u001b[0m pre emptive \u001b[1;03;31;46maction\u001b[0m \u001b[1;03;31;46mamerican\u001b[0m \u001b[1;03;31;46mforce\u001b[0m life game \u001b[1;03;31;46mdeath\u001b[0m suleimani report marine \u001b[1;03;31;46mleader\u001b[0m \u001b[1;03;31;46miranian\u001b[0m \u001b[1;03;31;46mmilitia\u001b[0m \u001b[1;03;31;46miraqi\u001b[0m head qud late group operation \u001b[1;03;31;46mresponsible\u001b[0m \u001b[1;03;31;46mdeath\u001b[0m \u001b[1;03;31;46mamerican\u001b[0m soldier \u001b[1;03;31;46mmajor\u001b[0m \u001b[1;03;31;46mforce\u001b[0m decade \u001b[1;03;31;46miraqi\u001b[0m \u001b[1;03;31;46mforce\u001b[0m isis fighter civil \u001b[1;03;31;46mwar\u001b[0m supporter \u001b[1;03;31;46maction\u001b[0m \u001b[1;03;31;46mtrump\u001b[0m general evil bastard terror decade \u001b[1;03;31;46mdeath\u001b[0m hundred tonight deserved \u001b[1;03;31;46mamerican\u001b[0m soldier hand pic \u001b[1;03;31;46mattack\u001b[0m example deterrence politician reporter expert region opposite phone \u001b[1;03;31;46mready\u001b[0m \u001b[1;03;31;46mmajor\u001b[0m pushback \u001b[1;03;31;46mpeople\u001b[0m \u001b[1;03;31;46mready\u001b[0m defend \u001b[1;03;31;46mpeople\u001b[0m \u001b[1;03;31;46mready\u001b[0m big true assassinating \u001b[1;03;31;46mmajor\u001b[0m \u001b[1;03;31;46mwar\u001b[0m war outright country year preparation question report congressional authorization second powerful person potential massive military several time national security official concerned move terror cell world retaliation aware call foreign policy specialist official strike various political faction regular commander person enemy isis many different political view critical irgc respect democratic candidate late night murderer \u001b[1;03;31;46mresponsible\u001b[0m \u001b[1;03;31;46mdeath\u001b[0m thousand hundred reckless move situation likelihood \u001b[1;03;31;46mdeath\u001b[0m conflict priority costly \u001b[1;03;31;46mwar\u001b[0m \u001b[1;03;31;46mamerican\u001b[0m \u001b[1;03;31;46mpeople\u001b[0m explanation strategy plan safe troop embassy personnel \u001b[1;03;31;46mpeople\u001b[0m interest partner region sander \u001b[1;03;31;46mtrump\u001b[0m dangerous escalation disastrous \u001b[1;03;31;46mwar\u001b[0m countless life trillion dollar \u001b[1;03;31;46mtrump\u001b[0m end endless \u001b[1;03;31;46mwar\u001b[0m \u001b[1;03;31;46maction\u001b[0m news post politic business technology world \u001b[1;03;31;46memail\u001b[0m term privacy notice \u001b[1;03;31;46memail\u001b[0m term privacy notice \u001b[1;03;31;46memail\u001b[0m correspondence\n"
     ]
    }
   ],
   "source": [
    "# View some results\n",
    "frequency_table = word_counts(source_data[\"text\"].loc[3],cutoff=2)\n",
    "evaluate_blog_results(source_data.loc[3],frequency_table)"
   ]
  },
  {
   "cell_type": "code",
   "execution_count": 18,
   "metadata": {},
   "outputs": [
    {
     "name": "stdout",
     "output_type": "stream",
     "text": [
      "glossary everyday \u001b[1;03;31;46mthing\u001b[0m image mundane element modern life rich decade gold penthouse powerful man \u001b[1;03;31;46mworld\u001b[0m person life real \u001b[1;03;31;46mworld\u001b[0m concern \u001b[1;03;31;46mgood\u001b[0m sense expert \u001b[1;03;31;46mdishwasher\u001b[0m \u001b[1;03;31;46mlight\u001b[0m \u001b[1;03;31;46mbulb\u001b[0m \u001b[1;03;31;46mgood\u001b[0m sense last month \u001b[1;03;31;46mtrump\u001b[0m subject confidence narcissist tongue \u001b[1;03;31;46mtrump\u001b[0m glossary everyday \u001b[1;03;31;46mthing\u001b[0m definition wrong obvious embarrassing airplane complex fly airplane complex fly pilot computer scientist \u001b[1;03;31;46mtime\u001b[0m many product unnecessary step old second decision complexity danger great cost little gain know pilot great professional control plane \u001b[1;03;31;46mdishwasher\u001b[0m old \u001b[1;03;31;46mdishwasher\u001b[0m press boom explosion minute open steam \u001b[1;03;31;46mdishwasher\u001b[0m press \u001b[1;03;31;46mtime\u001b[0m woman drop \u001b[1;03;31;46mwater\u001b[0m place much \u001b[1;03;31;46mwater\u001b[0m energy efficient \u001b[1;03;31;46mlight\u001b[0m \u001b[1;03;31;46mbulb\u001b[0m fortune dangerous break waste site responsible \u001b[1;03;31;46mlight\u001b[0m \u001b[1;03;31;46mgood\u001b[0m orange \u001b[1;03;31;46mgrocery\u001b[0m store local people \u001b[1;03;31;46mgrocery\u001b[0m work \u001b[1;03;31;46mtrump\u001b[0m mean \u001b[1;03;31;46mgrocery\u001b[0m federal worker \u001b[1;03;31;46mgrocery\u001b[0m credit incandescent \u001b[1;03;31;46mlight\u001b[0m \u001b[1;03;31;46mbulb\u001b[0m less money sink shower element bathroom faucet area \u001b[1;03;31;46mtremendous\u001b[0m amount \u001b[1;03;31;46mwater\u001b[0m sea \u001b[1;03;31;46mwater\u001b[0m hand sink \u001b[1;03;31;46mwater\u001b[0m water \u001b[1;03;31;46mtime\u001b[0m long \u001b[1;03;31;46mthing\u001b[0m shower drip \u001b[1;03;31;46mgood\u001b[0m toilet people toilet \u001b[1;03;31;46mtime\u001b[0m time end \u001b[1;03;31;46mwater\u001b[0m wonderful \u001b[1;03;31;46mthing\u001b[0m big problem none \u001b[1;03;31;46mtremendous\u001b[0m tremendous fume gas atmosphere politic business technology \u001b[1;03;31;46mworld\u001b[0m \u001b[1;03;31;46memail\u001b[0m term privacy notice \u001b[1;03;31;46memail\u001b[0m term privacy notice \u001b[1;03;31;46memail\u001b[0m correspondence\n"
     ]
    }
   ],
   "source": [
    "# View some results\n",
    "frequency_table = word_counts(source_data[\"text\"].loc[4],cutoff=2)\n",
    "evaluate_blog_results(source_data.loc[4],frequency_table)"
   ]
  },
  {
   "cell_type": "code",
   "execution_count": null,
   "metadata": {
    "collapsed": true
   },
   "outputs": [],
   "source": []
  }
 ],
 "metadata": {
  "kernelspec": {
   "display_name": "Python 3",
   "language": "python",
   "name": "python3"
  },
  "language_info": {
   "codemirror_mode": {
    "name": "ipython",
    "version": 3
   },
   "file_extension": ".py",
   "mimetype": "text/x-python",
   "name": "python",
   "nbconvert_exporter": "python",
   "pygments_lexer": "ipython3",
   "version": "3.6.8"
  }
 },
 "nbformat": 4,
 "nbformat_minor": 2
}
